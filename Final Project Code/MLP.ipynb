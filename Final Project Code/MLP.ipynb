{
 "cells": [
  {
   "cell_type": "markdown",
   "metadata": {},
   "source": [
    "# Neural Network"
   ]
  },
  {
   "cell_type": "code",
   "execution_count": 15,
   "metadata": {},
   "outputs": [],
   "source": [
    "import pandas as pd\n",
    "import numpy as np\n",
    "from matplotlib import pyplot as plt\n",
    "\n",
    "\n",
    "\n",
    "# Loading Data\n",
    "data = pd.read_csv(\"TrainData.csv\")\n",
    "data = data.drop([\"Unnamed: 0\"],axis=1)\n",
    "\n",
    "X = data.drop([\"salary_label\"],axis=1)\n",
    "y = data[\"salary_label\"]"
   ]
  },
  {
   "cell_type": "markdown",
   "metadata": {},
   "source": [
    "# Training and validating using GridsearchCV"
   ]
  },
  {
   "cell_type": "code",
   "execution_count": 18,
   "metadata": {},
   "outputs": [
    {
     "name": "stderr",
     "output_type": "stream",
     "text": [
      "c:\\users\\yz391\\appdata\\local\\programs\\python\\python37\\lib\\site-packages\\sklearn\\neural_network\\_multilayer_perceptron.py:585: ConvergenceWarning: Stochastic Optimizer: Maximum iterations (200) reached and the optimization hasn't converged yet.\n",
      "  % self.max_iter, ConvergenceWarning)\n",
      "c:\\users\\yz391\\appdata\\local\\programs\\python\\python37\\lib\\site-packages\\sklearn\\neural_network\\_multilayer_perceptron.py:585: ConvergenceWarning: Stochastic Optimizer: Maximum iterations (200) reached and the optimization hasn't converged yet.\n",
      "  % self.max_iter, ConvergenceWarning)\n",
      "c:\\users\\yz391\\appdata\\local\\programs\\python\\python37\\lib\\site-packages\\sklearn\\neural_network\\_multilayer_perceptron.py:585: ConvergenceWarning: Stochastic Optimizer: Maximum iterations (200) reached and the optimization hasn't converged yet.\n",
      "  % self.max_iter, ConvergenceWarning)\n",
      "c:\\users\\yz391\\appdata\\local\\programs\\python\\python37\\lib\\site-packages\\sklearn\\neural_network\\_multilayer_perceptron.py:585: ConvergenceWarning: Stochastic Optimizer: Maximum iterations (200) reached and the optimization hasn't converged yet.\n",
      "  % self.max_iter, ConvergenceWarning)\n",
      "c:\\users\\yz391\\appdata\\local\\programs\\python\\python37\\lib\\site-packages\\sklearn\\neural_network\\_multilayer_perceptron.py:585: ConvergenceWarning: Stochastic Optimizer: Maximum iterations (200) reached and the optimization hasn't converged yet.\n",
      "  % self.max_iter, ConvergenceWarning)\n"
     ]
    },
    {
     "name": "stdout",
     "output_type": "stream",
     "text": [
      "{'NN__activation': 'relu', 'NN__hidden_layer_sizes': (70,), 'NN__solver': 'adam'}\n"
     ]
    },
    {
     "name": "stderr",
     "output_type": "stream",
     "text": [
      "c:\\users\\yz391\\appdata\\local\\programs\\python\\python37\\lib\\site-packages\\sklearn\\neural_network\\_multilayer_perceptron.py:585: ConvergenceWarning: Stochastic Optimizer: Maximum iterations (200) reached and the optimization hasn't converged yet.\n",
      "  % self.max_iter, ConvergenceWarning)\n"
     ]
    }
   ],
   "source": [
    "from sklearn.pipeline import Pipeline\n",
    "from sklearn.preprocessing import MinMaxScaler\n",
    "from sklearn.model_selection import GridSearchCV\n",
    "from sklearn.neural_network import MLPClassifier\n",
    "\n",
    "\n",
    "\n",
    "NN = Pipeline([('scaler',  MinMaxScaler()),\n",
    "            ('NN', MLPClassifier())])\n",
    "\n",
    "\n",
    "param_grid = [\n",
    "        {\n",
    "            'NN__activation' : ['relu'],\n",
    "            'NN__solver' : [ 'adam'],\n",
    "            'NN__hidden_layer_sizes': [\n",
    "             (20,),(30,),(40,),(60),(70,),(80,),(100)\n",
    "             ]\n",
    "        }\n",
    "       ]\n",
    "\n",
    "\n",
    "grid_search = GridSearchCV(NN, param_grid = param_grid, scoring = 'accuracy', cv=5, return_train_score = True)\n",
    "grid_search.fit(X, y)\n",
    "\n",
    "print(grid_search.best_params_)"
   ]
  },
  {
   "cell_type": "markdown",
   "metadata": {},
   "source": [
    "# General performance on train/validation dataset"
   ]
  },
  {
   "cell_type": "code",
   "execution_count": 22,
   "metadata": {},
   "outputs": [
    {
     "name": "stdout",
     "output_type": "stream",
     "text": [
      "=========Train Acurracy=========\n",
      "0.5863039399624765\n",
      "0.5853658536585366\n",
      "0.590368980612883\n",
      "0.5898718349484214\n",
      "mean:\n",
      "0.5879776522955794\n",
      "=========Test Acurracy=========\n",
      "0.3775\n",
      "0.37\n",
      "0.36875\n",
      "0.3617021276595745\n",
      "mean:\n",
      "0.3694880319148936\n"
     ]
    }
   ],
   "source": [
    "print(\"=========Train Acurracy=========\")\n",
    "print(np.mean(grid_search.cv_results_[\"split0_train_score\"]))\n",
    "print(np.mean(grid_search.cv_results_[\"split1_train_score\"]))\n",
    "print(np.mean(grid_search.cv_results_[\"split2_train_score\"]))\n",
    "print(np.mean(grid_search.cv_results_[\"split3_train_score\"]))\n",
    "print(\"mean:\")\n",
    "print(np.mean(\n",
    "    [\n",
    "        np.mean(grid_search.cv_results_[\"split0_train_score\"]),\n",
    "        np.mean(grid_search.cv_results_[\"split1_train_score\"]),\n",
    "        np.mean(grid_search.cv_results_[\"split2_train_score\"]),\n",
    "        np.mean(grid_search.cv_results_[\"split3_train_score\"])\n",
    "    ]\n",
    "))\n",
    "\n",
    "\n",
    "print(\"=========Test Acurracy=========\")\n",
    "print(np.mean(grid_search.cv_results_[\"split0_test_score\"]))\n",
    "print(np.mean(grid_search.cv_results_[\"split1_test_score\"]))\n",
    "print(np.mean(grid_search.cv_results_[\"split2_test_score\"]))\n",
    "print(np.mean(grid_search.cv_results_[\"split3_test_score\"]))\n",
    "print(\"mean:\")\n",
    "print(np.mean(\n",
    "    [\n",
    "        np.mean(grid_search.cv_results_[\"split0_test_score\"]),\n",
    "        np.mean(grid_search.cv_results_[\"split1_test_score\"]),\n",
    "        np.mean(grid_search.cv_results_[\"split2_test_score\"]),\n",
    "        np.mean(grid_search.cv_results_[\"split3_test_score\"])\n",
    "    ]\n",
    "))"
   ]
  },
  {
   "cell_type": "markdown",
   "metadata": {},
   "source": [
    "# Final test on test data set"
   ]
  },
  {
   "cell_type": "code",
   "execution_count": 21,
   "metadata": {},
   "outputs": [
    {
     "name": "stdout",
     "output_type": "stream",
     "text": [
      "=======Accuracy on test data set=======\n",
      "0.403\n"
     ]
    },
    {
     "name": "stderr",
     "output_type": "stream",
     "text": [
      "c:\\users\\yz391\\appdata\\local\\programs\\python\\python37\\lib\\site-packages\\sklearn\\neural_network\\_multilayer_perceptron.py:585: ConvergenceWarning: Stochastic Optimizer: Maximum iterations (200) reached and the optimization hasn't converged yet.\n",
      "  % self.max_iter, ConvergenceWarning)\n"
     ]
    }
   ],
   "source": [
    "from sklearn.metrics import accuracy_score\n",
    "df = pd.read_csv(\"TestData.csv\")\n",
    "\n",
    "X_train = X\n",
    "y_train = y\n",
    "\n",
    "X_test = df.drop([\"salary_label\",\"Unnamed: 0\"],axis=1)\n",
    "y_test = df[\"salary_label\"]\n",
    "\n",
    "\n",
    "scaler = MinMaxScaler()\n",
    "X_train = scaler.fit_transform(X_train)\n",
    "X_test = scaler.transform(X_test)\n",
    "\n",
    "params = {'activation': 'relu', 'hidden_layer_sizes': 70, 'solver': 'adam'}\n",
    "model = MLPClassifier(**params)\n",
    "\n",
    "model.fit(X_train,y_train)\n",
    "y_pred = model.predict(X_test)\n",
    "\n",
    "test_acc = accuracy_score(y_test,y_pred)\n",
    "\n",
    "print(\"=======Accuracy on test data set=======\")\n",
    "print(test_acc)"
   ]
  },
  {
   "cell_type": "code",
   "execution_count": null,
   "metadata": {},
   "outputs": [],
   "source": []
  }
 ],
 "metadata": {
  "kernelspec": {
   "display_name": "Python 3",
   "language": "python",
   "name": "python3"
  },
  "language_info": {
   "codemirror_mode": {
    "name": "ipython",
    "version": 3
   },
   "file_extension": ".py",
   "mimetype": "text/x-python",
   "name": "python",
   "nbconvert_exporter": "python",
   "pygments_lexer": "ipython3",
   "version": "3.7.2"
  }
 },
 "nbformat": 4,
 "nbformat_minor": 4
}

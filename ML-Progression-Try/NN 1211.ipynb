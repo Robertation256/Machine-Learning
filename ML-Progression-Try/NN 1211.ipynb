{
 "cells": [
  {
   "cell_type": "markdown",
   "metadata": {},
   "source": [
    "## NN"
   ]
  },
  {
   "cell_type": "code",
   "execution_count": 8,
   "metadata": {},
   "outputs": [],
   "source": [
    "import torch\n",
    "import torch.autograd as autograd\n",
    "import torch.nn as nn\n",
    "import torch.nn.functional as F\n",
    "import torch.optim as optim \n",
    "from torch.utils.data import DataLoader\n",
    "from torch.utils.data import random_split\n",
    "torch.manual_seed(0)\n",
    "\n",
    "from sklearn.metrics import accuracy_score\n",
    "import sklearn.datasets\n",
    "from sklearn.preprocessing import LabelEncoder\n",
    "\n",
    "import pandas as pd\n",
    "import numpy as np\n",
    "from matplotlib import pyplot as plt\n",
    "\n",
    "from sklearn.preprocessing import MinMaxScaler"
   ]
  },
  {
   "cell_type": "code",
   "execution_count": 3,
   "metadata": {},
   "outputs": [],
   "source": [
    "### Define dataloader"
   ]
  },
  {
   "cell_type": "code",
   "execution_count": 4,
   "metadata": {},
   "outputs": [],
   "source": [
    "from torch.utils.data import Dataset\n",
    "\n",
    "class MyDataset(Dataset):\n",
    "    def __init__(self, x_tensor, y_tensor):\n",
    "        self.x = x_tensor\n",
    "        self.y = y_tensor\n",
    "    \n",
    "    def __getitem__(self, index):\n",
    "        return (self.x[index], self.y[index])\n",
    "    \n",
    "    def __len__(self):\n",
    "        return self.y.size()[0]"
   ]
  },
  {
   "cell_type": "code",
   "execution_count": 5,
   "metadata": {},
   "outputs": [
    {
     "data": {
      "text/html": [
       "<div>\n",
       "<style scoped>\n",
       "    .dataframe tbody tr th:only-of-type {\n",
       "        vertical-align: middle;\n",
       "    }\n",
       "\n",
       "    .dataframe tbody tr th {\n",
       "        vertical-align: top;\n",
       "    }\n",
       "\n",
       "    .dataframe thead th {\n",
       "        text-align: right;\n",
       "    }\n",
       "</style>\n",
       "<table border=\"1\" class=\"dataframe\">\n",
       "  <thead>\n",
       "    <tr style=\"text-align: right;\">\n",
       "      <th></th>\n",
       "      <th>Unnamed: 0</th>\n",
       "      <th>RowID</th>\n",
       "      <th>maxsal</th>\n",
       "      <th>minsal</th>\n",
       "      <th>intern_num</th>\n",
       "      <th>month_num</th>\n",
       "      <th>day</th>\n",
       "      <th>industry</th>\n",
       "      <th>city</th>\n",
       "      <th>scale</th>\n",
       "      <th>...</th>\n",
       "      <th>招聘</th>\n",
       "      <th>媒体</th>\n",
       "      <th>内容</th>\n",
       "      <th>专员</th>\n",
       "      <th>产品</th>\n",
       "      <th>销售</th>\n",
       "      <th>开发</th>\n",
       "      <th>工程师</th>\n",
       "      <th>助理</th>\n",
       "      <th>运营</th>\n",
       "    </tr>\n",
       "  </thead>\n",
       "  <tbody>\n",
       "    <tr>\n",
       "      <th>0</th>\n",
       "      <td>0</td>\n",
       "      <td>0</td>\n",
       "      <td>100</td>\n",
       "      <td>50</td>\n",
       "      <td>62</td>\n",
       "      <td>3</td>\n",
       "      <td>5</td>\n",
       "      <td>互联网/游戏/软件</td>\n",
       "      <td>北京</td>\n",
       "      <td>2000人以上</td>\n",
       "      <td>...</td>\n",
       "      <td>0</td>\n",
       "      <td>1</td>\n",
       "      <td>0</td>\n",
       "      <td>0</td>\n",
       "      <td>0</td>\n",
       "      <td>0</td>\n",
       "      <td>0</td>\n",
       "      <td>0</td>\n",
       "      <td>0</td>\n",
       "      <td>0</td>\n",
       "    </tr>\n",
       "    <tr>\n",
       "      <th>1</th>\n",
       "      <td>1</td>\n",
       "      <td>1</td>\n",
       "      <td>150</td>\n",
       "      <td>100</td>\n",
       "      <td>5</td>\n",
       "      <td>4</td>\n",
       "      <td>5</td>\n",
       "      <td>教育/培训</td>\n",
       "      <td>深圳</td>\n",
       "      <td>15-50人</td>\n",
       "      <td>...</td>\n",
       "      <td>0</td>\n",
       "      <td>0</td>\n",
       "      <td>0</td>\n",
       "      <td>0</td>\n",
       "      <td>0</td>\n",
       "      <td>0</td>\n",
       "      <td>0</td>\n",
       "      <td>0</td>\n",
       "      <td>0</td>\n",
       "      <td>0</td>\n",
       "    </tr>\n",
       "    <tr>\n",
       "      <th>2</th>\n",
       "      <td>2</td>\n",
       "      <td>2</td>\n",
       "      <td>300</td>\n",
       "      <td>250</td>\n",
       "      <td>8</td>\n",
       "      <td>4</td>\n",
       "      <td>5</td>\n",
       "      <td>互联网/游戏/软件</td>\n",
       "      <td>上海</td>\n",
       "      <td>15-50人</td>\n",
       "      <td>...</td>\n",
       "      <td>0</td>\n",
       "      <td>0</td>\n",
       "      <td>0</td>\n",
       "      <td>0</td>\n",
       "      <td>0</td>\n",
       "      <td>0</td>\n",
       "      <td>0</td>\n",
       "      <td>0</td>\n",
       "      <td>0</td>\n",
       "      <td>0</td>\n",
       "    </tr>\n",
       "    <tr>\n",
       "      <th>3</th>\n",
       "      <td>3</td>\n",
       "      <td>3</td>\n",
       "      <td>100</td>\n",
       "      <td>100</td>\n",
       "      <td>3</td>\n",
       "      <td>4</td>\n",
       "      <td>4</td>\n",
       "      <td>教育/培训</td>\n",
       "      <td>上海</td>\n",
       "      <td>15-50人</td>\n",
       "      <td>...</td>\n",
       "      <td>0</td>\n",
       "      <td>0</td>\n",
       "      <td>0</td>\n",
       "      <td>0</td>\n",
       "      <td>0</td>\n",
       "      <td>0</td>\n",
       "      <td>0</td>\n",
       "      <td>0</td>\n",
       "      <td>0</td>\n",
       "      <td>0</td>\n",
       "    </tr>\n",
       "    <tr>\n",
       "      <th>4</th>\n",
       "      <td>4</td>\n",
       "      <td>4</td>\n",
       "      <td>150</td>\n",
       "      <td>100</td>\n",
       "      <td>176</td>\n",
       "      <td>3</td>\n",
       "      <td>4</td>\n",
       "      <td>互联网/游戏/软件</td>\n",
       "      <td>广州</td>\n",
       "      <td>2000人以上</td>\n",
       "      <td>...</td>\n",
       "      <td>0</td>\n",
       "      <td>0</td>\n",
       "      <td>0</td>\n",
       "      <td>0</td>\n",
       "      <td>1</td>\n",
       "      <td>0</td>\n",
       "      <td>0</td>\n",
       "      <td>0</td>\n",
       "      <td>0</td>\n",
       "      <td>1</td>\n",
       "    </tr>\n",
       "  </tbody>\n",
       "</table>\n",
       "<p>5 rows × 77 columns</p>\n",
       "</div>"
      ],
      "text/plain": [
       "   Unnamed: 0  RowID  maxsal  minsal  intern_num  month_num  day   industry  \\\n",
       "0           0      0     100      50          62          3    5  互联网/游戏/软件   \n",
       "1           1      1     150     100           5          4    5      教育/培训   \n",
       "2           2      2     300     250           8          4    5  互联网/游戏/软件   \n",
       "3           3      3     100     100           3          4    4      教育/培训   \n",
       "4           4      4     150     100         176          3    4  互联网/游戏/软件   \n",
       "\n",
       "  city    scale  ... 招聘 媒体 内容 专员 产品  销售  开发  工程师  助理  运营  \n",
       "0   北京  2000人以上  ...  0  1  0  0  0   0   0    0   0   0  \n",
       "1   深圳   15-50人  ...  0  0  0  0  0   0   0    0   0   0  \n",
       "2   上海   15-50人  ...  0  0  0  0  0   0   0    0   0   0  \n",
       "3   上海   15-50人  ...  0  0  0  0  0   0   0    0   0   0  \n",
       "4   广州  2000人以上  ...  0  0  0  0  1   0   0    0   0   1  \n",
       "\n",
       "[5 rows x 77 columns]"
      ]
     },
     "execution_count": 5,
     "metadata": {},
     "output_type": "execute_result"
    }
   ],
   "source": [
    "data = pd.read_csv(\"final_validated_data.csv\")\n",
    "data.head()"
   ]
  },
  {
   "cell_type": "code",
   "execution_count": 137,
   "metadata": {},
   "outputs": [
    {
     "data": {
      "text/plain": [
       "[Text(0, 0.5, 'Number of Data'), Text(0.5, 0, 'Class')]"
      ]
     },
     "execution_count": 137,
     "metadata": {},
     "output_type": "execute_result"
    },
    {
     "data": {
      "image/png": "[encoded data removed]",
      "text/plain": [
       "<Figure size 1000x600 with 1 Axes>"
      ]
     },
     "metadata": {
      "needs_background": "light"
     },
     "output_type": "display_data"
    }
   ],
   "source": [
    "\n",
    "IT_df = data.drop(['Unnamed: 0', 'RowID', 'maxsal', 'minsal','industry', 'city', 'scale', 'name', 'uuid', 'c_desc', 'c_tag','c_name'],axis=1)\n",
    "\n",
    "# #确定 X和 y\n",
    "\n",
    "X = IT_df\n",
    "\n",
    "# Label the max salary (4 classes)\n",
    "label = []\n",
    "max_sal = data[\"maxsal\"].to_numpy()\n",
    "for i in max_sal:\n",
    "\n",
    "    if i in range(0,150):\n",
    "        label.append(0)\n",
    "    elif i in range(150,175):\n",
    "        label.append(1)\n",
    "    elif i in range(175,250):\n",
    "        label.append(2)\n",
    "    else:\n",
    "        label.append(3)\n",
    "y = np.array(label)\n",
    "fig = plt.figure(figsize = (10,6), dpi = 100)\n",
    "plt.hist(y)\n",
    "plt.gca().set(\n",
    "            xlabel = \"Class\",\n",
    "            ylabel = \"Number of Data\" \n",
    "        )"
   ]
  },
  {
   "cell_type": "code",
   "execution_count": null,
   "metadata": {},
   "outputs": [],
   "source": []
  },
  {
   "cell_type": "code",
   "execution_count": 10,
   "metadata": {},
   "outputs": [
    {
     "data": {
      "text/plain": [
       "(array([ 948., 1285.,  954.,  811.]),\n",
       " array([0, 1, 2, 3, 4]),\n",
       " <a list of 4 Patch objects>)"
      ]
     },
     "execution_count": 10,
     "metadata": {},
     "output_type": "execute_result"
    },
    {
     "data": {
      "image/png": "[encoded data removed]",
      "text/plain": [
       "<Figure size 432x288 with 1 Axes>"
      ]
     },
     "metadata": {
      "needs_background": "light"
     },
     "output_type": "display_data"
    }
   ],
   "source": [
    "from sklearn.model_selection import train_test_split\n",
    "X_train, X_test, y_train, y_test = train_test_split(X, y, test_size=0.2, shuffle = True, random_state=123)\n",
    "\n",
    "scaler = MinMaxScaler().fit(X_train)\n",
    "\n",
    "X_train_scaled = scaler.transform(X_train)\n",
    "X_test_scaled = scaler.transform(X_test)\n",
    "\n",
    "X_tensor_train = torch.from_numpy(np.asarray(X_train_scaled)).float()\n",
    "y_tensor_train = torch.from_numpy(y_train)\n",
    "train_set = MyDataset(X_tensor_train, y_tensor_train)\n",
    "\n",
    "X_tensor_test = torch.from_numpy(np.asarray(X_test_scaled)).float()\n",
    "y_tensor_test = torch.from_numpy(y_test)\n",
    "test_set = MyDataset(X_tensor_test, y_tensor_test)\n",
    "\n",
    "plt.hist(y_train, bins=[0,1,2,3,4])"
   ]
  },
  {
   "cell_type": "code",
   "execution_count": 30,
   "metadata": {},
   "outputs": [
    {
     "name": "stdout",
     "output_type": "stream",
     "text": [
      "epoch 0, loss 1.3639182880520822, train accuracy 0.31616666666666665\n",
      "Test accuracy: 0.336, Test loss: 1.333184838294983\n",
      "epoch 1, loss 1.2783119842410087, train accuracy 0.40720833333333334\n",
      "Test accuracy: 0.438, Test loss: 1.2626733779907227\n",
      "epoch 2, loss 1.2300421372056007, train accuracy 0.42387499999999995\n",
      "Test accuracy: 0.436, Test loss: 1.2427879571914673\n",
      "epoch 3, loss 1.2041958257555962, train accuracy 0.44247916666666665\n",
      "Test accuracy: 0.432, Test loss: 1.2372453212738037\n",
      "epoch 4, loss 1.1873602792620659, train accuracy 0.45146875\n",
      "Test accuracy: 0.446, Test loss: 1.2309759855270386\n",
      "epoch 5, loss 1.171370267868042, train accuracy 0.4609375\n",
      "Test accuracy: 0.459, Test loss: 1.2269971370697021\n",
      "epoch 6, loss 1.1576195165514946, train accuracy 0.4702395833333333\n",
      "Test accuracy: 0.446, Test loss: 1.220659613609314\n",
      "epoch 7, loss 1.143388143181801, train accuracy 0.4804583333333333\n",
      "Test accuracy: 0.443, Test loss: 1.2208675146102905\n",
      "epoch 8, loss 1.132126259803772, train accuracy 0.48650000000000004\n",
      "Test accuracy: 0.444, Test loss: 1.2127515077590942\n",
      "epoch 9, loss 1.1219223320484162, train accuracy 0.49721875000000004\n",
      "Test accuracy: 0.457, Test loss: 1.2151775360107422\n",
      "epoch 10, loss 1.111587842553854, train accuracy 0.4990104166666667\n",
      "Test accuracy: 0.439, Test loss: 1.2281010150909424\n",
      "epoch 11, loss 1.1011310569941997, train accuracy 0.5078229166666667\n",
      "Test accuracy: 0.443, Test loss: 1.2207248210906982\n",
      "epoch 12, loss 1.0936740137636662, train accuracy 0.5157395833333334\n",
      "Test accuracy: 0.46, Test loss: 1.213905692100525\n",
      "epoch 13, loss 1.0859721697866918, train accuracy 0.5122604166666667\n",
      "Test accuracy: 0.462, Test loss: 1.2114003896713257\n",
      "epoch 14, loss 1.0737913049757482, train accuracy 0.51253125\n",
      "Test accuracy: 0.452, Test loss: 1.2131450176239014\n",
      "epoch 15, loss 1.0652866341173648, train accuracy 0.5295416666666666\n",
      "Test accuracy: 0.456, Test loss: 1.2173482179641724\n",
      "epoch 16, loss 1.0593490839004516, train accuracy 0.5299583333333333\n",
      "Test accuracy: 0.461, Test loss: 1.2272824048995972\n",
      "epoch 17, loss 1.0470569401979446, train accuracy 0.5337604166666667\n",
      "Test accuracy: 0.453, Test loss: 1.227349877357483\n",
      "epoch 18, loss 1.0410285741090775, train accuracy 0.5367604166666666\n",
      "Test accuracy: 0.451, Test loss: 1.2311726808547974\n",
      "epoch 19, loss 1.036677885055542, train accuracy 0.5389895833333334\n",
      "Test accuracy: 0.461, Test loss: 1.241140604019165\n",
      "epoch 20, loss 1.025734192878008, train accuracy 0.5507500000000001\n",
      "Test accuracy: 0.468, Test loss: 1.2276662588119507\n",
      "epoch 21, loss 1.0188387639820575, train accuracy 0.5546041666666668\n",
      "Test accuracy: 0.451, Test loss: 1.2376315593719482\n",
      "epoch 22, loss 1.0163260981440545, train accuracy 0.55321875\n",
      "Test accuracy: 0.459, Test loss: 1.2359179258346558\n",
      "epoch 23, loss 1.0038889534771442, train accuracy 0.5578020833333334\n",
      "Test accuracy: 0.46, Test loss: 1.2460439205169678\n",
      "epoch 24, loss 0.9993226930499077, train accuracy 0.5620625\n",
      "Test accuracy: 0.456, Test loss: 1.2403773069381714\n",
      "epoch 25, loss 0.993952913582325, train accuracy 0.5650520833333335\n",
      "Test accuracy: 0.442, Test loss: 1.260741949081421\n",
      "epoch 26, loss 0.9843395859003067, train accuracy 0.5724791666666667\n",
      "Test accuracy: 0.448, Test loss: 1.252946138381958\n",
      "epoch 27, loss 0.9778206326067448, train accuracy 0.5747395833333334\n",
      "Test accuracy: 0.457, Test loss: 1.2578896284103394\n",
      "epoch 28, loss 0.9735462412238121, train accuracy 0.5743020833333333\n",
      "Test accuracy: 0.447, Test loss: 1.2670499086380005\n",
      "epoch 29, loss 0.9662288703024388, train accuracy 0.5792604166666667\n",
      "Test accuracy: 0.441, Test loss: 1.2637487649917603\n",
      "epoch 30, loss 0.9597496218979359, train accuracy 0.5790625\n",
      "Test accuracy: 0.452, Test loss: 1.265988826751709\n",
      "epoch 31, loss 0.9588249370455741, train accuracy 0.5782604166666667\n",
      "Test accuracy: 0.445, Test loss: 1.2683860063552856\n",
      "epoch 32, loss 0.9498904563486577, train accuracy 0.5813020833333333\n",
      "Test accuracy: 0.453, Test loss: 1.274614691734314\n",
      "epoch 33, loss 0.9465559676289559, train accuracy 0.5930208333333333\n",
      "Test accuracy: 0.445, Test loss: 1.2812296152114868\n",
      "epoch 34, loss 0.9365751855075359, train accuracy 0.5940416666666667\n",
      "Test accuracy: 0.449, Test loss: 1.2977474927902222\n",
      "epoch 35, loss 0.9320150069892407, train accuracy 0.5953125\n",
      "Test accuracy: 0.434, Test loss: 1.2904618978500366\n",
      "epoch 36, loss 0.9277741044759751, train accuracy 0.5970000000000001\n",
      "Test accuracy: 0.445, Test loss: 1.2898759841918945\n",
      "epoch 37, loss 0.9189188271760941, train accuracy 0.5997395833333334\n",
      "Test accuracy: 0.446, Test loss: 1.301819086074829\n",
      "epoch 38, loss 0.9156889945268631, train accuracy 0.6090833333333333\n",
      "Test accuracy: 0.441, Test loss: 1.3080509901046753\n",
      "epoch 39, loss 0.9064434170722961, train accuracy 0.6050625000000001\n",
      "Test accuracy: 0.442, Test loss: 1.3144466876983643\n",
      "epoch 40, loss 0.9040830045938492, train accuracy 0.6018229166666667\n",
      "Test accuracy: 0.446, Test loss: 1.3189506530761719\n",
      "epoch 41, loss 0.8983248680830002, train accuracy 0.6103125\n",
      "Test accuracy: 0.441, Test loss: 1.3420662879943848\n",
      "epoch 42, loss 0.895580755919218, train accuracy 0.6147708333333334\n",
      "Test accuracy: 0.439, Test loss: 1.336683750152588\n",
      "epoch 43, loss 0.8888230510056019, train accuracy 0.6075833333333334\n",
      "Test accuracy: 0.462, Test loss: 1.3272724151611328\n",
      "epoch 44, loss 0.8826592549681663, train accuracy 0.6140625\n",
      "Test accuracy: 0.438, Test loss: 1.3474665880203247\n",
      "epoch 45, loss 0.8814657226204872, train accuracy 0.61784375\n",
      "Test accuracy: 0.446, Test loss: 1.3401128053665161\n",
      "epoch 46, loss 0.8798563115298748, train accuracy 0.6150416666666667\n",
      "Test accuracy: 0.436, Test loss: 1.3578369617462158\n",
      "epoch 47, loss 0.8743811652064324, train accuracy 0.61878125\n",
      "Test accuracy: 0.445, Test loss: 1.3637032508850098\n",
      "epoch 48, loss 0.8697752989828587, train accuracy 0.61815625\n",
      "Test accuracy: 0.436, Test loss: 1.3774410486221313\n",
      "epoch 49, loss 0.8666724398732185, train accuracy 0.6220000000000001\n",
      "Test accuracy: 0.442, Test loss: 1.3714739084243774\n",
      "epoch 50, loss 0.8600011326372623, train accuracy 0.62775\n",
      "Test accuracy: 0.443, Test loss: 1.3821258544921875\n",
      "epoch 51, loss 0.8593727506697177, train accuracy 0.6231562500000001\n",
      "Test accuracy: 0.434, Test loss: 1.3792424201965332\n",
      "epoch 52, loss 0.8511655978858471, train accuracy 0.6265520833333333\n",
      "Test accuracy: 0.435, Test loss: 1.3885074853897095\n",
      "epoch 53, loss 0.8490064807236195, train accuracy 0.6360104166666666\n",
      "Test accuracy: 0.437, Test loss: 1.3990051746368408\n",
      "epoch 54, loss 0.8478449746966362, train accuracy 0.630875\n",
      "Test accuracy: 0.442, Test loss: 1.40175199508667\n",
      "epoch 55, loss 0.8403829470276832, train accuracy 0.6355729166666666\n",
      "Test accuracy: 0.437, Test loss: 1.417324423789978\n",
      "epoch 56, loss 0.8410033985972405, train accuracy 0.6348541666666666\n",
      "Test accuracy: 0.447, Test loss: 1.4184191226959229\n",
      "epoch 57, loss 0.8381005920469761, train accuracy 0.6393125000000001\n",
      "Test accuracy: 0.445, Test loss: 1.42438542842865\n",
      "epoch 58, loss 0.8358236506581307, train accuracy 0.6388020833333334\n",
      "Test accuracy: 0.44, Test loss: 1.4182360172271729\n",
      "epoch 59, loss 0.8275300890207291, train accuracy 0.6461041666666667\n",
      "Test accuracy: 0.436, Test loss: 1.436618685722351\n",
      "epoch 60, loss 0.8251526020467281, train accuracy 0.6433541666666667\n",
      "Test accuracy: 0.433, Test loss: 1.4584970474243164\n",
      "epoch 61, loss 0.8175423249602318, train accuracy 0.6428541666666666\n",
      "Test accuracy: 0.417, Test loss: 1.4576332569122314\n",
      "epoch 62, loss 0.8154382541775703, train accuracy 0.6511041666666666\n",
      "Test accuracy: 0.44, Test loss: 1.4496583938598633\n",
      "epoch 63, loss 0.8138199396431446, train accuracy 0.6478229166666667\n",
      "Test accuracy: 0.44, Test loss: 1.4567419290542603\n",
      "epoch 64, loss 0.8120982021093368, train accuracy 0.6503229166666666\n",
      "Test accuracy: 0.427, Test loss: 1.4763563871383667\n",
      "epoch 65, loss 0.8120516046881676, train accuracy 0.6455416666666667\n",
      "Test accuracy: 0.424, Test loss: 1.4715954065322876\n",
      "epoch 66, loss 0.8072843469679356, train accuracy 0.65128125\n",
      "Test accuracy: 0.437, Test loss: 1.4659098386764526\n",
      "epoch 67, loss 0.7961103565990925, train accuracy 0.6638229166666667\n",
      "Test accuracy: 0.431, Test loss: 1.4785940647125244\n",
      "epoch 68, loss 0.7973850525915622, train accuracy 0.6543645833333332\n",
      "Test accuracy: 0.436, Test loss: 1.4745514392852783\n",
      "epoch 69, loss 0.7961452431976795, train accuracy 0.6533645833333332\n",
      "Test accuracy: 0.433, Test loss: 1.4784797430038452\n"
     ]
    },
    {
     "name": "stdout",
     "output_type": "stream",
     "text": [
      "epoch 70, loss 0.7904944255948066, train accuracy 0.6620729166666666\n",
      "Test accuracy: 0.425, Test loss: 1.4998897314071655\n",
      "epoch 71, loss 0.7867303036153317, train accuracy 0.6560520833333333\n",
      "Test accuracy: 0.442, Test loss: 1.4976649284362793\n",
      "epoch 72, loss 0.7901044115424156, train accuracy 0.6564062500000001\n",
      "Test accuracy: 0.431, Test loss: 1.5411791801452637\n",
      "epoch 73, loss 0.7929576098918915, train accuracy 0.6595625\n",
      "Test accuracy: 0.438, Test loss: 1.489052653312683\n",
      "epoch 74, loss 0.7816812627017498, train accuracy 0.6610416666666666\n",
      "Test accuracy: 0.429, Test loss: 1.511448621749878\n",
      "epoch 75, loss 0.7844320617616176, train accuracy 0.6613541666666667\n",
      "Test accuracy: 0.423, Test loss: 1.5283457040786743\n",
      "epoch 76, loss 0.7749117068946362, train accuracy 0.662625\n",
      "Test accuracy: 0.432, Test loss: 1.5161917209625244\n",
      "epoch 77, loss 0.7705265834927559, train accuracy 0.6673229166666667\n",
      "Test accuracy: 0.424, Test loss: 1.5266414880752563\n",
      "epoch 78, loss 0.7750807762145996, train accuracy 0.6667708333333333\n",
      "Test accuracy: 0.429, Test loss: 1.5388495922088623\n",
      "epoch 79, loss 0.7723548144102097, train accuracy 0.6636354166666667\n",
      "Test accuracy: 0.44, Test loss: 1.5355262756347656\n",
      "epoch 80, loss 0.7644561380147934, train accuracy 0.6688125\n",
      "Test accuracy: 0.432, Test loss: 1.523511528968811\n",
      "epoch 81, loss 0.7603882372379303, train accuracy 0.6728020833333334\n",
      "Test accuracy: 0.432, Test loss: 1.5425975322723389\n",
      "epoch 82, loss 0.7578296884894371, train accuracy 0.6753125\n",
      "Test accuracy: 0.425, Test loss: 1.554234504699707\n",
      "epoch 83, loss 0.7540395602583885, train accuracy 0.6785729166666667\n",
      "Test accuracy: 0.435, Test loss: 1.5580296516418457\n",
      "epoch 84, loss 0.7603945828974247, train accuracy 0.6810937499999999\n",
      "Test accuracy: 0.431, Test loss: 1.5471552610397339\n",
      "epoch 85, loss 0.7462682455778122, train accuracy 0.6735833333333333\n",
      "Test accuracy: 0.431, Test loss: 1.5616745948791504\n",
      "epoch 86, loss 0.7505224220454693, train accuracy 0.68034375\n",
      "Test accuracy: 0.428, Test loss: 1.583056926727295\n",
      "epoch 87, loss 0.7453141279518605, train accuracy 0.6750833333333335\n",
      "Test accuracy: 0.427, Test loss: 1.5838679075241089\n",
      "epoch 88, loss 0.7409524135291576, train accuracy 0.6850625\n",
      "Test accuracy: 0.434, Test loss: 1.5866461992263794\n",
      "epoch 89, loss 0.7407678857445716, train accuracy 0.6820520833333333\n",
      "Test accuracy: 0.436, Test loss: 1.6013044118881226\n",
      "epoch 90, loss 0.7360669311136008, train accuracy 0.6845208333333334\n",
      "Test accuracy: 0.426, Test loss: 1.6208473443984985\n",
      "epoch 91, loss 0.7374674692749977, train accuracy 0.6833958333333333\n",
      "Test accuracy: 0.44, Test loss: 1.6042485237121582\n",
      "epoch 92, loss 0.7292580015957355, train accuracy 0.68759375\n",
      "Test accuracy: 0.441, Test loss: 1.6179983615875244\n",
      "epoch 93, loss 0.7353599712252616, train accuracy 0.6782916666666667\n",
      "Test accuracy: 0.417, Test loss: 1.6523938179016113\n",
      "epoch 94, loss 0.7296699658036232, train accuracy 0.6926249999999999\n",
      "Test accuracy: 0.436, Test loss: 1.6254816055297852\n",
      "epoch 95, loss 0.730379655212164, train accuracy 0.68634375\n",
      "Test accuracy: 0.437, Test loss: 1.6133723258972168\n",
      "epoch 96, loss 0.7313362814486026, train accuracy 0.6813229166666666\n",
      "Test accuracy: 0.436, Test loss: 1.625977873802185\n",
      "epoch 97, loss 0.7182675853371621, train accuracy 0.6891041666666666\n",
      "Test accuracy: 0.429, Test loss: 1.6539561748504639\n",
      "epoch 98, loss 0.7150578502565622, train accuracy 0.69259375\n",
      "Test accuracy: 0.427, Test loss: 1.6529208421707153\n",
      "epoch 99, loss 0.7190442115068436, train accuracy 0.6916249999999999\n",
      "Test accuracy: 0.433, Test loss: 1.6468966007232666\n"
     ]
    }
   ],
   "source": [
    "inputDim = X.shape[1]\n",
    "outputDim = 4\n",
    "\n",
    "class logisticRegression(torch.nn.Module):\n",
    "    def __init__(self, input_size, hidden_size, output_size):\n",
    "        super(logisticRegression, self).__init__()\n",
    "        self.layer1 = nn.Linear(input_size, hidden_size)\n",
    "        self.layer2 = nn.Linear(hidden_size, hidden_size)\n",
    "        self.layer3 = nn.Linear(hidden_size, output_size)\n",
    "#         self.layer4 = nn.Linear(hidden_size, hidden_size)\n",
    "#         self.layer5 = nn.Linear(hidden_size, output_size)\n",
    "        \n",
    "    def forward(self, x):\n",
    "        x = self.layer1(x)\n",
    "        x = F.relu(x)\n",
    "        x = self.layer2(x)\n",
    "        x = F.relu(x)\n",
    "        x = self.layer3(x)\n",
    "#         x = F.relu(x)\n",
    "#         x = self.layer4(x)\n",
    "#         x = F.relu(x)\n",
    "#         x = self.layer5(x)\n",
    "        return x\n",
    "    \n",
    "# model = logisticRegression(\n",
    "#     input_size  = X_tensor.shape[1], \n",
    "#     hidden_size = ,\n",
    "#     output_size = 4\n",
    "# )\n",
    "    \n",
    "model = logisticRegression(inputDim, 64, outputDim)\n",
    "dataloader = DataLoader(train_set, batch_size = 50, shuffle = True)\n",
    "learningRate = 0.001\n",
    "\n",
    "criterion = torch.nn.CrossEntropyLoss()\n",
    "optimizer = torch.optim.Adam(model.parameters(),lr=learningRate)\n",
    "# ================分割线================\n",
    "epochs = 100\n",
    "\n",
    "test_acc_history = []\n",
    "test_loss = []\n",
    "train_history = []\n",
    "\n",
    "for epoch in range(epochs):\n",
    "    losses = []\n",
    "    train_accuracy = []\n",
    "    for x_batch, y_batch in dataloader:\n",
    "        optimizer.zero_grad()\n",
    "        \n",
    "        output = model(x_batch)\n",
    "        loss = criterion(output, y_batch)\n",
    "        loss.backward()\n",
    "        losses.append(loss.item())\n",
    "        train_accuracy.append(accuracy_score(y_batch, np.argmax(output.detach().numpy(), axis = 1)))\n",
    "        \n",
    "        optimizer.step()\n",
    "    \n",
    "    print('epoch {}, loss {}, train accuracy {}'.format(epoch, np.mean(losses), np.mean(train_accuracy)))\n",
    "    train_history.append(np.mean(train_accuracy))\n",
    "    \n",
    "    if epoch >= 0:\n",
    "        with torch.no_grad():\n",
    "            out_test = model(x_test)\n",
    "            test_accuracy = accuracy_score(np.argmax(out_test.numpy(), axis=1), y_test)\n",
    "            loss = criterion(out_test, y_test)\n",
    "        print(\"Test accuracy: {}, Test loss: {}\".format(test_accuracy, loss.numpy()))\n",
    "        test_acc_history.append(test_accuracy)\n",
    "        test_loss.append(loss)"
   ]
  },
  {
   "cell_type": "code",
   "execution_count": 31,
   "metadata": {},
   "outputs": [
    {
     "name": "stdout",
     "output_type": "stream",
     "text": [
      "Test accuracy: 0.433, Test loss: 1.6468966007232666\n"
     ]
    }
   ],
   "source": [
    "x_test, y_test = test_set[:]\n",
    "\n",
    "with torch.no_grad():\n",
    "    out_test = model(x_test)\n",
    "    test_accuracy = accuracy_score(np.argmax(out_test.numpy(), axis=1), y_test)\n",
    "    loss = criterion(out_test, y_test)\n",
    "print(\"Test accuracy: {}, Test loss: {}\".format(test_accuracy, loss.numpy()))"
   ]
  },
  {
   "cell_type": "code",
   "execution_count": 35,
   "metadata": {},
   "outputs": [
    {
     "data": {
      "text/plain": [
       "[Text(0, 0.5, 'Accuracy'), Text(0.5, 0, 'Epochs')]"
      ]
     },
     "execution_count": 35,
     "metadata": {},
     "output_type": "execute_result"
    },
    {
     "data": {
      "image/png": "[encoded data removed]",
      "text/plain": [
       "<Figure size 1000x600 with 1 Axes>"
      ]
     },
     "metadata": {
      "needs_background": "light"
     },
     "output_type": "display_data"
    }
   ],
   "source": [
    "fig = plt.figure(figsize = (10,6), dpi = 100)\n",
    "plt.plot(train_history, label = \"Train accuracy\")\n",
    "plt.plot(test_acc_history, label = \"Test accuracy\")\n",
    "plt.legend()\n",
    "plt.gca().set(\n",
    "            xlabel = \"Epochs\",\n",
    "            ylabel = \"Accuracy\" \n",
    "        )"
   ]
  },
  {
   "cell_type": "code",
   "execution_count": 37,
   "metadata": {},
   "outputs": [
    {
     "data": {
      "text/plain": [
       "[Text(0, 0.5, 'Accuracy'), Text(0.5, 0, 'Epochs')]"
      ]
     },
     "execution_count": 37,
     "metadata": {},
     "output_type": "execute_result"
    },
    {
     "data": {
      "image/png": "[encoded data removed]",
      "text/plain": [
       "<Figure size 1000x600 with 1 Axes>"
      ]
     },
     "metadata": {
      "needs_background": "light"
     },
     "output_type": "display_data"
    }
   ],
   "source": [
    "fig = plt.figure(figsize = (10,6), dpi = 100)\n",
    "plt.plot(test_acc_history, label = \"Test accuracy\")\n",
    "plt.legend()\n",
    "plt.gca().set(\n",
    "            xlabel = \"Epochs\",\n",
    "            ylabel = \"Accuracy\" \n",
    "        )"
   ]
  },
  {
   "cell_type": "code",
   "execution_count": 135,
   "metadata": {},
   "outputs": [
    {
     "data": {
      "text/plain": [
       "[0.336,\n",
       " 0.438,\n",
       " 0.436,\n",
       " 0.432,\n",
       " 0.446,\n",
       " 0.459,\n",
       " 0.446,\n",
       " 0.443,\n",
       " 0.444,\n",
       " 0.457,\n",
       " 0.439,\n",
       " 0.443,\n",
       " 0.46,\n",
       " 0.462,\n",
       " 0.452,\n",
       " 0.456,\n",
       " 0.461,\n",
       " 0.453,\n",
       " 0.451,\n",
       " 0.461,\n",
       " 0.468,\n",
       " 0.451,\n",
       " 0.459,\n",
       " 0.46,\n",
       " 0.456,\n",
       " 0.442,\n",
       " 0.448,\n",
       " 0.457,\n",
       " 0.447,\n",
       " 0.441,\n",
       " 0.452,\n",
       " 0.445,\n",
       " 0.453,\n",
       " 0.445,\n",
       " 0.449,\n",
       " 0.434,\n",
       " 0.445,\n",
       " 0.446,\n",
       " 0.441,\n",
       " 0.442,\n",
       " 0.446,\n",
       " 0.441,\n",
       " 0.439,\n",
       " 0.462,\n",
       " 0.438,\n",
       " 0.446,\n",
       " 0.436,\n",
       " 0.445,\n",
       " 0.436,\n",
       " 0.442,\n",
       " 0.443,\n",
       " 0.434,\n",
       " 0.435,\n",
       " 0.437,\n",
       " 0.442,\n",
       " 0.437,\n",
       " 0.447,\n",
       " 0.445,\n",
       " 0.44,\n",
       " 0.436,\n",
       " 0.433,\n",
       " 0.417,\n",
       " 0.44,\n",
       " 0.44,\n",
       " 0.427,\n",
       " 0.424,\n",
       " 0.437,\n",
       " 0.431,\n",
       " 0.436,\n",
       " 0.433,\n",
       " 0.425,\n",
       " 0.442,\n",
       " 0.431,\n",
       " 0.438,\n",
       " 0.429,\n",
       " 0.423,\n",
       " 0.432,\n",
       " 0.424,\n",
       " 0.429,\n",
       " 0.44,\n",
       " 0.432,\n",
       " 0.432,\n",
       " 0.425,\n",
       " 0.435,\n",
       " 0.431,\n",
       " 0.431,\n",
       " 0.428,\n",
       " 0.427,\n",
       " 0.434,\n",
       " 0.436,\n",
       " 0.426,\n",
       " 0.44,\n",
       " 0.441,\n",
       " 0.417,\n",
       " 0.436,\n",
       " 0.437,\n",
       " 0.436,\n",
       " 0.429,\n",
       " 0.427,\n",
       " 0.433]"
      ]
     },
     "execution_count": 135,
     "metadata": {},
     "output_type": "execute_result"
    }
   ],
   "source": [
    "test_acc_history"
   ]
  },
  {
   "cell_type": "code",
   "execution_count": 38,
   "metadata": {},
   "outputs": [
    {
     "data": {
      "text/plain": [
       "[Text(0, 0.5, 'Loss'), Text(0.5, 0, 'Epochs')]"
      ]
     },
     "execution_count": 38,
     "metadata": {},
     "output_type": "execute_result"
    },
    {
     "data": {
      "image/png": "[encoded data removed]",
      "text/plain": [
       "<Figure size 1000x600 with 1 Axes>"
      ]
     },
     "metadata": {
      "needs_background": "light"
     },
     "output_type": "display_data"
    }
   ],
   "source": [
    "fig = plt.figure(figsize = (10,6), dpi = 100)\n",
    "plt.plot(test_loss, label = \"Test loss\")\n",
    "plt.legend()\n",
    "plt.gca().set(\n",
    "            xlabel = \"Epochs\",\n",
    "            ylabel = \"Loss\" \n",
    "        )"
   ]
  },
  {
   "cell_type": "code",
   "execution_count": 50,
   "metadata": {},
   "outputs": [
    {
     "data": {
      "text/plain": [
       "[Parameter containing:\n",
       " tensor([[-0.2038,  0.1084,  0.2191,  ..., -0.2108, -0.0724, -0.0364],\n",
       "         [ 0.0551,  0.1363,  0.0874,  ...,  0.0685,  0.2064, -0.1387],\n",
       "         [ 0.1787,  0.0840,  0.0182,  ..., -0.2897, -0.0301, -0.2371],\n",
       "         ...,\n",
       "         [-0.2525,  0.4321, -0.1737,  ..., -0.0224, -0.4160, -0.0831],\n",
       "         [ 0.2213,  0.0814, -0.2158,  ..., -0.4806,  0.2338, -0.2265],\n",
       "         [-0.6246,  0.1315, -0.2096,  ...,  0.0788, -0.3871, -0.0776]],\n",
       "        requires_grad=True),\n",
       " Parameter containing:\n",
       " tensor([ 0.0334,  0.0194,  0.1130,  0.1374,  0.1418,  0.0295, -0.0039,  0.2127,\n",
       "          0.0073,  0.0578,  0.1630,  0.0965,  0.1611,  0.1039, -0.0294, -0.1298,\n",
       "         -0.0291,  0.0274,  0.1072, -0.1143,  0.1387, -0.1333,  0.0827, -0.1456,\n",
       "         -0.0490, -0.0965,  0.0747, -0.0230, -0.1207,  0.0571,  0.0730,  0.1526,\n",
       "         -0.0472,  0.0595, -0.0809, -0.0201,  0.0816, -0.0152, -0.0452,  0.0276,\n",
       "         -0.0129,  0.1458,  0.0460,  0.0294,  0.0899,  0.1173,  0.0501, -0.1132,\n",
       "          0.0424, -0.0966,  0.1879,  0.1645,  0.1289, -0.1063,  0.0880,  0.1290,\n",
       "          0.0924,  0.1650, -0.0016,  0.0089, -0.0443,  0.0436,  0.0911,  0.1349],\n",
       "        requires_grad=True),\n",
       " Parameter containing:\n",
       " tensor([[ 0.2890, -0.2958,  0.1660,  ...,  0.4026,  0.3205,  0.4609],\n",
       "         [ 0.2099, -0.0225, -0.3048,  ..., -0.4449,  0.0301,  0.1546],\n",
       "         [-0.1453,  0.1577, -0.3674,  ..., -0.6079, -0.5079, -0.5883],\n",
       "         ...,\n",
       "         [ 0.1152, -0.0823, -0.0191,  ...,  0.1958,  0.0577,  0.4511],\n",
       "         [ 0.0474,  0.2487, -0.0668,  ..., -0.0881, -0.0896,  0.2601],\n",
       "         [ 0.1653, -0.0584,  0.1362,  ..., -0.1577,  0.2087, -0.3681]],\n",
       "        requires_grad=True),\n",
       " Parameter containing:\n",
       " tensor([ 0.0537,  0.1908,  0.0480, -0.0608,  0.0293,  0.0567,  0.0659, -0.0273,\n",
       "          0.0321,  0.0608,  0.0147, -0.0259,  0.0630,  0.1371,  0.1077, -0.0996,\n",
       "         -0.0880, -0.0089, -0.1751, -0.0375,  0.0187,  0.0828,  0.0619,  0.1356,\n",
       "          0.1163,  0.1479,  0.1295, -0.1798,  0.0396,  0.0437, -0.0470,  0.1230,\n",
       "         -0.0070, -0.0564,  0.1962,  0.0053, -0.1135,  0.0689,  0.0528,  0.0542,\n",
       "         -0.0414, -0.0182,  0.1094, -0.0628, -0.0592,  0.0088, -0.0552, -0.0259,\n",
       "          0.1057,  0.0579,  0.1648, -0.0205, -0.0618,  0.1731,  0.0405,  0.0236,\n",
       "          0.0417,  0.0748,  0.0577, -0.0709,  0.0387,  0.1119,  0.0925, -0.0608],\n",
       "        requires_grad=True),\n",
       " Parameter containing:\n",
       " tensor([[ 0.1855, -0.4060, -0.3646, -0.8522,  0.1539, -0.8211,  0.6746,  0.2903,\n",
       "           0.4001, -0.7580,  0.0728,  0.1735,  0.1806,  0.2185,  0.5988, -0.2385,\n",
       "          -0.1295, -0.8214, -0.0900, -0.1354,  0.6842,  0.8042, -0.8539,  0.3279,\n",
       "          -0.0897,  0.1968,  0.4005, -0.8859, -0.7342,  0.5813,  0.1035, -0.9621,\n",
       "           0.2978,  1.1933, -0.4644, -0.5761,  0.0455,  0.5184,  0.3001, -0.9498,\n",
       "          -0.6219, -0.9558,  0.0363,  1.3799,  0.1021,  0.2519,  0.1748,  1.2009,\n",
       "          -0.6428, -0.2445, -0.4184, -0.4645,  0.3543, -1.0236, -0.9284, -0.0292,\n",
       "          -0.3189, -0.4018,  0.3022, -0.5659, -1.4544,  0.4776,  0.2418, -0.3298],\n",
       "         [ 0.1457,  0.2949, -0.4149, -0.8354,  0.0191,  0.4045, -0.4716,  0.0301,\n",
       "           0.0909,  0.7482,  0.6343, -0.6721, -0.3139,  0.4240, -0.1645, -0.8313,\n",
       "           0.0516,  0.2877,  0.0611, -0.2640, -0.1421, -0.6817, -0.4385, -0.2720,\n",
       "           0.7026, -0.3762, -0.0167,  1.2110,  0.2039, -0.0770,  0.0691,  0.8247,\n",
       "           0.1124, -0.7975, -0.1823,  0.0060,  0.0522,  0.2288,  0.5362,  0.0469,\n",
       "           0.1928, -0.3331,  0.2846, -0.3474,  0.1536, -1.3412,  0.1726, -1.1611,\n",
       "           0.1109, -0.4594,  0.2457, -0.5862, -0.2082,  0.2196,  0.9726,  0.4860,\n",
       "          -0.3987,  0.5309,  0.0836, -0.7451,  1.2596,  0.2715,  0.3523, -0.7104],\n",
       "         [-0.0398, -0.3775, -0.0772,  0.2308,  0.3110,  0.2763, -0.1963,  0.2275,\n",
       "          -0.1825,  0.3231, -0.7771,  0.2459,  0.4315, -0.6192, -0.3166,  0.8903,\n",
       "           0.0860,  0.0728,  0.2471,  0.8291, -0.4273,  0.0518,  0.4811, -0.3678,\n",
       "          -0.9680, -0.3797, -0.7824, -0.2046, -0.0292, -0.3987,  0.4222,  0.1576,\n",
       "          -0.0930, -1.0763, -0.1963, -0.3391, -0.0243, -0.6669, -0.6191,  0.1563,\n",
       "           0.4783,  0.3696,  0.0160, -0.8195,  0.2430, -0.2230,  0.2773, -0.1706,\n",
       "           0.2586,  0.2078, -0.3326,  0.2418,  0.3967, -0.1189,  0.1261, -1.3477,\n",
       "           0.6934,  0.0812, -0.0054,  0.9501,  0.0908, -0.3033, -0.7751,  1.0183],\n",
       "         [-0.8193,  0.3650,  0.4952,  1.1054, -0.6874,  0.0454, -0.1551, -0.8420,\n",
       "          -0.6689, -0.6012, -0.3746,  0.3086, -0.7277, -0.2959, -0.3841, -0.0362,\n",
       "          -0.1007,  0.3339, -1.0045, -0.4993, -0.3140, -0.3022,  0.4724,  0.4847,\n",
       "           0.1689,  0.3023,  0.0826, -0.4809,  0.2591,  0.1109, -0.8322, -0.5759,\n",
       "          -0.7358,  0.9150,  0.5022,  0.5473,  0.0721, -0.4429, -0.4242,  0.4479,\n",
       "          -0.4299,  0.4853, -0.5350, -0.7234, -0.7539,  1.4110, -0.8251,  0.1906,\n",
       "           0.0599,  0.4747,  0.4607,  0.5368, -0.8059,  0.4029, -0.8037,  0.4508,\n",
       "          -0.1533, -0.4188, -0.6654,  0.0073, -0.6717, -0.4766,  0.1921,  0.0076]],\n",
       "        requires_grad=True),\n",
       " Parameter containing:\n",
       " tensor([ 0.0185,  0.0712, -0.0145, -0.0078], requires_grad=True)]"
      ]
     },
     "execution_count": 50,
     "metadata": {},
     "output_type": "execute_result"
    }
   ],
   "source": [
    "list(model.parameters())"
   ]
  },
  {
   "cell_type": "code",
   "execution_count": 79,
   "metadata": {},
   "outputs": [
    {
     "data": {
      "text/plain": [
       "tensor([1, 0, 2,  ..., 2, 2, 2])"
      ]
     },
     "execution_count": 79,
     "metadata": {},
     "output_type": "execute_result"
    }
   ],
   "source": [
    "y_pred_1 = model(torch.from_numpy(np.asarray(X_train_scaled)).float())\n",
    "y_pred_1\n",
    "prediction = torch.argmax(y_pred_1, dim=1)\n",
    "prediction"
   ]
  },
  {
   "cell_type": "code",
   "execution_count": 105,
   "metadata": {},
   "outputs": [
    {
     "data": {
      "text/plain": [
       "__main__.logisticRegression"
      ]
     },
     "execution_count": 105,
     "metadata": {},
     "output_type": "execute_result"
    }
   ],
   "source": [
    "type(model)\n",
    "y_pred = mode"
   ]
  },
  {
   "cell_type": "code",
   "execution_count": 85,
   "metadata": {},
   "outputs": [
    {
     "data": {
      "text/plain": [
       "array([1, 0, 2, ..., 2, 2, 2])"
      ]
     },
     "execution_count": 85,
     "metadata": {},
     "output_type": "execute_result"
    }
   ],
   "source": [
    "prediction.numpy()"
   ]
  },
  {
   "cell_type": "code",
   "execution_count": 84,
   "metadata": {},
   "outputs": [],
   "source": [
    "# plt.hist(prediction.numpy())"
   ]
  },
  {
   "cell_type": "code",
   "execution_count": 128,
   "metadata": {},
   "outputs": [
    {
     "data": {
      "text/plain": [
       "DecisionTreeClassifier(max_depth=30, max_leaf_nodes=1000, min_samples_leaf=10)"
      ]
     },
     "execution_count": 128,
     "metadata": {},
     "output_type": "execute_result"
    }
   ],
   "source": [
    "svm_model = svm.SVC(decision_function_shape = 'ovo', kernel = 'rbf', C = 1, gamma = 0.5)\n",
    "svm_model.fit(X_train_scaled, y_train)\n",
    "\n",
    "tree_model = DecisionTreeClassifier(max_depth = 30,  max_leaf_nodes = 1000, min_samples_split = 2, min_samples_leaf = 10)\n",
    "tree_model.fit(X_train_scaled, y_train)\n",
    "\n",
    "\n"
   ]
  },
  {
   "cell_type": "code",
   "execution_count": 133,
   "metadata": {},
   "outputs": [],
   "source": [
    "from sklearn.base import BaseEstimator, ClassifierMixin\n",
    "from sklearn.linear_model import LogisticRegression\n",
    "\n",
    "class StackingClassifier(BaseEstimator, ClassifierMixin):\n",
    "    def __init__(self):\n",
    "        self._svm = svm_model\n",
    "        self._decision_tree = tree_model\n",
    "        self._NN = model\n",
    "        self._logistic = LogisticRegression()\n",
    "    \n",
    "    \n",
    "    def base_model_pred(self,X):\n",
    "        svm_pred = self._svm.predict(X)\n",
    "        tree_pred = self._decision_tree.predict(X)\n",
    "        NN_pred = self._NN(torch.FloatTensor(X))\n",
    "        final_x = np.hstack((svm_pred,tree_pred,NN_pred))\n",
    "        return final_x\n",
    "        \n",
    "        \n",
    "    def fit(self,X,y):\n",
    "        base_model_pred = self.base_model_pred(X)\n",
    "        self._logistic.fit(base_model_pred,y)\n",
    "    \n",
    "    \n",
    "    \n",
    "    def predict(self,X):\n",
    "        \n",
    "        base_model_pred = self.base_model_pred(X)\n",
    "        \n",
    "        return self._logistic.predict(base_model_pred)\n",
    "        \n",
    "        "
   ]
  },
  {
   "cell_type": "code",
   "execution_count": 134,
   "metadata": {},
   "outputs": [
    {
     "name": "stderr",
     "output_type": "stream",
     "text": [
      "/Library/Frameworks/Python.framework/Versions/3.8/lib/python3.8/site-packages/sklearn/model_selection/_validation.py:548: FitFailedWarning: Estimator fit failed. The score on this train-test partition for these parameters will be set to nan. Details: \n",
      "Traceback (most recent call last):\n",
      "  File \"/Library/Frameworks/Python.framework/Versions/3.8/lib/python3.8/site-packages/sklearn/model_selection/_validation.py\", line 531, in _fit_and_score\n",
      "    estimator.fit(X_train, y_train, **fit_params)\n",
      "  File \"<ipython-input-133-ee5884797098>\", line 21, in fit\n",
      "    base_model_pred = self.base_model_pred(X)\n",
      "  File \"<ipython-input-133-ee5884797098>\", line 16, in base_model_pred\n",
      "    final_x = np.hstack((svm_pred,tree_pred,NN_pred))\n",
      "  File \"<__array_function__ internals>\", line 5, in hstack\n",
      "  File \"/Library/Frameworks/Python.framework/Versions/3.8/lib/python3.8/site-packages/numpy/core/shape_base.py\", line 338, in hstack\n",
      "    arrs = atleast_1d(*tup)\n",
      "  File \"<__array_function__ internals>\", line 5, in atleast_1d\n",
      "  File \"/Library/Frameworks/Python.framework/Versions/3.8/lib/python3.8/site-packages/numpy/core/shape_base.py\", line 67, in atleast_1d\n",
      "    ary = asanyarray(ary)\n",
      "  File \"/Library/Frameworks/Python.framework/Versions/3.8/lib/python3.8/site-packages/numpy/core/_asarray.py\", line 138, in asanyarray\n",
      "    return array(a, dtype, copy=False, order=order, subok=True)\n",
      "  File \"/Library/Frameworks/Python.framework/Versions/3.8/lib/python3.8/site-packages/torch/tensor.py\", line 630, in __array__\n",
      "    return self.numpy()\n",
      "RuntimeError: Can't call numpy() on Tensor that requires grad. Use tensor.detach().numpy() instead.\n",
      "\n",
      "  warnings.warn(\"Estimator fit failed. The score on this train-test\"\n",
      "/Library/Frameworks/Python.framework/Versions/3.8/lib/python3.8/site-packages/sklearn/model_selection/_validation.py:548: FitFailedWarning: Estimator fit failed. The score on this train-test partition for these parameters will be set to nan. Details: \n",
      "Traceback (most recent call last):\n",
      "  File \"/Library/Frameworks/Python.framework/Versions/3.8/lib/python3.8/site-packages/sklearn/model_selection/_validation.py\", line 531, in _fit_and_score\n",
      "    estimator.fit(X_train, y_train, **fit_params)\n",
      "  File \"<ipython-input-133-ee5884797098>\", line 21, in fit\n",
      "    base_model_pred = self.base_model_pred(X)\n",
      "  File \"<ipython-input-133-ee5884797098>\", line 16, in base_model_pred\n",
      "    final_x = np.hstack((svm_pred,tree_pred,NN_pred))\n",
      "  File \"<__array_function__ internals>\", line 5, in hstack\n",
      "  File \"/Library/Frameworks/Python.framework/Versions/3.8/lib/python3.8/site-packages/numpy/core/shape_base.py\", line 338, in hstack\n",
      "    arrs = atleast_1d(*tup)\n",
      "  File \"<__array_function__ internals>\", line 5, in atleast_1d\n",
      "  File \"/Library/Frameworks/Python.framework/Versions/3.8/lib/python3.8/site-packages/numpy/core/shape_base.py\", line 67, in atleast_1d\n",
      "    ary = asanyarray(ary)\n",
      "  File \"/Library/Frameworks/Python.framework/Versions/3.8/lib/python3.8/site-packages/numpy/core/_asarray.py\", line 138, in asanyarray\n",
      "    return array(a, dtype, copy=False, order=order, subok=True)\n",
      "  File \"/Library/Frameworks/Python.framework/Versions/3.8/lib/python3.8/site-packages/torch/tensor.py\", line 630, in __array__\n",
      "    return self.numpy()\n",
      "RuntimeError: Can't call numpy() on Tensor that requires grad. Use tensor.detach().numpy() instead.\n",
      "\n",
      "  warnings.warn(\"Estimator fit failed. The score on this train-test\"\n",
      "/Library/Frameworks/Python.framework/Versions/3.8/lib/python3.8/site-packages/sklearn/model_selection/_validation.py:548: FitFailedWarning: Estimator fit failed. The score on this train-test partition for these parameters will be set to nan. Details: \n",
      "Traceback (most recent call last):\n",
      "  File \"/Library/Frameworks/Python.framework/Versions/3.8/lib/python3.8/site-packages/sklearn/model_selection/_validation.py\", line 531, in _fit_and_score\n",
      "    estimator.fit(X_train, y_train, **fit_params)\n",
      "  File \"<ipython-input-133-ee5884797098>\", line 21, in fit\n",
      "    base_model_pred = self.base_model_pred(X)\n",
      "  File \"<ipython-input-133-ee5884797098>\", line 16, in base_model_pred\n",
      "    final_x = np.hstack((svm_pred,tree_pred,NN_pred))\n",
      "  File \"<__array_function__ internals>\", line 5, in hstack\n",
      "  File \"/Library/Frameworks/Python.framework/Versions/3.8/lib/python3.8/site-packages/numpy/core/shape_base.py\", line 338, in hstack\n",
      "    arrs = atleast_1d(*tup)\n",
      "  File \"<__array_function__ internals>\", line 5, in atleast_1d\n",
      "  File \"/Library/Frameworks/Python.framework/Versions/3.8/lib/python3.8/site-packages/numpy/core/shape_base.py\", line 67, in atleast_1d\n",
      "    ary = asanyarray(ary)\n",
      "  File \"/Library/Frameworks/Python.framework/Versions/3.8/lib/python3.8/site-packages/numpy/core/_asarray.py\", line 138, in asanyarray\n",
      "    return array(a, dtype, copy=False, order=order, subok=True)\n",
      "  File \"/Library/Frameworks/Python.framework/Versions/3.8/lib/python3.8/site-packages/torch/tensor.py\", line 630, in __array__\n",
      "    return self.numpy()\n",
      "RuntimeError: Can't call numpy() on Tensor that requires grad. Use tensor.detach().numpy() instead.\n",
      "\n",
      "  warnings.warn(\"Estimator fit failed. The score on this train-test\"\n",
      "/Library/Frameworks/Python.framework/Versions/3.8/lib/python3.8/site-packages/sklearn/model_selection/_validation.py:548: FitFailedWarning: Estimator fit failed. The score on this train-test partition for these parameters will be set to nan. Details: \n",
      "Traceback (most recent call last):\n",
      "  File \"/Library/Frameworks/Python.framework/Versions/3.8/lib/python3.8/site-packages/sklearn/model_selection/_validation.py\", line 531, in _fit_and_score\n",
      "    estimator.fit(X_train, y_train, **fit_params)\n",
      "  File \"<ipython-input-133-ee5884797098>\", line 21, in fit\n",
      "    base_model_pred = self.base_model_pred(X)\n",
      "  File \"<ipython-input-133-ee5884797098>\", line 16, in base_model_pred\n",
      "    final_x = np.hstack((svm_pred,tree_pred,NN_pred))\n",
      "  File \"<__array_function__ internals>\", line 5, in hstack\n",
      "  File \"/Library/Frameworks/Python.framework/Versions/3.8/lib/python3.8/site-packages/numpy/core/shape_base.py\", line 338, in hstack\n",
      "    arrs = atleast_1d(*tup)\n",
      "  File \"<__array_function__ internals>\", line 5, in atleast_1d\n",
      "  File \"/Library/Frameworks/Python.framework/Versions/3.8/lib/python3.8/site-packages/numpy/core/shape_base.py\", line 67, in atleast_1d\n",
      "    ary = asanyarray(ary)\n",
      "  File \"/Library/Frameworks/Python.framework/Versions/3.8/lib/python3.8/site-packages/numpy/core/_asarray.py\", line 138, in asanyarray\n",
      "    return array(a, dtype, copy=False, order=order, subok=True)\n",
      "  File \"/Library/Frameworks/Python.framework/Versions/3.8/lib/python3.8/site-packages/torch/tensor.py\", line 630, in __array__\n",
      "    return self.numpy()\n",
      "RuntimeError: Can't call numpy() on Tensor that requires grad. Use tensor.detach().numpy() instead.\n",
      "\n",
      "  warnings.warn(\"Estimator fit failed. The score on this train-test\"\n",
      "/Library/Frameworks/Python.framework/Versions/3.8/lib/python3.8/site-packages/sklearn/model_selection/_validation.py:548: FitFailedWarning: Estimator fit failed. The score on this train-test partition for these parameters will be set to nan. Details: \n",
      "Traceback (most recent call last):\n",
      "  File \"/Library/Frameworks/Python.framework/Versions/3.8/lib/python3.8/site-packages/sklearn/model_selection/_validation.py\", line 531, in _fit_and_score\n",
      "    estimator.fit(X_train, y_train, **fit_params)\n",
      "  File \"<ipython-input-133-ee5884797098>\", line 21, in fit\n",
      "    base_model_pred = self.base_model_pred(X)\n",
      "  File \"<ipython-input-133-ee5884797098>\", line 16, in base_model_pred\n",
      "    final_x = np.hstack((svm_pred,tree_pred,NN_pred))\n",
      "  File \"<__array_function__ internals>\", line 5, in hstack\n",
      "  File \"/Library/Frameworks/Python.framework/Versions/3.8/lib/python3.8/site-packages/numpy/core/shape_base.py\", line 338, in hstack\n",
      "    arrs = atleast_1d(*tup)\n",
      "  File \"<__array_function__ internals>\", line 5, in atleast_1d\n",
      "  File \"/Library/Frameworks/Python.framework/Versions/3.8/lib/python3.8/site-packages/numpy/core/shape_base.py\", line 67, in atleast_1d\n",
      "    ary = asanyarray(ary)\n",
      "  File \"/Library/Frameworks/Python.framework/Versions/3.8/lib/python3.8/site-packages/numpy/core/_asarray.py\", line 138, in asanyarray\n",
      "    return array(a, dtype, copy=False, order=order, subok=True)\n",
      "  File \"/Library/Frameworks/Python.framework/Versions/3.8/lib/python3.8/site-packages/torch/tensor.py\", line 630, in __array__\n",
      "    return self.numpy()\n",
      "RuntimeError: Can't call numpy() on Tensor that requires grad. Use tensor.detach().numpy() instead.\n",
      "\n",
      "  warnings.warn(\"Estimator fit failed. The score on this train-test\"\n"
     ]
    }
   ],
   "source": [
    "from sklearn.model_selection import cross_val_score\n",
    "\n",
    "stackclassifier = StackingClassifier()\n",
    "\n",
    "scores = cross_val_score(stackclassifier, X_train_scaled, y_train, cv=5)"
   ]
  },
  {
   "cell_type": "code",
   "execution_count": 118,
   "metadata": {},
   "outputs": [
    {
     "name": "stdout",
     "output_type": "stream",
     "text": [
      "<class '__main__.logisticRegression'>\n"
     ]
    }
   ],
   "source": [
    "\n",
    "NN = NNClassifier(model=model)\n",
    "print(type(model))"
   ]
  },
  {
   "cell_type": "code",
   "execution_count": 119,
   "metadata": {},
   "outputs": [],
   "source": [
    "from sklearn.pipeline import make_pipeline\n",
    "from sklearn.ensemble import StackingClassifier\n",
    "from sklearn.linear_model import LogisticRegression\n",
    "\n",
    "from sklearn import svm\n",
    "from sklearn.neighbors import KNeighborsClassifier\n",
    "from sklearn.tree import DecisionTreeClassifier\n",
    "from sklearn.ensemble import RandomForestClassifier\n",
    "\n",
    "\n",
    "estimators = [\n",
    "    ('knn', KNeighborsClassifier(10)),\n",
    "    ('dt', DecisionTreeClassifier(max_depth = 30,  max_leaf_nodes = 1000, min_samples_split = 2, \n",
    "                                  min_samples_leaf = 10)),\n",
    "#     ('rf', RandomForestClassifier(max_depth = 30,  max_leaf_nodes = 1000, min_samples_split = 2, \n",
    "#                                   min_samples_leaf = 10, n_estimators = 40)),\n",
    "    ('svm', svm.SVC(decision_function_shape = 'ovo', kernel = 'rbf', C = 1, gamma = 0.5)),\n",
    "    ('nn', NN)\n",
    "     \n",
    "]\n",
    "\n",
    "clf = StackingClassifier(estimators=estimators, final_estimator=LogisticRegression())"
   ]
  },
  {
   "cell_type": "code",
   "execution_count": 120,
   "metadata": {},
   "outputs": [
    {
     "name": "stderr",
     "output_type": "stream",
     "text": [
      "/Library/Frameworks/Python.framework/Versions/3.8/lib/python3.8/site-packages/sklearn/base.py:209: FutureWarning: From version 0.24, get_params will raise an AttributeError if a parameter cannot be retrieved as an instance attribute. Previously it would return None.\n",
      "  warnings.warn('From version 0.24, get_params will raise an '\n"
     ]
    },
    {
     "name": "stdout",
     "output_type": "stream",
     "text": [
      "herere\n",
      "herere\n",
      "None\n"
     ]
    },
    {
     "name": "stderr",
     "output_type": "stream",
     "text": [
      "/Library/Frameworks/Python.framework/Versions/3.8/lib/python3.8/site-packages/sklearn/base.py:209: FutureWarning: From version 0.24, get_params will raise an AttributeError if a parameter cannot be retrieved as an instance attribute. Previously it would return None.\n",
      "  warnings.warn('From version 0.24, get_params will raise an '\n",
      "/Library/Frameworks/Python.framework/Versions/3.8/lib/python3.8/site-packages/sklearn/base.py:209: FutureWarning: From version 0.24, get_params will raise an AttributeError if a parameter cannot be retrieved as an instance attribute. Previously it would return None.\n",
      "  warnings.warn('From version 0.24, get_params will raise an '\n"
     ]
    },
    {
     "ename": "TypeError",
     "evalue": "'NoneType' object is not callable",
     "output_type": "error",
     "traceback": [
      "\u001b[0;31m---------------------------------------------------------------------------\u001b[0m",
      "\u001b[0;31mTypeError\u001b[0m                                 Traceback (most recent call last)",
      "\u001b[0;32m<ipython-input-120-5902a8422a22>\u001b[0m in \u001b[0;36m<module>\u001b[0;34m\u001b[0m\n\u001b[1;32m      1\u001b[0m \u001b[0;32mfrom\u001b[0m \u001b[0msklearn\u001b[0m\u001b[0;34m.\u001b[0m\u001b[0mmodel_selection\u001b[0m \u001b[0;32mimport\u001b[0m \u001b[0mtrain_test_split\u001b[0m\u001b[0;34m\u001b[0m\u001b[0;34m\u001b[0m\u001b[0m\n\u001b[1;32m      2\u001b[0m \u001b[0;34m\u001b[0m\u001b[0m\n\u001b[0;32m----> 3\u001b[0;31m \u001b[0mclf\u001b[0m\u001b[0;34m.\u001b[0m\u001b[0mfit\u001b[0m\u001b[0;34m(\u001b[0m\u001b[0mX_train_scaled\u001b[0m\u001b[0;34m,\u001b[0m \u001b[0my_train\u001b[0m\u001b[0;34m)\u001b[0m\u001b[0;34m\u001b[0m\u001b[0;34m\u001b[0m\u001b[0m\n\u001b[0m",
      "\u001b[0;32m/Library/Frameworks/Python.framework/Versions/3.8/lib/python3.8/site-packages/sklearn/ensemble/_stacking.py\u001b[0m in \u001b[0;36mfit\u001b[0;34m(self, X, y, sample_weight)\u001b[0m\n\u001b[1;32m    423\u001b[0m         \u001b[0mself\u001b[0m\u001b[0;34m.\u001b[0m\u001b[0m_le\u001b[0m \u001b[0;34m=\u001b[0m \u001b[0mLabelEncoder\u001b[0m\u001b[0;34m(\u001b[0m\u001b[0;34m)\u001b[0m\u001b[0;34m.\u001b[0m\u001b[0mfit\u001b[0m\u001b[0;34m(\u001b[0m\u001b[0my\u001b[0m\u001b[0;34m)\u001b[0m\u001b[0;34m\u001b[0m\u001b[0;34m\u001b[0m\u001b[0m\n\u001b[1;32m    424\u001b[0m         \u001b[0mself\u001b[0m\u001b[0;34m.\u001b[0m\u001b[0mclasses_\u001b[0m \u001b[0;34m=\u001b[0m \u001b[0mself\u001b[0m\u001b[0;34m.\u001b[0m\u001b[0m_le\u001b[0m\u001b[0;34m.\u001b[0m\u001b[0mclasses_\u001b[0m\u001b[0;34m\u001b[0m\u001b[0;34m\u001b[0m\u001b[0m\n\u001b[0;32m--> 425\u001b[0;31m         \u001b[0;32mreturn\u001b[0m \u001b[0msuper\u001b[0m\u001b[0;34m(\u001b[0m\u001b[0;34m)\u001b[0m\u001b[0;34m.\u001b[0m\u001b[0mfit\u001b[0m\u001b[0;34m(\u001b[0m\u001b[0mX\u001b[0m\u001b[0;34m,\u001b[0m \u001b[0mself\u001b[0m\u001b[0;34m.\u001b[0m\u001b[0m_le\u001b[0m\u001b[0;34m.\u001b[0m\u001b[0mtransform\u001b[0m\u001b[0;34m(\u001b[0m\u001b[0my\u001b[0m\u001b[0;34m)\u001b[0m\u001b[0;34m,\u001b[0m \u001b[0msample_weight\u001b[0m\u001b[0;34m)\u001b[0m\u001b[0;34m\u001b[0m\u001b[0;34m\u001b[0m\u001b[0m\n\u001b[0m\u001b[1;32m    426\u001b[0m \u001b[0;34m\u001b[0m\u001b[0m\n\u001b[1;32m    427\u001b[0m     \u001b[0;34m@\u001b[0m\u001b[0mif_delegate_has_method\u001b[0m\u001b[0;34m(\u001b[0m\u001b[0mdelegate\u001b[0m\u001b[0;34m=\u001b[0m\u001b[0;34m'final_estimator_'\u001b[0m\u001b[0;34m)\u001b[0m\u001b[0;34m\u001b[0m\u001b[0;34m\u001b[0m\u001b[0m\n",
      "\u001b[0;32m/Library/Frameworks/Python.framework/Versions/3.8/lib/python3.8/site-packages/sklearn/ensemble/_stacking.py\u001b[0m in \u001b[0;36mfit\u001b[0;34m(self, X, y, sample_weight)\u001b[0m\n\u001b[1;32m    176\u001b[0m                       \u001b[0;32mif\u001b[0m \u001b[0msample_weight\u001b[0m \u001b[0;32mis\u001b[0m \u001b[0;32mnot\u001b[0m \u001b[0;32mNone\u001b[0m\u001b[0;34m\u001b[0m\u001b[0;34m\u001b[0m\u001b[0m\n\u001b[1;32m    177\u001b[0m                       else None)\n\u001b[0;32m--> 178\u001b[0;31m         predictions = Parallel(n_jobs=self.n_jobs)(\n\u001b[0m\u001b[1;32m    179\u001b[0m             delayed(cross_val_predict)(clone(est), X, y, cv=deepcopy(cv),\n\u001b[1;32m    180\u001b[0m                                        \u001b[0mmethod\u001b[0m\u001b[0;34m=\u001b[0m\u001b[0mmeth\u001b[0m\u001b[0;34m,\u001b[0m \u001b[0mn_jobs\u001b[0m\u001b[0;34m=\u001b[0m\u001b[0mself\u001b[0m\u001b[0;34m.\u001b[0m\u001b[0mn_jobs\u001b[0m\u001b[0;34m,\u001b[0m\u001b[0;34m\u001b[0m\u001b[0;34m\u001b[0m\u001b[0m\n",
      "\u001b[0;32m/Library/Frameworks/Python.framework/Versions/3.8/lib/python3.8/site-packages/joblib/parallel.py\u001b[0m in \u001b[0;36m__call__\u001b[0;34m(self, iterable)\u001b[0m\n\u001b[1;32m   1030\u001b[0m                 \u001b[0mself\u001b[0m\u001b[0;34m.\u001b[0m\u001b[0m_iterating\u001b[0m \u001b[0;34m=\u001b[0m \u001b[0mself\u001b[0m\u001b[0;34m.\u001b[0m\u001b[0m_original_iterator\u001b[0m \u001b[0;32mis\u001b[0m \u001b[0;32mnot\u001b[0m \u001b[0;32mNone\u001b[0m\u001b[0;34m\u001b[0m\u001b[0;34m\u001b[0m\u001b[0m\n\u001b[1;32m   1031\u001b[0m \u001b[0;34m\u001b[0m\u001b[0m\n\u001b[0;32m-> 1032\u001b[0;31m             \u001b[0;32mwhile\u001b[0m \u001b[0mself\u001b[0m\u001b[0;34m.\u001b[0m\u001b[0mdispatch_one_batch\u001b[0m\u001b[0;34m(\u001b[0m\u001b[0miterator\u001b[0m\u001b[0;34m)\u001b[0m\u001b[0;34m:\u001b[0m\u001b[0;34m\u001b[0m\u001b[0;34m\u001b[0m\u001b[0m\n\u001b[0m\u001b[1;32m   1033\u001b[0m                 \u001b[0;32mpass\u001b[0m\u001b[0;34m\u001b[0m\u001b[0;34m\u001b[0m\u001b[0m\n\u001b[1;32m   1034\u001b[0m \u001b[0;34m\u001b[0m\u001b[0m\n",
      "\u001b[0;32m/Library/Frameworks/Python.framework/Versions/3.8/lib/python3.8/site-packages/joblib/parallel.py\u001b[0m in \u001b[0;36mdispatch_one_batch\u001b[0;34m(self, iterator)\u001b[0m\n\u001b[1;32m    845\u001b[0m                 \u001b[0;32mreturn\u001b[0m \u001b[0;32mFalse\u001b[0m\u001b[0;34m\u001b[0m\u001b[0;34m\u001b[0m\u001b[0m\n\u001b[1;32m    846\u001b[0m             \u001b[0;32melse\u001b[0m\u001b[0;34m:\u001b[0m\u001b[0;34m\u001b[0m\u001b[0;34m\u001b[0m\u001b[0m\n\u001b[0;32m--> 847\u001b[0;31m                 \u001b[0mself\u001b[0m\u001b[0;34m.\u001b[0m\u001b[0m_dispatch\u001b[0m\u001b[0;34m(\u001b[0m\u001b[0mtasks\u001b[0m\u001b[0;34m)\u001b[0m\u001b[0;34m\u001b[0m\u001b[0;34m\u001b[0m\u001b[0m\n\u001b[0m\u001b[1;32m    848\u001b[0m                 \u001b[0;32mreturn\u001b[0m \u001b[0;32mTrue\u001b[0m\u001b[0;34m\u001b[0m\u001b[0;34m\u001b[0m\u001b[0m\n\u001b[1;32m    849\u001b[0m \u001b[0;34m\u001b[0m\u001b[0m\n",
      "\u001b[0;32m/Library/Frameworks/Python.framework/Versions/3.8/lib/python3.8/site-packages/joblib/parallel.py\u001b[0m in \u001b[0;36m_dispatch\u001b[0;34m(self, batch)\u001b[0m\n\u001b[1;32m    763\u001b[0m         \u001b[0;32mwith\u001b[0m \u001b[0mself\u001b[0m\u001b[0;34m.\u001b[0m\u001b[0m_lock\u001b[0m\u001b[0;34m:\u001b[0m\u001b[0;34m\u001b[0m\u001b[0;34m\u001b[0m\u001b[0m\n\u001b[1;32m    764\u001b[0m             \u001b[0mjob_idx\u001b[0m \u001b[0;34m=\u001b[0m \u001b[0mlen\u001b[0m\u001b[0;34m(\u001b[0m\u001b[0mself\u001b[0m\u001b[0;34m.\u001b[0m\u001b[0m_jobs\u001b[0m\u001b[0;34m)\u001b[0m\u001b[0;34m\u001b[0m\u001b[0;34m\u001b[0m\u001b[0m\n\u001b[0;32m--> 765\u001b[0;31m             \u001b[0mjob\u001b[0m \u001b[0;34m=\u001b[0m \u001b[0mself\u001b[0m\u001b[0;34m.\u001b[0m\u001b[0m_backend\u001b[0m\u001b[0;34m.\u001b[0m\u001b[0mapply_async\u001b[0m\u001b[0;34m(\u001b[0m\u001b[0mbatch\u001b[0m\u001b[0;34m,\u001b[0m \u001b[0mcallback\u001b[0m\u001b[0;34m=\u001b[0m\u001b[0mcb\u001b[0m\u001b[0;34m)\u001b[0m\u001b[0;34m\u001b[0m\u001b[0;34m\u001b[0m\u001b[0m\n\u001b[0m\u001b[1;32m    766\u001b[0m             \u001b[0;31m# A job can complete so quickly than its callback is\u001b[0m\u001b[0;34m\u001b[0m\u001b[0;34m\u001b[0m\u001b[0;34m\u001b[0m\u001b[0m\n\u001b[1;32m    767\u001b[0m             \u001b[0;31m# called before we get here, causing self._jobs to\u001b[0m\u001b[0;34m\u001b[0m\u001b[0;34m\u001b[0m\u001b[0;34m\u001b[0m\u001b[0m\n",
      "\u001b[0;32m/Library/Frameworks/Python.framework/Versions/3.8/lib/python3.8/site-packages/joblib/_parallel_backends.py\u001b[0m in \u001b[0;36mapply_async\u001b[0;34m(self, func, callback)\u001b[0m\n\u001b[1;32m    204\u001b[0m     \u001b[0;32mdef\u001b[0m \u001b[0mapply_async\u001b[0m\u001b[0;34m(\u001b[0m\u001b[0mself\u001b[0m\u001b[0;34m,\u001b[0m \u001b[0mfunc\u001b[0m\u001b[0;34m,\u001b[0m \u001b[0mcallback\u001b[0m\u001b[0;34m=\u001b[0m\u001b[0;32mNone\u001b[0m\u001b[0;34m)\u001b[0m\u001b[0;34m:\u001b[0m\u001b[0;34m\u001b[0m\u001b[0;34m\u001b[0m\u001b[0m\n\u001b[1;32m    205\u001b[0m         \u001b[0;34m\"\"\"Schedule a func to be run\"\"\"\u001b[0m\u001b[0;34m\u001b[0m\u001b[0;34m\u001b[0m\u001b[0m\n\u001b[0;32m--> 206\u001b[0;31m         \u001b[0mresult\u001b[0m \u001b[0;34m=\u001b[0m \u001b[0mImmediateResult\u001b[0m\u001b[0;34m(\u001b[0m\u001b[0mfunc\u001b[0m\u001b[0;34m)\u001b[0m\u001b[0;34m\u001b[0m\u001b[0;34m\u001b[0m\u001b[0m\n\u001b[0m\u001b[1;32m    207\u001b[0m         \u001b[0;32mif\u001b[0m \u001b[0mcallback\u001b[0m\u001b[0;34m:\u001b[0m\u001b[0;34m\u001b[0m\u001b[0;34m\u001b[0m\u001b[0m\n\u001b[1;32m    208\u001b[0m             \u001b[0mcallback\u001b[0m\u001b[0;34m(\u001b[0m\u001b[0mresult\u001b[0m\u001b[0;34m)\u001b[0m\u001b[0;34m\u001b[0m\u001b[0;34m\u001b[0m\u001b[0m\n",
      "\u001b[0;32m/Library/Frameworks/Python.framework/Versions/3.8/lib/python3.8/site-packages/joblib/_parallel_backends.py\u001b[0m in \u001b[0;36m__init__\u001b[0;34m(self, batch)\u001b[0m\n\u001b[1;32m    568\u001b[0m         \u001b[0;31m# Don't delay the application, to avoid keeping the input\u001b[0m\u001b[0;34m\u001b[0m\u001b[0;34m\u001b[0m\u001b[0;34m\u001b[0m\u001b[0m\n\u001b[1;32m    569\u001b[0m         \u001b[0;31m# arguments in memory\u001b[0m\u001b[0;34m\u001b[0m\u001b[0;34m\u001b[0m\u001b[0;34m\u001b[0m\u001b[0m\n\u001b[0;32m--> 570\u001b[0;31m         \u001b[0mself\u001b[0m\u001b[0;34m.\u001b[0m\u001b[0mresults\u001b[0m \u001b[0;34m=\u001b[0m \u001b[0mbatch\u001b[0m\u001b[0;34m(\u001b[0m\u001b[0;34m)\u001b[0m\u001b[0;34m\u001b[0m\u001b[0;34m\u001b[0m\u001b[0m\n\u001b[0m\u001b[1;32m    571\u001b[0m \u001b[0;34m\u001b[0m\u001b[0m\n\u001b[1;32m    572\u001b[0m     \u001b[0;32mdef\u001b[0m \u001b[0mget\u001b[0m\u001b[0;34m(\u001b[0m\u001b[0mself\u001b[0m\u001b[0;34m)\u001b[0m\u001b[0;34m:\u001b[0m\u001b[0;34m\u001b[0m\u001b[0;34m\u001b[0m\u001b[0m\n",
      "\u001b[0;32m/Library/Frameworks/Python.framework/Versions/3.8/lib/python3.8/site-packages/joblib/parallel.py\u001b[0m in \u001b[0;36m__call__\u001b[0;34m(self)\u001b[0m\n\u001b[1;32m    250\u001b[0m         \u001b[0;31m# change the default number of processes to -1\u001b[0m\u001b[0;34m\u001b[0m\u001b[0;34m\u001b[0m\u001b[0;34m\u001b[0m\u001b[0m\n\u001b[1;32m    251\u001b[0m         \u001b[0;32mwith\u001b[0m \u001b[0mparallel_backend\u001b[0m\u001b[0;34m(\u001b[0m\u001b[0mself\u001b[0m\u001b[0;34m.\u001b[0m\u001b[0m_backend\u001b[0m\u001b[0;34m,\u001b[0m \u001b[0mn_jobs\u001b[0m\u001b[0;34m=\u001b[0m\u001b[0mself\u001b[0m\u001b[0;34m.\u001b[0m\u001b[0m_n_jobs\u001b[0m\u001b[0;34m)\u001b[0m\u001b[0;34m:\u001b[0m\u001b[0;34m\u001b[0m\u001b[0;34m\u001b[0m\u001b[0m\n\u001b[0;32m--> 252\u001b[0;31m             return [func(*args, **kwargs)\n\u001b[0m\u001b[1;32m    253\u001b[0m                     for func, args, kwargs in self.items]\n\u001b[1;32m    254\u001b[0m \u001b[0;34m\u001b[0m\u001b[0m\n",
      "\u001b[0;32m/Library/Frameworks/Python.framework/Versions/3.8/lib/python3.8/site-packages/joblib/parallel.py\u001b[0m in \u001b[0;36m<listcomp>\u001b[0;34m(.0)\u001b[0m\n\u001b[1;32m    250\u001b[0m         \u001b[0;31m# change the default number of processes to -1\u001b[0m\u001b[0;34m\u001b[0m\u001b[0;34m\u001b[0m\u001b[0;34m\u001b[0m\u001b[0m\n\u001b[1;32m    251\u001b[0m         \u001b[0;32mwith\u001b[0m \u001b[0mparallel_backend\u001b[0m\u001b[0;34m(\u001b[0m\u001b[0mself\u001b[0m\u001b[0;34m.\u001b[0m\u001b[0m_backend\u001b[0m\u001b[0;34m,\u001b[0m \u001b[0mn_jobs\u001b[0m\u001b[0;34m=\u001b[0m\u001b[0mself\u001b[0m\u001b[0;34m.\u001b[0m\u001b[0m_n_jobs\u001b[0m\u001b[0;34m)\u001b[0m\u001b[0;34m:\u001b[0m\u001b[0;34m\u001b[0m\u001b[0;34m\u001b[0m\u001b[0m\n\u001b[0;32m--> 252\u001b[0;31m             return [func(*args, **kwargs)\n\u001b[0m\u001b[1;32m    253\u001b[0m                     for func, args, kwargs in self.items]\n\u001b[1;32m    254\u001b[0m \u001b[0;34m\u001b[0m\u001b[0m\n",
      "\u001b[0;32m/Library/Frameworks/Python.framework/Versions/3.8/lib/python3.8/site-packages/sklearn/utils/validation.py\u001b[0m in \u001b[0;36minner_f\u001b[0;34m(*args, **kwargs)\u001b[0m\n\u001b[1;32m     71\u001b[0m                           FutureWarning)\n\u001b[1;32m     72\u001b[0m         \u001b[0mkwargs\u001b[0m\u001b[0;34m.\u001b[0m\u001b[0mupdate\u001b[0m\u001b[0;34m(\u001b[0m\u001b[0;34m{\u001b[0m\u001b[0mk\u001b[0m\u001b[0;34m:\u001b[0m \u001b[0marg\u001b[0m \u001b[0;32mfor\u001b[0m \u001b[0mk\u001b[0m\u001b[0;34m,\u001b[0m \u001b[0marg\u001b[0m \u001b[0;32min\u001b[0m \u001b[0mzip\u001b[0m\u001b[0;34m(\u001b[0m\u001b[0msig\u001b[0m\u001b[0;34m.\u001b[0m\u001b[0mparameters\u001b[0m\u001b[0;34m,\u001b[0m \u001b[0margs\u001b[0m\u001b[0;34m)\u001b[0m\u001b[0;34m}\u001b[0m\u001b[0;34m)\u001b[0m\u001b[0;34m\u001b[0m\u001b[0;34m\u001b[0m\u001b[0m\n\u001b[0;32m---> 73\u001b[0;31m         \u001b[0;32mreturn\u001b[0m \u001b[0mf\u001b[0m\u001b[0;34m(\u001b[0m\u001b[0;34m**\u001b[0m\u001b[0mkwargs\u001b[0m\u001b[0;34m)\u001b[0m\u001b[0;34m\u001b[0m\u001b[0;34m\u001b[0m\u001b[0m\n\u001b[0m\u001b[1;32m     74\u001b[0m     \u001b[0;32mreturn\u001b[0m \u001b[0minner_f\u001b[0m\u001b[0;34m\u001b[0m\u001b[0;34m\u001b[0m\u001b[0m\n\u001b[1;32m     75\u001b[0m \u001b[0;34m\u001b[0m\u001b[0m\n",
      "\u001b[0;32m/Library/Frameworks/Python.framework/Versions/3.8/lib/python3.8/site-packages/sklearn/model_selection/_validation.py\u001b[0m in \u001b[0;36mcross_val_predict\u001b[0;34m(estimator, X, y, groups, cv, n_jobs, verbose, fit_params, pre_dispatch, method)\u001b[0m\n\u001b[1;32m    769\u001b[0m     parallel = Parallel(n_jobs=n_jobs, verbose=verbose,\n\u001b[1;32m    770\u001b[0m                         pre_dispatch=pre_dispatch)\n\u001b[0;32m--> 771\u001b[0;31m     prediction_blocks = parallel(delayed(_fit_and_predict)(\n\u001b[0m\u001b[1;32m    772\u001b[0m         clone(estimator), X, y, train, test, verbose, fit_params, method)\n\u001b[1;32m    773\u001b[0m         for train, test in cv.split(X, y, groups))\n",
      "\u001b[0;32m/Library/Frameworks/Python.framework/Versions/3.8/lib/python3.8/site-packages/joblib/parallel.py\u001b[0m in \u001b[0;36m__call__\u001b[0;34m(self, iterable)\u001b[0m\n\u001b[1;32m   1027\u001b[0m             \u001b[0;31m# remaining jobs.\u001b[0m\u001b[0;34m\u001b[0m\u001b[0;34m\u001b[0m\u001b[0;34m\u001b[0m\u001b[0m\n\u001b[1;32m   1028\u001b[0m             \u001b[0mself\u001b[0m\u001b[0;34m.\u001b[0m\u001b[0m_iterating\u001b[0m \u001b[0;34m=\u001b[0m \u001b[0;32mFalse\u001b[0m\u001b[0;34m\u001b[0m\u001b[0;34m\u001b[0m\u001b[0m\n\u001b[0;32m-> 1029\u001b[0;31m             \u001b[0;32mif\u001b[0m \u001b[0mself\u001b[0m\u001b[0;34m.\u001b[0m\u001b[0mdispatch_one_batch\u001b[0m\u001b[0;34m(\u001b[0m\u001b[0miterator\u001b[0m\u001b[0;34m)\u001b[0m\u001b[0;34m:\u001b[0m\u001b[0;34m\u001b[0m\u001b[0;34m\u001b[0m\u001b[0m\n\u001b[0m\u001b[1;32m   1030\u001b[0m                 \u001b[0mself\u001b[0m\u001b[0;34m.\u001b[0m\u001b[0m_iterating\u001b[0m \u001b[0;34m=\u001b[0m \u001b[0mself\u001b[0m\u001b[0;34m.\u001b[0m\u001b[0m_original_iterator\u001b[0m \u001b[0;32mis\u001b[0m \u001b[0;32mnot\u001b[0m \u001b[0;32mNone\u001b[0m\u001b[0;34m\u001b[0m\u001b[0;34m\u001b[0m\u001b[0m\n\u001b[1;32m   1031\u001b[0m \u001b[0;34m\u001b[0m\u001b[0m\n",
      "\u001b[0;32m/Library/Frameworks/Python.framework/Versions/3.8/lib/python3.8/site-packages/joblib/parallel.py\u001b[0m in \u001b[0;36mdispatch_one_batch\u001b[0;34m(self, iterator)\u001b[0m\n\u001b[1;32m    845\u001b[0m                 \u001b[0;32mreturn\u001b[0m \u001b[0;32mFalse\u001b[0m\u001b[0;34m\u001b[0m\u001b[0;34m\u001b[0m\u001b[0m\n\u001b[1;32m    846\u001b[0m             \u001b[0;32melse\u001b[0m\u001b[0;34m:\u001b[0m\u001b[0;34m\u001b[0m\u001b[0;34m\u001b[0m\u001b[0m\n\u001b[0;32m--> 847\u001b[0;31m                 \u001b[0mself\u001b[0m\u001b[0;34m.\u001b[0m\u001b[0m_dispatch\u001b[0m\u001b[0;34m(\u001b[0m\u001b[0mtasks\u001b[0m\u001b[0;34m)\u001b[0m\u001b[0;34m\u001b[0m\u001b[0;34m\u001b[0m\u001b[0m\n\u001b[0m\u001b[1;32m    848\u001b[0m                 \u001b[0;32mreturn\u001b[0m \u001b[0;32mTrue\u001b[0m\u001b[0;34m\u001b[0m\u001b[0;34m\u001b[0m\u001b[0m\n\u001b[1;32m    849\u001b[0m \u001b[0;34m\u001b[0m\u001b[0m\n",
      "\u001b[0;32m/Library/Frameworks/Python.framework/Versions/3.8/lib/python3.8/site-packages/joblib/parallel.py\u001b[0m in \u001b[0;36m_dispatch\u001b[0;34m(self, batch)\u001b[0m\n\u001b[1;32m    763\u001b[0m         \u001b[0;32mwith\u001b[0m \u001b[0mself\u001b[0m\u001b[0;34m.\u001b[0m\u001b[0m_lock\u001b[0m\u001b[0;34m:\u001b[0m\u001b[0;34m\u001b[0m\u001b[0;34m\u001b[0m\u001b[0m\n\u001b[1;32m    764\u001b[0m             \u001b[0mjob_idx\u001b[0m \u001b[0;34m=\u001b[0m \u001b[0mlen\u001b[0m\u001b[0;34m(\u001b[0m\u001b[0mself\u001b[0m\u001b[0;34m.\u001b[0m\u001b[0m_jobs\u001b[0m\u001b[0;34m)\u001b[0m\u001b[0;34m\u001b[0m\u001b[0;34m\u001b[0m\u001b[0m\n\u001b[0;32m--> 765\u001b[0;31m             \u001b[0mjob\u001b[0m \u001b[0;34m=\u001b[0m \u001b[0mself\u001b[0m\u001b[0;34m.\u001b[0m\u001b[0m_backend\u001b[0m\u001b[0;34m.\u001b[0m\u001b[0mapply_async\u001b[0m\u001b[0;34m(\u001b[0m\u001b[0mbatch\u001b[0m\u001b[0;34m,\u001b[0m \u001b[0mcallback\u001b[0m\u001b[0;34m=\u001b[0m\u001b[0mcb\u001b[0m\u001b[0;34m)\u001b[0m\u001b[0;34m\u001b[0m\u001b[0;34m\u001b[0m\u001b[0m\n\u001b[0m\u001b[1;32m    766\u001b[0m             \u001b[0;31m# A job can complete so quickly than its callback is\u001b[0m\u001b[0;34m\u001b[0m\u001b[0;34m\u001b[0m\u001b[0;34m\u001b[0m\u001b[0m\n\u001b[1;32m    767\u001b[0m             \u001b[0;31m# called before we get here, causing self._jobs to\u001b[0m\u001b[0;34m\u001b[0m\u001b[0;34m\u001b[0m\u001b[0;34m\u001b[0m\u001b[0m\n",
      "\u001b[0;32m/Library/Frameworks/Python.framework/Versions/3.8/lib/python3.8/site-packages/joblib/_parallel_backends.py\u001b[0m in \u001b[0;36mapply_async\u001b[0;34m(self, func, callback)\u001b[0m\n\u001b[1;32m    204\u001b[0m     \u001b[0;32mdef\u001b[0m \u001b[0mapply_async\u001b[0m\u001b[0;34m(\u001b[0m\u001b[0mself\u001b[0m\u001b[0;34m,\u001b[0m \u001b[0mfunc\u001b[0m\u001b[0;34m,\u001b[0m \u001b[0mcallback\u001b[0m\u001b[0;34m=\u001b[0m\u001b[0;32mNone\u001b[0m\u001b[0;34m)\u001b[0m\u001b[0;34m:\u001b[0m\u001b[0;34m\u001b[0m\u001b[0;34m\u001b[0m\u001b[0m\n\u001b[1;32m    205\u001b[0m         \u001b[0;34m\"\"\"Schedule a func to be run\"\"\"\u001b[0m\u001b[0;34m\u001b[0m\u001b[0;34m\u001b[0m\u001b[0m\n\u001b[0;32m--> 206\u001b[0;31m         \u001b[0mresult\u001b[0m \u001b[0;34m=\u001b[0m \u001b[0mImmediateResult\u001b[0m\u001b[0;34m(\u001b[0m\u001b[0mfunc\u001b[0m\u001b[0;34m)\u001b[0m\u001b[0;34m\u001b[0m\u001b[0;34m\u001b[0m\u001b[0m\n\u001b[0m\u001b[1;32m    207\u001b[0m         \u001b[0;32mif\u001b[0m \u001b[0mcallback\u001b[0m\u001b[0;34m:\u001b[0m\u001b[0;34m\u001b[0m\u001b[0;34m\u001b[0m\u001b[0m\n\u001b[1;32m    208\u001b[0m             \u001b[0mcallback\u001b[0m\u001b[0;34m(\u001b[0m\u001b[0mresult\u001b[0m\u001b[0;34m)\u001b[0m\u001b[0;34m\u001b[0m\u001b[0;34m\u001b[0m\u001b[0m\n",
      "\u001b[0;32m/Library/Frameworks/Python.framework/Versions/3.8/lib/python3.8/site-packages/joblib/_parallel_backends.py\u001b[0m in \u001b[0;36m__init__\u001b[0;34m(self, batch)\u001b[0m\n\u001b[1;32m    568\u001b[0m         \u001b[0;31m# Don't delay the application, to avoid keeping the input\u001b[0m\u001b[0;34m\u001b[0m\u001b[0;34m\u001b[0m\u001b[0;34m\u001b[0m\u001b[0m\n\u001b[1;32m    569\u001b[0m         \u001b[0;31m# arguments in memory\u001b[0m\u001b[0;34m\u001b[0m\u001b[0;34m\u001b[0m\u001b[0;34m\u001b[0m\u001b[0m\n\u001b[0;32m--> 570\u001b[0;31m         \u001b[0mself\u001b[0m\u001b[0;34m.\u001b[0m\u001b[0mresults\u001b[0m \u001b[0;34m=\u001b[0m \u001b[0mbatch\u001b[0m\u001b[0;34m(\u001b[0m\u001b[0;34m)\u001b[0m\u001b[0;34m\u001b[0m\u001b[0;34m\u001b[0m\u001b[0m\n\u001b[0m\u001b[1;32m    571\u001b[0m \u001b[0;34m\u001b[0m\u001b[0m\n\u001b[1;32m    572\u001b[0m     \u001b[0;32mdef\u001b[0m \u001b[0mget\u001b[0m\u001b[0;34m(\u001b[0m\u001b[0mself\u001b[0m\u001b[0;34m)\u001b[0m\u001b[0;34m:\u001b[0m\u001b[0;34m\u001b[0m\u001b[0;34m\u001b[0m\u001b[0m\n",
      "\u001b[0;32m/Library/Frameworks/Python.framework/Versions/3.8/lib/python3.8/site-packages/joblib/parallel.py\u001b[0m in \u001b[0;36m__call__\u001b[0;34m(self)\u001b[0m\n\u001b[1;32m    250\u001b[0m         \u001b[0;31m# change the default number of processes to -1\u001b[0m\u001b[0;34m\u001b[0m\u001b[0;34m\u001b[0m\u001b[0;34m\u001b[0m\u001b[0m\n\u001b[1;32m    251\u001b[0m         \u001b[0;32mwith\u001b[0m \u001b[0mparallel_backend\u001b[0m\u001b[0;34m(\u001b[0m\u001b[0mself\u001b[0m\u001b[0;34m.\u001b[0m\u001b[0m_backend\u001b[0m\u001b[0;34m,\u001b[0m \u001b[0mn_jobs\u001b[0m\u001b[0;34m=\u001b[0m\u001b[0mself\u001b[0m\u001b[0;34m.\u001b[0m\u001b[0m_n_jobs\u001b[0m\u001b[0;34m)\u001b[0m\u001b[0;34m:\u001b[0m\u001b[0;34m\u001b[0m\u001b[0;34m\u001b[0m\u001b[0m\n\u001b[0;32m--> 252\u001b[0;31m             return [func(*args, **kwargs)\n\u001b[0m\u001b[1;32m    253\u001b[0m                     for func, args, kwargs in self.items]\n\u001b[1;32m    254\u001b[0m \u001b[0;34m\u001b[0m\u001b[0m\n",
      "\u001b[0;32m/Library/Frameworks/Python.framework/Versions/3.8/lib/python3.8/site-packages/joblib/parallel.py\u001b[0m in \u001b[0;36m<listcomp>\u001b[0;34m(.0)\u001b[0m\n\u001b[1;32m    250\u001b[0m         \u001b[0;31m# change the default number of processes to -1\u001b[0m\u001b[0;34m\u001b[0m\u001b[0;34m\u001b[0m\u001b[0;34m\u001b[0m\u001b[0m\n\u001b[1;32m    251\u001b[0m         \u001b[0;32mwith\u001b[0m \u001b[0mparallel_backend\u001b[0m\u001b[0;34m(\u001b[0m\u001b[0mself\u001b[0m\u001b[0;34m.\u001b[0m\u001b[0m_backend\u001b[0m\u001b[0;34m,\u001b[0m \u001b[0mn_jobs\u001b[0m\u001b[0;34m=\u001b[0m\u001b[0mself\u001b[0m\u001b[0;34m.\u001b[0m\u001b[0m_n_jobs\u001b[0m\u001b[0;34m)\u001b[0m\u001b[0;34m:\u001b[0m\u001b[0;34m\u001b[0m\u001b[0;34m\u001b[0m\u001b[0m\n\u001b[0;32m--> 252\u001b[0;31m             return [func(*args, **kwargs)\n\u001b[0m\u001b[1;32m    253\u001b[0m                     for func, args, kwargs in self.items]\n\u001b[1;32m    254\u001b[0m \u001b[0;34m\u001b[0m\u001b[0m\n",
      "\u001b[0;32m/Library/Frameworks/Python.framework/Versions/3.8/lib/python3.8/site-packages/sklearn/model_selection/_validation.py\u001b[0m in \u001b[0;36m_fit_and_predict\u001b[0;34m(estimator, X, y, train, test, verbose, fit_params, method)\u001b[0m\n\u001b[1;32m    862\u001b[0m         \u001b[0mestimator\u001b[0m\u001b[0;34m.\u001b[0m\u001b[0mfit\u001b[0m\u001b[0;34m(\u001b[0m\u001b[0mX_train\u001b[0m\u001b[0;34m,\u001b[0m \u001b[0my_train\u001b[0m\u001b[0;34m,\u001b[0m \u001b[0;34m**\u001b[0m\u001b[0mfit_params\u001b[0m\u001b[0;34m)\u001b[0m\u001b[0;34m\u001b[0m\u001b[0;34m\u001b[0m\u001b[0m\n\u001b[1;32m    863\u001b[0m     \u001b[0mfunc\u001b[0m \u001b[0;34m=\u001b[0m \u001b[0mgetattr\u001b[0m\u001b[0;34m(\u001b[0m\u001b[0mestimator\u001b[0m\u001b[0;34m,\u001b[0m \u001b[0mmethod\u001b[0m\u001b[0;34m)\u001b[0m\u001b[0;34m\u001b[0m\u001b[0;34m\u001b[0m\u001b[0m\n\u001b[0;32m--> 864\u001b[0;31m     \u001b[0mpredictions\u001b[0m \u001b[0;34m=\u001b[0m \u001b[0mfunc\u001b[0m\u001b[0;34m(\u001b[0m\u001b[0mX_test\u001b[0m\u001b[0;34m)\u001b[0m\u001b[0;34m\u001b[0m\u001b[0;34m\u001b[0m\u001b[0m\n\u001b[0m\u001b[1;32m    865\u001b[0m \u001b[0;34m\u001b[0m\u001b[0m\n\u001b[1;32m    866\u001b[0m     encode = method in ['decision_function', 'predict_proba',\n",
      "\u001b[0;32m<ipython-input-117-d91806c09e01>\u001b[0m in \u001b[0;36mpredict\u001b[0;34m(self, X)\u001b[0m\n\u001b[1;32m     11\u001b[0m         \u001b[0mX_tensor\u001b[0m \u001b[0;34m=\u001b[0m \u001b[0mtorch\u001b[0m\u001b[0;34m.\u001b[0m\u001b[0mfrom_numpy\u001b[0m\u001b[0;34m(\u001b[0m\u001b[0mnp\u001b[0m\u001b[0;34m.\u001b[0m\u001b[0masarray\u001b[0m\u001b[0;34m(\u001b[0m\u001b[0mX\u001b[0m\u001b[0;34m)\u001b[0m\u001b[0;34m)\u001b[0m\u001b[0;34m.\u001b[0m\u001b[0mfloat\u001b[0m\u001b[0;34m(\u001b[0m\u001b[0;34m)\u001b[0m\u001b[0;34m\u001b[0m\u001b[0;34m\u001b[0m\u001b[0m\n\u001b[1;32m     12\u001b[0m         \u001b[0mprint\u001b[0m\u001b[0;34m(\u001b[0m\u001b[0mself\u001b[0m\u001b[0;34m.\u001b[0m\u001b[0m_model\u001b[0m\u001b[0;34m)\u001b[0m\u001b[0;34m\u001b[0m\u001b[0;34m\u001b[0m\u001b[0m\n\u001b[0;32m---> 13\u001b[0;31m         \u001b[0my_pred\u001b[0m \u001b[0;34m=\u001b[0m \u001b[0mself\u001b[0m\u001b[0;34m.\u001b[0m\u001b[0m_model\u001b[0m\u001b[0;34m(\u001b[0m\u001b[0mX_tensor\u001b[0m\u001b[0;34m)\u001b[0m\u001b[0;34m\u001b[0m\u001b[0;34m\u001b[0m\u001b[0m\n\u001b[0m\u001b[1;32m     14\u001b[0m         \u001b[0;32mreturn\u001b[0m \u001b[0my_pred\u001b[0m\u001b[0;34m\u001b[0m\u001b[0;34m\u001b[0m\u001b[0m\n",
      "\u001b[0;31mTypeError\u001b[0m: 'NoneType' object is not callable"
     ]
    }
   ],
   "source": [
    "from sklearn.model_selection import train_test_split\n",
    "\n",
    "clf.fit(X_train_scaled, y_train)"
   ]
  },
  {
   "cell_type": "code",
   "execution_count": null,
   "metadata": {},
   "outputs": [],
   "source": []
  }
 ],
 "metadata": {
  "kernelspec": {
   "display_name": "Python 3",
   "language": "python",
   "name": "python3"
  },
  "language_info": {
   "codemirror_mode": {
    "name": "ipython",
    "version": 3
   },
   "file_extension": ".py",
   "mimetype": "text/x-python",
   "name": "python",
   "nbconvert_exporter": "python",
   "pygments_lexer": "ipython3",
   "version": "3.8.1"
  }
 },
 "nbformat": 4,
 "nbformat_minor": 4
}

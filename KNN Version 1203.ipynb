{
 "cells": [
  {
   "cell_type": "markdown",
   "metadata": {},
   "source": [
    "# KNN (max, min, selected, full columns)"
   ]
  },
  {
   "cell_type": "code",
   "execution_count": 1,
   "metadata": {},
   "outputs": [],
   "source": [
    "import pandas as pd\n",
    "import numpy as np\n",
    "from matplotlib import pyplot as plt\n",
    "\n",
    "data = pd.read_csv(\"formated_data_1111.csv\")\n",
    "data.head()\n",
    "\n",
    "# Min_Max scaler for GDP\n",
    "data['GDP'] = (data['GDP per capita'] - \n",
    "               data['GDP per capita'].min())/(data['GDP per capita'].max() - data['GDP per capita'].min())\n",
    "\n",
    "data_1 = data[['intern_num','max_sal','min_sal','GDP per capita','GDP','month_num','day','2000','500-2000','50-500','<50','互联网','教育','房产','广告','金融','企业服务','快消','电子','医疗','汽车']]\n",
    "data_1\n",
    "\n",
    "#确定 X和 y\n",
    "\n",
    "X = data_1[['intern_num','GDP per capita','month_num','day','2000','500-2000','50-500','<50','互联网','教育','房产','广告','金融','企业服务','快消','电子','医疗','汽车']]\n",
    "y = data_1['max_sal']"
   ]
  },
  {
   "cell_type": "markdown",
   "metadata": {},
   "source": [
    "## 1.1 Max Salary for selected columns"
   ]
  },
  {
   "cell_type": "code",
   "execution_count": 2,
   "metadata": {},
   "outputs": [
    {
     "data": {
      "text/plain": [
       "(array([1004.,    0.,    0., 1545.,    0.,    0., 1434.,    0.,    0.,\n",
       "         967.]),\n",
       " array([0. , 0.3, 0.6, 0.9, 1.2, 1.5, 1.8, 2.1, 2.4, 2.7, 3. ]),\n",
       " <a list of 10 Patch objects>)"
      ]
     },
     "execution_count": 2,
     "metadata": {},
     "output_type": "execute_result"
    },
    {
     "data": {
      "image/png": "[encoded data removed]",
      "text/plain": [
       "<Figure size 432x288 with 1 Axes>"
      ]
     },
     "metadata": {
      "needs_background": "light"
     },
     "output_type": "display_data"
    }
   ],
   "source": [
    "# Label the max salary (4 classes)\n",
    "\n",
    "label = []\n",
    "max_sal = data['max_sal'].to_numpy()\n",
    "for i in max_sal:\n",
    "    if i in range(0,150):\n",
    "        label.append(0)\n",
    "    elif i in range(150,175):\n",
    "        label.append(1)\n",
    "    elif i in range(175,250):\n",
    "        label.append(2)\n",
    "    else:\n",
    "        label.append(3)\n",
    "y = np.array(label)\n",
    "y.reshape(len(label),1)\n",
    "plt.hist(y)"
   ]
  },
  {
   "cell_type": "code",
   "execution_count": 3,
   "metadata": {},
   "outputs": [],
   "source": [
    "from sklearn.tree import DecisionTreeClassifier\n",
    "from sklearn.metrics import accuracy_score, mean_squared_error\n",
    "from sklearn.preprocessing import MinMaxScaler\n",
    "from sklearn.tree import DecisionTreeClassifier\n",
    "from sklearn.metrics import accuracy_score, mean_squared_error\n",
    "from sklearn.model_selection import train_test_split\n",
    "\n",
    "# Divide into train and test set\n",
    "X_train, X_test, y_train, y_test = train_test_split(X, y, test_size=0.2, shuffle = True, random_state=0)\n",
    "\n",
    "scaler = MinMaxScaler().fit(X_train)\n",
    "\n",
    "X_train_scaled = scaler.transform(X_train)\n",
    "X_test_scaled = scaler.transform(X_test)"
   ]
  },
  {
   "cell_type": "code",
   "execution_count": 4,
   "metadata": {},
   "outputs": [
    {
     "name": "stdout",
     "output_type": "stream",
     "text": [
      "0.5070707070707071\n"
     ]
    },
    {
     "data": {
      "image/png": "[encoded data removed]",
      "text/plain": [
       "<Figure size 432x288 with 1 Axes>"
      ]
     },
     "metadata": {
      "needs_background": "light"
     },
     "output_type": "display_data"
    }
   ],
   "source": [
    "from sklearn.neighbors import KNeighborsClassifier\n",
    "from sklearn.metrics import accuracy_score\n",
    "\n",
    "acc_train = []\n",
    "acc_test  = []\n",
    "\n",
    "for i in range(1,51):\n",
    "    model = KNeighborsClassifier(i)\n",
    "    model.fit(X_train_scaled, y_train)\n",
    "    y_pred = model.predict(X_test_scaled)\n",
    "    acc_test.append(accuracy_score(y_pred,y_test))\n",
    "    y_pred = model.predict(X_train_scaled)\n",
    "    acc_train.append(accuracy_score(y_pred,y_train))\n",
    "    \n",
    "%matplotlib inline\n",
    "\n",
    "plt.plot(acc_train,'x',label=\"train\");\n",
    "plt.plot(acc_test,'o',label=\"test\");\n",
    "plt.xlabel('$k$'); plt.ylabel('Accuracy')\n",
    "plt.legend();\n",
    "print(max(acc_test))"
   ]
  },
  {
   "cell_type": "markdown",
   "metadata": {},
   "source": [
    "## 1.2 Min Salary for selected columns"
   ]
  },
  {
   "cell_type": "code",
   "execution_count": 5,
   "metadata": {},
   "outputs": [],
   "source": [
    "#For min Salary"
   ]
  },
  {
   "cell_type": "code",
   "execution_count": 6,
   "metadata": {},
   "outputs": [
    {
     "data": {
      "text/plain": [
       "(array([ 659.,    0.,    0., 1550.,    0.,    0.,  872.,    0.,    0.,\n",
       "        1869.]),\n",
       " array([0. , 0.3, 0.6, 0.9, 1.2, 1.5, 1.8, 2.1, 2.4, 2.7, 3. ]),\n",
       " <a list of 10 Patch objects>)"
      ]
     },
     "execution_count": 6,
     "metadata": {},
     "output_type": "execute_result"
    },
    {
     "data": {
      "image/png": "[encoded data removed]",
      "text/plain": [
       "<Figure size 432x288 with 1 Axes>"
      ]
     },
     "metadata": {
      "needs_background": "light"
     },
     "output_type": "display_data"
    }
   ],
   "source": [
    "label = []\n",
    "min_sal = data['min_sal'].to_numpy()\n",
    "for i in min_sal:\n",
    "    if i in range(0,100):\n",
    "        label.append(0)\n",
    "    elif i in range(100,120):\n",
    "        label.append(1)\n",
    "    elif i in range(120,150):\n",
    "        label.append(2)\n",
    "    else:\n",
    "        label.append(3)\n",
    "y = np.array(label)\n",
    "y.reshape(len(label),1)\n",
    "plt.hist(y)"
   ]
  },
  {
   "cell_type": "code",
   "execution_count": 8,
   "metadata": {
    "scrolled": true
   },
   "outputs": [
    {
     "name": "stdout",
     "output_type": "stream",
     "text": [
      "0.5363636363636364\n"
     ]
    },
    {
     "data": {
      "image/png": "[encoded data removed]",
      "text/plain": [
       "<Figure size 432x288 with 1 Axes>"
      ]
     },
     "metadata": {
      "needs_background": "light"
     },
     "output_type": "display_data"
    }
   ],
   "source": [
    "X_train, X_test, y_train, y_test = train_test_split(X, y, test_size=0.2, shuffle = True, random_state=0)\n",
    "\n",
    "scaler = MinMaxScaler().fit(X_train)\n",
    "\n",
    "X_train_scaled = scaler.transform(X_train)\n",
    "X_test_scaled = scaler.transform(X_test)\n",
    "\n",
    "acc_train = []\n",
    "acc_test  = []\n",
    "\n",
    "for i in range(1,51):\n",
    "    model = KNeighborsClassifier(i)\n",
    "    model.fit(X_train_scaled, y_train)\n",
    "    y_pred = model.predict(X_test_scaled)\n",
    "    acc_test.append(accuracy_score(y_pred,y_test))\n",
    "    y_pred = model.predict(X_train_scaled)\n",
    "    acc_train.append(accuracy_score(y_pred,y_train))\n",
    "    \n",
    "%matplotlib inline\n",
    "\n",
    "plt.plot(acc_train,'x',label=\"train\");\n",
    "plt.plot(acc_test,'o',label=\"test\");\n",
    "plt.xlabel('$k$'); plt.ylabel('Accuracy')\n",
    "plt.legend();\n",
    "print(max(acc_test))"
   ]
  },
  {
   "cell_type": "markdown",
   "metadata": {},
   "source": [
    "## 2.1 Max Salarey for all columns"
   ]
  },
  {
   "cell_type": "code",
   "execution_count": 9,
   "metadata": {},
   "outputs": [],
   "source": [
    "# Try full columns"
   ]
  },
  {
   "cell_type": "code",
   "execution_count": 10,
   "metadata": {},
   "outputs": [
    {
     "data": {
      "text/html": [
       "<div>\n",
       "<style scoped>\n",
       "    .dataframe tbody tr th:only-of-type {\n",
       "        vertical-align: middle;\n",
       "    }\n",
       "\n",
       "    .dataframe tbody tr th {\n",
       "        vertical-align: top;\n",
       "    }\n",
       "\n",
       "    .dataframe thead th {\n",
       "        text-align: right;\n",
       "    }\n",
       "</style>\n",
       "<table border=\"1\" class=\"dataframe\">\n",
       "  <thead>\n",
       "    <tr style=\"text-align: right;\">\n",
       "      <th></th>\n",
       "      <th>intern_num</th>\n",
       "      <th>month_num</th>\n",
       "      <th>day</th>\n",
       "      <th>2000</th>\n",
       "      <th>500-2000</th>\n",
       "      <th>50-500</th>\n",
       "      <th>&lt;50</th>\n",
       "      <th>互联网</th>\n",
       "      <th>教育</th>\n",
       "      <th>房产</th>\n",
       "      <th>...</th>\n",
       "      <th>媒体</th>\n",
       "      <th>内容</th>\n",
       "      <th>专员</th>\n",
       "      <th>产品</th>\n",
       "      <th>销售</th>\n",
       "      <th>开发</th>\n",
       "      <th>工程师</th>\n",
       "      <th>助理</th>\n",
       "      <th>运营</th>\n",
       "      <th>GDP per capita</th>\n",
       "    </tr>\n",
       "  </thead>\n",
       "  <tbody>\n",
       "    <tr>\n",
       "      <th>0</th>\n",
       "      <td>176</td>\n",
       "      <td>3</td>\n",
       "      <td>3</td>\n",
       "      <td>1</td>\n",
       "      <td>0</td>\n",
       "      <td>0</td>\n",
       "      <td>0</td>\n",
       "      <td>1</td>\n",
       "      <td>0</td>\n",
       "      <td>0</td>\n",
       "      <td>...</td>\n",
       "      <td>0</td>\n",
       "      <td>0</td>\n",
       "      <td>0</td>\n",
       "      <td>0</td>\n",
       "      <td>0</td>\n",
       "      <td>0</td>\n",
       "      <td>0</td>\n",
       "      <td>0</td>\n",
       "      <td>0</td>\n",
       "      <td>162518.5736</td>\n",
       "    </tr>\n",
       "    <tr>\n",
       "      <th>1</th>\n",
       "      <td>390</td>\n",
       "      <td>3</td>\n",
       "      <td>5</td>\n",
       "      <td>1</td>\n",
       "      <td>0</td>\n",
       "      <td>0</td>\n",
       "      <td>0</td>\n",
       "      <td>1</td>\n",
       "      <td>0</td>\n",
       "      <td>0</td>\n",
       "      <td>...</td>\n",
       "      <td>0</td>\n",
       "      <td>0</td>\n",
       "      <td>0</td>\n",
       "      <td>0</td>\n",
       "      <td>0</td>\n",
       "      <td>0</td>\n",
       "      <td>0</td>\n",
       "      <td>0</td>\n",
       "      <td>0</td>\n",
       "      <td>162518.5736</td>\n",
       "    </tr>\n",
       "    <tr>\n",
       "      <th>2</th>\n",
       "      <td>44</td>\n",
       "      <td>5</td>\n",
       "      <td>4</td>\n",
       "      <td>1</td>\n",
       "      <td>0</td>\n",
       "      <td>0</td>\n",
       "      <td>0</td>\n",
       "      <td>1</td>\n",
       "      <td>0</td>\n",
       "      <td>0</td>\n",
       "      <td>...</td>\n",
       "      <td>0</td>\n",
       "      <td>0</td>\n",
       "      <td>0</td>\n",
       "      <td>0</td>\n",
       "      <td>0</td>\n",
       "      <td>1</td>\n",
       "      <td>1</td>\n",
       "      <td>0</td>\n",
       "      <td>0</td>\n",
       "      <td>162518.5736</td>\n",
       "    </tr>\n",
       "    <tr>\n",
       "      <th>3</th>\n",
       "      <td>486</td>\n",
       "      <td>4</td>\n",
       "      <td>5</td>\n",
       "      <td>1</td>\n",
       "      <td>0</td>\n",
       "      <td>0</td>\n",
       "      <td>0</td>\n",
       "      <td>1</td>\n",
       "      <td>0</td>\n",
       "      <td>0</td>\n",
       "      <td>...</td>\n",
       "      <td>0</td>\n",
       "      <td>0</td>\n",
       "      <td>0</td>\n",
       "      <td>0</td>\n",
       "      <td>0</td>\n",
       "      <td>0</td>\n",
       "      <td>0</td>\n",
       "      <td>1</td>\n",
       "      <td>0</td>\n",
       "      <td>162518.5736</td>\n",
       "    </tr>\n",
       "    <tr>\n",
       "      <th>4</th>\n",
       "      <td>390</td>\n",
       "      <td>3</td>\n",
       "      <td>5</td>\n",
       "      <td>1</td>\n",
       "      <td>0</td>\n",
       "      <td>0</td>\n",
       "      <td>0</td>\n",
       "      <td>1</td>\n",
       "      <td>0</td>\n",
       "      <td>0</td>\n",
       "      <td>...</td>\n",
       "      <td>0</td>\n",
       "      <td>0</td>\n",
       "      <td>0</td>\n",
       "      <td>0</td>\n",
       "      <td>0</td>\n",
       "      <td>0</td>\n",
       "      <td>0</td>\n",
       "      <td>0</td>\n",
       "      <td>1</td>\n",
       "      <td>162518.5736</td>\n",
       "    </tr>\n",
       "    <tr>\n",
       "      <th>...</th>\n",
       "      <td>...</td>\n",
       "      <td>...</td>\n",
       "      <td>...</td>\n",
       "      <td>...</td>\n",
       "      <td>...</td>\n",
       "      <td>...</td>\n",
       "      <td>...</td>\n",
       "      <td>...</td>\n",
       "      <td>...</td>\n",
       "      <td>...</td>\n",
       "      <td>...</td>\n",
       "      <td>...</td>\n",
       "      <td>...</td>\n",
       "      <td>...</td>\n",
       "      <td>...</td>\n",
       "      <td>...</td>\n",
       "      <td>...</td>\n",
       "      <td>...</td>\n",
       "      <td>...</td>\n",
       "      <td>...</td>\n",
       "      <td>...</td>\n",
       "    </tr>\n",
       "    <tr>\n",
       "      <th>4945</th>\n",
       "      <td>73</td>\n",
       "      <td>6</td>\n",
       "      <td>5</td>\n",
       "      <td>0</td>\n",
       "      <td>1</td>\n",
       "      <td>0</td>\n",
       "      <td>0</td>\n",
       "      <td>1</td>\n",
       "      <td>0</td>\n",
       "      <td>0</td>\n",
       "      <td>...</td>\n",
       "      <td>0</td>\n",
       "      <td>0</td>\n",
       "      <td>0</td>\n",
       "      <td>0</td>\n",
       "      <td>0</td>\n",
       "      <td>1</td>\n",
       "      <td>0</td>\n",
       "      <td>0</td>\n",
       "      <td>0</td>\n",
       "      <td>169782.5765</td>\n",
       "    </tr>\n",
       "    <tr>\n",
       "      <th>4946</th>\n",
       "      <td>96</td>\n",
       "      <td>3</td>\n",
       "      <td>5</td>\n",
       "      <td>0</td>\n",
       "      <td>1</td>\n",
       "      <td>0</td>\n",
       "      <td>0</td>\n",
       "      <td>1</td>\n",
       "      <td>0</td>\n",
       "      <td>0</td>\n",
       "      <td>...</td>\n",
       "      <td>0</td>\n",
       "      <td>0</td>\n",
       "      <td>0</td>\n",
       "      <td>0</td>\n",
       "      <td>0</td>\n",
       "      <td>1</td>\n",
       "      <td>1</td>\n",
       "      <td>0</td>\n",
       "      <td>0</td>\n",
       "      <td>169782.5765</td>\n",
       "    </tr>\n",
       "    <tr>\n",
       "      <th>4947</th>\n",
       "      <td>96</td>\n",
       "      <td>3</td>\n",
       "      <td>5</td>\n",
       "      <td>0</td>\n",
       "      <td>1</td>\n",
       "      <td>0</td>\n",
       "      <td>0</td>\n",
       "      <td>1</td>\n",
       "      <td>0</td>\n",
       "      <td>0</td>\n",
       "      <td>...</td>\n",
       "      <td>0</td>\n",
       "      <td>0</td>\n",
       "      <td>0</td>\n",
       "      <td>0</td>\n",
       "      <td>0</td>\n",
       "      <td>0</td>\n",
       "      <td>0</td>\n",
       "      <td>0</td>\n",
       "      <td>0</td>\n",
       "      <td>169782.5765</td>\n",
       "    </tr>\n",
       "    <tr>\n",
       "      <th>4948</th>\n",
       "      <td>96</td>\n",
       "      <td>3</td>\n",
       "      <td>5</td>\n",
       "      <td>0</td>\n",
       "      <td>1</td>\n",
       "      <td>0</td>\n",
       "      <td>0</td>\n",
       "      <td>1</td>\n",
       "      <td>0</td>\n",
       "      <td>0</td>\n",
       "      <td>...</td>\n",
       "      <td>0</td>\n",
       "      <td>0</td>\n",
       "      <td>0</td>\n",
       "      <td>0</td>\n",
       "      <td>0</td>\n",
       "      <td>0</td>\n",
       "      <td>0</td>\n",
       "      <td>0</td>\n",
       "      <td>0</td>\n",
       "      <td>169782.5765</td>\n",
       "    </tr>\n",
       "    <tr>\n",
       "      <th>4949</th>\n",
       "      <td>22</td>\n",
       "      <td>3</td>\n",
       "      <td>4</td>\n",
       "      <td>1</td>\n",
       "      <td>0</td>\n",
       "      <td>0</td>\n",
       "      <td>0</td>\n",
       "      <td>1</td>\n",
       "      <td>0</td>\n",
       "      <td>0</td>\n",
       "      <td>...</td>\n",
       "      <td>1</td>\n",
       "      <td>0</td>\n",
       "      <td>0</td>\n",
       "      <td>0</td>\n",
       "      <td>0</td>\n",
       "      <td>0</td>\n",
       "      <td>0</td>\n",
       "      <td>0</td>\n",
       "      <td>0</td>\n",
       "      <td>169782.5765</td>\n",
       "    </tr>\n",
       "  </tbody>\n",
       "</table>\n",
       "<p>4950 rows × 65 columns</p>\n",
       "</div>"
      ],
      "text/plain": [
       "      intern_num  month_num  day  2000  500-2000  50-500  <50  互联网  教育  房产  \\\n",
       "0            176          3    3     1         0       0    0    1   0   0   \n",
       "1            390          3    5     1         0       0    0    1   0   0   \n",
       "2             44          5    4     1         0       0    0    1   0   0   \n",
       "3            486          4    5     1         0       0    0    1   0   0   \n",
       "4            390          3    5     1         0       0    0    1   0   0   \n",
       "...          ...        ...  ...   ...       ...     ...  ...  ...  ..  ..   \n",
       "4945          73          6    5     0         1       0    0    1   0   0   \n",
       "4946          96          3    5     0         1       0    0    1   0   0   \n",
       "4947          96          3    5     0         1       0    0    1   0   0   \n",
       "4948          96          3    5     0         1       0    0    1   0   0   \n",
       "4949          22          3    4     1         0       0    0    1   0   0   \n",
       "\n",
       "      ...  媒体  内容  专员  产品  销售  开发  工程师  助理  运营  GDP per capita  \n",
       "0     ...   0   0   0   0   0   0    0   0   0     162518.5736  \n",
       "1     ...   0   0   0   0   0   0    0   0   0     162518.5736  \n",
       "2     ...   0   0   0   0   0   1    1   0   0     162518.5736  \n",
       "3     ...   0   0   0   0   0   0    0   1   0     162518.5736  \n",
       "4     ...   0   0   0   0   0   0    0   0   1     162518.5736  \n",
       "...   ...  ..  ..  ..  ..  ..  ..  ...  ..  ..             ...  \n",
       "4945  ...   0   0   0   0   0   1    0   0   0     169782.5765  \n",
       "4946  ...   0   0   0   0   0   1    1   0   0     169782.5765  \n",
       "4947  ...   0   0   0   0   0   0    0   0   0     169782.5765  \n",
       "4948  ...   0   0   0   0   0   0    0   0   0     169782.5765  \n",
       "4949  ...   1   0   0   0   0   0    0   0   0     169782.5765  \n",
       "\n",
       "[4950 rows x 65 columns]"
      ]
     },
     "execution_count": 10,
     "metadata": {},
     "output_type": "execute_result"
    }
   ],
   "source": [
    "data = pd.read_csv(\"formated_data_1111.csv\")\n",
    "data2 = data.drop(['max_sal', 'min_sal', 'city','GDP(billion)', 'Population(thousand)'], axis = 1)\n",
    "data2"
   ]
  },
  {
   "cell_type": "code",
   "execution_count": 11,
   "metadata": {},
   "outputs": [],
   "source": [
    "X = data2\n",
    "y = data['max_sal']"
   ]
  },
  {
   "cell_type": "code",
   "execution_count": 12,
   "metadata": {},
   "outputs": [
    {
     "data": {
      "text/plain": [
       "(array([1004.,    0.,    0., 1545.,    0.,    0., 1434.,    0.,    0.,\n",
       "         967.]),\n",
       " array([0. , 0.3, 0.6, 0.9, 1.2, 1.5, 1.8, 2.1, 2.4, 2.7, 3. ]),\n",
       " <a list of 10 Patch objects>)"
      ]
     },
     "execution_count": 12,
     "metadata": {},
     "output_type": "execute_result"
    },
    {
     "data": {
      "image/png": "[encoded data removed]",
      "text/plain": [
       "<Figure size 432x288 with 1 Axes>"
      ]
     },
     "metadata": {
      "needs_background": "light"
     },
     "output_type": "display_data"
    }
   ],
   "source": [
    "# Label the max salary (4 classes)\n",
    "\n",
    "label = []\n",
    "max_sal = data['max_sal'].to_numpy()\n",
    "for i in max_sal:\n",
    "    if i in range(0,150):\n",
    "        label.append(0)\n",
    "    elif i in range(150,175):\n",
    "        label.append(1)\n",
    "    elif i in range(175,250):\n",
    "        label.append(2)\n",
    "    else:\n",
    "        label.append(3)\n",
    "y = np.array(label)\n",
    "y.reshape(len(label),1)\n",
    "plt.hist(y)"
   ]
  },
  {
   "cell_type": "code",
   "execution_count": 13,
   "metadata": {},
   "outputs": [],
   "source": [
    "# Divide into train and test set\n",
    "X_train, X_test, y_train, y_test = train_test_split(X, y, test_size=0.2, shuffle = True, random_state=0)\n",
    "\n",
    "scaler = MinMaxScaler().fit(X_train)\n",
    "\n",
    "X_train_scaled = scaler.transform(X_train)\n",
    "X_test_scaled = scaler.transform(X_test)"
   ]
  },
  {
   "cell_type": "code",
   "execution_count": 14,
   "metadata": {},
   "outputs": [
    {
     "name": "stdout",
     "output_type": "stream",
     "text": [
      "0.4202020202020202\n"
     ]
    },
    {
     "data": {
      "image/png": "[encoded data removed]",
      "text/plain": [
       "<Figure size 432x288 with 1 Axes>"
      ]
     },
     "metadata": {
      "needs_background": "light"
     },
     "output_type": "display_data"
    }
   ],
   "source": [
    "acc_train = []\n",
    "acc_test  = []\n",
    "\n",
    "for i in range(1,51):\n",
    "    model = KNeighborsClassifier(i)\n",
    "    model.fit(X_train_scaled, y_train)\n",
    "    y_pred = model.predict(X_test_scaled)\n",
    "    acc_test.append(accuracy_score(y_pred,y_test))\n",
    "    y_pred = model.predict(X_train_scaled)\n",
    "    acc_train.append(accuracy_score(y_pred,y_train))\n",
    "    \n",
    "%matplotlib inline\n",
    "\n",
    "plt.plot(acc_train,'x',label=\"train\");\n",
    "plt.plot(acc_test,'o',label=\"test\");\n",
    "plt.xlabel('$k$'); plt.ylabel('Accuracy')\n",
    "plt.legend();\n",
    "print(max(acc_test))"
   ]
  },
  {
   "cell_type": "markdown",
   "metadata": {},
   "source": [
    "## 2.2 Min Salarey for all columns"
   ]
  },
  {
   "cell_type": "code",
   "execution_count": 15,
   "metadata": {},
   "outputs": [
    {
     "data": {
      "text/plain": [
       "(array([ 659.,    0.,    0., 1550.,    0.,    0.,  872.,    0.,    0.,\n",
       "        1869.]),\n",
       " array([0. , 0.3, 0.6, 0.9, 1.2, 1.5, 1.8, 2.1, 2.4, 2.7, 3. ]),\n",
       " <a list of 10 Patch objects>)"
      ]
     },
     "execution_count": 15,
     "metadata": {},
     "output_type": "execute_result"
    },
    {
     "data": {
      "image/png": "[encoded data removed]",
      "text/plain": [
       "<Figure size 432x288 with 1 Axes>"
      ]
     },
     "metadata": {
      "needs_background": "light"
     },
     "output_type": "display_data"
    }
   ],
   "source": [
    "label = []\n",
    "min_sal = data['min_sal'].to_numpy()\n",
    "for i in min_sal:\n",
    "    if i in range(0,100):\n",
    "        label.append(0)\n",
    "    elif i in range(100,120):\n",
    "        label.append(1)\n",
    "    elif i in range(120,150):\n",
    "        label.append(2)\n",
    "    else:\n",
    "        label.append(3)\n",
    "y = np.array(label)\n",
    "y.reshape(len(label),1)\n",
    "plt.hist(y)"
   ]
  },
  {
   "cell_type": "code",
   "execution_count": 16,
   "metadata": {},
   "outputs": [],
   "source": [
    "X_train, X_test, y_train, y_test = train_test_split(X, y, test_size=0.2, shuffle = True, random_state=0)\n",
    "\n",
    "scaler = MinMaxScaler().fit(X_train)\n",
    "\n",
    "X_train_scaled = scaler.transform(X_train)\n",
    "X_test_scaled = scaler.transform(X_test)"
   ]
  },
  {
   "cell_type": "code",
   "execution_count": 17,
   "metadata": {},
   "outputs": [
    {
     "name": "stdout",
     "output_type": "stream",
     "text": [
      "0.4535353535353535\n"
     ]
    },
    {
     "data": {
      "image/png": "[encoded data removed]",
      "text/plain": [
       "<Figure size 432x288 with 1 Axes>"
      ]
     },
     "metadata": {
      "needs_background": "light"
     },
     "output_type": "display_data"
    }
   ],
   "source": [
    "acc_train = []\n",
    "acc_test  = []\n",
    "\n",
    "for i in range(1,51):\n",
    "    model = KNeighborsClassifier(i)\n",
    "    model.fit(X_train_scaled, y_train)\n",
    "    y_pred = model.predict(X_test_scaled)\n",
    "    acc_test.append(accuracy_score(y_pred,y_test))\n",
    "    y_pred = model.predict(X_train_scaled)\n",
    "    acc_train.append(accuracy_score(y_pred,y_train))\n",
    "    \n",
    "%matplotlib inline\n",
    "\n",
    "plt.plot(acc_train,'x',label=\"train\");\n",
    "plt.plot(acc_test,'o',label=\"test\");\n",
    "plt.xlabel('$k$'); plt.ylabel('Accuracy')\n",
    "plt.legend();\n",
    "print(max(acc_test))"
   ]
  },
  {
   "cell_type": "code",
   "execution_count": null,
   "metadata": {},
   "outputs": [],
   "source": []
  }
 ],
 "metadata": {
  "kernelspec": {
   "display_name": "Python 3",
   "language": "python",
   "name": "python3"
  },
  "language_info": {
   "codemirror_mode": {
    "name": "ipython",
    "version": 3
   },
   "file_extension": ".py",
   "mimetype": "text/x-python",
   "name": "python",
   "nbconvert_exporter": "python",
   "pygments_lexer": "ipython3",
   "version": "3.8.1"
  }
 },
 "nbformat": 4,
 "nbformat_minor": 4
}

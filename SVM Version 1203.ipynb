{
 "cells": [
  {
   "cell_type": "markdown",
   "metadata": {},
   "source": [
    "## SVM"
   ]
  },
  {
   "cell_type": "code",
   "execution_count": 1,
   "metadata": {},
   "outputs": [],
   "source": [
    "import pandas as pd\n",
    "import numpy as np\n",
    "from matplotlib import pyplot as plt\n",
    "\n",
    "data = pd.read_csv(\"formated_data_1111.csv\")\n",
    "data.head()\n",
    "\n",
    "# Min_Max scaler for GDP\n",
    "data['GDP'] = (data['GDP per capita'] - \n",
    "               data['GDP per capita'].min())/(data['GDP per capita'].max() - data['GDP per capita'].min())\n",
    "\n",
    "data_1 = data[['intern_num','max_sal','min_sal','GDP per capita','GDP','month_num','day','2000','500-2000','50-500','<50','互联网','教育','房产','广告','金融','企业服务','快消','电子','医疗','汽车']]\n",
    "data_1\n",
    "\n",
    "#确定 X和 y\n",
    "\n",
    "X = data_1[['intern_num','GDP per capita','month_num','day','2000','500-2000','50-500','<50','互联网','教育','房产','广告','金融','企业服务','快消','电子','医疗','汽车']]\n",
    "y = data_1['max_sal']"
   ]
  },
  {
   "cell_type": "markdown",
   "metadata": {},
   "source": [
    "### 1.1 Max Salary for Selected Columns"
   ]
  },
  {
   "cell_type": "code",
   "execution_count": 2,
   "metadata": {},
   "outputs": [
    {
     "data": {
      "text/plain": [
       "(array([1004.,    0.,    0., 1545.,    0.,    0., 1434.,    0.,    0.,\n",
       "         967.]),\n",
       " array([0. , 0.3, 0.6, 0.9, 1.2, 1.5, 1.8, 2.1, 2.4, 2.7, 3. ]),\n",
       " <a list of 10 Patch objects>)"
      ]
     },
     "execution_count": 2,
     "metadata": {},
     "output_type": "execute_result"
    },
    {
     "data": {
      "image/png": "[encoded data removed]",
      "text/plain": [
       "<Figure size 432x288 with 1 Axes>"
      ]
     },
     "metadata": {
      "needs_background": "light"
     },
     "output_type": "display_data"
    }
   ],
   "source": [
    "# Label the max salary (4 classes)\n",
    "\n",
    "label = []\n",
    "max_sal = data['max_sal'].to_numpy()\n",
    "for i in max_sal:\n",
    "    if i in range(0,150):\n",
    "        label.append(0)\n",
    "    elif i in range(150,175):\n",
    "        label.append(1)\n",
    "    elif i in range(175,250):\n",
    "        label.append(2)\n",
    "    else:\n",
    "        label.append(3)\n",
    "y = np.array(label)\n",
    "y.reshape(len(label),1)\n",
    "plt.hist(y)"
   ]
  },
  {
   "cell_type": "code",
   "execution_count": 3,
   "metadata": {},
   "outputs": [
    {
     "name": "stdout",
     "output_type": "stream",
     "text": [
      "bench mark: 0.31212121212121213\n"
     ]
    }
   ],
   "source": [
    "print('bench mark: {}'.format(1545/4950))"
   ]
  },
  {
   "cell_type": "code",
   "execution_count": 4,
   "metadata": {},
   "outputs": [],
   "source": [
    "from sklearn.tree import DecisionTreeClassifier\n",
    "from sklearn.metrics import accuracy_score, mean_squared_error\n",
    "from sklearn.preprocessing import MinMaxScaler\n",
    "from sklearn.tree import DecisionTreeClassifier\n",
    "from sklearn.metrics import accuracy_score, mean_squared_error\n",
    "from sklearn.model_selection import train_test_split\n",
    "from sklearn import svm\n",
    "\n",
    "# Divide into train and test set\n",
    "X_train, X_test, y_train, y_test = train_test_split(X, y, test_size=0.2, shuffle = True, random_state=0)\n",
    "\n",
    "scaler = MinMaxScaler().fit(X_train)\n",
    "\n",
    "X_train_scaled = scaler.transform(X_train)\n",
    "X_test_scaled = scaler.transform(X_test)"
   ]
  },
  {
   "cell_type": "code",
   "execution_count": 5,
   "metadata": {},
   "outputs": [
    {
     "name": "stdout",
     "output_type": "stream",
     "text": [
      "kernel = rbf\n",
      "train accuracy: 0.6313131313131313\n",
      "test accuracy: 0.4414141414141414\n",
      "===================================\n"
     ]
    }
   ],
   "source": [
    "clf = svm.SVC(decision_function_shape = 'ovo', kernel = 'rbf', C = 2, gamma = 200)\n",
    "clf.fit(X_train_scaled, y_train)\n",
    "\n",
    "y_pred = clf.predict(X_test_scaled)\n",
    "acc_test = (accuracy_score(y_pred,y_test))\n",
    "y_pred = clf.predict(X_train_scaled)\n",
    "acc_train = (accuracy_score(y_pred,y_train))\n",
    "print('kernel = rbf')\n",
    "print('train accuracy: {}'.format(acc_train))\n",
    "print('test accuracy: {}'.format(acc_test))\n",
    "\n",
    "print('===================================')\n",
    "\n",
    "train_acc = []\n",
    "test_acc = []\n",
    "\n",
    "\n",
    "# for i in range(1,15):\n",
    "#     clf = svm.SVC(decision_function_shape = 'ovo', kernel = 'rbf', C = i, gamma = 200)\n",
    "#     clf.fit(X_train_scaled, y_train)\n",
    "\n",
    "#     y_pred = clf.predict(X_test_scaled)\n",
    "#     acc_test = (accuracy_score(y_pred,y_test))\n",
    "#     test_acc.append(acc_test)\n",
    "    \n",
    "#     y_pred = clf.predict(X_train_scaled)\n",
    "#     acc_train = (accuracy_score(y_pred,y_train))\n",
    "#     train_acc.append(acc_train)\n",
    "    \n",
    "# #     print('C: {}'.format(i))\n",
    "# #     print('train accuracy: {}'.format(acc_train))\n",
    "# #     print('test accuracy: {}'.format(acc_test))\n",
    "# print('Done')"
   ]
  },
  {
   "cell_type": "code",
   "execution_count": 6,
   "metadata": {},
   "outputs": [
    {
     "name": "stdout",
     "output_type": "stream",
     "text": [
      "[0.6179292929292929, 0.6313131313131313, 0.6401515151515151, 0.6494949494949495, 0.6542929292929293, 0.6593434343434343, 0.6628787878787878, 0.6636363636363637, 0.6659090909090909, 0.6669191919191919, 0.6674242424242425, 0.6734848484848485, 0.675, 0.6752525252525252]\n",
      "[0.44242424242424244, 0.4414141414141414, 0.4494949494949495, 0.45555555555555555, 0.4595959595959596, 0.45656565656565656, 0.4535353535353535, 0.45555555555555555, 0.45454545454545453, 0.45555555555555555, 0.4494949494949495, 0.45252525252525255, 0.4535353535353535, 0.45555555555555555]\n"
     ]
    },
    {
     "data": {
      "image/png": "[encoded data removed]",
      "text/plain": [
       "<Figure size 432x288 with 1 Axes>"
      ]
     },
     "metadata": {
      "needs_background": "light"
     },
     "output_type": "display_data"
    }
   ],
   "source": [
    "print(train_acc)\n",
    "print(test_acc)\n",
    "\n",
    "plt.plot(train_acc,'x',label=\"train\");\n",
    "plt.plot(test_acc,'o',label=\"test\");\n",
    "plt.xlabel('$C$'); plt.ylabel('Accuracy')\n",
    "plt.legend();"
   ]
  },
  {
   "cell_type": "code",
   "execution_count": 7,
   "metadata": {},
   "outputs": [
    {
     "name": "stdout",
     "output_type": "stream",
     "text": [
      "Done\n"
     ]
    }
   ],
   "source": [
    "train_acc = []\n",
    "test_acc = []\n",
    "\n",
    "\n",
    "for i in range(1,30):\n",
    "    clf = svm.SVC(decision_function_shape = 'ovo', kernel = 'rbf', C = 8, gamma = 20*i)\n",
    "    clf.fit(X_train_scaled, y_train)\n",
    "\n",
    "    y_pred = clf.predict(X_test_scaled)\n",
    "    acc_test = (accuracy_score(y_pred,y_test))\n",
    "    test_acc.append(acc_test)\n",
    "    \n",
    "    y_pred = clf.predict(X_train_scaled)\n",
    "    acc_train = (accuracy_score(y_pred,y_train))\n",
    "    train_acc.append(acc_train)\n",
    "    \n",
    "#     print('C: {}'.format(i))\n",
    "#     print('train accuracy: {}'.format(acc_train))\n",
    "#     print('test accuracy: {}'.format(acc_test))\n",
    "print('Done')"
   ]
  },
  {
   "cell_type": "code",
   "execution_count": 8,
   "metadata": {},
   "outputs": [
    {
     "name": "stdout",
     "output_type": "stream",
     "text": [
      "[0.5643939393939394, 0.5914141414141414, 0.6154040404040404, 0.6267676767676768, 0.6353535353535353, 0.6421717171717172, 0.6494949494949495, 0.6568181818181819, 0.6601010101010101, 0.6636363636363637, 0.6656565656565656, 0.6737373737373737, 0.6765151515151515, 0.6797979797979798, 0.6808080808080809, 0.6851010101010101, 0.6891414141414142, 0.6891414141414142, 0.6931818181818182, 0.695959595959596, 0.701010101010101, 0.7007575757575758, 0.7032828282828283, 0.7045454545454546, 0.7078282828282828, 0.7093434343434344, 0.7098484848484848, 0.7106060606060606, 0.7108585858585859]\n",
      "[0.4303030303030303, 0.4414141414141414, 0.4404040404040404, 0.4393939393939394, 0.44747474747474747, 0.4484848484848485, 0.4535353535353535, 0.45555555555555555, 0.45454545454545453, 0.45555555555555555, 0.45151515151515154, 0.4535353535353535, 0.45252525252525255, 0.45656565656565656, 0.4616161616161616, 0.46565656565656566, 0.4626262626262626, 0.46464646464646464, 0.4676767676767677, 0.4626262626262626, 0.46060606060606063, 0.4595959595959596, 0.4717171717171717, 0.47373737373737373, 0.4797979797979798, 0.4808080808080808, 0.48383838383838385, 0.4797979797979798, 0.47878787878787876]\n"
     ]
    },
    {
     "data": {
      "image/png": "[encoded data removed]",
      "text/plain": [
       "<Figure size 432x288 with 1 Axes>"
      ]
     },
     "metadata": {
      "needs_background": "light"
     },
     "output_type": "display_data"
    }
   ],
   "source": [
    "print(train_acc)\n",
    "print(test_acc)\n",
    "\n",
    "plt.plot(train_acc,'x',label=\"train\");\n",
    "plt.plot(test_acc,'o',label=\"test\");\n",
    "plt.xlabel('$gamma / 20$'); plt.ylabel('Accuracy')\n",
    "plt.legend();"
   ]
  },
  {
   "cell_type": "code",
   "execution_count": 6,
   "metadata": {},
   "outputs": [
    {
     "name": "stdout",
     "output_type": "stream",
     "text": [
      "{'C': 18, 'gamma': 350}\n"
     ]
    }
   ],
   "source": [
    "# GridSearch\n",
    "\n",
    "from sklearn.model_selection import GridSearchCV\n",
    "import sklearn.metrics\n",
    "\n",
    "parameters = {\n",
    "    'C': [x for x in range(2,30,2)],\n",
    "    'gamma': [x for x in range(200,600,50)]\n",
    "}\n",
    "\n",
    "grid_search = GridSearchCV(svm.SVC(), param_grid = parameters, scoring = 'accuracy', cv=4, return_train_score = True)\n",
    "grid_search.fit(X_train_scaled, y_train)\n",
    "#print(grid_search.cv_results_)\n",
    "print(grid_search.best_params_)\n",
    "\n",
    "# gamma 应该大一些，sigma小(1/sigma^2)，来提高精度，那个图形更尖更集中。\n",
    "# 1/C C越大，regularization越弱。"
   ]
  },
  {
   "cell_type": "code",
   "execution_count": 7,
   "metadata": {},
   "outputs": [
    {
     "name": "stdout",
     "output_type": "stream",
     "text": [
      "kernel = rbf\n",
      "train accuracy: 0.7047979797979798\n",
      "test accuracy: 0.4666666666666667\n"
     ]
    }
   ],
   "source": [
    "clf = svm.SVC(decision_function_shape = 'ovo', kernel = 'rbf', C = 18, gamma = 350)\n",
    "clf.fit(X_train_scaled, y_train)\n",
    "\n",
    "y_pred = clf.predict(X_test_scaled)\n",
    "acc_test = (accuracy_score(y_pred,y_test))\n",
    "y_pred = clf.predict(X_train_scaled)\n",
    "acc_train = (accuracy_score(y_pred,y_train))\n",
    "print('kernel = rbf')\n",
    "print('train accuracy: {}'.format(acc_train))\n",
    "print('test accuracy: {}'.format(acc_test))"
   ]
  },
  {
   "cell_type": "markdown",
   "metadata": {},
   "source": [
    "### 1.1 Max Salary for Selected Columns"
   ]
  },
  {
   "cell_type": "code",
   "execution_count": 8,
   "metadata": {},
   "outputs": [
    {
     "data": {
      "text/plain": [
       "(array([ 659.,    0.,    0., 1550.,    0.,    0.,  872.,    0.,    0.,\n",
       "        1869.]),\n",
       " array([0. , 0.3, 0.6, 0.9, 1.2, 1.5, 1.8, 2.1, 2.4, 2.7, 3. ]),\n",
       " <a list of 10 Patch objects>)"
      ]
     },
     "execution_count": 8,
     "metadata": {},
     "output_type": "execute_result"
    },
    {
     "data": {
      "image/png": "[encoded data removed]",
      "text/plain": [
       "<Figure size 432x288 with 1 Axes>"
      ]
     },
     "metadata": {
      "needs_background": "light"
     },
     "output_type": "display_data"
    }
   ],
   "source": [
    "label = []\n",
    "min_sal = data['min_sal'].to_numpy()\n",
    "for i in min_sal:\n",
    "    if i in range(0,100):\n",
    "        label.append(0)\n",
    "    elif i in range(100,120):\n",
    "        label.append(1)\n",
    "    elif i in range(120,150):\n",
    "        label.append(2)\n",
    "    else:\n",
    "        label.append(3)\n",
    "y = np.array(label)\n",
    "y.reshape(len(label),1)\n",
    "plt.hist(y)"
   ]
  },
  {
   "cell_type": "code",
   "execution_count": 9,
   "metadata": {},
   "outputs": [
    {
     "name": "stdout",
     "output_type": "stream",
     "text": [
      "bench mark: 0.37757575757575756\n"
     ]
    }
   ],
   "source": [
    "print('bench mark: {}'.format(1869/4950))"
   ]
  },
  {
   "cell_type": "code",
   "execution_count": 10,
   "metadata": {},
   "outputs": [
    {
     "name": "stdout",
     "output_type": "stream",
     "text": [
      "kernel = rbf\n",
      "train accuracy: 0.6702020202020202\n",
      "test accuracy: 0.5050505050505051\n"
     ]
    }
   ],
   "source": [
    "X_train, X_test, y_train, y_test = train_test_split(X, y, test_size=0.2, shuffle = True, random_state=0)\n",
    "\n",
    "scaler = MinMaxScaler().fit(X_train)\n",
    "\n",
    "X_train_scaled = scaler.transform(X_train)\n",
    "X_test_scaled = scaler.transform(X_test)\n",
    "\n",
    "clf = svm.SVC(decision_function_shape = 'ovo', kernel = 'rbf', C = 2, gamma = 200)\n",
    "clf.fit(X_train_scaled, y_train)\n",
    "\n",
    "y_pred = clf.predict(X_test_scaled)\n",
    "acc_test = (accuracy_score(y_pred,y_test))\n",
    "y_pred = clf.predict(X_train_scaled)\n",
    "acc_train = (accuracy_score(y_pred,y_train))\n",
    "print('kernel = rbf')\n",
    "print('train accuracy: {}'.format(acc_train))\n",
    "print('test accuracy: {}'.format(acc_test))\n",
    "\n",
    "train_acc = []\n",
    "test_acc = []\n",
    "\n",
    "\n",
    "# for i in range(1,15):\n",
    "#     clf = svm.SVC(decision_function_shape = 'ovo', kernel = 'rbf', C = i, gamma = 200)\n",
    "#     clf.fit(X_train_scaled, y_train)\n",
    "\n",
    "#     y_pred = clf.predict(X_test_scaled)\n",
    "#     acc_test = (accuracy_score(y_pred,y_test))\n",
    "#     test_acc.append(acc_test)\n",
    "    \n",
    "#     y_pred = clf.predict(X_train_scaled)\n",
    "#     acc_train = (accuracy_score(y_pred,y_train))\n",
    "#     train_acc.append(acc_train)\n",
    "    \n",
    "#     print('C: {}'.format(i))\n",
    "#     print('train accuracy: {}'.format(acc_train))\n",
    "#     print('test accuracy: {}'.format(acc_test))\n",
    "# print('Done')"
   ]
  },
  {
   "cell_type": "code",
   "execution_count": 11,
   "metadata": {},
   "outputs": [
    {
     "name": "stdout",
     "output_type": "stream",
     "text": [
      "kernel = rbf\n",
      "train accuracy: 0.7406565656565657\n",
      "test accuracy: 0.5232323232323233\n"
     ]
    }
   ],
   "source": [
    "clf = svm.SVC(decision_function_shape = 'ovo', kernel = 'rbf', C = 18, gamma = 350)\n",
    "clf.fit(X_train_scaled, y_train)\n",
    "\n",
    "y_pred = clf.predict(X_test_scaled)\n",
    "acc_test = (accuracy_score(y_pred,y_test))\n",
    "y_pred = clf.predict(X_train_scaled)\n",
    "acc_train = (accuracy_score(y_pred,y_train))\n",
    "print('kernel = rbf')\n",
    "print('train accuracy: {}'.format(acc_train))\n",
    "print('test accuracy: {}'.format(acc_test))"
   ]
  },
  {
   "cell_type": "markdown",
   "metadata": {},
   "source": [
    "### 2.1 Max Salary for All Columns"
   ]
  },
  {
   "cell_type": "code",
   "execution_count": 20,
   "metadata": {},
   "outputs": [
    {
     "data": {
      "text/html": [
       "<div>\n",
       "<style scoped>\n",
       "    .dataframe tbody tr th:only-of-type {\n",
       "        vertical-align: middle;\n",
       "    }\n",
       "\n",
       "    .dataframe tbody tr th {\n",
       "        vertical-align: top;\n",
       "    }\n",
       "\n",
       "    .dataframe thead th {\n",
       "        text-align: right;\n",
       "    }\n",
       "</style>\n",
       "<table border=\"1\" class=\"dataframe\">\n",
       "  <thead>\n",
       "    <tr style=\"text-align: right;\">\n",
       "      <th></th>\n",
       "      <th>intern_num</th>\n",
       "      <th>month_num</th>\n",
       "      <th>day</th>\n",
       "      <th>2000</th>\n",
       "      <th>500-2000</th>\n",
       "      <th>50-500</th>\n",
       "      <th>&lt;50</th>\n",
       "      <th>互联网</th>\n",
       "      <th>教育</th>\n",
       "      <th>房产</th>\n",
       "      <th>...</th>\n",
       "      <th>媒体</th>\n",
       "      <th>内容</th>\n",
       "      <th>专员</th>\n",
       "      <th>产品</th>\n",
       "      <th>销售</th>\n",
       "      <th>开发</th>\n",
       "      <th>工程师</th>\n",
       "      <th>助理</th>\n",
       "      <th>运营</th>\n",
       "      <th>GDP per capita</th>\n",
       "    </tr>\n",
       "  </thead>\n",
       "  <tbody>\n",
       "    <tr>\n",
       "      <th>0</th>\n",
       "      <td>176</td>\n",
       "      <td>3</td>\n",
       "      <td>3</td>\n",
       "      <td>1</td>\n",
       "      <td>0</td>\n",
       "      <td>0</td>\n",
       "      <td>0</td>\n",
       "      <td>1</td>\n",
       "      <td>0</td>\n",
       "      <td>0</td>\n",
       "      <td>...</td>\n",
       "      <td>0</td>\n",
       "      <td>0</td>\n",
       "      <td>0</td>\n",
       "      <td>0</td>\n",
       "      <td>0</td>\n",
       "      <td>0</td>\n",
       "      <td>0</td>\n",
       "      <td>0</td>\n",
       "      <td>0</td>\n",
       "      <td>162518.5736</td>\n",
       "    </tr>\n",
       "    <tr>\n",
       "      <th>1</th>\n",
       "      <td>390</td>\n",
       "      <td>3</td>\n",
       "      <td>5</td>\n",
       "      <td>1</td>\n",
       "      <td>0</td>\n",
       "      <td>0</td>\n",
       "      <td>0</td>\n",
       "      <td>1</td>\n",
       "      <td>0</td>\n",
       "      <td>0</td>\n",
       "      <td>...</td>\n",
       "      <td>0</td>\n",
       "      <td>0</td>\n",
       "      <td>0</td>\n",
       "      <td>0</td>\n",
       "      <td>0</td>\n",
       "      <td>0</td>\n",
       "      <td>0</td>\n",
       "      <td>0</td>\n",
       "      <td>0</td>\n",
       "      <td>162518.5736</td>\n",
       "    </tr>\n",
       "    <tr>\n",
       "      <th>2</th>\n",
       "      <td>44</td>\n",
       "      <td>5</td>\n",
       "      <td>4</td>\n",
       "      <td>1</td>\n",
       "      <td>0</td>\n",
       "      <td>0</td>\n",
       "      <td>0</td>\n",
       "      <td>1</td>\n",
       "      <td>0</td>\n",
       "      <td>0</td>\n",
       "      <td>...</td>\n",
       "      <td>0</td>\n",
       "      <td>0</td>\n",
       "      <td>0</td>\n",
       "      <td>0</td>\n",
       "      <td>0</td>\n",
       "      <td>1</td>\n",
       "      <td>1</td>\n",
       "      <td>0</td>\n",
       "      <td>0</td>\n",
       "      <td>162518.5736</td>\n",
       "    </tr>\n",
       "    <tr>\n",
       "      <th>3</th>\n",
       "      <td>486</td>\n",
       "      <td>4</td>\n",
       "      <td>5</td>\n",
       "      <td>1</td>\n",
       "      <td>0</td>\n",
       "      <td>0</td>\n",
       "      <td>0</td>\n",
       "      <td>1</td>\n",
       "      <td>0</td>\n",
       "      <td>0</td>\n",
       "      <td>...</td>\n",
       "      <td>0</td>\n",
       "      <td>0</td>\n",
       "      <td>0</td>\n",
       "      <td>0</td>\n",
       "      <td>0</td>\n",
       "      <td>0</td>\n",
       "      <td>0</td>\n",
       "      <td>1</td>\n",
       "      <td>0</td>\n",
       "      <td>162518.5736</td>\n",
       "    </tr>\n",
       "    <tr>\n",
       "      <th>4</th>\n",
       "      <td>390</td>\n",
       "      <td>3</td>\n",
       "      <td>5</td>\n",
       "      <td>1</td>\n",
       "      <td>0</td>\n",
       "      <td>0</td>\n",
       "      <td>0</td>\n",
       "      <td>1</td>\n",
       "      <td>0</td>\n",
       "      <td>0</td>\n",
       "      <td>...</td>\n",
       "      <td>0</td>\n",
       "      <td>0</td>\n",
       "      <td>0</td>\n",
       "      <td>0</td>\n",
       "      <td>0</td>\n",
       "      <td>0</td>\n",
       "      <td>0</td>\n",
       "      <td>0</td>\n",
       "      <td>1</td>\n",
       "      <td>162518.5736</td>\n",
       "    </tr>\n",
       "    <tr>\n",
       "      <th>...</th>\n",
       "      <td>...</td>\n",
       "      <td>...</td>\n",
       "      <td>...</td>\n",
       "      <td>...</td>\n",
       "      <td>...</td>\n",
       "      <td>...</td>\n",
       "      <td>...</td>\n",
       "      <td>...</td>\n",
       "      <td>...</td>\n",
       "      <td>...</td>\n",
       "      <td>...</td>\n",
       "      <td>...</td>\n",
       "      <td>...</td>\n",
       "      <td>...</td>\n",
       "      <td>...</td>\n",
       "      <td>...</td>\n",
       "      <td>...</td>\n",
       "      <td>...</td>\n",
       "      <td>...</td>\n",
       "      <td>...</td>\n",
       "      <td>...</td>\n",
       "    </tr>\n",
       "    <tr>\n",
       "      <th>4945</th>\n",
       "      <td>73</td>\n",
       "      <td>6</td>\n",
       "      <td>5</td>\n",
       "      <td>0</td>\n",
       "      <td>1</td>\n",
       "      <td>0</td>\n",
       "      <td>0</td>\n",
       "      <td>1</td>\n",
       "      <td>0</td>\n",
       "      <td>0</td>\n",
       "      <td>...</td>\n",
       "      <td>0</td>\n",
       "      <td>0</td>\n",
       "      <td>0</td>\n",
       "      <td>0</td>\n",
       "      <td>0</td>\n",
       "      <td>1</td>\n",
       "      <td>0</td>\n",
       "      <td>0</td>\n",
       "      <td>0</td>\n",
       "      <td>169782.5765</td>\n",
       "    </tr>\n",
       "    <tr>\n",
       "      <th>4946</th>\n",
       "      <td>96</td>\n",
       "      <td>3</td>\n",
       "      <td>5</td>\n",
       "      <td>0</td>\n",
       "      <td>1</td>\n",
       "      <td>0</td>\n",
       "      <td>0</td>\n",
       "      <td>1</td>\n",
       "      <td>0</td>\n",
       "      <td>0</td>\n",
       "      <td>...</td>\n",
       "      <td>0</td>\n",
       "      <td>0</td>\n",
       "      <td>0</td>\n",
       "      <td>0</td>\n",
       "      <td>0</td>\n",
       "      <td>1</td>\n",
       "      <td>1</td>\n",
       "      <td>0</td>\n",
       "      <td>0</td>\n",
       "      <td>169782.5765</td>\n",
       "    </tr>\n",
       "    <tr>\n",
       "      <th>4947</th>\n",
       "      <td>96</td>\n",
       "      <td>3</td>\n",
       "      <td>5</td>\n",
       "      <td>0</td>\n",
       "      <td>1</td>\n",
       "      <td>0</td>\n",
       "      <td>0</td>\n",
       "      <td>1</td>\n",
       "      <td>0</td>\n",
       "      <td>0</td>\n",
       "      <td>...</td>\n",
       "      <td>0</td>\n",
       "      <td>0</td>\n",
       "      <td>0</td>\n",
       "      <td>0</td>\n",
       "      <td>0</td>\n",
       "      <td>0</td>\n",
       "      <td>0</td>\n",
       "      <td>0</td>\n",
       "      <td>0</td>\n",
       "      <td>169782.5765</td>\n",
       "    </tr>\n",
       "    <tr>\n",
       "      <th>4948</th>\n",
       "      <td>96</td>\n",
       "      <td>3</td>\n",
       "      <td>5</td>\n",
       "      <td>0</td>\n",
       "      <td>1</td>\n",
       "      <td>0</td>\n",
       "      <td>0</td>\n",
       "      <td>1</td>\n",
       "      <td>0</td>\n",
       "      <td>0</td>\n",
       "      <td>...</td>\n",
       "      <td>0</td>\n",
       "      <td>0</td>\n",
       "      <td>0</td>\n",
       "      <td>0</td>\n",
       "      <td>0</td>\n",
       "      <td>0</td>\n",
       "      <td>0</td>\n",
       "      <td>0</td>\n",
       "      <td>0</td>\n",
       "      <td>169782.5765</td>\n",
       "    </tr>\n",
       "    <tr>\n",
       "      <th>4949</th>\n",
       "      <td>22</td>\n",
       "      <td>3</td>\n",
       "      <td>4</td>\n",
       "      <td>1</td>\n",
       "      <td>0</td>\n",
       "      <td>0</td>\n",
       "      <td>0</td>\n",
       "      <td>1</td>\n",
       "      <td>0</td>\n",
       "      <td>0</td>\n",
       "      <td>...</td>\n",
       "      <td>1</td>\n",
       "      <td>0</td>\n",
       "      <td>0</td>\n",
       "      <td>0</td>\n",
       "      <td>0</td>\n",
       "      <td>0</td>\n",
       "      <td>0</td>\n",
       "      <td>0</td>\n",
       "      <td>0</td>\n",
       "      <td>169782.5765</td>\n",
       "    </tr>\n",
       "  </tbody>\n",
       "</table>\n",
       "<p>4950 rows × 65 columns</p>\n",
       "</div>"
      ],
      "text/plain": [
       "      intern_num  month_num  day  2000  500-2000  50-500  <50  互联网  教育  房产  \\\n",
       "0            176          3    3     1         0       0    0    1   0   0   \n",
       "1            390          3    5     1         0       0    0    1   0   0   \n",
       "2             44          5    4     1         0       0    0    1   0   0   \n",
       "3            486          4    5     1         0       0    0    1   0   0   \n",
       "4            390          3    5     1         0       0    0    1   0   0   \n",
       "...          ...        ...  ...   ...       ...     ...  ...  ...  ..  ..   \n",
       "4945          73          6    5     0         1       0    0    1   0   0   \n",
       "4946          96          3    5     0         1       0    0    1   0   0   \n",
       "4947          96          3    5     0         1       0    0    1   0   0   \n",
       "4948          96          3    5     0         1       0    0    1   0   0   \n",
       "4949          22          3    4     1         0       0    0    1   0   0   \n",
       "\n",
       "      ...  媒体  内容  专员  产品  销售  开发  工程师  助理  运营  GDP per capita  \n",
       "0     ...   0   0   0   0   0   0    0   0   0     162518.5736  \n",
       "1     ...   0   0   0   0   0   0    0   0   0     162518.5736  \n",
       "2     ...   0   0   0   0   0   1    1   0   0     162518.5736  \n",
       "3     ...   0   0   0   0   0   0    0   1   0     162518.5736  \n",
       "4     ...   0   0   0   0   0   0    0   0   1     162518.5736  \n",
       "...   ...  ..  ..  ..  ..  ..  ..  ...  ..  ..             ...  \n",
       "4945  ...   0   0   0   0   0   1    0   0   0     169782.5765  \n",
       "4946  ...   0   0   0   0   0   1    1   0   0     169782.5765  \n",
       "4947  ...   0   0   0   0   0   0    0   0   0     169782.5765  \n",
       "4948  ...   0   0   0   0   0   0    0   0   0     169782.5765  \n",
       "4949  ...   1   0   0   0   0   0    0   0   0     169782.5765  \n",
       "\n",
       "[4950 rows x 65 columns]"
      ]
     },
     "execution_count": 20,
     "metadata": {},
     "output_type": "execute_result"
    }
   ],
   "source": [
    "data = pd.read_csv(\"formated_data_1111.csv\")\n",
    "data2 = data.drop(['max_sal', 'min_sal', 'city','GDP(billion)', 'Population(thousand)'], axis = 1)\n",
    "data2"
   ]
  },
  {
   "cell_type": "code",
   "execution_count": 21,
   "metadata": {},
   "outputs": [],
   "source": [
    "X = data2\n",
    "y = data['max_sal']"
   ]
  },
  {
   "cell_type": "code",
   "execution_count": 22,
   "metadata": {},
   "outputs": [
    {
     "data": {
      "text/plain": [
       "(array([1004.,    0.,    0., 1545.,    0.,    0., 1434.,    0.,    0.,\n",
       "         967.]),\n",
       " array([0. , 0.3, 0.6, 0.9, 1.2, 1.5, 1.8, 2.1, 2.4, 2.7, 3. ]),\n",
       " <a list of 10 Patch objects>)"
      ]
     },
     "execution_count": 22,
     "metadata": {},
     "output_type": "execute_result"
    },
    {
     "data": {
      "image/png": "[encoded data removed]",
      "text/plain": [
       "<Figure size 432x288 with 1 Axes>"
      ]
     },
     "metadata": {
      "needs_background": "light"
     },
     "output_type": "display_data"
    }
   ],
   "source": [
    "# Label the max salary (4 classes)\n",
    "\n",
    "label = []\n",
    "max_sal = data['max_sal'].to_numpy()\n",
    "for i in max_sal:\n",
    "    if i in range(0,150):\n",
    "        label.append(0)\n",
    "    elif i in range(150,175):\n",
    "        label.append(1)\n",
    "    elif i in range(175,250):\n",
    "        label.append(2)\n",
    "    else:\n",
    "        label.append(3)\n",
    "y = np.array(label)\n",
    "y.reshape(len(label),1)\n",
    "plt.hist(y)"
   ]
  },
  {
   "cell_type": "code",
   "execution_count": 23,
   "metadata": {},
   "outputs": [],
   "source": [
    "# Divide into train and test set\n",
    "X_train, X_test, y_train, y_test = train_test_split(X, y, test_size=0.2, shuffle = True, random_state=0)\n",
    "\n",
    "scaler = MinMaxScaler().fit(X_train)\n",
    "\n",
    "X_train_scaled = scaler.transform(X_train)\n",
    "X_test_scaled = scaler.transform(X_test)"
   ]
  },
  {
   "cell_type": "code",
   "execution_count": 17,
   "metadata": {},
   "outputs": [
    {
     "name": "stdout",
     "output_type": "stream",
     "text": [
      "{'C': 28, 'gamma': 350}\n"
     ]
    }
   ],
   "source": [
    "# GridSearch\n",
    "\n",
    "from sklearn.model_selection import GridSearchCV\n",
    "import sklearn.metrics\n",
    "\n",
    "parameters = {\n",
    "    'C': [x for x in range(2,30,2)],\n",
    "    'gamma': [x for x in range(200,600,50)]\n",
    "}\n",
    "\n",
    "grid_search = GridSearchCV(svm.SVC(), param_grid = parameters, scoring = 'accuracy', cv=4, return_train_score = True)\n",
    "grid_search.fit(X_train_scaled, y_train)\n",
    "#print(grid_search.cv_results_)\n",
    "print(grid_search.best_params_)\n",
    "\n",
    "# gamma 应该大一些，sigma小(1/sigma^2)，来提高精度，那个图形更尖更集中。\n",
    "# 1/C C越大，regularization越弱。"
   ]
  },
  {
   "cell_type": "code",
   "execution_count": 30,
   "metadata": {},
   "outputs": [
    {
     "name": "stdout",
     "output_type": "stream",
     "text": [
      "kernel = rbf\n",
      "train accuracy: 0.9452020202020202\n",
      "test accuracy: 0.3717171717171717\n"
     ]
    }
   ],
   "source": [
    "clf = svm.SVC(decision_function_shape = 'ovo', kernel = 'rbf', C = 28, gamma = 350)\n",
    "clf.fit(X_train_scaled, y_train)\n",
    "\n",
    "y_pred = clf.predict(X_test_scaled)\n",
    "acc_test = (accuracy_score(y_pred,y_test))\n",
    "y_pred = clf.predict(X_train_scaled)\n",
    "acc_train = (accuracy_score(y_pred,y_train))\n",
    "print('kernel = rbf')\n",
    "print('train accuracy: {}'.format(acc_train))\n",
    "print('test accuracy: {}'.format(acc_test))"
   ]
  },
  {
   "cell_type": "markdown",
   "metadata": {},
   "source": [
    "### 2.2 Min Salary All Columns"
   ]
  },
  {
   "cell_type": "code",
   "execution_count": 31,
   "metadata": {},
   "outputs": [
    {
     "data": {
      "text/plain": [
       "(array([ 659.,    0.,    0., 1550.,    0.,    0.,  872.,    0.,    0.,\n",
       "        1869.]),\n",
       " array([0. , 0.3, 0.6, 0.9, 1.2, 1.5, 1.8, 2.1, 2.4, 2.7, 3. ]),\n",
       " <a list of 10 Patch objects>)"
      ]
     },
     "execution_count": 31,
     "metadata": {},
     "output_type": "execute_result"
    },
    {
     "data": {
      "image/png": "[encoded data removed]",
      "text/plain": [
       "<Figure size 432x288 with 1 Axes>"
      ]
     },
     "metadata": {
      "needs_background": "light"
     },
     "output_type": "display_data"
    }
   ],
   "source": [
    "label = []\n",
    "min_sal = data['min_sal'].to_numpy()\n",
    "for i in min_sal:\n",
    "    if i in range(0,100):\n",
    "        label.append(0)\n",
    "    elif i in range(100,120):\n",
    "        label.append(1)\n",
    "    elif i in range(120,150):\n",
    "        label.append(2)\n",
    "    else:\n",
    "        label.append(3)\n",
    "y = np.array(label)\n",
    "y.reshape(len(label),1)\n",
    "plt.hist(y)"
   ]
  },
  {
   "cell_type": "code",
   "execution_count": 32,
   "metadata": {},
   "outputs": [],
   "source": [
    "X_train, X_test, y_train, y_test = train_test_split(X, y, test_size=0.2, shuffle = True, random_state=0)\n",
    "\n",
    "scaler = MinMaxScaler().fit(X_train)\n",
    "\n",
    "X_train_scaled = scaler.transform(X_train)\n",
    "X_test_scaled = scaler.transform(X_test)"
   ]
  },
  {
   "cell_type": "code",
   "execution_count": 33,
   "metadata": {},
   "outputs": [
    {
     "name": "stdout",
     "output_type": "stream",
     "text": [
      "kernel = rbf\n",
      "train accuracy: 0.95\n",
      "test accuracy: 0.4414141414141414\n"
     ]
    }
   ],
   "source": [
    "clf = svm.SVC(decision_function_shape = 'ovo', kernel = 'rbf', C = 28, gamma = 350)\n",
    "clf.fit(X_train_scaled, y_train)\n",
    "\n",
    "y_pred = clf.predict(X_test_scaled)\n",
    "acc_test = (accuracy_score(y_pred,y_test))\n",
    "y_pred = clf.predict(X_train_scaled)\n",
    "acc_train = (accuracy_score(y_pred,y_train))\n",
    "print('kernel = rbf')\n",
    "print('train accuracy: {}'.format(acc_train))\n",
    "print('test accuracy: {}'.format(acc_test))"
   ]
  },
  {
   "cell_type": "code",
   "execution_count": null,
   "metadata": {},
   "outputs": [],
   "source": []
  }
 ],
 "metadata": {
  "kernelspec": {
   "display_name": "Python 3",
   "language": "python",
   "name": "python3"
  },
  "language_info": {
   "codemirror_mode": {
    "name": "ipython",
    "version": 3
   },
   "file_extension": ".py",
   "mimetype": "text/x-python",
   "name": "python",
   "nbconvert_exporter": "python",
   "pygments_lexer": "ipython3",
   "version": "3.8.1"
  }
 },
 "nbformat": 4,
 "nbformat_minor": 4
}

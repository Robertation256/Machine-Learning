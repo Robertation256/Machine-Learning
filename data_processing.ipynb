{
 "cells": [
  {
   "cell_type": "markdown",
   "metadata": {},
   "source": [
    "# Data cleaning and Preprocessing"
   ]
  },
  {
   "cell_type": "markdown",
   "metadata": {},
   "source": [
    "**Read Original Data**"
   ]
  },
  {
   "cell_type": "code",
   "execution_count": 112,
   "metadata": {},
   "outputs": [],
   "source": [
    "with open(\"original_data.txt\",\"r\",encoding=\"utf-8\") as fp:\n",
    "    data = fp.read().split(\"\\n\")\n"
   ]
  },
  {
   "cell_type": "markdown",
   "metadata": {},
   "source": [
    "**Remove Irrelevant colums**"
   ]
  },
  {
   "cell_type": "code",
   "execution_count": 113,
   "metadata": {},
   "outputs": [
    {
     "name": "stdout",
     "output_type": "stream",
     "text": [
      "['176', '150', '100', '北京', '2000人以上', '3', '3', '行政实习生（物业管理）', '互联网/游戏/软件']\n"
     ]
    }
   ],
   "source": [
    "def process_colums(string):\n",
    "    selected_col = [1,2,3,5,6,9,15,17,19,]\n",
    "    if len(string) < 10:\n",
    "        return None\n",
    "    row_list = string.split(\"|\")\n",
    "    new_row = [row_list[i] for i in selected_col]\n",
    "    return new_row\n",
    "\n",
    "cleaned_data=[]\n",
    "for row in data:\n",
    "    res = process_colums(row)\n",
    "    if res:\n",
    "        cleaned_data.append(res)\n",
    "\n",
    "print(cleaned_data[1])\n",
    "    \n",
    "    \n",
    "    "
   ]
  },
  {
   "cell_type": "markdown",
   "metadata": {},
   "source": [
    "**Compute keyword list for job names**"
   ]
  },
  {
   "cell_type": "code",
   "execution_count": 77,
   "metadata": {},
   "outputs": [
    {
     "name": "stdout",
     "output_type": "stream",
     "text": [
      "data covered by the word list: 4168\n",
      "['Java', 'HRBP', '文案', '平台', '实施', '前端', '管理', '社群', '培训', '校招', '人事', 'UI', '活动', '研发', '顾问', '设计师', '视觉', '用户', '项目', '行政', '管培生', '海外', '市场', '运维', '数据', 'HR', '策划', '电商', '商务', '人力资源', '客服', '编辑', '测试', '游戏', '算法', '视频', '设计', '招聘', '媒体', '内容', '专员', '产品', '销售', '开发', '工程师', '助理', '运营']\n"
     ]
    }
   ],
   "source": [
    "import jieba\n",
    "\n",
    "word_dict = {}\n",
    "job_name_list = []\n",
    "for row in data:\n",
    "    if len(row) > 5:\n",
    "        name = row.split(\"|\")[17]\n",
    "        job_name_list.append(name)\n",
    "        for word in jieba.cut(name):\n",
    "            if len(word) > 1:\n",
    "                if word in word_dict:\n",
    "                    word_dict[word] +=1\n",
    "\n",
    "                else:\n",
    "                    word_dict[word] = 1\n",
    "ignore_list = [\"实习生\",\"实习\",\"方向\",\"2021\",\"前端开发\",\"视频剪辑\"]\n",
    "for ignore_label in ignore_list:\n",
    "    word_dict.pop(ignore_label)\n",
    "\n",
    "l = sorted(word_dict.items(), key=lambda x: x[1])\n",
    "word_list = []\n",
    "for item in l:\n",
    "    if item[1] >= 40:\n",
    "        word_list.append(item[0])\n",
    "count = 0\n",
    "for name in job_name_list:\n",
    "    for word in word_list:\n",
    "        if word in name:\n",
    "            count += 1\n",
    "            break\n",
    "print(\"data covered by the word list:\",count)\n",
    "print(word_list)"
   ]
  },
  {
   "cell_type": "code",
   "execution_count": 114,
   "metadata": {},
   "outputs": [],
   "source": [
    "scale_vector = [\"2000人以上\",(\"500-2000人\",\"500—2000人\"),(\"150-500人\",\"50-100人\",\"50-150人\",\"50-200人\"),\"15-50人\",\"少于50人\",\"未知规模\"]\n",
    "job_vector = ['Java', 'HRBP', '文案', '平台', '实施', '前端', '管理', '社群', '培训', '校招', '人事', 'UI', '活动', '研发', '顾问', '设计师', '视觉', '用户', '项目', '行政', '管培生', '海外', '市场', '运维', '数据', 'HR', '策划', '电商', '商务', '人力资源', '客服', '编辑', '测试', '游戏', '算法', '视频', '设计', '招聘', '媒体', '内容', '专员', '产品', '销售', '开发', '工程师', '助理', '运营']\n",
    "industry_vector = ['互联网','教育','房产','广告','金融','企业服务','快消','电子','医疗','汽车']"
   ]
  },
  {
   "cell_type": "markdown",
   "metadata": {},
   "source": [
    "**Map string into digits, texts into vectors**"
   ]
  },
  {
   "cell_type": "code",
   "execution_count": 115,
   "metadata": {},
   "outputs": [
    {
     "name": "stdout",
     "output_type": "stream",
     "text": [
      "['176', '150', '100', '北京', '3', '3', '1', '0', '0', '0', '0', '0', '1', '0', '0', '0', '0', '0', '0', '0', '0', '0', '0', '0', '0', '0', '0', '0', '1', '0', '0', '0', '0', '0', '0', '0', '0', '0', '0', '0', '0', '1', '0', '0', '0', '0', '0', '0', '0', '0', '0', '0', '0', '0', '0', '0', '0', '0', '0', '0', '0', '0', '0', '0', '0', '0', '0', '0', '0']\n"
     ]
    }
   ],
   "source": [
    "final_data = []\n",
    "def map(string, vector):\n",
    "    res = [\"0\"]*len(vector)\n",
    "    for i in range(len(vector)):\n",
    "        if isinstance(vector[i],tuple):\n",
    "            for sub_label in vector[i]:\n",
    "                if sub_label in string:\n",
    "                    res[i] = \"1\"\n",
    "        elif vector[i] in string:\n",
    "            res[i] = \"1\"\n",
    "    return res\n",
    "\n",
    "\n",
    "for row in cleaned_data:\n",
    "    try:\n",
    "        row += map(row[4],scale_vector)\n",
    "        row += map(row[8],industry_vector)\n",
    "        row += map(row[7],job_vector)\n",
    "        row.pop(4)\n",
    "        row.pop(6)\n",
    "        row.pop(6)\n",
    "        final_data.append(row)\n",
    "    except:\n",
    "        pass\n",
    "    \n",
    "    \n",
    "\n",
    "    \n",
    "\n",
    "    \n",
    "print(final_data[1])"
   ]
  },
  {
   "cell_type": "code",
   "execution_count": 116,
   "metadata": {},
   "outputs": [],
   "source": [
    "string = \"\"\n",
    "for row in final_data:\n",
    "    string += \",\".join(row)+\"\\n\"\n",
    "\n",
    "header = \"intern_num,max_sal,min_sal,city,month_num,day,2000人以上,500-2000人,50-500人,50-100人,15-50人,少于50人,未知规模\"\n",
    "header += \",\".join(industry_vector)\n",
    "header += \",\".join(job_vector)\n",
    "string = header + \"\\n\"+ string\n",
    "with open(\"formated_data.csv\",\"w\") as fp:\n",
    "    fp.write(string)\n",
    "    "
   ]
  },
  {
   "cell_type": "code",
   "execution_count": null,
   "metadata": {},
   "outputs": [],
   "source": []
  }
 ],
 "metadata": {
  "kernelspec": {
   "display_name": "Python 3",
   "language": "python",
   "name": "python3"
  },
  "language_info": {
   "codemirror_mode": {
    "name": "ipython",
    "version": 3
   },
   "file_extension": ".py",
   "mimetype": "text/x-python",
   "name": "python",
   "nbconvert_exporter": "python",
   "pygments_lexer": "ipython3",
   "version": "3.7.2"
  }
 },
 "nbformat": 4,
 "nbformat_minor": 4
}

{
 "cells": [
  {
   "cell_type": "markdown",
   "metadata": {},
   "source": [
    "# Introduction to Pytorch\n",
    "\n",
    "(This tutorial is modified from https://pytorch.org/tutorials/beginner/nlp/pytorch_tutorial.html)\n",
    "\n",
    "PyTorch is a Python package that provides two high-level features:\n",
    "\n",
    "* Tensor computation (like Numpy) with strong GPU acceleration\n",
    "* Deep neural networks built on a tape-based autorgrad system\n",
    "\n",
    "You can reuse your favorite Python packages such as NumPy, SciPy, and Cython to extend PyTorch when needed."
   ]
  },
  {
   "cell_type": "code",
   "execution_count": 1,
   "metadata": {},
   "outputs": [
    {
     "data": {
      "text/plain": [
       "<torch._C.Generator at 0x7fe00052ee10>"
      ]
     },
     "execution_count": 1,
     "metadata": {},
     "output_type": "execute_result"
    }
   ],
   "source": [
    "import torch\n",
    "import torch.autograd as autograd\n",
    "import torch.nn as nn\n",
    "import torch.nn.functional as F\n",
    "import torch.optim as optim \n",
    "import numpy as np\n",
    "\n",
    "torch.manual_seed(0)"
   ]
  },
  {
   "cell_type": "markdown",
   "metadata": {},
   "source": [
    "## Creating Tensors\n",
    "\n",
    "Tensors can be created from Python lists or Numpy array with the torch.tensor() function."
   ]
  },
  {
   "cell_type": "code",
   "execution_count": 2,
   "metadata": {},
   "outputs": [
    {
     "name": "stdout",
     "output_type": "stream",
     "text": [
      "tensor([1., 2., 3.])\n",
      "tensor([1., 2., 3.], dtype=torch.float64)\n",
      "tensor([[1., 2., 3.],\n",
      "        [4., 5., 6.]])\n",
      "tensor([[1., 2., 3.],\n",
      "        [4., 5., 6.]], dtype=torch.float64)\n"
     ]
    }
   ],
   "source": [
    "# One dimensional\n",
    "data_list = [1., 2., 3.]\n",
    "data_numpy = np.array(data_list)\n",
    "\n",
    "print(torch.tensor(data_list))\n",
    "print(torch.tensor(data_numpy))\n",
    "\n",
    "# Two dimensional\n",
    "data_list = [[1., 2., 3.], [4., 5., 6.]]\n",
    "data_numpy = np.array(data_list)\n",
    "\n",
    "print(torch.tensor(data_list))\n",
    "print(torch.tensor(data_numpy))"
   ]
  },
  {
   "cell_type": "markdown",
   "metadata": {},
   "source": [
    "Check the size of the tensor with torch.Tensor.size(). In numpy, we check the size of the array by .shape."
   ]
  },
  {
   "cell_type": "code",
   "execution_count": 3,
   "metadata": {},
   "outputs": [
    {
     "name": "stdout",
     "output_type": "stream",
     "text": [
      "torch.Size([2, 3])\n"
     ]
    }
   ],
   "source": [
    "data = torch.tensor(data_numpy)\n",
    "print(data.size())"
   ]
  },
  {
   "cell_type": "markdown",
   "metadata": {},
   "source": [
    "Creating tensors filled with $1$s and $0$s. "
   ]
  },
  {
   "cell_type": "code",
   "execution_count": 4,
   "metadata": {
    "scrolled": true
   },
   "outputs": [
    {
     "name": "stdout",
     "output_type": "stream",
     "text": [
      "tensor([[1., 1., 1., 1.],\n",
      "        [1., 1., 1., 1.],\n",
      "        [1., 1., 1., 1.],\n",
      "        [1., 1., 1., 1.],\n",
      "        [1., 1., 1., 1.]])\n",
      "tensor([[0., 0., 0., 0.],\n",
      "        [0., 0., 0., 0.],\n",
      "        [0., 0., 0., 0.],\n",
      "        [0., 0., 0., 0.],\n",
      "        [0., 0., 0., 0.]])\n"
     ]
    }
   ],
   "source": [
    "oneTensor = torch.ones((5, 4))\n",
    "zeroTensor = torch.zeros((5, 4))\n",
    "print(oneTensor)\n",
    "print(zeroTensor)"
   ]
  },
  {
   "cell_type": "markdown",
   "metadata": {},
   "source": [
    "## Random Number Generation"
   ]
  },
  {
   "cell_type": "code",
   "execution_count": 5,
   "metadata": {},
   "outputs": [
    {
     "name": "stdout",
     "output_type": "stream",
     "text": [
      "tensor([[4, 9, 3, 0, 3],\n",
      "        [9, 7, 3, 7, 3]])\n",
      "tensor([[ 0.1604, -0.6065, -0.7831,  1.0622, -0.2613],\n",
      "        [ 1.0667,  0.4159,  0.8396, -0.8265, -0.7949]])\n",
      "tensor([[0.3051, 0.9320, 0.1759, 0.2698, 0.1507],\n",
      "        [0.0317, 0.2081, 0.9298, 0.7231, 0.7423]])\n"
     ]
    }
   ],
   "source": [
    "# Random integers\n",
    "print(torch.randint(0, 10, (2, 5)))\n",
    "\n",
    "# Random numbers drawn from a standard normal distribution\n",
    "print(torch.randn((2, 5)))\n",
    "\n",
    "# Random numbers drawn from a uniform distribution on the interval[0, 1)\n",
    "print(torch.rand((2, 5)))"
   ]
  },
  {
   "cell_type": "markdown",
   "metadata": {},
   "source": [
    "## Operations with Tensors\n",
    "\n"
   ]
  },
  {
   "cell_type": "markdown",
   "metadata": {},
   "source": [
    "For a full list of operations, you can refer to https://pytorch.org/docs/stable/torch.html"
   ]
  },
  {
   "cell_type": "code",
   "execution_count": 6,
   "metadata": {},
   "outputs": [
    {
     "name": "stdout",
     "output_type": "stream",
     "text": [
      "tensor([[11., 22., 33.],\n",
      "        [44., 55., 66.]])\n",
      "tensor([[ 10.,  40.,  90.],\n",
      "        [160., 250., 360.]])\n",
      "tensor([[  2.7183,   7.3891,  20.0855],\n",
      "        [ 54.5982, 148.4132, 403.4288]])\n"
     ]
    }
   ],
   "source": [
    "x = torch.Tensor([[1,2,3], [4,5,6]])\n",
    "y = torch.Tensor([[10, 20, 30], [40, 50, 60]])\n",
    "\n",
    "print(x + y)\n",
    "print(x * y)\n",
    "print(torch.exp(x))"
   ]
  },
  {
   "cell_type": "markdown",
   "metadata": {},
   "source": [
    "## Concatenation"
   ]
  },
  {
   "cell_type": "code",
   "execution_count": 7,
   "metadata": {},
   "outputs": [
    {
     "name": "stdout",
     "output_type": "stream",
     "text": [
      "torch.Size([4, 5])\n",
      "torch.Size([2, 10])\n"
     ]
    }
   ],
   "source": [
    "x_1 = torch.randn(2, 5)\n",
    "y_1 = torch.randn(2, 5)\n",
    "\n",
    "# Concatenation along axis 0\n",
    "z_1 = torch.cat((x_1, y_1))\n",
    "print(z_1.size())\n",
    "\n",
    "# Concatenation along axis 1\n",
    "z_2 = torch.cat((x_1, y_1), axis=1)\n",
    "print(z_2.size())"
   ]
  },
  {
   "cell_type": "markdown",
   "metadata": {},
   "source": [
    "## Reshaping Tensors"
   ]
  },
  {
   "cell_type": "code",
   "execution_count": 8,
   "metadata": {},
   "outputs": [
    {
     "name": "stdout",
     "output_type": "stream",
     "text": [
      "tensor([[[-9.3348e-02,  6.8705e-01, -8.3832e-01,  8.9182e-04],\n",
      "         [ 8.4189e-01, -4.0003e-01,  1.0395e+00,  3.5815e-01],\n",
      "         [ 7.3246e-02,  1.1133e+00,  2.8227e-01,  4.3423e-01]],\n",
      "\n",
      "        [[-8.0249e-01, -1.2952e+00, -7.5018e-01, -1.3120e+00],\n",
      "         [ 2.0642e-01, -3.3345e-01, -4.2883e-01,  2.3292e-01],\n",
      "         [ 7.9689e-01, -1.8484e-01, -3.7015e-01, -1.2103e+00]]])\n",
      "tensor([[-9.3348e-02,  6.8705e-01, -8.3832e-01,  8.9182e-04,  8.4189e-01,\n",
      "         -4.0003e-01,  1.0395e+00,  3.5815e-01,  7.3246e-02,  1.1133e+00,\n",
      "          2.8227e-01,  4.3423e-01],\n",
      "        [-8.0249e-01, -1.2952e+00, -7.5018e-01, -1.3120e+00,  2.0642e-01,\n",
      "         -3.3345e-01, -4.2883e-01,  2.3292e-01,  7.9689e-01, -1.8484e-01,\n",
      "         -3.7015e-01, -1.2103e+00]])\n",
      "tensor([[-9.3348e-02,  6.8705e-01, -8.3832e-01,  8.9182e-04,  8.4189e-01,\n",
      "         -4.0003e-01,  1.0395e+00,  3.5815e-01,  7.3246e-02,  1.1133e+00,\n",
      "          2.8227e-01,  4.3423e-01],\n",
      "        [-8.0249e-01, -1.2952e+00, -7.5018e-01, -1.3120e+00,  2.0642e-01,\n",
      "         -3.3345e-01, -4.2883e-01,  2.3292e-01,  7.9689e-01, -1.8484e-01,\n",
      "         -3.7015e-01, -1.2103e+00]])\n"
     ]
    }
   ],
   "source": [
    "x = torch.randn(2,3,4)\n",
    "print(x)\n",
    "print(x.view(2, 12))\n",
    "print(x.view(2, -1))"
   ]
  },
  {
   "cell_type": "markdown",
   "metadata": {},
   "source": [
    "## Computation Graphs and Automatic Differentiation\n",
    "\n",
    "The concept of a computation graph is essential to efficient deep learning programming, because it allows you to not have to write the back propagation gradients yourself. A computation graph is simply a specification of how your data is combined to give you the output. Since the graph totally specifies what parameters were involved with which operations, it contains enough information to compute derivatives. This probably sounds vague, so let’s see what is going on using the fundamental flag **requires_grad**.\n",
    "\n",
    "First, think from a programmers perspective. What is stored in the torch.Tensor objects we were creating above? Obviously the data and the shape, and maybe a few other things. But when we added two tensors together, we got an output tensor. All this output tensor knows is its data and shape. It has no idea that it was the sum of two other tensors (it could have been read in from a file, it could be the result of some other operation, etc.)\n",
    "\n",
    "If requires_grad=True, the Tensor object keeps track of how it was created. Lets see it in action."
   ]
  },
  {
   "cell_type": "code",
   "execution_count": 9,
   "metadata": {},
   "outputs": [
    {
     "name": "stdout",
     "output_type": "stream",
     "text": [
      "tensor([ 4., 10., 18.], grad_fn=<MulBackward0>)\n",
      "tensor([4., 5., 6.])\n",
      "tensor([1., 2., 3.])\n"
     ]
    }
   ],
   "source": [
    "x = torch.tensor([1., 2., 3.], requires_grad=True)\n",
    "y = torch.tensor([4. ,5., 6.], requires_grad=True)\n",
    "\n",
    "z = x*y\n",
    "print(z)\n",
    "\n",
    "s = z.sum()\n",
    "s.backward()\n",
    "print(x.grad)\n",
    "print(y.grad)\n"
   ]
  },
  {
   "cell_type": "markdown",
   "metadata": {},
   "source": [
    "This grad_fn is an internal thing used by autograd which holds the reference to the function (mathematical operator) that creates it. But we are not supposed to use that."
   ]
  },
  {
   "cell_type": "code",
   "execution_count": 10,
   "metadata": {
    "scrolled": true
   },
   "outputs": [
    {
     "name": "stdout",
     "output_type": "stream",
     "text": [
      "False False\n",
      "None\n"
     ]
    }
   ],
   "source": [
    "x = torch.randn(2, 2)\n",
    "y = torch.randn(2, 2)\n",
    "print(x.requires_grad, y.requires_grad)\n",
    "\n",
    "z = x + y\n",
    "print(z.grad_fn)"
   ]
  },
  {
   "cell_type": "code",
   "execution_count": 11,
   "metadata": {},
   "outputs": [
    {
     "name": "stdout",
     "output_type": "stream",
     "text": [
      "<AddBackward0 object at 0x7fdff0df7550>\n",
      "True\n",
      "tensor([[-0.7433, -0.4694],\n",
      "        [ 0.3229,  4.3425]])\n",
      "None\n"
     ]
    }
   ],
   "source": [
    "# You can set the requires_grad flag of a tensor to True by .requires_grad_()\n",
    "x.requires_grad_()\n",
    "y.requires_grad_()\n",
    "z = x + y\n",
    "print(z.grad_fn)\n",
    "print(z.requires_grad)\n",
    "\n",
    "new_z = z.detach()\n",
    "print(new_z)\n",
    "print(new_z.grad)"
   ]
  },
  {
   "cell_type": "markdown",
   "metadata": {},
   "source": [
    "## Example: Linear Regression with Pytorch"
   ]
  },
  {
   "cell_type": "markdown",
   "metadata": {},
   "source": [
    "We first need to prepare the dataset."
   ]
  },
  {
   "cell_type": "code",
   "execution_count": 12,
   "metadata": {},
   "outputs": [
    {
     "data": {
      "image/png": "[encoded data removed]",
      "text/plain": [
       "<Figure size 432x288 with 1 Axes>"
      ]
     },
     "metadata": {
      "needs_background": "light"
     },
     "output_type": "display_data"
    }
   ],
   "source": [
    "import matplotlib.pyplot as plt\n",
    "%matplotlib inline\n",
    "\n",
    "# f(x) = 4x + 7\n",
    "f = lambda x: 4 * x + 7\n",
    "\n",
    "X = 2 * torch.rand((100, 1)) - 1\n",
    "y = f(X) + 0.5 * torch.randn(100, 1)\n",
    "y = y.view(-1, 1)\n",
    "\n",
    "plt.scatter(X.numpy(), y.numpy());"
   ]
  },
  {
   "cell_type": "code",
   "execution_count": 13,
   "metadata": {
    "scrolled": true
   },
   "outputs": [],
   "source": [
    "class linearRegression(torch.nn.Module):\n",
    "    def __init__(self, inputSize, outputSize):\n",
    "        super(linearRegression, self).__init__()\n",
    "        self.linear = torch.nn.Linear(inputSize, outputSize)\n",
    "        \n",
    "    def forward(self, x):\n",
    "        out = self.linear(x)\n",
    "        return out\n",
    "    \n",
    "inputSize = 1\n",
    "outputSize = 1\n",
    "learningRate = 0.1\n",
    "epochs = 50\n",
    "\n",
    "model = linearRegression(inputSize, outputSize)"
   ]
  },
  {
   "cell_type": "code",
   "execution_count": 14,
   "metadata": {},
   "outputs": [
    {
     "data": {
      "text/plain": [
       "[<matplotlib.lines.Line2D at 0x7fdff0e75a30>]"
      ]
     },
     "execution_count": 14,
     "metadata": {},
     "output_type": "execute_result"
    },
    {
     "data": {
      "image/png": "[encoded data removed]",
      "text/plain": [
       "<Figure size 432x288 with 1 Axes>"
      ]
     },
     "metadata": {
      "needs_background": "light"
     },
     "output_type": "display_data"
    }
   ],
   "source": [
    "#Before Training\n",
    "\n",
    "X_test = np.linspace(-1, 1, 1000)\n",
    "y_test = model(torch.Tensor(X_test).view(-1, 1)).detach().numpy()\n",
    "\n",
    "plt.scatter(X, y)\n",
    "plt.plot(X_test, y_test)"
   ]
  },
  {
   "cell_type": "code",
   "execution_count": 15,
   "metadata": {
    "scrolled": true
   },
   "outputs": [
    {
     "name": "stdout",
     "output_type": "stream",
     "text": [
      "epoch 0, loss 47.45823669433594\n",
      "epoch 1, loss 32.0056266784668\n",
      "epoch 2, loss 21.929479598999023\n",
      "epoch 3, loss 15.315171241760254\n",
      "epoch 4, loss 10.935641288757324\n",
      "epoch 5, loss 8.003740310668945\n",
      "epoch 6, loss 6.013890266418457\n",
      "epoch 7, loss 4.640801906585693\n",
      "epoch 8, loss 3.674699306488037\n",
      "epoch 9, loss 2.9798855781555176\n",
      "epoch 10, loss 2.4682130813598633\n",
      "epoch 11, loss 2.0821118354797363\n",
      "epoch 12, loss 1.7837104797363281\n",
      "epoch 13, loss 1.5478637218475342\n",
      "epoch 14, loss 1.357681155204773\n",
      "epoch 15, loss 1.2016507387161255\n",
      "epoch 16, loss 1.0717884302139282\n",
      "epoch 17, loss 0.9624460339546204\n",
      "epoch 18, loss 0.869534432888031\n",
      "epoch 19, loss 0.7900229692459106\n",
      "epoch 20, loss 0.7216095924377441\n",
      "epoch 21, loss 0.6625040173530579\n",
      "epoch 22, loss 0.611283540725708\n",
      "epoch 23, loss 0.566794753074646\n",
      "epoch 24, loss 0.5280876755714417\n",
      "epoch 25, loss 0.4943690896034241\n",
      "epoch 26, loss 0.46496886014938354\n",
      "epoch 27, loss 0.43931663036346436\n",
      "epoch 28, loss 0.4169236123561859\n",
      "epoch 29, loss 0.397368460893631\n",
      "epoch 30, loss 0.38028717041015625\n",
      "epoch 31, loss 0.36536362767219543\n",
      "epoch 32, loss 0.3523235619068146\n",
      "epoch 33, loss 0.34092816710472107\n",
      "epoch 34, loss 0.33096909523010254\n",
      "epoch 35, loss 0.32226476073265076\n",
      "epoch 36, loss 0.31465697288513184\n",
      "epoch 37, loss 0.30800721049308777\n",
      "epoch 38, loss 0.3021947145462036\n",
      "epoch 39, loss 0.29711419343948364\n",
      "epoch 40, loss 0.2926732301712036\n",
      "epoch 41, loss 0.28879132866859436\n",
      "epoch 42, loss 0.28539803624153137\n",
      "epoch 43, loss 0.2824319005012512\n",
      "epoch 44, loss 0.2798391580581665\n",
      "epoch 45, loss 0.27757272124290466\n",
      "epoch 46, loss 0.27559158205986023\n",
      "epoch 47, loss 0.27385979890823364\n",
      "epoch 48, loss 0.27234598994255066\n",
      "epoch 49, loss 0.271022766828537\n"
     ]
    }
   ],
   "source": [
    "# Train our linear regression model\n",
    "criterion = torch.nn.MSELoss()\n",
    "optimizer = torch.optim.SGD(model.parameters(), lr=learningRate)\n",
    "\n",
    "for epoch in range(epochs):\n",
    "    optimizer.zero_grad()\n",
    "    outputs = model(X)\n",
    "    loss = criterion(outputs, y)\n",
    "    loss.backward()\n",
    "    \n",
    "    optimizer.step()\n",
    "    \n",
    "    print('epoch {}, loss {}'.format(epoch, loss.item()))"
   ]
  },
  {
   "cell_type": "code",
   "execution_count": 16,
   "metadata": {},
   "outputs": [
    {
     "data": {
      "text/plain": [
       "[<matplotlib.lines.Line2D at 0x7fe0104dcac0>]"
      ]
     },
     "execution_count": 16,
     "metadata": {},
     "output_type": "execute_result"
    },
    {
     "data": {
      "image/png": "[encoded data removed]",
      "text/plain": [
       "<Figure size 432x288 with 1 Axes>"
      ]
     },
     "metadata": {
      "needs_background": "light"
     },
     "output_type": "display_data"
    }
   ],
   "source": [
    "X_test = np.linspace(-1, 1, 1000)\n",
    "y_test = model(torch.Tensor(X_test).view(-1, 1)).detach().numpy()\n",
    "\n",
    "plt.scatter(X, y)\n",
    "plt.plot(X_test, y_test)"
   ]
  },
  {
   "cell_type": "markdown",
   "metadata": {},
   "source": [
    "## DataLoader\n",
    "\n",
    "Note that we use gradient descent in the above example because our dataset is rediculously simple. However, for larget datasets, we often need to do mini-batch gradient descent. So we will use Pytorch's DataLoader class to do this job. We tell it which dataset to use , the desired mini-batch size and if we'd like to shuffle it or not. Our dataloader behaves like an iterator so that we can loop over it and fetch a different mini-batch every time. Let's repeat our training process with mini-batch gradient descent."
   ]
  },
  {
   "cell_type": "markdown",
   "metadata": {},
   "source": [
    "In order to use DataLoader in Pytorch, we need to first build a dataset which is represented by a regualr Python class the inherits from the **Dataset** class."
   ]
  },
  {
   "cell_type": "code",
   "execution_count": 17,
   "metadata": {},
   "outputs": [],
   "source": [
    "from torch.utils.data import Dataset\n",
    "\n",
    "class MyDataset(Dataset):\n",
    "    def __init__(self, x_tensor, y_tensor):\n",
    "        self.x = x_tensor\n",
    "        self.y = y_tensor\n",
    "    \n",
    "    def __getitem__(self, index):\n",
    "        return (self.x[index], self.y[index])\n",
    "    \n",
    "    def __len__(self):\n",
    "        return self.y.size()[0]"
   ]
  },
  {
   "cell_type": "code",
   "execution_count": 18,
   "metadata": {},
   "outputs": [],
   "source": [
    "from torch.utils.data import DataLoader\n",
    "model = linearRegression(inputSize, outputSize)\n",
    "dataset = MyDataset(X, y)\n",
    "train_loader = DataLoader(dataset, batch_size = 10, shuffle=True)"
   ]
  },
  {
   "cell_type": "code",
   "execution_count": 19,
   "metadata": {},
   "outputs": [
    {
     "name": "stdout",
     "output_type": "stream",
     "text": [
      "epoch 0, loss 14.74139175415039\n",
      "epoch 1, loss 1.2427824795246125\n",
      "epoch 2, loss 0.4990119069814682\n",
      "epoch 3, loss 0.3247808441519737\n",
      "epoch 4, loss 0.28732679039239883\n",
      "epoch 5, loss 0.27557157054543496\n",
      "epoch 6, loss 0.2695241987705231\n",
      "epoch 7, loss 0.26905782967805864\n",
      "epoch 8, loss 0.26677989065647123\n",
      "epoch 9, loss 0.26708001270890236\n"
     ]
    }
   ],
   "source": [
    "epochs = 10\n",
    "\n",
    "criterion = torch.nn.MSELoss()\n",
    "optimizer = torch.optim.SGD(model.parameters(), lr=learningRate)\n",
    "\n",
    "for epoch in range(epochs):\n",
    "    losses = []\n",
    "    for x_batch, y_batch in train_loader:\n",
    "        optimizer.zero_grad()\n",
    "        outputs = model(x_batch)\n",
    "        loss = criterion(outputs, y_batch)\n",
    "        loss.backward()\n",
    "        losses.append(loss.item())\n",
    "        optimizer.step()\n",
    "    \n",
    "    print('epoch {}, loss {}'.format(epoch, np.mean(losses)))"
   ]
  },
  {
   "cell_type": "code",
   "execution_count": 20,
   "metadata": {},
   "outputs": [
    {
     "data": {
      "text/plain": [
       "[<matplotlib.lines.Line2D at 0x7fe010114eb0>]"
      ]
     },
     "execution_count": 20,
     "metadata": {},
     "output_type": "execute_result"
    },
    {
     "data": {
      "image/png": "[encoded data removed]",
      "text/plain": [
       "<Figure size 432x288 with 1 Axes>"
      ]
     },
     "metadata": {
      "needs_background": "light"
     },
     "output_type": "display_data"
    }
   ],
   "source": [
    "X_test = np.linspace(-1, 1, 1000)\n",
    "y_test = model(torch.Tensor(X_test).view(-1, 1)).detach().numpy()\n",
    "\n",
    "plt.scatter(X, y)\n",
    "plt.plot(X_test, y_test)"
   ]
  },
  {
   "cell_type": "markdown",
   "metadata": {},
   "source": [
    "## Exercise: Multi-Class Logistic (Softmax) Regression with Pytorch\n",
    "\n"
   ]
  },
  {
   "cell_type": "markdown",
   "metadata": {},
   "source": [
    "Train a logistic regression model on iris dataset."
   ]
  },
  {
   "cell_type": "code",
   "execution_count": 21,
   "metadata": {},
   "outputs": [],
   "source": [
    "import pandas\n",
    "import sklearn.datasets\n",
    "from sklearn.preprocessing import LabelEncoder\n",
    "from torch.utils.data import random_split\n",
    "\n",
    "iris = sklearn.datasets.load_iris()\n",
    "X = iris.data   \n",
    "\n",
    "lbls = LabelEncoder()\n",
    "y = iris.target\n",
    "\n",
    "X_tensor = torch.from_numpy(X).float()\n",
    "y_tensor = torch.from_numpy(y)\n",
    "\n",
    "dataset = MyDataset(X_tensor, y_tensor)\n",
    "train_set, test_set = random_split(dataset, [int(len(dataset) * 0.8), int(len(dataset) * 0.2)])"
   ]
  },
  {
   "cell_type": "code",
   "execution_count": 22,
   "metadata": {},
   "outputs": [
    {
     "name": "stdout",
     "output_type": "stream",
     "text": [
      "120\n",
      "30\n"
     ]
    }
   ],
   "source": [
    "print(len(train_set))\n",
    "print(len(test_set))"
   ]
  },
  {
   "cell_type": "code",
   "execution_count": 23,
   "metadata": {},
   "outputs": [
    {
     "data": {
      "text/plain": [
       "4"
      ]
     },
     "execution_count": 23,
     "metadata": {},
     "output_type": "execute_result"
    }
   ],
   "source": [
    "X.shape[1]"
   ]
  },
  {
   "cell_type": "markdown",
   "metadata": {},
   "source": [
    "### Solution"
   ]
  },
  {
   "cell_type": "code",
   "execution_count": 24,
   "metadata": {},
   "outputs": [
    {
     "name": "stdout",
     "output_type": "stream",
     "text": [
      "epoch 0, loss 1.6181091169516246, train accuracy 0.36666666666666664\n",
      "epoch 1, loss 1.3227699895699818, train accuracy 0.49999999999999994\n",
      "epoch 2, loss 0.7545431305964788, train accuracy 0.6916666666666668\n",
      "epoch 3, loss 0.7195869237184525, train accuracy 0.6666666666666666\n",
      "epoch 4, loss 0.594997227191925, train accuracy 0.7000000000000001\n",
      "epoch 5, loss 0.7037254472573599, train accuracy 0.7583333333333334\n",
      "epoch 6, loss 0.7134008432428042, train accuracy 0.7166666666666667\n",
      "epoch 7, loss 0.5295700008670489, train accuracy 0.7583333333333334\n",
      "epoch 8, loss 0.5165602682779232, train accuracy 0.8083333333333335\n",
      "epoch 9, loss 0.5222986588875452, train accuracy 0.7666666666666667\n",
      "epoch 10, loss 0.37486159677306813, train accuracy 0.8250000000000001\n",
      "epoch 11, loss 0.6267663016915321, train accuracy 0.75\n",
      "epoch 12, loss 0.3424242436885834, train accuracy 0.8666666666666667\n",
      "epoch 13, loss 0.8109173427025477, train accuracy 0.6666666666666666\n",
      "epoch 14, loss 0.3681646486123403, train accuracy 0.8083333333333332\n",
      "epoch 15, loss 0.3550716352959474, train accuracy 0.8666666666666667\n",
      "epoch 16, loss 0.27200009301304817, train accuracy 0.9249999999999999\n",
      "epoch 17, loss 0.38819629698991776, train accuracy 0.8333333333333334\n",
      "epoch 18, loss 0.33750455516080063, train accuracy 0.8666666666666667\n",
      "epoch 19, loss 0.47372936457395554, train accuracy 0.7749999999999999\n",
      "epoch 20, loss 0.2627885043621063, train accuracy 0.9\n",
      "epoch 21, loss 0.4441945366561413, train accuracy 0.7916666666666666\n",
      "epoch 22, loss 0.3134366807838281, train accuracy 0.8000000000000002\n",
      "epoch 23, loss 0.26341260969638824, train accuracy 0.9\n",
      "epoch 24, loss 0.31660925100247067, train accuracy 0.9\n",
      "epoch 25, loss 0.21092373381058374, train accuracy 0.9416666666666668\n",
      "epoch 26, loss 0.3470996081208189, train accuracy 0.8333333333333335\n",
      "epoch 27, loss 0.33662711332241696, train accuracy 0.85\n",
      "epoch 28, loss 0.4303976623341441, train accuracy 0.8500000000000001\n",
      "epoch 29, loss 0.23692081434031328, train accuracy 0.9250000000000002\n",
      "epoch 30, loss 0.29504550620913506, train accuracy 0.8583333333333334\n",
      "epoch 31, loss 0.21496017960210642, train accuracy 0.9416666666666668\n",
      "epoch 32, loss 0.19687915096680322, train accuracy 0.9416666666666668\n",
      "epoch 33, loss 0.23093831663330397, train accuracy 0.9166666666666669\n",
      "epoch 34, loss 0.28267477080225945, train accuracy 0.8833333333333334\n",
      "epoch 35, loss 0.20257354124138752, train accuracy 0.9250000000000002\n",
      "epoch 36, loss 0.21581495615343252, train accuracy 0.9166666666666669\n",
      "epoch 37, loss 0.2121873882909616, train accuracy 0.9333333333333335\n",
      "epoch 38, loss 0.1600688217828671, train accuracy 0.9833333333333334\n",
      "epoch 39, loss 0.16073037311434746, train accuracy 0.9583333333333335\n",
      "epoch 40, loss 0.24614524592955908, train accuracy 0.9\n",
      "epoch 41, loss 0.1763516627252102, train accuracy 0.9500000000000001\n",
      "epoch 42, loss 0.18434516697501144, train accuracy 0.9583333333333334\n",
      "epoch 43, loss 0.19489355199038982, train accuracy 0.9333333333333332\n",
      "epoch 44, loss 0.1818843837827444, train accuracy 0.9333333333333335\n",
      "epoch 45, loss 0.18016318262865147, train accuracy 0.9333333333333335\n",
      "epoch 46, loss 0.22640681639313698, train accuracy 0.9250000000000002\n",
      "epoch 47, loss 0.15939635100464025, train accuracy 0.9750000000000001\n",
      "epoch 48, loss 0.15506514037648836, train accuracy 0.9666666666666668\n",
      "epoch 49, loss 0.1827407693490386, train accuracy 0.9583333333333335\n",
      "epoch 50, loss 0.16970453908046088, train accuracy 0.9333333333333335\n",
      "epoch 51, loss 0.15338743602236113, train accuracy 0.9583333333333334\n",
      "epoch 52, loss 0.2057124494264523, train accuracy 0.9249999999999999\n",
      "epoch 53, loss 0.17195254005491734, train accuracy 0.9500000000000001\n",
      "epoch 54, loss 0.15888477116823196, train accuracy 0.9583333333333334\n",
      "epoch 55, loss 0.17312613191703954, train accuracy 0.9666666666666667\n",
      "epoch 56, loss 0.15534259378910065, train accuracy 0.9666666666666667\n",
      "epoch 57, loss 0.15748773980885744, train accuracy 0.9500000000000001\n",
      "epoch 58, loss 0.16480931670715412, train accuracy 0.9416666666666668\n",
      "epoch 59, loss 0.1561503286163012, train accuracy 0.9666666666666667\n",
      "epoch 60, loss 0.1604155314465364, train accuracy 0.9500000000000001\n",
      "epoch 61, loss 0.16284938715398312, train accuracy 0.9500000000000001\n",
      "epoch 62, loss 0.15757654855648676, train accuracy 0.9500000000000001\n",
      "epoch 63, loss 0.19340812725325426, train accuracy 0.9416666666666668\n",
      "epoch 64, loss 0.2510578688234091, train accuracy 0.8916666666666666\n",
      "epoch 65, loss 0.13212502344201008, train accuracy 0.9666666666666667\n",
      "epoch 66, loss 0.14943680415550867, train accuracy 0.9666666666666667\n",
      "epoch 67, loss 0.1464035858710607, train accuracy 0.9666666666666667\n",
      "epoch 68, loss 0.1524233277887106, train accuracy 0.9500000000000001\n",
      "epoch 69, loss 0.2054603866611918, train accuracy 0.9416666666666669\n",
      "epoch 70, loss 0.16455713473260403, train accuracy 0.9416666666666668\n",
      "epoch 71, loss 0.14314834397130957, train accuracy 0.9666666666666667\n",
      "epoch 72, loss 0.1403094915052255, train accuracy 0.9666666666666667\n",
      "epoch 73, loss 0.14469918111960092, train accuracy 0.9500000000000001\n",
      "epoch 74, loss 0.139042180031538, train accuracy 0.9833333333333334\n",
      "epoch 75, loss 0.1365116536617279, train accuracy 0.9416666666666668\n",
      "epoch 76, loss 0.14645402040332556, train accuracy 0.9500000000000001\n",
      "epoch 77, loss 0.18768727344771227, train accuracy 0.9333333333333332\n",
      "epoch 78, loss 0.12271618532637756, train accuracy 0.9666666666666667\n",
      "epoch 79, loss 0.1326970855394999, train accuracy 0.9666666666666667\n",
      "epoch 80, loss 0.13997780966262022, train accuracy 0.9583333333333334\n",
      "epoch 81, loss 0.12846944388002157, train accuracy 0.9583333333333334\n",
      "epoch 82, loss 0.15588439628481865, train accuracy 0.9500000000000001\n",
      "epoch 83, loss 0.13002281046162048, train accuracy 0.9666666666666667\n",
      "epoch 84, loss 0.11267045155788462, train accuracy 0.9583333333333334\n",
      "epoch 85, loss 0.11424608404437701, train accuracy 0.9666666666666667\n",
      "epoch 86, loss 0.1440457422286272, train accuracy 0.9500000000000001\n",
      "epoch 87, loss 0.13691242597997189, train accuracy 0.9583333333333334\n",
      "epoch 88, loss 0.12526701825360456, train accuracy 0.9500000000000001\n",
      "epoch 89, loss 0.16798761766403913, train accuracy 0.9333333333333335\n",
      "epoch 90, loss 0.11006941522161166, train accuracy 0.9750000000000001\n",
      "epoch 91, loss 0.13188565243035555, train accuracy 0.9500000000000001\n",
      "epoch 92, loss 0.129604565910995, train accuracy 0.9583333333333334\n",
      "epoch 93, loss 0.1345441648736596, train accuracy 0.9583333333333334\n",
      "epoch 94, loss 0.13108089131613573, train accuracy 0.9333333333333335\n",
      "epoch 95, loss 0.15689395585407814, train accuracy 0.9333333333333335\n",
      "epoch 96, loss 0.129661509146293, train accuracy 0.9416666666666668\n",
      "epoch 97, loss 0.11992284872879584, train accuracy 0.9583333333333334\n",
      "epoch 98, loss 0.13519927704085907, train accuracy 0.9583333333333335\n",
      "epoch 99, loss 0.14982932092001042, train accuracy 0.9500000000000001\n"
     ]
    }
   ],
   "source": [
    "from sklearn.metrics import accuracy_score\n",
    "\n",
    "inputDim = X.shape[1]\n",
    "outputDim = 3\n",
    "\n",
    "class logisticRegression(torch.nn.Module):\n",
    "    def __init__(self, inputSize, outputSize):\n",
    "        super(logisticRegression, self).__init__()\n",
    "        self.linear = torch.nn.Linear(inputSize, outputSize)\n",
    "        \n",
    "    def forward(self, x):\n",
    "        out = self.linear(x)\n",
    "        return out\n",
    "    \n",
    "model = logisticRegression(inputDim, outputDim)\n",
    "\n",
    "dataloader = DataLoader(train_set, batch_size = 10, shuffle = True)\n",
    "\n",
    "criterion = torch.nn.CrossEntropyLoss()\n",
    "optimizer = torch.optim.SGD(model.parameters(),lr=learningRate)\n",
    "\n",
    "epochs = 100\n",
    "\n",
    "for epoch in range(epochs):\n",
    "    losses = []\n",
    "    train_accuracy = []\n",
    "    for x_batch, y_batch in dataloader:\n",
    "        optimizer.zero_grad()\n",
    "        \n",
    "        output = model(x_batch)\n",
    "        loss = criterion(output, y_batch)\n",
    "        loss.backward()\n",
    "        losses.append(loss.item())\n",
    "        train_accuracy.append(accuracy_score(y_batch, np.argmax(output.detach().numpy(), axis = 1)))\n",
    "        \n",
    "        optimizer.step()\n",
    "    \n",
    "    print('epoch {}, loss {}, train accuracy {}'.format(epoch, np.mean(losses), np.mean(train_accuracy)))\n",
    "\n",
    "# inputSize = 1\n",
    "# outputSize = 1\n",
    "# learningRate = 0.1\n",
    "# epochs = 50\n",
    "\n",
    "# model = linearRegression(inputSize, outputSize)"
   ]
  },
  {
   "cell_type": "code",
   "execution_count": 25,
   "metadata": {},
   "outputs": [
    {
     "name": "stdout",
     "output_type": "stream",
     "text": [
      "Test accuracy: 1.0\n"
     ]
    }
   ],
   "source": [
    "x_test, y_test = test_set[:]\n",
    "\n",
    "with torch.no_grad():\n",
    "    test_accuracy = accuracy_score(np.argmax(model(x_test).numpy(), axis=1), y_test)\n",
    "    \n",
    "print(\"Test accuracy: {}\".format(test_accuracy))"
   ]
  },
  {
   "cell_type": "markdown",
   "metadata": {},
   "source": [
    "### Salary Dataset"
   ]
  },
  {
   "cell_type": "code",
   "execution_count": 27,
   "metadata": {},
   "outputs": [
    {
     "data": {
      "text/html": [
       "<div>\n",
       "<style scoped>\n",
       "    .dataframe tbody tr th:only-of-type {\n",
       "        vertical-align: middle;\n",
       "    }\n",
       "\n",
       "    .dataframe tbody tr th {\n",
       "        vertical-align: top;\n",
       "    }\n",
       "\n",
       "    .dataframe thead th {\n",
       "        text-align: right;\n",
       "    }\n",
       "</style>\n",
       "<table border=\"1\" class=\"dataframe\">\n",
       "  <thead>\n",
       "    <tr style=\"text-align: right;\">\n",
       "      <th></th>\n",
       "      <th>intern_num</th>\n",
       "      <th>max_sal</th>\n",
       "      <th>min_sal</th>\n",
       "      <th>city</th>\n",
       "      <th>month_num</th>\n",
       "      <th>day</th>\n",
       "      <th>2000</th>\n",
       "      <th>500-2000</th>\n",
       "      <th>50-500</th>\n",
       "      <th>&lt;50</th>\n",
       "      <th>...</th>\n",
       "      <th>专员</th>\n",
       "      <th>产品</th>\n",
       "      <th>销售</th>\n",
       "      <th>开发</th>\n",
       "      <th>工程师</th>\n",
       "      <th>助理</th>\n",
       "      <th>运营</th>\n",
       "      <th>GDP(billion)</th>\n",
       "      <th>GDP per capita</th>\n",
       "      <th>Population(thousand)</th>\n",
       "    </tr>\n",
       "  </thead>\n",
       "  <tbody>\n",
       "    <tr>\n",
       "      <th>0</th>\n",
       "      <td>176</td>\n",
       "      <td>150</td>\n",
       "      <td>100</td>\n",
       "      <td>北京</td>\n",
       "      <td>3</td>\n",
       "      <td>3</td>\n",
       "      <td>1</td>\n",
       "      <td>0</td>\n",
       "      <td>0</td>\n",
       "      <td>0</td>\n",
       "      <td>...</td>\n",
       "      <td>0</td>\n",
       "      <td>0</td>\n",
       "      <td>0</td>\n",
       "      <td>0</td>\n",
       "      <td>0</td>\n",
       "      <td>0</td>\n",
       "      <td>0</td>\n",
       "      <td>3500.0</td>\n",
       "      <td>162518.5736</td>\n",
       "      <td>21536.0</td>\n",
       "    </tr>\n",
       "    <tr>\n",
       "      <th>1</th>\n",
       "      <td>390</td>\n",
       "      <td>150</td>\n",
       "      <td>120</td>\n",
       "      <td>北京</td>\n",
       "      <td>3</td>\n",
       "      <td>5</td>\n",
       "      <td>1</td>\n",
       "      <td>0</td>\n",
       "      <td>0</td>\n",
       "      <td>0</td>\n",
       "      <td>...</td>\n",
       "      <td>0</td>\n",
       "      <td>0</td>\n",
       "      <td>0</td>\n",
       "      <td>0</td>\n",
       "      <td>0</td>\n",
       "      <td>0</td>\n",
       "      <td>0</td>\n",
       "      <td>3500.0</td>\n",
       "      <td>162518.5736</td>\n",
       "      <td>21536.0</td>\n",
       "    </tr>\n",
       "    <tr>\n",
       "      <th>2</th>\n",
       "      <td>44</td>\n",
       "      <td>300</td>\n",
       "      <td>150</td>\n",
       "      <td>北京</td>\n",
       "      <td>5</td>\n",
       "      <td>4</td>\n",
       "      <td>1</td>\n",
       "      <td>0</td>\n",
       "      <td>0</td>\n",
       "      <td>0</td>\n",
       "      <td>...</td>\n",
       "      <td>0</td>\n",
       "      <td>0</td>\n",
       "      <td>0</td>\n",
       "      <td>1</td>\n",
       "      <td>1</td>\n",
       "      <td>0</td>\n",
       "      <td>0</td>\n",
       "      <td>3500.0</td>\n",
       "      <td>162518.5736</td>\n",
       "      <td>21536.0</td>\n",
       "    </tr>\n",
       "    <tr>\n",
       "      <th>3</th>\n",
       "      <td>486</td>\n",
       "      <td>200</td>\n",
       "      <td>150</td>\n",
       "      <td>北京</td>\n",
       "      <td>4</td>\n",
       "      <td>5</td>\n",
       "      <td>1</td>\n",
       "      <td>0</td>\n",
       "      <td>0</td>\n",
       "      <td>0</td>\n",
       "      <td>...</td>\n",
       "      <td>0</td>\n",
       "      <td>0</td>\n",
       "      <td>0</td>\n",
       "      <td>0</td>\n",
       "      <td>0</td>\n",
       "      <td>1</td>\n",
       "      <td>0</td>\n",
       "      <td>3500.0</td>\n",
       "      <td>162518.5736</td>\n",
       "      <td>21536.0</td>\n",
       "    </tr>\n",
       "    <tr>\n",
       "      <th>4</th>\n",
       "      <td>390</td>\n",
       "      <td>150</td>\n",
       "      <td>100</td>\n",
       "      <td>北京</td>\n",
       "      <td>3</td>\n",
       "      <td>5</td>\n",
       "      <td>1</td>\n",
       "      <td>0</td>\n",
       "      <td>0</td>\n",
       "      <td>0</td>\n",
       "      <td>...</td>\n",
       "      <td>0</td>\n",
       "      <td>0</td>\n",
       "      <td>0</td>\n",
       "      <td>0</td>\n",
       "      <td>0</td>\n",
       "      <td>0</td>\n",
       "      <td>1</td>\n",
       "      <td>3500.0</td>\n",
       "      <td>162518.5736</td>\n",
       "      <td>21536.0</td>\n",
       "    </tr>\n",
       "  </tbody>\n",
       "</table>\n",
       "<p>5 rows × 70 columns</p>\n",
       "</div>"
      ],
      "text/plain": [
       "   intern_num  max_sal  min_sal city  month_num  day  2000  500-2000  50-500  \\\n",
       "0         176      150      100   北京          3    3     1         0       0   \n",
       "1         390      150      120   北京          3    5     1         0       0   \n",
       "2          44      300      150   北京          5    4     1         0       0   \n",
       "3         486      200      150   北京          4    5     1         0       0   \n",
       "4         390      150      100   北京          3    5     1         0       0   \n",
       "\n",
       "   <50  ...  专员  产品  销售  开发  工程师  助理  运营  GDP(billion)  GDP per capita  \\\n",
       "0    0  ...   0   0   0   0    0   0   0        3500.0     162518.5736   \n",
       "1    0  ...   0   0   0   0    0   0   0        3500.0     162518.5736   \n",
       "2    0  ...   0   0   0   1    1   0   0        3500.0     162518.5736   \n",
       "3    0  ...   0   0   0   0    0   1   0        3500.0     162518.5736   \n",
       "4    0  ...   0   0   0   0    0   0   1        3500.0     162518.5736   \n",
       "\n",
       "   Population(thousand)  \n",
       "0               21536.0  \n",
       "1               21536.0  \n",
       "2               21536.0  \n",
       "3               21536.0  \n",
       "4               21536.0  \n",
       "\n",
       "[5 rows x 70 columns]"
      ]
     },
     "execution_count": 27,
     "metadata": {},
     "output_type": "execute_result"
    }
   ],
   "source": [
    "import pandas as pd\n",
    "import numpy as np\n",
    "from matplotlib import pyplot as plt\n",
    "\n",
    "data = pd.read_csv(\"formated_data_1111.csv\")\n",
    "data.head()"
   ]
  },
  {
   "cell_type": "code",
   "execution_count": 28,
   "metadata": {},
   "outputs": [
    {
     "name": "stderr",
     "output_type": "stream",
     "text": [
      "<ipython-input-28-dad69ffd2c16>:6: SettingWithCopyWarning: \n",
      "A value is trying to be set on a copy of a slice from a DataFrame.\n",
      "Try using .loc[row_indexer,col_indexer] = value instead\n",
      "\n",
      "See the caveats in the documentation: https://pandas.pydata.org/pandas-docs/stable/user_guide/indexing.html#returning-a-view-versus-a-copy\n",
      "  data_1['scale'] = data_1['2000']*5000 + data_1['500-2000']*1250 + data_1['50-500']*275 + data_1['<50']*25\n"
     ]
    }
   ],
   "source": [
    "# Min_Max scaler for GDP\n",
    "data['GDP'] = (data['GDP per capita'] - \n",
    "               data['GDP per capita'].min())/(data['GDP per capita'].max() - data['GDP per capita'].min())\n",
    "\n",
    "data_1 = data[['intern_num','max_sal','min_sal','GDP per capita','GDP','month_num','day','2000','500-2000','50-500','<50','互联网','教育','房产','广告','金融','企业服务','快消','电子','医疗','汽车']]\n",
    "data_1['scale'] = data_1['2000']*5000 + data_1['500-2000']*1250 + data_1['50-500']*275 + data_1['<50']*25 \n",
    "data_1\n",
    "\n",
    "#确定 X和 y\n",
    "\n",
    "X = data_1[['intern_num','GDP per capita','month_num','day','2000','500-2000','50-500','<50','互联网','教育','房产','广告','金融','企业服务','快消','电子','医疗','汽车']]\n",
    "# X = data_1[['intern_num','GDP','month_num','day','2000','500-2000','50-500','<50']]\n",
    "X = data_1[['intern_num','GDP per capita','month_num','day','scale']]\n",
    "y = data_1['max_sal']"
   ]
  },
  {
   "cell_type": "code",
   "execution_count": 29,
   "metadata": {},
   "outputs": [
    {
     "data": {
      "text/plain": [
       "(array([1004.,    0.,    0., 1545.,    0.,    0., 1434.,    0.,    0.,\n",
       "         967.]),\n",
       " array([0. , 0.3, 0.6, 0.9, 1.2, 1.5, 1.8, 2.1, 2.4, 2.7, 3. ]),\n",
       " <a list of 10 Patch objects>)"
      ]
     },
     "execution_count": 29,
     "metadata": {},
     "output_type": "execute_result"
    },
    {
     "data": {
      "image/png": "[encoded data removed]",
      "text/plain": [
       "<Figure size 432x288 with 1 Axes>"
      ]
     },
     "metadata": {
      "needs_background": "light"
     },
     "output_type": "display_data"
    }
   ],
   "source": [
    "label = []\n",
    "max_sal = data['max_sal'].to_numpy()\n",
    "for i in max_sal:\n",
    "    if i in range(0,150):\n",
    "        label.append(0)\n",
    "    elif i in range(150,175):\n",
    "        label.append(1)\n",
    "    elif i in range(175,250):\n",
    "        label.append(2)\n",
    "    else:\n",
    "        label.append(3)\n",
    "y = np.array(label)\n",
    "y.reshape(len(label),1)\n",
    "plt.hist(y)"
   ]
  },
  {
   "cell_type": "code",
   "execution_count": 30,
   "metadata": {},
   "outputs": [
    {
     "data": {
      "text/plain": [
       "4950"
      ]
     },
     "execution_count": 30,
     "metadata": {},
     "output_type": "execute_result"
    }
   ],
   "source": [
    "X.shape[0]"
   ]
  },
  {
   "cell_type": "code",
   "execution_count": 31,
   "metadata": {},
   "outputs": [
    {
     "data": {
      "text/plain": [
       "5"
      ]
     },
     "execution_count": 31,
     "metadata": {},
     "output_type": "execute_result"
    }
   ],
   "source": [
    "X.shape[1]"
   ]
  },
  {
   "cell_type": "code",
   "execution_count": 32,
   "metadata": {},
   "outputs": [
    {
     "data": {
      "text/html": [
       "<div>\n",
       "<style scoped>\n",
       "    .dataframe tbody tr th:only-of-type {\n",
       "        vertical-align: middle;\n",
       "    }\n",
       "\n",
       "    .dataframe tbody tr th {\n",
       "        vertical-align: top;\n",
       "    }\n",
       "\n",
       "    .dataframe thead th {\n",
       "        text-align: right;\n",
       "    }\n",
       "</style>\n",
       "<table border=\"1\" class=\"dataframe\">\n",
       "  <thead>\n",
       "    <tr style=\"text-align: right;\">\n",
       "      <th></th>\n",
       "      <th>intern_num</th>\n",
       "      <th>GDP per capita</th>\n",
       "      <th>month_num</th>\n",
       "      <th>day</th>\n",
       "      <th>scale</th>\n",
       "    </tr>\n",
       "  </thead>\n",
       "  <tbody>\n",
       "    <tr>\n",
       "      <th>0</th>\n",
       "      <td>176</td>\n",
       "      <td>162518.5736</td>\n",
       "      <td>3</td>\n",
       "      <td>3</td>\n",
       "      <td>5000</td>\n",
       "    </tr>\n",
       "    <tr>\n",
       "      <th>1</th>\n",
       "      <td>390</td>\n",
       "      <td>162518.5736</td>\n",
       "      <td>3</td>\n",
       "      <td>5</td>\n",
       "      <td>5000</td>\n",
       "    </tr>\n",
       "    <tr>\n",
       "      <th>2</th>\n",
       "      <td>44</td>\n",
       "      <td>162518.5736</td>\n",
       "      <td>5</td>\n",
       "      <td>4</td>\n",
       "      <td>5000</td>\n",
       "    </tr>\n",
       "    <tr>\n",
       "      <th>3</th>\n",
       "      <td>486</td>\n",
       "      <td>162518.5736</td>\n",
       "      <td>4</td>\n",
       "      <td>5</td>\n",
       "      <td>5000</td>\n",
       "    </tr>\n",
       "    <tr>\n",
       "      <th>4</th>\n",
       "      <td>390</td>\n",
       "      <td>162518.5736</td>\n",
       "      <td>3</td>\n",
       "      <td>5</td>\n",
       "      <td>5000</td>\n",
       "    </tr>\n",
       "    <tr>\n",
       "      <th>...</th>\n",
       "      <td>...</td>\n",
       "      <td>...</td>\n",
       "      <td>...</td>\n",
       "      <td>...</td>\n",
       "      <td>...</td>\n",
       "    </tr>\n",
       "    <tr>\n",
       "      <th>4945</th>\n",
       "      <td>73</td>\n",
       "      <td>169782.5765</td>\n",
       "      <td>6</td>\n",
       "      <td>5</td>\n",
       "      <td>1250</td>\n",
       "    </tr>\n",
       "    <tr>\n",
       "      <th>4946</th>\n",
       "      <td>96</td>\n",
       "      <td>169782.5765</td>\n",
       "      <td>3</td>\n",
       "      <td>5</td>\n",
       "      <td>1250</td>\n",
       "    </tr>\n",
       "    <tr>\n",
       "      <th>4947</th>\n",
       "      <td>96</td>\n",
       "      <td>169782.5765</td>\n",
       "      <td>3</td>\n",
       "      <td>5</td>\n",
       "      <td>1250</td>\n",
       "    </tr>\n",
       "    <tr>\n",
       "      <th>4948</th>\n",
       "      <td>96</td>\n",
       "      <td>169782.5765</td>\n",
       "      <td>3</td>\n",
       "      <td>5</td>\n",
       "      <td>1250</td>\n",
       "    </tr>\n",
       "    <tr>\n",
       "      <th>4949</th>\n",
       "      <td>22</td>\n",
       "      <td>169782.5765</td>\n",
       "      <td>3</td>\n",
       "      <td>4</td>\n",
       "      <td>5000</td>\n",
       "    </tr>\n",
       "  </tbody>\n",
       "</table>\n",
       "<p>4950 rows × 5 columns</p>\n",
       "</div>"
      ],
      "text/plain": [
       "      intern_num  GDP per capita  month_num  day  scale\n",
       "0            176     162518.5736          3    3   5000\n",
       "1            390     162518.5736          3    5   5000\n",
       "2             44     162518.5736          5    4   5000\n",
       "3            486     162518.5736          4    5   5000\n",
       "4            390     162518.5736          3    5   5000\n",
       "...          ...             ...        ...  ...    ...\n",
       "4945          73     169782.5765          6    5   1250\n",
       "4946          96     169782.5765          3    5   1250\n",
       "4947          96     169782.5765          3    5   1250\n",
       "4948          96     169782.5765          3    5   1250\n",
       "4949          22     169782.5765          3    4   5000\n",
       "\n",
       "[4950 rows x 5 columns]"
      ]
     },
     "execution_count": 32,
     "metadata": {},
     "output_type": "execute_result"
    }
   ],
   "source": [
    "X"
   ]
  },
  {
   "cell_type": "code",
   "execution_count": 33,
   "metadata": {},
   "outputs": [
    {
     "name": "stdout",
     "output_type": "stream",
     "text": [
      "3960\n",
      "990\n"
     ]
    }
   ],
   "source": [
    "X_tensor = torch.from_numpy(np.asarray(X)).float()\n",
    "y_tensor = torch.from_numpy(y)\n",
    "\n",
    "dataset = MyDataset(X_tensor, y_tensor)\n",
    "train_set, test_set = random_split(dataset, [int(len(dataset) * 0.8), int(len(dataset) * 0.2)])\n",
    "\n",
    "print(len(train_set))\n",
    "print(len(test_set))"
   ]
  },
  {
   "cell_type": "code",
   "execution_count": 34,
   "metadata": {},
   "outputs": [
    {
     "data": {
      "text/plain": [
       "tensor([0, 1, 2, 3])"
      ]
     },
     "execution_count": 34,
     "metadata": {},
     "output_type": "execute_result"
    }
   ],
   "source": [
    "y_tensor.unique()"
   ]
  },
  {
   "cell_type": "code",
   "execution_count": 37,
   "metadata": {},
   "outputs": [
    {
     "name": "stdout",
     "output_type": "stream",
     "text": [
      "epoch 0, loss 900156251.9516059, train accuracy 0.2547979797979798\n",
      "epoch 1, loss 900664882.020202, train accuracy 0.2545454545454545\n",
      "epoch 2, loss 883826758.4646465, train accuracy 0.2621212121212121\n",
      "epoch 3, loss 882073469.0909091, train accuracy 0.25833333333333336\n",
      "epoch 4, loss 872939992.080808, train accuracy 0.2656565656565657\n",
      "epoch 5, loss 878955162.1010101, train accuracy 0.2565656565656565\n",
      "epoch 6, loss 900177116.5252526, train accuracy 0.2484848484848485\n",
      "epoch 7, loss 878320410.7474748, train accuracy 0.2588383838383838\n",
      "epoch 8, loss 861287009.3737373, train accuracy 0.2686868686868687\n",
      "epoch 9, loss 878564404.9090909, train accuracy 0.26237373737373737\n",
      "epoch 10, loss 868788639.8383838, train accuracy 0.2631313131313131\n",
      "epoch 11, loss 877652733.6161616, train accuracy 0.2588383838383838\n",
      "epoch 12, loss 883936960.6464647, train accuracy 0.2563131313131313\n",
      "epoch 13, loss 875496565.4949495, train accuracy 0.2593434343434344\n",
      "epoch 14, loss 867031880.080808, train accuracy 0.2628787878787879\n",
      "epoch 15, loss 865362643.4747474, train accuracy 0.26237373737373737\n",
      "epoch 16, loss 876091376.1212121, train accuracy 0.2583333333333333\n",
      "epoch 17, loss 867068563.5959595, train accuracy 0.26237373737373737\n",
      "epoch 18, loss 848112266.3434343, train accuracy 0.273989898989899\n",
      "epoch 19, loss 834511872.8888888, train accuracy 0.2724747474747475\n",
      "epoch 20, loss 865841875.2323233, train accuracy 0.26515151515151514\n",
      "epoch 21, loss 869696386.1010101, train accuracy 0.26186868686868686\n",
      "epoch 22, loss 877456279.3535353, train accuracy 0.26161616161616164\n",
      "epoch 23, loss 856441914.5050505, train accuracy 0.26439393939393935\n",
      "epoch 24, loss 850045731.2323233, train accuracy 0.2696969696969697\n",
      "epoch 25, loss 863921196.4040405, train accuracy 0.2608585858585859\n",
      "epoch 26, loss 826665619.919192, train accuracy 0.272979797979798\n",
      "epoch 27, loss 858233177.050505, train accuracy 0.25429292929292935\n",
      "epoch 28, loss 851617795.3131313, train accuracy 0.2633838383838384\n",
      "epoch 29, loss 854367678.7878788, train accuracy 0.25732323232323234\n"
     ]
    }
   ],
   "source": [
    "from sklearn.metrics import accuracy_score\n",
    "\n",
    "inputDim = X.shape[1]\n",
    "outputDim = 4\n",
    "\n",
    "class logisticRegression(torch.nn.Module):\n",
    "    def __init__(self, inputSize, outputSize):\n",
    "        super(logisticRegression, self).__init__()\n",
    "        self.linear = torch.nn.Linear(inputSize, outputSize)\n",
    "        \n",
    "    def forward(self, x):\n",
    "        out = self.linear(x)\n",
    "        return out\n",
    "    \n",
    "model = logisticRegression(inputDim, outputDim)\n",
    "\n",
    "dataloader = DataLoader(train_set, batch_size = 20, shuffle = True)\n",
    "\n",
    "criterion = torch.nn.CrossEntropyLoss()\n",
    "optimizer = torch.optim.SGD(model.parameters(),lr=learningRate)\n",
    "\n",
    "epochs = 30\n",
    "\n",
    "for epoch in range(epochs):\n",
    "    losses = []\n",
    "    train_accuracy = []\n",
    "    for x_batch, y_batch in dataloader:\n",
    "        optimizer.zero_grad()\n",
    "        \n",
    "        output = model(x_batch)\n",
    "        loss = criterion(output, y_batch)\n",
    "        loss.backward()\n",
    "        losses.append(loss.item())\n",
    "        train_accuracy.append(accuracy_score(y_batch, np.argmax(output.detach().numpy(), axis = 1)))\n",
    "        \n",
    "        optimizer.step()\n",
    "    \n",
    "    print('epoch {}, loss {}, train accuracy {}'.format(epoch, np.mean(losses), np.mean(train_accuracy)))"
   ]
  },
  {
   "cell_type": "code",
   "execution_count": 38,
   "metadata": {},
   "outputs": [
    {
     "name": "stdout",
     "output_type": "stream",
     "text": [
      "Test accuracy: 0.28484848484848485\n"
     ]
    }
   ],
   "source": [
    "x_test, y_test = test_set[:]\n",
    "\n",
    "with torch.no_grad():\n",
    "    test_accuracy = accuracy_score(np.argmax(model(x_test).numpy(), axis=1), y_test)\n",
    "    \n",
    "print(\"Test accuracy: {}\".format(test_accuracy))"
   ]
  },
  {
   "cell_type": "code",
   "execution_count": 39,
   "metadata": {},
   "outputs": [
    {
     "data": {
      "text/plain": [
       "(array([ 659.,    0.,    0., 1550.,    0.,    0.,  872.,    0.,    0.,\n",
       "        1869.]),\n",
       " array([0. , 0.3, 0.6, 0.9, 1.2, 1.5, 1.8, 2.1, 2.4, 2.7, 3. ]),\n",
       " <a list of 10 Patch objects>)"
      ]
     },
     "execution_count": 39,
     "metadata": {},
     "output_type": "execute_result"
    },
    {
     "data": {
      "image/png": "[encoded data removed]",
      "text/plain": [
       "<Figure size 432x288 with 1 Axes>"
      ]
     },
     "metadata": {
      "needs_background": "light"
     },
     "output_type": "display_data"
    }
   ],
   "source": [
    "label = []\n",
    "min_sal = data['min_sal'].to_numpy()\n",
    "for i in min_sal:\n",
    "    if i in range(0,100):\n",
    "        label.append(0)\n",
    "    elif i in range(100,120):\n",
    "        label.append(1)\n",
    "    elif i in range(120,150):\n",
    "        label.append(2)\n",
    "    else:\n",
    "        label.append(3)\n",
    "y = np.array(label)\n",
    "y.reshape(len(label),1)\n",
    "plt.hist(y)"
   ]
  },
  {
   "cell_type": "code",
   "execution_count": 40,
   "metadata": {},
   "outputs": [
    {
     "data": {
      "text/html": [
       "<div>\n",
       "<style scoped>\n",
       "    .dataframe tbody tr th:only-of-type {\n",
       "        vertical-align: middle;\n",
       "    }\n",
       "\n",
       "    .dataframe tbody tr th {\n",
       "        vertical-align: top;\n",
       "    }\n",
       "\n",
       "    .dataframe thead th {\n",
       "        text-align: right;\n",
       "    }\n",
       "</style>\n",
       "<table border=\"1\" class=\"dataframe\">\n",
       "  <thead>\n",
       "    <tr style=\"text-align: right;\">\n",
       "      <th></th>\n",
       "      <th>intern_num</th>\n",
       "      <th>GDP per capita</th>\n",
       "      <th>month_num</th>\n",
       "      <th>day</th>\n",
       "      <th>scale</th>\n",
       "    </tr>\n",
       "  </thead>\n",
       "  <tbody>\n",
       "    <tr>\n",
       "      <th>0</th>\n",
       "      <td>176</td>\n",
       "      <td>162518.5736</td>\n",
       "      <td>3</td>\n",
       "      <td>3</td>\n",
       "      <td>5000</td>\n",
       "    </tr>\n",
       "    <tr>\n",
       "      <th>1</th>\n",
       "      <td>390</td>\n",
       "      <td>162518.5736</td>\n",
       "      <td>3</td>\n",
       "      <td>5</td>\n",
       "      <td>5000</td>\n",
       "    </tr>\n",
       "    <tr>\n",
       "      <th>2</th>\n",
       "      <td>44</td>\n",
       "      <td>162518.5736</td>\n",
       "      <td>5</td>\n",
       "      <td>4</td>\n",
       "      <td>5000</td>\n",
       "    </tr>\n",
       "    <tr>\n",
       "      <th>3</th>\n",
       "      <td>486</td>\n",
       "      <td>162518.5736</td>\n",
       "      <td>4</td>\n",
       "      <td>5</td>\n",
       "      <td>5000</td>\n",
       "    </tr>\n",
       "    <tr>\n",
       "      <th>4</th>\n",
       "      <td>390</td>\n",
       "      <td>162518.5736</td>\n",
       "      <td>3</td>\n",
       "      <td>5</td>\n",
       "      <td>5000</td>\n",
       "    </tr>\n",
       "    <tr>\n",
       "      <th>...</th>\n",
       "      <td>...</td>\n",
       "      <td>...</td>\n",
       "      <td>...</td>\n",
       "      <td>...</td>\n",
       "      <td>...</td>\n",
       "    </tr>\n",
       "    <tr>\n",
       "      <th>4945</th>\n",
       "      <td>73</td>\n",
       "      <td>169782.5765</td>\n",
       "      <td>6</td>\n",
       "      <td>5</td>\n",
       "      <td>1250</td>\n",
       "    </tr>\n",
       "    <tr>\n",
       "      <th>4946</th>\n",
       "      <td>96</td>\n",
       "      <td>169782.5765</td>\n",
       "      <td>3</td>\n",
       "      <td>5</td>\n",
       "      <td>1250</td>\n",
       "    </tr>\n",
       "    <tr>\n",
       "      <th>4947</th>\n",
       "      <td>96</td>\n",
       "      <td>169782.5765</td>\n",
       "      <td>3</td>\n",
       "      <td>5</td>\n",
       "      <td>1250</td>\n",
       "    </tr>\n",
       "    <tr>\n",
       "      <th>4948</th>\n",
       "      <td>96</td>\n",
       "      <td>169782.5765</td>\n",
       "      <td>3</td>\n",
       "      <td>5</td>\n",
       "      <td>1250</td>\n",
       "    </tr>\n",
       "    <tr>\n",
       "      <th>4949</th>\n",
       "      <td>22</td>\n",
       "      <td>169782.5765</td>\n",
       "      <td>3</td>\n",
       "      <td>4</td>\n",
       "      <td>5000</td>\n",
       "    </tr>\n",
       "  </tbody>\n",
       "</table>\n",
       "<p>4950 rows × 5 columns</p>\n",
       "</div>"
      ],
      "text/plain": [
       "      intern_num  GDP per capita  month_num  day  scale\n",
       "0            176     162518.5736          3    3   5000\n",
       "1            390     162518.5736          3    5   5000\n",
       "2             44     162518.5736          5    4   5000\n",
       "3            486     162518.5736          4    5   5000\n",
       "4            390     162518.5736          3    5   5000\n",
       "...          ...             ...        ...  ...    ...\n",
       "4945          73     169782.5765          6    5   1250\n",
       "4946          96     169782.5765          3    5   1250\n",
       "4947          96     169782.5765          3    5   1250\n",
       "4948          96     169782.5765          3    5   1250\n",
       "4949          22     169782.5765          3    4   5000\n",
       "\n",
       "[4950 rows x 5 columns]"
      ]
     },
     "execution_count": 40,
     "metadata": {},
     "output_type": "execute_result"
    }
   ],
   "source": [
    "X"
   ]
  },
  {
   "cell_type": "code",
   "execution_count": 41,
   "metadata": {},
   "outputs": [
    {
     "name": "stdout",
     "output_type": "stream",
     "text": [
      "3960\n",
      "990\n",
      "epoch 0, loss 823189336.4679017, train accuracy 0.2982323232323233\n",
      "epoch 1, loss 838568637.7777778, train accuracy 0.2972222222222223\n",
      "epoch 2, loss 836450352.5656565, train accuracy 0.2916666666666667\n",
      "epoch 3, loss 853095175.919192, train accuracy 0.2871212121212121\n",
      "epoch 4, loss 832520964.6060606, train accuracy 0.2967171717171717\n",
      "epoch 5, loss 836543192.0, train accuracy 0.29292929292929293\n",
      "epoch 6, loss 844101296.2424242, train accuracy 0.29065656565656567\n",
      "epoch 7, loss 822778407.030303, train accuracy 0.3007575757575757\n",
      "epoch 8, loss 843549699.2323233, train accuracy 0.2914141414141414\n",
      "epoch 9, loss 877716584.2828283, train accuracy 0.27828282828282824\n",
      "epoch 10, loss 836461985.2121212, train accuracy 0.29419191919191917\n",
      "epoch 11, loss 839305255.919192, train accuracy 0.2936868686868687\n",
      "epoch 12, loss 847486238.5454545, train accuracy 0.28560606060606064\n",
      "epoch 13, loss 882868183.9595959, train accuracy 0.27348484848484844\n",
      "epoch 14, loss 843996421.7777778, train accuracy 0.29393939393939394\n",
      "epoch 15, loss 816099003.7171717, train accuracy 0.2997474747474747\n",
      "epoch 16, loss 834441163.3131313, train accuracy 0.2911616161616161\n",
      "epoch 17, loss 814022579.7171717, train accuracy 0.3053030303030303\n",
      "epoch 18, loss 871774917.4141414, train accuracy 0.28308080808080804\n",
      "epoch 19, loss 836492851.6363636, train accuracy 0.29393939393939394\n",
      "epoch 20, loss 834035415.7575758, train accuracy 0.29797979797979796\n",
      "epoch 21, loss 832098830.949495, train accuracy 0.29318181818181815\n",
      "epoch 22, loss 811456739.3939394, train accuracy 0.302020202020202\n",
      "epoch 23, loss 840162032.5252526, train accuracy 0.2921717171717172\n",
      "epoch 24, loss 813541670.3434343, train accuracy 0.29772727272727273\n",
      "epoch 25, loss 838914715.0707071, train accuracy 0.28939393939393937\n",
      "epoch 26, loss 847417637.010101, train accuracy 0.2883838383838384\n",
      "epoch 27, loss 858600440.2424242, train accuracy 0.28434343434343434\n",
      "epoch 28, loss 854543124.4848485, train accuracy 0.2861111111111111\n",
      "epoch 29, loss 814077513.050505, train accuracy 0.30176767676767674\n"
     ]
    }
   ],
   "source": [
    "X_tensor = torch.from_numpy(np.asarray(X)).float()\n",
    "y_tensor = torch.from_numpy(y)\n",
    "\n",
    "dataset = MyDataset(X_tensor, y_tensor)\n",
    "train_set, test_set = random_split(dataset, [int(len(dataset) * 0.8), int(len(dataset) * 0.2)])\n",
    "\n",
    "print(len(train_set))\n",
    "print(len(test_set))\n",
    "\n",
    "from sklearn.metrics import accuracy_score\n",
    "\n",
    "inputDim = X.shape[1]\n",
    "outputDim = 4\n",
    "\n",
    "class logisticRegression(torch.nn.Module):\n",
    "    def __init__(self, inputSize, outputSize):\n",
    "        super(logisticRegression, self).__init__()\n",
    "        self.linear = torch.nn.Linear(inputSize, outputSize)\n",
    "        \n",
    "    def forward(self, x):\n",
    "        out = self.linear(x)\n",
    "        return out\n",
    "    \n",
    "model = logisticRegression(inputDim, outputDim)\n",
    "\n",
    "dataloader = DataLoader(train_set, batch_size = 20, shuffle = True)\n",
    "\n",
    "criterion = torch.nn.CrossEntropyLoss()\n",
    "optimizer = torch.optim.SGD(model.parameters(),lr=learningRate)\n",
    "\n",
    "epochs = 30\n",
    "\n",
    "for epoch in range(epochs):\n",
    "    losses = []\n",
    "    train_accuracy = []\n",
    "    for x_batch, y_batch in dataloader:\n",
    "        optimizer.zero_grad()\n",
    "        \n",
    "        output = model(x_batch)\n",
    "        loss = criterion(output, y_batch)\n",
    "        loss.backward()\n",
    "        losses.append(loss.item())\n",
    "        train_accuracy.append(accuracy_score(y_batch, np.argmax(output.detach().numpy(), axis = 1)))\n",
    "        \n",
    "        optimizer.step()\n",
    "    \n",
    "    print('epoch {}, loss {}, train accuracy {}'.format(epoch, np.mean(losses), np.mean(train_accuracy)))"
   ]
  },
  {
   "cell_type": "code",
   "execution_count": 42,
   "metadata": {},
   "outputs": [
    {
     "name": "stdout",
     "output_type": "stream",
     "text": [
      "Test accuracy: 0.38181818181818183\n"
     ]
    }
   ],
   "source": [
    "x_test, y_test = test_set[:]\n",
    "\n",
    "with torch.no_grad():\n",
    "    test_accuracy = accuracy_score(np.argmax(model(x_test).numpy(), axis=1), y_test)\n",
    "    \n",
    "print(\"Test accuracy: {}\".format(test_accuracy))"
   ]
  },
  {
   "cell_type": "code",
   "execution_count": null,
   "metadata": {},
   "outputs": [],
   "source": []
  }
 ],
 "metadata": {
  "kernelspec": {
   "display_name": "Python 3",
   "language": "python",
   "name": "python3"
  },
  "language_info": {
   "codemirror_mode": {
    "name": "ipython",
    "version": 3
   },
   "file_extension": ".py",
   "mimetype": "text/x-python",
   "name": "python",
   "nbconvert_exporter": "python",
   "pygments_lexer": "ipython3",
   "version": "3.8.1"
  }
 },
 "nbformat": 4,
 "nbformat_minor": 4
}

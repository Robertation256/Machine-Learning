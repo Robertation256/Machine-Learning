{
 "cells": [
  {
   "cell_type": "code",
   "execution_count": 1,
   "metadata": {},
   "outputs": [],
   "source": [
    "import random \n",
    "import pandas as pd\n",
    "import numpy as np\n",
    "import matplotlib.pyplot as plt\n",
    "%matplotlib inline"
   ]
  },
  {
   "cell_type": "code",
   "execution_count": 2,
   "metadata": {},
   "outputs": [
    {
     "data": {
      "text/html": [
       "<div>\n",
       "<style scoped>\n",
       "    .dataframe tbody tr th:only-of-type {\n",
       "        vertical-align: middle;\n",
       "    }\n",
       "\n",
       "    .dataframe tbody tr th {\n",
       "        vertical-align: top;\n",
       "    }\n",
       "\n",
       "    .dataframe thead th {\n",
       "        text-align: right;\n",
       "    }\n",
       "</style>\n",
       "<table border=\"1\" class=\"dataframe\">\n",
       "  <thead>\n",
       "    <tr style=\"text-align: right;\">\n",
       "      <th></th>\n",
       "      <th>intern_num</th>\n",
       "      <th>max_sal</th>\n",
       "      <th>min_sal</th>\n",
       "      <th>city</th>\n",
       "      <th>month_num</th>\n",
       "      <th>day</th>\n",
       "      <th>2000</th>\n",
       "      <th>500-2000</th>\n",
       "      <th>50-500</th>\n",
       "      <th>&lt;50</th>\n",
       "      <th>...</th>\n",
       "      <th>专员</th>\n",
       "      <th>产品</th>\n",
       "      <th>销售</th>\n",
       "      <th>开发</th>\n",
       "      <th>工程师</th>\n",
       "      <th>助理</th>\n",
       "      <th>运营</th>\n",
       "      <th>GDP(billion)</th>\n",
       "      <th>GDP per capita</th>\n",
       "      <th>Population(thousand)</th>\n",
       "    </tr>\n",
       "  </thead>\n",
       "  <tbody>\n",
       "    <tr>\n",
       "      <th>0</th>\n",
       "      <td>176</td>\n",
       "      <td>150</td>\n",
       "      <td>100</td>\n",
       "      <td>北京</td>\n",
       "      <td>3</td>\n",
       "      <td>3</td>\n",
       "      <td>1</td>\n",
       "      <td>0</td>\n",
       "      <td>0</td>\n",
       "      <td>0</td>\n",
       "      <td>...</td>\n",
       "      <td>0</td>\n",
       "      <td>0</td>\n",
       "      <td>0</td>\n",
       "      <td>0</td>\n",
       "      <td>0</td>\n",
       "      <td>0</td>\n",
       "      <td>0</td>\n",
       "      <td>3500.0</td>\n",
       "      <td>162518.5736</td>\n",
       "      <td>21536.0</td>\n",
       "    </tr>\n",
       "    <tr>\n",
       "      <th>1</th>\n",
       "      <td>390</td>\n",
       "      <td>150</td>\n",
       "      <td>120</td>\n",
       "      <td>北京</td>\n",
       "      <td>3</td>\n",
       "      <td>5</td>\n",
       "      <td>1</td>\n",
       "      <td>0</td>\n",
       "      <td>0</td>\n",
       "      <td>0</td>\n",
       "      <td>...</td>\n",
       "      <td>0</td>\n",
       "      <td>0</td>\n",
       "      <td>0</td>\n",
       "      <td>0</td>\n",
       "      <td>0</td>\n",
       "      <td>0</td>\n",
       "      <td>0</td>\n",
       "      <td>3500.0</td>\n",
       "      <td>162518.5736</td>\n",
       "      <td>21536.0</td>\n",
       "    </tr>\n",
       "    <tr>\n",
       "      <th>2</th>\n",
       "      <td>44</td>\n",
       "      <td>300</td>\n",
       "      <td>150</td>\n",
       "      <td>北京</td>\n",
       "      <td>5</td>\n",
       "      <td>4</td>\n",
       "      <td>1</td>\n",
       "      <td>0</td>\n",
       "      <td>0</td>\n",
       "      <td>0</td>\n",
       "      <td>...</td>\n",
       "      <td>0</td>\n",
       "      <td>0</td>\n",
       "      <td>0</td>\n",
       "      <td>1</td>\n",
       "      <td>1</td>\n",
       "      <td>0</td>\n",
       "      <td>0</td>\n",
       "      <td>3500.0</td>\n",
       "      <td>162518.5736</td>\n",
       "      <td>21536.0</td>\n",
       "    </tr>\n",
       "    <tr>\n",
       "      <th>3</th>\n",
       "      <td>486</td>\n",
       "      <td>200</td>\n",
       "      <td>150</td>\n",
       "      <td>北京</td>\n",
       "      <td>4</td>\n",
       "      <td>5</td>\n",
       "      <td>1</td>\n",
       "      <td>0</td>\n",
       "      <td>0</td>\n",
       "      <td>0</td>\n",
       "      <td>...</td>\n",
       "      <td>0</td>\n",
       "      <td>0</td>\n",
       "      <td>0</td>\n",
       "      <td>0</td>\n",
       "      <td>0</td>\n",
       "      <td>1</td>\n",
       "      <td>0</td>\n",
       "      <td>3500.0</td>\n",
       "      <td>162518.5736</td>\n",
       "      <td>21536.0</td>\n",
       "    </tr>\n",
       "    <tr>\n",
       "      <th>4</th>\n",
       "      <td>390</td>\n",
       "      <td>150</td>\n",
       "      <td>100</td>\n",
       "      <td>北京</td>\n",
       "      <td>3</td>\n",
       "      <td>5</td>\n",
       "      <td>1</td>\n",
       "      <td>0</td>\n",
       "      <td>0</td>\n",
       "      <td>0</td>\n",
       "      <td>...</td>\n",
       "      <td>0</td>\n",
       "      <td>0</td>\n",
       "      <td>0</td>\n",
       "      <td>0</td>\n",
       "      <td>0</td>\n",
       "      <td>0</td>\n",
       "      <td>1</td>\n",
       "      <td>3500.0</td>\n",
       "      <td>162518.5736</td>\n",
       "      <td>21536.0</td>\n",
       "    </tr>\n",
       "  </tbody>\n",
       "</table>\n",
       "<p>5 rows × 70 columns</p>\n",
       "</div>"
      ],
      "text/plain": [
       "   intern_num  max_sal  min_sal city  month_num  day  2000  500-2000  50-500  \\\n",
       "0         176      150      100   北京          3    3     1         0       0   \n",
       "1         390      150      120   北京          3    5     1         0       0   \n",
       "2          44      300      150   北京          5    4     1         0       0   \n",
       "3         486      200      150   北京          4    5     1         0       0   \n",
       "4         390      150      100   北京          3    5     1         0       0   \n",
       "\n",
       "   <50  ...  专员  产品  销售  开发  工程师  助理  运营  GDP(billion)  GDP per capita  \\\n",
       "0    0  ...   0   0   0   0    0   0   0        3500.0     162518.5736   \n",
       "1    0  ...   0   0   0   0    0   0   0        3500.0     162518.5736   \n",
       "2    0  ...   0   0   0   1    1   0   0        3500.0     162518.5736   \n",
       "3    0  ...   0   0   0   0    0   1   0        3500.0     162518.5736   \n",
       "4    0  ...   0   0   0   0    0   0   1        3500.0     162518.5736   \n",
       "\n",
       "   Population(thousand)  \n",
       "0               21536.0  \n",
       "1               21536.0  \n",
       "2               21536.0  \n",
       "3               21536.0  \n",
       "4               21536.0  \n",
       "\n",
       "[5 rows x 70 columns]"
      ]
     },
     "execution_count": 2,
     "metadata": {},
     "output_type": "execute_result"
    }
   ],
   "source": [
    "data = pd.read_csv(\"formated_data_1111.csv\")\n",
    "data.head()"
   ]
  },
  {
   "cell_type": "code",
   "execution_count": 3,
   "metadata": {},
   "outputs": [],
   "source": [
    "# Min_Max scaler for GDP\n",
    "data['GDP'] = (data['GDP per capita'] - \n",
    "               data['GDP per capita'].min())/(data['GDP per capita'].max() - data['GDP per capita'].min())"
   ]
  },
  {
   "cell_type": "code",
   "execution_count": 4,
   "metadata": {},
   "outputs": [
    {
     "data": {
      "text/plain": [
       "0       0.703405\n",
       "1       0.703405\n",
       "2       0.703405\n",
       "3       0.703405\n",
       "4       0.703405\n",
       "          ...   \n",
       "4945    0.744754\n",
       "4946    0.744754\n",
       "4947    0.744754\n",
       "4948    0.744754\n",
       "4949    0.744754\n",
       "Name: GDP, Length: 4950, dtype: float64"
      ]
     },
     "execution_count": 4,
     "metadata": {},
     "output_type": "execute_result"
    }
   ],
   "source": [
    "data['GDP']"
   ]
  },
  {
   "cell_type": "code",
   "execution_count": 5,
   "metadata": {},
   "outputs": [],
   "source": [
    "#删除最高工资是0的行\n",
    "\n",
    "data = data.drop(data[data['max_sal'] < 1].index)"
   ]
  },
  {
   "cell_type": "code",
   "execution_count": 6,
   "metadata": {
    "scrolled": false
   },
   "outputs": [
    {
     "data": {
      "text/html": [
       "<div>\n",
       "<style scoped>\n",
       "    .dataframe tbody tr th:only-of-type {\n",
       "        vertical-align: middle;\n",
       "    }\n",
       "\n",
       "    .dataframe tbody tr th {\n",
       "        vertical-align: top;\n",
       "    }\n",
       "\n",
       "    .dataframe thead th {\n",
       "        text-align: right;\n",
       "    }\n",
       "</style>\n",
       "<table border=\"1\" class=\"dataframe\">\n",
       "  <thead>\n",
       "    <tr style=\"text-align: right;\">\n",
       "      <th></th>\n",
       "      <th>intern_num</th>\n",
       "      <th>max_sal</th>\n",
       "      <th>min_sal</th>\n",
       "      <th>GDP per capita</th>\n",
       "      <th>GDP</th>\n",
       "      <th>month_num</th>\n",
       "      <th>day</th>\n",
       "      <th>2000</th>\n",
       "      <th>500-2000</th>\n",
       "      <th>50-500</th>\n",
       "      <th>...</th>\n",
       "      <th>互联网</th>\n",
       "      <th>教育</th>\n",
       "      <th>房产</th>\n",
       "      <th>广告</th>\n",
       "      <th>金融</th>\n",
       "      <th>企业服务</th>\n",
       "      <th>快消</th>\n",
       "      <th>电子</th>\n",
       "      <th>医疗</th>\n",
       "      <th>汽车</th>\n",
       "    </tr>\n",
       "  </thead>\n",
       "  <tbody>\n",
       "    <tr>\n",
       "      <th>0</th>\n",
       "      <td>176</td>\n",
       "      <td>150</td>\n",
       "      <td>100</td>\n",
       "      <td>162518.5736</td>\n",
       "      <td>0.703405</td>\n",
       "      <td>3</td>\n",
       "      <td>3</td>\n",
       "      <td>1</td>\n",
       "      <td>0</td>\n",
       "      <td>0</td>\n",
       "      <td>...</td>\n",
       "      <td>1</td>\n",
       "      <td>0</td>\n",
       "      <td>0</td>\n",
       "      <td>0</td>\n",
       "      <td>0</td>\n",
       "      <td>0</td>\n",
       "      <td>0</td>\n",
       "      <td>0</td>\n",
       "      <td>0</td>\n",
       "      <td>0</td>\n",
       "    </tr>\n",
       "    <tr>\n",
       "      <th>1</th>\n",
       "      <td>390</td>\n",
       "      <td>150</td>\n",
       "      <td>120</td>\n",
       "      <td>162518.5736</td>\n",
       "      <td>0.703405</td>\n",
       "      <td>3</td>\n",
       "      <td>5</td>\n",
       "      <td>1</td>\n",
       "      <td>0</td>\n",
       "      <td>0</td>\n",
       "      <td>...</td>\n",
       "      <td>1</td>\n",
       "      <td>0</td>\n",
       "      <td>0</td>\n",
       "      <td>0</td>\n",
       "      <td>0</td>\n",
       "      <td>0</td>\n",
       "      <td>0</td>\n",
       "      <td>0</td>\n",
       "      <td>0</td>\n",
       "      <td>0</td>\n",
       "    </tr>\n",
       "    <tr>\n",
       "      <th>2</th>\n",
       "      <td>44</td>\n",
       "      <td>300</td>\n",
       "      <td>150</td>\n",
       "      <td>162518.5736</td>\n",
       "      <td>0.703405</td>\n",
       "      <td>5</td>\n",
       "      <td>4</td>\n",
       "      <td>1</td>\n",
       "      <td>0</td>\n",
       "      <td>0</td>\n",
       "      <td>...</td>\n",
       "      <td>1</td>\n",
       "      <td>0</td>\n",
       "      <td>0</td>\n",
       "      <td>0</td>\n",
       "      <td>0</td>\n",
       "      <td>0</td>\n",
       "      <td>0</td>\n",
       "      <td>0</td>\n",
       "      <td>0</td>\n",
       "      <td>0</td>\n",
       "    </tr>\n",
       "    <tr>\n",
       "      <th>3</th>\n",
       "      <td>486</td>\n",
       "      <td>200</td>\n",
       "      <td>150</td>\n",
       "      <td>162518.5736</td>\n",
       "      <td>0.703405</td>\n",
       "      <td>4</td>\n",
       "      <td>5</td>\n",
       "      <td>1</td>\n",
       "      <td>0</td>\n",
       "      <td>0</td>\n",
       "      <td>...</td>\n",
       "      <td>1</td>\n",
       "      <td>0</td>\n",
       "      <td>0</td>\n",
       "      <td>0</td>\n",
       "      <td>0</td>\n",
       "      <td>0</td>\n",
       "      <td>0</td>\n",
       "      <td>0</td>\n",
       "      <td>0</td>\n",
       "      <td>0</td>\n",
       "    </tr>\n",
       "    <tr>\n",
       "      <th>4</th>\n",
       "      <td>390</td>\n",
       "      <td>150</td>\n",
       "      <td>100</td>\n",
       "      <td>162518.5736</td>\n",
       "      <td>0.703405</td>\n",
       "      <td>3</td>\n",
       "      <td>5</td>\n",
       "      <td>1</td>\n",
       "      <td>0</td>\n",
       "      <td>0</td>\n",
       "      <td>...</td>\n",
       "      <td>1</td>\n",
       "      <td>0</td>\n",
       "      <td>0</td>\n",
       "      <td>0</td>\n",
       "      <td>0</td>\n",
       "      <td>0</td>\n",
       "      <td>0</td>\n",
       "      <td>0</td>\n",
       "      <td>0</td>\n",
       "      <td>0</td>\n",
       "    </tr>\n",
       "    <tr>\n",
       "      <th>...</th>\n",
       "      <td>...</td>\n",
       "      <td>...</td>\n",
       "      <td>...</td>\n",
       "      <td>...</td>\n",
       "      <td>...</td>\n",
       "      <td>...</td>\n",
       "      <td>...</td>\n",
       "      <td>...</td>\n",
       "      <td>...</td>\n",
       "      <td>...</td>\n",
       "      <td>...</td>\n",
       "      <td>...</td>\n",
       "      <td>...</td>\n",
       "      <td>...</td>\n",
       "      <td>...</td>\n",
       "      <td>...</td>\n",
       "      <td>...</td>\n",
       "      <td>...</td>\n",
       "      <td>...</td>\n",
       "      <td>...</td>\n",
       "      <td>...</td>\n",
       "    </tr>\n",
       "    <tr>\n",
       "      <th>4945</th>\n",
       "      <td>73</td>\n",
       "      <td>180</td>\n",
       "      <td>120</td>\n",
       "      <td>169782.5765</td>\n",
       "      <td>0.744754</td>\n",
       "      <td>6</td>\n",
       "      <td>5</td>\n",
       "      <td>0</td>\n",
       "      <td>1</td>\n",
       "      <td>0</td>\n",
       "      <td>...</td>\n",
       "      <td>1</td>\n",
       "      <td>0</td>\n",
       "      <td>0</td>\n",
       "      <td>0</td>\n",
       "      <td>0</td>\n",
       "      <td>0</td>\n",
       "      <td>0</td>\n",
       "      <td>0</td>\n",
       "      <td>0</td>\n",
       "      <td>0</td>\n",
       "    </tr>\n",
       "    <tr>\n",
       "      <th>4946</th>\n",
       "      <td>96</td>\n",
       "      <td>200</td>\n",
       "      <td>100</td>\n",
       "      <td>169782.5765</td>\n",
       "      <td>0.744754</td>\n",
       "      <td>3</td>\n",
       "      <td>5</td>\n",
       "      <td>0</td>\n",
       "      <td>1</td>\n",
       "      <td>0</td>\n",
       "      <td>...</td>\n",
       "      <td>1</td>\n",
       "      <td>0</td>\n",
       "      <td>0</td>\n",
       "      <td>0</td>\n",
       "      <td>0</td>\n",
       "      <td>0</td>\n",
       "      <td>0</td>\n",
       "      <td>0</td>\n",
       "      <td>0</td>\n",
       "      <td>0</td>\n",
       "    </tr>\n",
       "    <tr>\n",
       "      <th>4947</th>\n",
       "      <td>96</td>\n",
       "      <td>180</td>\n",
       "      <td>100</td>\n",
       "      <td>169782.5765</td>\n",
       "      <td>0.744754</td>\n",
       "      <td>3</td>\n",
       "      <td>5</td>\n",
       "      <td>0</td>\n",
       "      <td>1</td>\n",
       "      <td>0</td>\n",
       "      <td>...</td>\n",
       "      <td>1</td>\n",
       "      <td>0</td>\n",
       "      <td>0</td>\n",
       "      <td>0</td>\n",
       "      <td>0</td>\n",
       "      <td>0</td>\n",
       "      <td>0</td>\n",
       "      <td>0</td>\n",
       "      <td>0</td>\n",
       "      <td>0</td>\n",
       "    </tr>\n",
       "    <tr>\n",
       "      <th>4948</th>\n",
       "      <td>96</td>\n",
       "      <td>180</td>\n",
       "      <td>100</td>\n",
       "      <td>169782.5765</td>\n",
       "      <td>0.744754</td>\n",
       "      <td>3</td>\n",
       "      <td>5</td>\n",
       "      <td>0</td>\n",
       "      <td>1</td>\n",
       "      <td>0</td>\n",
       "      <td>...</td>\n",
       "      <td>1</td>\n",
       "      <td>0</td>\n",
       "      <td>0</td>\n",
       "      <td>0</td>\n",
       "      <td>0</td>\n",
       "      <td>0</td>\n",
       "      <td>0</td>\n",
       "      <td>0</td>\n",
       "      <td>0</td>\n",
       "      <td>0</td>\n",
       "    </tr>\n",
       "    <tr>\n",
       "      <th>4949</th>\n",
       "      <td>22</td>\n",
       "      <td>80</td>\n",
       "      <td>50</td>\n",
       "      <td>169782.5765</td>\n",
       "      <td>0.744754</td>\n",
       "      <td>3</td>\n",
       "      <td>4</td>\n",
       "      <td>1</td>\n",
       "      <td>0</td>\n",
       "      <td>0</td>\n",
       "      <td>...</td>\n",
       "      <td>1</td>\n",
       "      <td>0</td>\n",
       "      <td>0</td>\n",
       "      <td>0</td>\n",
       "      <td>0</td>\n",
       "      <td>0</td>\n",
       "      <td>0</td>\n",
       "      <td>0</td>\n",
       "      <td>0</td>\n",
       "      <td>0</td>\n",
       "    </tr>\n",
       "  </tbody>\n",
       "</table>\n",
       "<p>4829 rows × 21 columns</p>\n",
       "</div>"
      ],
      "text/plain": [
       "      intern_num  max_sal  min_sal  GDP per capita       GDP  month_num  day  \\\n",
       "0            176      150      100     162518.5736  0.703405          3    3   \n",
       "1            390      150      120     162518.5736  0.703405          3    5   \n",
       "2             44      300      150     162518.5736  0.703405          5    4   \n",
       "3            486      200      150     162518.5736  0.703405          4    5   \n",
       "4            390      150      100     162518.5736  0.703405          3    5   \n",
       "...          ...      ...      ...             ...       ...        ...  ...   \n",
       "4945          73      180      120     169782.5765  0.744754          6    5   \n",
       "4946          96      200      100     169782.5765  0.744754          3    5   \n",
       "4947          96      180      100     169782.5765  0.744754          3    5   \n",
       "4948          96      180      100     169782.5765  0.744754          3    5   \n",
       "4949          22       80       50     169782.5765  0.744754          3    4   \n",
       "\n",
       "      2000  500-2000  50-500  ...  互联网  教育  房产  广告  金融  企业服务  快消  电子  医疗  汽车  \n",
       "0        1         0       0  ...    1   0   0   0   0     0   0   0   0   0  \n",
       "1        1         0       0  ...    1   0   0   0   0     0   0   0   0   0  \n",
       "2        1         0       0  ...    1   0   0   0   0     0   0   0   0   0  \n",
       "3        1         0       0  ...    1   0   0   0   0     0   0   0   0   0  \n",
       "4        1         0       0  ...    1   0   0   0   0     0   0   0   0   0  \n",
       "...    ...       ...     ...  ...  ...  ..  ..  ..  ..   ...  ..  ..  ..  ..  \n",
       "4945     0         1       0  ...    1   0   0   0   0     0   0   0   0   0  \n",
       "4946     0         1       0  ...    1   0   0   0   0     0   0   0   0   0  \n",
       "4947     0         1       0  ...    1   0   0   0   0     0   0   0   0   0  \n",
       "4948     0         1       0  ...    1   0   0   0   0     0   0   0   0   0  \n",
       "4949     1         0       0  ...    1   0   0   0   0     0   0   0   0   0  \n",
       "\n",
       "[4829 rows x 21 columns]"
      ]
     },
     "execution_count": 6,
     "metadata": {},
     "output_type": "execute_result"
    }
   ],
   "source": [
    "#选用来train的feature\n",
    "\n",
    "data_1 = data[['intern_num','max_sal','min_sal','GDP per capita','GDP','month_num','day','2000','500-2000','50-500','<50','互联网','教育','房产','广告','金融','企业服务','快消','电子','医疗','汽车']]\n",
    "# data_1['scale'] = data_1['2000']*5000 + data_1['500-2000']*1250 + data_1['50-500']*275 + data_1['<50']*25 \n",
    "data_1"
   ]
  },
  {
   "cell_type": "code",
   "execution_count": 7,
   "metadata": {},
   "outputs": [],
   "source": [
    "# data_1.sort_values(by = 'max_sal')"
   ]
  },
  {
   "cell_type": "code",
   "execution_count": 8,
   "metadata": {},
   "outputs": [],
   "source": [
    "#确定 X和 y\n",
    "\n",
    "X = data_1[['intern_num','GDP per capita','month_num','day','2000','500-2000','50-500','<50','互联网','教育','房产','广告','金融','企业服务','快消','电子','医疗','汽车']]\n",
    "# X = data_1[['intern_num','GDP per capita','month_num','day','scale','互联网','教育','房产','广告','金融','企业服务','快消','电子','医疗','汽车']]\n",
    "y = data_1['max_sal']"
   ]
  },
  {
   "cell_type": "code",
   "execution_count": 9,
   "metadata": {},
   "outputs": [],
   "source": [
    "from sklearn.linear_model import LinearRegression\n",
    "from sklearn.preprocessing import PolynomialFeatures\n",
    "from sklearn.metrics import mean_squared_error"
   ]
  },
  {
   "cell_type": "code",
   "execution_count": 10,
   "metadata": {},
   "outputs": [],
   "source": [
    "from sklearn.model_selection import train_test_split\n",
    "\n",
    "X_train, X_test, y_train, y_test = train_test_split(X, y, test_size=0.2, shuffle = True, random_state=0)"
   ]
  },
  {
   "cell_type": "code",
   "execution_count": 11,
   "metadata": {},
   "outputs": [],
   "source": [
    "model  = LinearRegression()\n",
    "# model.fit(X_train, y_train)\n",
    "# y_predicted = model.predict(X_train)"
   ]
  },
  {
   "cell_type": "code",
   "execution_count": 12,
   "metadata": {},
   "outputs": [],
   "source": [
    "train_mse = []\n",
    "test_mse = []"
   ]
  },
  {
   "cell_type": "code",
   "execution_count": 13,
   "metadata": {},
   "outputs": [
    {
     "name": "stdout",
     "output_type": "stream",
     "text": [
      "6229.478378897559\n",
      "7681.648506163187\n"
     ]
    }
   ],
   "source": [
    "# degree 2\n",
    "poly = PolynomialFeatures(degree = 2)\n",
    "poly.fit(X_train)\n",
    "\n",
    "# apply the tranformer to our X matrix\n",
    "X_with_2nd_degree = poly.transform(X_train)\n",
    "model.fit(X_with_2nd_degree, y_train)\n",
    "y_predicted = model.predict(X_with_2nd_degree)\n",
    "\n",
    "MSE_poly = mean_squared_error(y_train, y_predicted)\n",
    "print(MSE_poly)\n",
    "\n",
    "#test set\n",
    "X_test_2nd = poly.transform(X_test)\n",
    "y_test_predicted = model.predict(X_test_2nd)\n",
    "MSE_poly_test = mean_squared_error(y_test, y_test_predicted)\n",
    "print(MSE_poly_test)\n",
    "\n",
    "train_mse.append(MSE_poly)\n",
    "test_mse.append(MSE_poly_test)"
   ]
  },
  {
   "cell_type": "code",
   "execution_count": 18,
   "metadata": {},
   "outputs": [],
   "source": [
    "# 放在一起(degree从1到4)\n",
    "from sklearn.metrics import mean_absolute_error\n",
    "\n",
    "train_mse = []\n",
    "train_mae = []\n",
    "test_mse = []\n",
    "test_mae = []\n",
    "degree_range = [1,2,3,4,5,6]\n",
    "\n",
    "model  = LinearRegression()\n",
    "\n",
    "for degree in degree_range:\n",
    "    \n",
    "    poly = PolynomialFeatures(degree = degree)\n",
    "    poly.fit(X_train)\n",
    "\n",
    "    # apply the tranformer to our X matrix\n",
    "    X_with_2nd_degree = poly.transform(X_train)\n",
    "    model.fit(X_with_2nd_degree, y_train)\n",
    "    y_predicted = model.predict(X_with_2nd_degree)\n",
    "\n",
    "    MSE_poly = mean_squared_error(y_train, y_predicted)\n",
    "    MAE_poly = mean_absolute_error(y_train, y_predicted)\n",
    "#     print(MSE_poly)\n",
    "\n",
    "    #test set\n",
    "    X_test_2nd = poly.transform(X_test)\n",
    "    y_test_predicted = model.predict(X_test_2nd)\n",
    "    MSE_poly_test = mean_squared_error(y_test, y_test_predicted)\n",
    "    MAE_poly_test = mean_absolute_error(y_test, y_test_predicted)\n",
    "#     print(MSE_poly_test)\n",
    "\n",
    "    train_mse.append(MSE_poly)\n",
    "    test_mse.append(MSE_poly_test)\n",
    "    train_mae.append(MAE_poly)\n",
    "    test_mae.append(MAE_poly_test)"
   ]
  },
  {
   "cell_type": "code",
   "execution_count": 19,
   "metadata": {},
   "outputs": [
    {
     "name": "stdout",
     "output_type": "stream",
     "text": [
      "[6864.668338924669, 6229.478378897559, 6667.399367809374, 5956.317267329098, 6073.919823398339, 6014.644723583926]\n",
      "[7591.976708433853, 7681.648506163187, 9492.214122436208, 7464.05879989564, 7864.695371974533, 7542.947116215983]\n",
      "[55.853054538380256, 52.998968751960284, 54.37529048756417, 51.720099962619365, 52.44415320660154, 51.38364979724136]\n",
      "[59.17305785210505, 58.778837427401264, 63.03425174889548, 58.664332878368974, 59.186643201080166, 57.94911978112572]\n"
     ]
    }
   ],
   "source": [
    "print(train_mse)\n",
    "print(test_mse)\n",
    "print(train_mae)\n",
    "print(test_mae)"
   ]
  },
  {
   "cell_type": "code",
   "execution_count": 20,
   "metadata": {},
   "outputs": [
    {
     "data": {
      "text/plain": [
       "<matplotlib.legend.Legend at 0x7fcc60d003a0>"
      ]
     },
     "execution_count": 20,
     "metadata": {},
     "output_type": "execute_result"
    },
    {
     "data": {
      "image/png": "[encoded data removed]",
      "text/plain": [
       "<Figure size 432x288 with 1 Axes>"
      ]
     },
     "metadata": {
      "needs_background": "light"
     },
     "output_type": "display_data"
    }
   ],
   "source": [
    "plt.plot(degree_range, train_mse, label=\"train\")\n",
    "plt.plot(degree_range, test_mse, label=\"test\")\n",
    "plt.xlabel('degree')\n",
    "plt.ylabel('mse')\n",
    "plt.grid()\n",
    "plt.legend()"
   ]
  },
  {
   "cell_type": "code",
   "execution_count": 21,
   "metadata": {},
   "outputs": [
    {
     "data": {
      "text/plain": [
       "<matplotlib.legend.Legend at 0x7fcc60ce3ca0>"
      ]
     },
     "execution_count": 21,
     "metadata": {},
     "output_type": "execute_result"
    },
    {
     "data": {
      "image/png": "[encoded data removed]",
      "text/plain": [
       "<Figure size 432x288 with 1 Axes>"
      ]
     },
     "metadata": {
      "needs_background": "light"
     },
     "output_type": "display_data"
    }
   ],
   "source": [
    "plt.plot(degree_range, train_mae, label=\"train\")\n",
    "plt.plot(degree_range, test_mae, label=\"test\")\n",
    "plt.xlabel('degree')\n",
    "plt.ylabel('mae')\n",
    "plt.grid()\n",
    "plt.legend()"
   ]
  },
  {
   "cell_type": "code",
   "execution_count": 22,
   "metadata": {},
   "outputs": [
    {
     "name": "stdout",
     "output_type": "stream",
     "text": [
      "[1.7261964617236673e+37, 1.2985662145181213e+58, 2.473248040268223e+79, 2.4403622036537962e+101, 5.805955422823315e+120, 6.841542157639816e+142]\n",
      "[1.718659047524123e+37, 1.293665629248924e+58, 2.4686162241087564e+79, 2.4381830645840996e+101, 5.79546209142084e+120, 6.807172949449354e+142]\n",
      "[4.088392179706656e+18, 1.0846234413040669e+29, 4.527128533003905e+39, 4.247096902572769e+50, 1.9292100714532644e+60, 1.9247279320934577e+71]\n",
      "[4.0758912273347855e+18, 1.0799937405081262e+29, 4.507708626342894e+39, 4.2313157738190226e+50, 1.9237541087745703e+60, 1.9210577318742522e+71]\n"
     ]
    }
   ],
   "source": [
    "from sklearn.linear_model import SGDRegressor\n",
    "from sklearn.pipeline import make_pipeline\n",
    "from sklearn.preprocessing import StandardScaler\n",
    "\n",
    "# 放在一起(degree从1到4) For SGD\n",
    "\n",
    "train_mse = []\n",
    "train_mae = []\n",
    "test_mse = []\n",
    "test_mae = []\n",
    "\n",
    "degree_range = [1,2,3,4,5,6]\n",
    "\n",
    "model = SGDRegressor()\n",
    "\n",
    "for degree in degree_range:\n",
    "    \n",
    "    poly = PolynomialFeatures(degree = degree)\n",
    "    poly.fit(X_train)\n",
    "\n",
    "    # apply the tranformer to our X matrix\n",
    "    X_with_2nd_degree = poly.transform(X_train)\n",
    "    \n",
    "#     model.fit(X, y)\n",
    "\n",
    "    model.fit(X_with_2nd_degree, y_train)\n",
    "    y_predicted = model.predict(X_with_2nd_degree)\n",
    "\n",
    "    MSE_poly = mean_squared_error(y_train, y_predicted)\n",
    "    MAE_poly = mean_absolute_error(y_train, y_predicted)\n",
    "#     print(MSE_poly)\n",
    "\n",
    "    #test set\n",
    "    X_test_2nd = poly.transform(X_test)\n",
    "    y_test_predicted = model.predict(X_test_2nd)\n",
    "    MSE_poly_test = mean_squared_error(y_test, y_test_predicted)\n",
    "    MAE_poly_test = mean_absolute_error(y_test, y_test_predicted)\n",
    "#     print(MSE_poly_test)\n",
    "\n",
    "    train_mse.append(MSE_poly)\n",
    "    test_mse.append(MSE_poly_test)\n",
    "    train_mae.append(MAE_poly)\n",
    "    test_mae.append(MAE_poly_test)\n",
    "\n",
    "print(train_mse)\n",
    "print(test_mse)\n",
    "print(train_mae)\n",
    "print(test_mae)"
   ]
  },
  {
   "cell_type": "code",
   "execution_count": 206,
   "metadata": {},
   "outputs": [
    {
     "data": {
      "text/plain": [
       "36188.20434882477"
      ]
     },
     "execution_count": 206,
     "metadata": {},
     "output_type": "execute_result"
    },
    {
     "data": {
      "image/png": "[encoded data removed]",
      "text/plain": [
       "<Figure size 432x288 with 1 Axes>"
      ]
     },
     "metadata": {
      "needs_background": "light"
     },
     "output_type": "display_data"
    }
   ],
   "source": [
    "#尝试只看GDP和工资\n",
    "\n",
    "model  = LinearRegression()\n",
    "model.fit(np.asarray(data['GDP']).reshape(-1, 1), data_1['max_sal'])\n",
    "y_predicted = model.predict(np.asarray(data['GDP']).reshape(-1, 1))\n",
    "\n",
    "# report the results\n",
    "# print(MSE_lr)\n",
    "plt.scatter(data['GDP'],data_1['max_sal'], alpha = 0.25)\n",
    "plt.plot(data['GDP'],y_predicted,color=\"red\");\n",
    "mse_gdp = mean_squared_error(np.asarray(data['GDP']).reshape(-1, 1), y_predicted)\n",
    "mse_gdp"
   ]
  },
  {
   "cell_type": "code",
   "execution_count": 207,
   "metadata": {},
   "outputs": [
    {
     "data": {
      "text/plain": [
       "3814.654058256047"
      ]
     },
     "execution_count": 207,
     "metadata": {},
     "output_type": "execute_result"
    },
    {
     "data": {
      "image/png": "[encoded data removed]",
      "text/plain": [
       "<Figure size 432x288 with 1 Axes>"
      ]
     },
     "metadata": {
      "needs_background": "light"
     },
     "output_type": "display_data"
    }
   ],
   "source": [
    "#看min和max之间的关系\n",
    "\n",
    "model  = LinearRegression()\n",
    "model.fit(np.asarray(data['min_sal']).reshape(-1, 1), data_1['max_sal'])\n",
    "y_predicted = model.predict(np.asarray(data['min_sal']).reshape(-1, 1))\n",
    "\n",
    "plt.scatter(data['min_sal'],data_1['max_sal'], alpha = 0.25)\n",
    "plt.plot(data['min_sal'],y_predicted,color=\"red\");\n",
    "\n",
    "mse_sal = mean_squared_error(np.asarray(data['min_sal']).reshape(-1, 1), y_predicted)\n",
    "mse_sal"
   ]
  },
  {
   "cell_type": "code",
   "execution_count": 10,
   "metadata": {},
   "outputs": [
    {
     "data": {
      "text/plain": [
       "190.4727686891696"
      ]
     },
     "execution_count": 10,
     "metadata": {},
     "output_type": "execute_result"
    }
   ],
   "source": [
    "data['max_sal'].mean()"
   ]
  },
  {
   "cell_type": "code",
   "execution_count": 11,
   "metadata": {},
   "outputs": [
    {
     "data": {
      "text/plain": [
       "132.1352246841996"
      ]
     },
     "execution_count": 11,
     "metadata": {},
     "output_type": "execute_result"
    }
   ],
   "source": [
    "data['min_sal'].mean()"
   ]
  },
  {
   "cell_type": "code",
   "execution_count": 22,
   "metadata": {},
   "outputs": [
    {
     "data": {
      "text/plain": [
       "max_sal  min_sal\n",
       "20       0            7\n",
       "40       30           1\n",
       "50       0           29\n",
       "         1            2\n",
       "         50           5\n",
       "60       40           1\n",
       "80       50          17\n",
       "         80           7\n",
       "100      50         111\n",
       "         80         114\n",
       "         90           1\n",
       "         99           1\n",
       "         100         69\n",
       "101      100          1\n",
       "110      100          1\n",
       "112      100          1\n",
       "120      80         158\n",
       "         90           3\n",
       "         100        281\n",
       "         110          1\n",
       "         120         66\n",
       "121      120          3\n",
       "130      120          1\n",
       "140      120          1\n",
       "147      80           1\n",
       "150      80          80\n",
       "         100        864\n",
       "         120        473\n",
       "         130          1\n",
       "         140          2\n",
       "         150        119\n",
       "151      150          1\n",
       "160      100          1\n",
       "         110          1\n",
       "         120          1\n",
       "         140          1\n",
       "170      130          1\n",
       "176      175          1\n",
       "180      100         66\n",
       "         120        186\n",
       "Name: intern_num, dtype: int64"
      ]
     },
     "execution_count": 22,
     "metadata": {},
     "output_type": "execute_result"
    }
   ],
   "source": [
    "data.groupby(['max_sal','min_sal'])['intern_num'].count().head(40)"
   ]
  },
  {
   "cell_type": "code",
   "execution_count": null,
   "metadata": {},
   "outputs": [],
   "source": [
    "['<120','120-149','150-179','180-239','>=240']\n",
    "data['sal_label'] = "
   ]
  },
  {
   "cell_type": "code",
   "execution_count": 17,
   "metadata": {},
   "outputs": [
    {
     "data": {
      "text/plain": [
       "min_sal\n",
       "0        36\n",
       "1         2\n",
       "30        1\n",
       "40        1\n",
       "50      133\n",
       "80      360\n",
       "90        4\n",
       "99        1\n",
       "100    1548\n",
       "110       2\n",
       "120     863\n",
       "130       6\n",
       "140       3\n",
       "150    1056\n",
       "175       2\n",
       "180     169\n",
       "200     387\n",
       "250     115\n",
       "300     103\n",
       "400      30\n",
       "500       5\n",
       "800       2\n",
       "Name: max_sal, dtype: int64"
      ]
     },
     "execution_count": 17,
     "metadata": {},
     "output_type": "execute_result"
    }
   ],
   "source": [
    "data.groupby('min_sal')['max_sal'].count()"
   ]
  }
 ],
 "metadata": {
  "kernelspec": {
   "display_name": "Python 3",
   "language": "python",
   "name": "python3"
  },
  "language_info": {
   "codemirror_mode": {
    "name": "ipython",
    "version": 3
   },
   "file_extension": ".py",
   "mimetype": "text/x-python",
   "name": "python",
   "nbconvert_exporter": "python",
   "pygments_lexer": "ipython3",
   "version": "3.8.1"
  }
 },
 "nbformat": 4,
 "nbformat_minor": 4
}

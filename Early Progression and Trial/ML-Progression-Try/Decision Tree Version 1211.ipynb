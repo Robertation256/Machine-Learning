{
 "cells": [
  {
   "cell_type": "markdown",
   "metadata": {},
   "source": [
    "## Decision Tree"
   ]
  },
  {
   "cell_type": "code",
   "execution_count": 44,
   "metadata": {},
   "outputs": [
    {
     "data": {
      "text/plain": [
       "(array([ 229.,    0.,  951.,    0.,    0., 1622.,    0., 1170.,    0.,\n",
       "        1026.]),\n",
       " array([0. , 0.4, 0.8, 1.2, 1.6, 2. , 2.4, 2.8, 3.2, 3.6, 4. ]),\n",
       " <a list of 10 Patch objects>)"
      ]
     },
     "execution_count": 44,
     "metadata": {},
     "output_type": "execute_result"
    },
    {
     "data": {
      "image/png": "[encoded data removed]",
      "text/plain": [
       "<Figure size 432x288 with 1 Axes>"
      ]
     },
     "metadata": {
      "needs_background": "light"
     },
     "output_type": "display_data"
    }
   ],
   "source": [
    "import pandas as pd\n",
    "import numpy as np\n",
    "from matplotlib import pyplot as plt\n",
    "\n",
    "data = pd.read_csv(\"final_validated_data.csv\")\n",
    "data.head()\n",
    "\n",
    "\n",
    "\n",
    "IT_df = data.drop(['Unnamed: 0', 'RowID', 'maxsal', 'minsal','industry', 'city', 'scale', 'name', 'uuid', 'c_desc', 'c_tag','c_name'],axis=1)\n",
    "\n",
    "\n",
    "# #确定 X和 y\n",
    "\n",
    "X = IT_df\n",
    "\n",
    "\n",
    "# Label the max salary (4 classes)\n",
    "label = []\n",
    "# max_sal = data[\"maxsal\"].to_numpy()\n",
    "# for i in max_sal:\n",
    "\n",
    "#     if i in range(0,150):\n",
    "#         label.append(0)\n",
    "#     elif i in range(150,175):\n",
    "#         label.append(1)\n",
    "#     elif i in range(175,250):\n",
    "#         label.append(2)\n",
    "#     else:\n",
    "#         label.append(3)\n",
    "# y = np.array(label)\n",
    "# plt.hist(y)\n",
    "\n",
    "for i in max_sal:\n",
    "    if i in range(0,100):\n",
    "        label.append(0)\n",
    "    elif i in range(100,150):\n",
    "        label.append(1)\n",
    "    elif i in range(150,175):\n",
    "        label.append(2)\n",
    "    elif i in range(175,250):\n",
    "        label.append(3)\n",
    "    else:\n",
    "        label.append(4)\n",
    "y = np.array(label)\n",
    "y.reshape(len(label),1)\n",
    "plt.hist(y)"
   ]
  },
  {
   "cell_type": "code",
   "execution_count": 99,
   "metadata": {},
   "outputs": [
    {
     "data": {
      "text/plain": [
       "0.20528211284513806"
      ]
     },
     "execution_count": 99,
     "metadata": {},
     "output_type": "execute_result"
    }
   ],
   "source": [
    "1026/len(y)"
   ]
  },
  {
   "cell_type": "code",
   "execution_count": 46,
   "metadata": {},
   "outputs": [],
   "source": [
    "from sklearn.tree import DecisionTreeClassifier\n",
    "from sklearn.metrics import accuracy_score, mean_squared_error\n",
    "from sklearn.preprocessing import MinMaxScaler\n",
    "from sklearn.tree import DecisionTreeClassifier\n",
    "from sklearn.metrics import accuracy_score, mean_squared_error\n",
    "from sklearn.model_selection import train_test_split\n",
    "\n",
    "# Divide into train and test set\n",
    "X_train, X_test, y_train, y_test = train_test_split(X, y, test_size=0.2, shuffle = True, random_state=0)\n",
    "\n",
    "\n",
    "# X_train, X_test, y_, y_test = train_test_split(X, y, test_size=0.2, shuffle = True, random_state=0)\n",
    "\n",
    "scaler = MinMaxScaler().fit(X_train)\n",
    "\n",
    "X_train_scaled = scaler.transform(X_train)\n",
    "X_test_scaled = scaler.transform(X_test)\n",
    "\n",
    "\n",
    "# model = DecisionTreeClassifier()\n",
    "\n",
    "\n",
    "# from sklearn.model_selection import GridSearchCV\n",
    "\n",
    "\n",
    "# parameters = {\n",
    "#     'max_depth': [10,20,30,40,50],\n",
    "#     'min_samples_leaf': [1,2,5,10,20]\n",
    "# }\n",
    "\n",
    "# grid_search = GridSearchCV(model, param_grid = parameters, scoring = 'neg_log_loss', cv=4, return_train_score = True)\n",
    "# grid_search.fit(X_train_scaled, y_train)\n",
    "# #print(grid_search.cv_results_)\n",
    "# print(grid_search.best_params_)"
   ]
  },
  {
   "cell_type": "markdown",
   "metadata": {},
   "source": [
    "# 查看accuracy 和 loss"
   ]
  },
  {
   "cell_type": "code",
   "execution_count": 47,
   "metadata": {
    "scrolled": true
   },
   "outputs": [
    {
     "name": "stdout",
     "output_type": "stream",
     "text": [
      "=======Accuracy========\n",
      "\n",
      "\n",
      "0.5880440220110055\n",
      "0.456\n",
      "=======Loss=========\n",
      "\n",
      "\n",
      "0.9352614372710598\n",
      "3.848518544499605\n"
     ]
    }
   ],
   "source": [
    "from sklearn.metrics import accuracy_score, precision_score, log_loss\n",
    "\n",
    "model = DecisionTreeClassifier(max_depth=35,min_samples_leaf=10)\n",
    "model.fit(X_train_scaled,y_train)\n",
    "\n",
    "\n",
    "\n",
    "train_acc = accuracy_score(model.predict(X_train_scaled),y_train)\n",
    "test_acc = accuracy_score(model.predict(X_test_scaled),y_test)\n",
    "\n",
    "\n",
    "# train_pre = precision_score(model.predict(X_train_scaled),y_train,average=\"micro\")\n",
    "# test_pre = precision_score(model.predict(X_test_scaled),y_test,average=\"micro\")\n",
    "\n",
    "train_loss = log_loss(y_train,model.predict_proba(X_train_scaled))\n",
    "test_loss = log_loss(y_test,model.predict_proba(X_test_scaled))\n",
    "\n",
    "\n",
    "\n",
    "print(\"=======Accuracy========\\n\\n\")\n",
    "print(train_acc)\n",
    "print(test_acc)\n",
    "\n",
    "\n",
    "print(\"=======Loss=========\\n\\n\")\n",
    "\n",
    "print(train_loss)\n",
    "print(test_loss)\n"
   ]
  },
  {
   "cell_type": "code",
   "execution_count": 48,
   "metadata": {},
   "outputs": [
    {
     "name": "stdout",
     "output_type": "stream",
     "text": [
      "[0.3741870935467734, 0.39344672336168085, 0.4004502251125563, 0.41745872936468237, 0.43721860930465234, 0.45372686343171587, 0.46898449224612304, 0.4927463731865933, 0.5087543771885943, 0.532016008004002, 0.5537768884442221, 0.568784392196098, 0.5877938969484743, 0.6045522761380691, 0.6213106553276638, 0.6303151575787894, 0.6400700350175088, 0.6470735367683842, 0.6533266633316658, 0.659079539769885, 0.6613306653326664, 0.6608304152076038, 0.6673336668334167, 0.6698349174587294, 0.6728364182091046, 0.6740870435217609, 0.6740870435217609, 0.6745872936468235, 0.6745872936468235, 0.6743371685842922, 0.6740870435217609, 0.6745872936468235, 0.6745872936468235, 0.6745872936468235, 0.6745872936468235, 0.6745872936468235, 0.6743371685842922, 0.6745872936468235, 0.6740870435217609]\n",
      "[0.331, 0.354, 0.348, 0.359, 0.367, 0.375, 0.376, 0.39, 0.389, 0.398, 0.41, 0.417, 0.437, 0.451, 0.451, 0.448, 0.474, 0.471, 0.469, 0.468, 0.475, 0.477, 0.482, 0.486, 0.488, 0.485, 0.481, 0.479, 0.481, 0.483, 0.478, 0.48, 0.482, 0.48, 0.48, 0.479, 0.481, 0.481, 0.48]\n"
     ]
    },
    {
     "data": {
      "image/png": "[encoded data removed]",
      "text/plain": [
       "<Figure size 432x288 with 1 Axes>"
      ]
     },
     "metadata": {
      "needs_background": "light"
     },
     "output_type": "display_data"
    }
   ],
   "source": [
    "train_losses = []\n",
    "test_losses = []\n",
    "\n",
    "train_history = []\n",
    "test_history = []\n",
    "\n",
    "for depth in range(1,40):\n",
    "    model = DecisionTreeClassifier(max_depth = depth, max_leaf_nodes = 400)\n",
    "    model.fit(X_train_scaled,y_train)\n",
    "    \n",
    "    train_loss = log_loss(y_train,model.predict_proba(X_train_scaled))\n",
    "    test_loss = log_loss(y_test,model.predict_proba(X_test_scaled))\n",
    "    \n",
    "    train_losses.append(train_loss)\n",
    "    test_losses.append(test_loss)\n",
    "    \n",
    "    train_acc = accuracy_score(model.predict(X_train_scaled),y_train)\n",
    "    test_acc = accuracy_score(model.predict(X_test_scaled),y_test)\n",
    "    \n",
    "    train_history.append(train_acc)\n",
    "    test_history.append(test_acc)\n",
    "    \n",
    "plt.plot(train_losses,'x',label=\"train_loss\");\n",
    "plt.plot(test_losses,'o',label=\"test_loss\");\n",
    "\n",
    "plt.plot(train_history,'x',label=\"train_acc\");\n",
    "plt.plot(test_history,'o',label=\"test_acc\");\n",
    "\n",
    "plt.xlabel('$Depth$'); plt.ylabel('Loss')\n",
    "plt.legend();\n",
    "\n",
    "print(train_history)\n",
    "print(test_history)"
   ]
  },
  {
   "cell_type": "code",
   "execution_count": 121,
   "metadata": {},
   "outputs": [
    {
     "name": "stdout",
     "output_type": "stream",
     "text": [
      "{'max_depth': 40, 'max_leaf_nodes': 500}\n"
     ]
    }
   ],
   "source": [
    "from sklearn.ensemble import RandomForestClassifier\n",
    "rf = RandomForestClassifier()\n",
    "from sklearn.model_selection import GridSearchCV\n",
    "\n",
    "\n",
    "parameters = {\n",
    "#     'n_estimators' : [x for x in range(36,60,2)],\n",
    "    'max_leaf_nodes': [x for x in [300,400,500,1000]],\n",
    "    'max_depth': [x for x in [20,30,40,50,60]],\n",
    "#     'min_samples_split' : [2,3,5,10,20]\n",
    "}\n",
    "\n",
    "grid_search = GridSearchCV(rf, param_grid = parameters, scoring = 'neg_log_loss', cv=4, return_train_score = True)\n",
    "grid_search.fit(X_train_scaled, y_train)\n",
    "#print(grid_search.cv_results_)\n",
    "print(grid_search.best_params_)\n",
    "\n",
    "# {'max_depth': 40, 'max_leaf_nodes': 400, 'n_estimators': 9}"
   ]
  },
  {
   "cell_type": "code",
   "execution_count": 116,
   "metadata": {
    "scrolled": false
   },
   "outputs": [
    {
     "name": "stdout",
     "output_type": "stream",
     "text": [
      "=======Accuracy========\n",
      "\n",
      "\n",
      "0.7836418209104552\n",
      "0.469\n",
      "=======Loss=========\n",
      "\n",
      "\n",
      "0.8282904561046097\n",
      "1.2220255145900838\n"
     ]
    }
   ],
   "source": [
    "from sklearn.metrics import accuracy_score\n",
    "\n",
    "model = RandomForestClassifier(max_depth=30, max_leaf_nodes = 400)\n",
    "model.fit(X_train_scaled, y_train)\n",
    "\n",
    "train_acc = accuracy_score(model.predict(X_train_scaled), y_train)\n",
    "test_acc = accuracy_score(model.predict(X_test_scaled), y_test)\n",
    "\n",
    "train_loss = log_loss(y_train, model.predict_proba(X_train_scaled))\n",
    "test_loss = log_loss(y_test, model.predict_proba(X_test_scaled))\n",
    "    \n",
    "\n",
    "print(\"=======Accuracy========\\n\\n\")\n",
    "print(train_acc)\n",
    "print(test_acc)\n",
    "\n",
    "print(\"=======Loss=========\\n\\n\")\n",
    "print(train_loss)\n",
    "print(test_loss)"
   ]
  },
  {
   "cell_type": "code",
   "execution_count": 59,
   "metadata": {},
   "outputs": [
    {
     "name": "stdout",
     "output_type": "stream",
     "text": [
      "[0.5460230115057528, 0.6133066533266633, 0.6605802901450726, 0.6833416708354177, 0.6803401700850426, 0.7053526763381691, 0.7301150575287644, 0.7161080540270135, 0.7288644322161081, 0.7386193096548274, 0.7426213106553277, 0.7521260630315157, 0.7503751875937968, 0.7426213106553277, 0.7573786893446723, 0.7668834417208604, 0.76088044022011, 0.7633816908454227, 0.7576288144072036, 0.7733866933466733, 0.772136068034017, 0.7636318159079539, 0.7681340670335167, 0.7671335667833917, 0.7676338169084542, 0.7698849424712356, 0.7713856928464232, 0.7738869434717359, 0.7731365682841421, 0.7766383191595798, 0.7751375687843922, 0.772136068034017, 0.7718859429714857, 0.7763881940970485, 0.7896448224112056, 0.7788894447223612, 0.7793896948474237, 0.776888444222111, 0.783391695847924, 0.7751375687843922, 0.7783891945972986, 0.7831415707853927, 0.7793896948474237, 0.7813906953476738, 0.7803901950975488, 0.7783891945972986, 0.7818909454727364, 0.7923961980990495, 0.7836418209104552]\n",
      "[0.4, 0.419, 0.414, 0.426, 0.429, 0.444, 0.45, 0.456, 0.45, 0.45, 0.466, 0.449, 0.45, 0.437, 0.462, 0.466, 0.457, 0.456, 0.472, 0.457, 0.459, 0.464, 0.476, 0.459, 0.461, 0.452, 0.46, 0.454, 0.464, 0.463, 0.471, 0.463, 0.458, 0.458, 0.461, 0.47, 0.48, 0.465, 0.471, 0.466, 0.471, 0.465, 0.468, 0.467, 0.468, 0.469, 0.466, 0.47, 0.459]\n"
     ]
    },
    {
     "data": {
      "image/png": "[encoded data removed]",
      "text/plain": [
       "<Figure size 432x288 with 1 Axes>"
      ]
     },
     "metadata": {
      "needs_background": "light"
     },
     "output_type": "display_data"
    }
   ],
   "source": [
    "train_losses = []\n",
    "test_losses = []\n",
    "\n",
    "train_history = []\n",
    "test_history = []\n",
    "\n",
    "for i in range(1,50):\n",
    "    model = RandomForestClassifier(max_depth=50, max_leaf_nodes = 400, n_estimators = i)\n",
    "    model.fit(X_train_scaled,y_train)\n",
    "    \n",
    "    train_loss = log_loss(y_train,model.predict_proba(X_train_scaled))\n",
    "    test_loss = log_loss(y_test,model.predict_proba(X_test_scaled))\n",
    "    \n",
    "    train_losses.append(train_loss)\n",
    "    test_losses.append(test_loss)\n",
    "    \n",
    "    train_acc = accuracy_score(model.predict(X_train_scaled),y_train)\n",
    "    test_acc = accuracy_score(model.predict(X_test_scaled),y_test)\n",
    "    \n",
    "    train_history.append(train_acc)\n",
    "    test_history.append(test_acc)\n",
    "    \n",
    "plt.plot(train_losses,'x',label=\"train_loss\");\n",
    "plt.plot(test_losses,'o',label=\"test_loss\");\n",
    "\n",
    "plt.plot(train_history,'x',label=\"train_acc\");\n",
    "plt.plot(test_history,'o',label=\"test_acc\");\n",
    "\n",
    "plt.xlabel('$n_estimators$'); \n",
    "plt.ylabel('Loss')\n",
    "plt.legend();\n",
    "\n",
    "print(train_history)\n",
    "print(test_history)"
   ]
  },
  {
   "cell_type": "code",
   "execution_count": 85,
   "metadata": {},
   "outputs": [
    {
     "data": {
      "text/plain": [
       "8.63489399808522"
      ]
     },
     "execution_count": 85,
     "metadata": {},
     "output_type": "execute_result"
    }
   ],
   "source": [
    "test_loss = log_loss([1,0,0,0], [1,0,0,0.1])\n",
    "test_loss"
   ]
  },
  {
   "cell_type": "markdown",
   "metadata": {},
   "source": [
    "## KNN"
   ]
  },
  {
   "cell_type": "code",
   "execution_count": 55,
   "metadata": {},
   "outputs": [
    {
     "name": "stdout",
     "output_type": "stream",
     "text": [
      "0.429\n"
     ]
    },
    {
     "data": {
      "image/png": "[encoded data removed]",
      "text/plain": [
       "<Figure size 432x288 with 1 Axes>"
      ]
     },
     "metadata": {
      "needs_background": "light"
     },
     "output_type": "display_data"
    }
   ],
   "source": [
    "from sklearn.neighbors import KNeighborsClassifier\n",
    "from sklearn.metrics import accuracy_score\n",
    "\n",
    "acc_train = []\n",
    "acc_test  = []\n",
    "\n",
    "train_losses = []\n",
    "test_losses = []\n",
    "\n",
    "for i in range(1,41):\n",
    "    model = KNeighborsClassifier(i)\n",
    "    model.fit(X_train_scaled, y_train)\n",
    "    y_pred = model.predict(X_test_scaled)\n",
    "    acc_test.append(accuracy_score(y_pred,y_test))\n",
    "    y_pred = model.predict(X_train_scaled)\n",
    "    acc_train.append(accuracy_score(y_pred,y_train))\n",
    "    \n",
    "    train_loss = log_loss(y_train,model.predict_proba(X_train_scaled))\n",
    "    test_loss = log_loss(y_test,model.predict_proba(X_test_scaled))\n",
    "    train_losses.append(train_loss)\n",
    "    test_losses.append(test_loss)\n",
    "    \n",
    "%matplotlib inline\n",
    "\n",
    "plt.plot(acc_train,'x',label=\"train\");\n",
    "plt.plot(acc_test,'o',label=\"test\");\n",
    "\n",
    "plt.plot(train_losses,'x',label=\"train_loss\");\n",
    "plt.plot(test_losses,'o',label=\"test_loss\");\n",
    "\n",
    "plt.xlabel('$k$'); plt.ylabel('Accuracy or loss')\n",
    "plt.legend();\n",
    "print(max(acc_test))"
   ]
  },
  {
   "cell_type": "code",
   "execution_count": 102,
   "metadata": {},
   "outputs": [
    {
     "name": "stdout",
     "output_type": "stream",
     "text": [
      "0.429\n"
     ]
    },
    {
     "data": {
      "image/png": "[encoded data removed]",
      "text/plain": [
       "<Figure size 432x288 with 1 Axes>"
      ]
     },
     "metadata": {
      "needs_background": "light"
     },
     "output_type": "display_data"
    }
   ],
   "source": [
    "# plt.plot(acc_train,'x',label=\"train\");\n",
    "plt.plot(acc_test,'o',label=\"test\");\n",
    "plt.xlabel('$k$'); plt.ylabel('Accuracy')\n",
    "plt.legend();\n",
    "print(max(acc_test))"
   ]
  },
  {
   "cell_type": "code",
   "execution_count": 103,
   "metadata": {},
   "outputs": [
    {
     "name": "stdout",
     "output_type": "stream",
     "text": [
      "0.429\n"
     ]
    },
    {
     "data": {
      "image/png": "[encoded data removed]",
      "text/plain": [
       "<Figure size 432x288 with 1 Axes>"
      ]
     },
     "metadata": {
      "needs_background": "light"
     },
     "output_type": "display_data"
    }
   ],
   "source": [
    "plt.plot(acc_train,'x',label=\"train\");\n",
    "plt.plot(acc_test,'o',label=\"test\");\n",
    "plt.xlabel('$k$'); plt.ylabel('Accuracy')\n",
    "plt.legend();\n",
    "print(max(acc_test))"
   ]
  },
  {
   "cell_type": "code",
   "execution_count": 58,
   "metadata": {},
   "outputs": [
    {
     "data": {
      "image/png": "[encoded data removed]",
      "text/plain": [
       "<Figure size 432x288 with 1 Axes>"
      ]
     },
     "metadata": {
      "needs_background": "light"
     },
     "output_type": "display_data"
    }
   ],
   "source": [
    "plt.plot(train_losses,'x',label=\"train_loss\");\n",
    "plt.plot(test_losses,'o',label=\"test_loss\");\n",
    "\n",
    "plt.xlabel('$k$'); plt.ylabel('Loss')\n",
    "plt.legend();"
   ]
  },
  {
   "cell_type": "code",
   "execution_count": 107,
   "metadata": {},
   "outputs": [
    {
     "name": "stdout",
     "output_type": "stream",
     "text": [
      "{'mean_fit_time': array([0.00702739, 0.00600225, 0.00604194, 0.00615036, 0.00607467,\n",
      "       0.00593531, 0.0066089 , 0.00627387, 0.00597149, 0.00590384]), 'std_fit_time': array([1.61772220e-03, 1.00716312e-04, 2.31745028e-04, 1.27668363e-04,\n",
      "       2.17742286e-04, 9.73637813e-05, 7.20055398e-04, 1.93006025e-04,\n",
      "       4.13336187e-05, 9.93851643e-05]), 'mean_score_time': array([0.14151549, 0.13554567, 0.13636112, 0.13924414, 0.14680499,\n",
      "       0.14302647, 0.14532351, 0.14782321, 0.1485492 , 0.14869297]), 'std_score_time': array([0.016745  , 0.00241265, 0.00276355, 0.00277142, 0.00974726,\n",
      "       0.00143451, 0.00211809, 0.00388777, 0.00294001, 0.00265318]), 'param_n_neighbors': masked_array(data=[10, 11, 12, 13, 14, 15, 16, 17, 18, 19],\n",
      "             mask=[False, False, False, False, False, False, False, False,\n",
      "                   False, False],\n",
      "       fill_value='?',\n",
      "            dtype=object), 'params': [{'n_neighbors': 10}, {'n_neighbors': 11}, {'n_neighbors': 12}, {'n_neighbors': 13}, {'n_neighbors': 14}, {'n_neighbors': 15}, {'n_neighbors': 16}, {'n_neighbors': 17}, {'n_neighbors': 18}, {'n_neighbors': 19}], 'split0_test_score': array([0.42 , 0.422, 0.437, 0.435, 0.44 , 0.441, 0.442, 0.452, 0.462,\n",
      "       0.447]), 'split1_test_score': array([0.436, 0.431, 0.442, 0.421, 0.428, 0.419, 0.419, 0.411, 0.421,\n",
      "       0.405]), 'split2_test_score': array([0.43943944, 0.43943944, 0.43843844, 0.43443443, 0.43943944,\n",
      "       0.45045045, 0.45045045, 0.45445445, 0.45045045, 0.43243243]), 'split3_test_score': array([0.42542543, 0.42942943, 0.42042042, 0.41841842, 0.42442442,\n",
      "       0.42342342, 0.41541542, 0.41841842, 0.41841842, 0.41941942]), 'mean_test_score': array([0.43021622, 0.43046722, 0.43446471, 0.42721321, 0.43296597,\n",
      "       0.43346847, 0.43171647, 0.43396822, 0.43796722, 0.42596296]), 'std_test_score': array([0.00783969, 0.00619587, 0.00831025, 0.00756195, 0.0068739 ,\n",
      "       0.01279991, 0.0148673 , 0.01945615, 0.01873131, 0.0155457 ]), 'rank_test_score': array([ 8,  7,  2,  9,  5,  4,  6,  3,  1, 10], dtype=int32), 'split0_train_score': array([0.53702468, 0.53068712, 0.52168112, 0.51000667, 0.50733823,\n",
      "       0.50166778, 0.49799867, 0.490994  , 0.48699133, 0.48665777]), 'split1_train_score': array([0.54736491, 0.53135424, 0.52234823, 0.51767845, 0.51400934,\n",
      "       0.50333556, 0.50166778, 0.49633089, 0.48832555, 0.49332889]), 'split2_train_score': array([0.54951651, 0.54818273, 0.53217739, 0.52284095, 0.51717239,\n",
      "       0.50483494, 0.5075025 , 0.5075025 , 0.50250083, 0.49583194]), 'split3_train_score': array([0.54018006, 0.53917973, 0.53084361, 0.51850617, 0.52317439,\n",
      "       0.52050684, 0.51817272, 0.50550183, 0.50116706, 0.49883294]), 'mean_train_score': array([0.54352154, 0.53735095, 0.52676259, 0.51725806, 0.51542359,\n",
      "       0.50758628, 0.50633542, 0.5000823 , 0.49474619, 0.49366289]), 'std_train_score': array([0.00510112, 0.00708941, 0.0047771 , 0.00462293, 0.00571197,\n",
      "       0.00754334, 0.00762844, 0.00672869, 0.00711907, 0.00448936])}\n",
      "{'n_neighbors': 18}\n"
     ]
    }
   ],
   "source": [
    "parameters = {\n",
    "\n",
    "    'n_neighbors' : [x for x in range(10,20)]\n",
    "}\n",
    "\n",
    "grid_search = GridSearchCV(KNeighborsClassifier(), param_grid = parameters, scoring = 'accuracy', cv=4, return_train_score = True)\n",
    "grid_search.fit(X_train_scaled, y_train)\n",
    "# print(grid_search.cv_results_)\n",
    "print(grid_search.best_params_)"
   ]
  },
  {
   "cell_type": "code",
   "execution_count": 109,
   "metadata": {},
   "outputs": [
    {
     "name": "stdout",
     "output_type": "stream",
     "text": [
      "0.5087543771885943\n",
      "0.416\n"
     ]
    }
   ],
   "source": [
    "model = KNeighborsClassifier(18)\n",
    "model.fit(X_train_scaled, y_train)\n",
    "\n",
    "y_pred = model.predict(X_train_scaled)\n",
    "y_pred_test = model.predict(X_test_scaled)\n",
    "\n",
    "print(accuracy_score(y_pred,y_train))\n",
    "print(accuracy_score(y_pred_test,y_test))"
   ]
  },
  {
   "cell_type": "markdown",
   "metadata": {},
   "source": [
    "## 1.1 Decision tree for max salary (for selected columns)"
   ]
  },
  {
   "cell_type": "code",
   "execution_count": 84,
   "metadata": {},
   "outputs": [
    {
     "data": {
      "text/plain": [
       "(array([1004.,    0.,    0., 1545.,    0.,    0., 1434.,    0.,    0.,\n",
       "         967.]),\n",
       " array([0. , 0.3, 0.6, 0.9, 1.2, 1.5, 1.8, 2.1, 2.4, 2.7, 3. ]),\n",
       " <a list of 10 Patch objects>)"
      ]
     },
     "execution_count": 84,
     "metadata": {},
     "output_type": "execute_result"
    },
    {
     "data": {
      "image/png": "[encoded data removed]",
      "text/plain": [
       "<Figure size 432x288 with 1 Axes>"
      ]
     },
     "metadata": {
      "needs_background": "light"
     },
     "output_type": "display_data"
    }
   ],
   "source": [
    "# Label the max salary (4 classes)\n",
    "\n",
    "label = []\n",
    "max_sal = data['max_sal'].to_numpy()\n",
    "for i in max_sal:\n",
    "    if i in range(0,150):\n",
    "        label.append(0)\n",
    "    elif i in range(150,175):\n",
    "        label.append(1)\n",
    "    elif i in range(175,250):\n",
    "        label.append(2)\n",
    "    else:\n",
    "        label.append(3)\n",
    "y = np.array(label)\n",
    "y.reshape(len(label),1)\n",
    "plt.hist(y)"
   ]
  },
  {
   "cell_type": "code",
   "execution_count": 85,
   "metadata": {},
   "outputs": [],
   "source": [
    "from sklearn.tree import DecisionTreeClassifier\n",
    "from sklearn.metrics import accuracy_score, mean_squared_error\n",
    "from sklearn.preprocessing import MinMaxScaler\n",
    "from sklearn.tree import DecisionTreeClassifier\n",
    "from sklearn.metrics import accuracy_score, mean_squared_error\n",
    "from sklearn.model_selection import train_test_split\n",
    "\n",
    "# Divide into train and test set\n",
    "X_train, X_test, y_train, y_test = train_test_split(X, y, test_size=0.2, shuffle = True, random_state=0)\n",
    "\n",
    "scaler = MinMaxScaler().fit(X_train)\n",
    "\n",
    "X_train_scaled = scaler.transform(X_train)\n",
    "X_test_scaled = scaler.transform(X_test)"
   ]
  },
  {
   "cell_type": "code",
   "execution_count": 86,
   "metadata": {},
   "outputs": [
    {
     "name": "stdout",
     "output_type": "stream",
     "text": [
      "Training Accuracy: 0.8401515151515152\n",
      "Testing Accuracy: 0.5303030303030303\n"
     ]
    }
   ],
   "source": [
    "model = DecisionTreeClassifier()\n",
    "model.fit(X_train_scaled, y_train)\n",
    "y_train_pred = model.predict(X_train_scaled)\n",
    "y_test_pred = model.predict(X_test_scaled)\n",
    "print(\"Training Accuracy:\", accuracy_score(y_train, y_train_pred))\n",
    "print(\"Testing Accuracy:\", accuracy_score(y_test, y_test_pred))"
   ]
  },
  {
   "cell_type": "code",
   "execution_count": 87,
   "metadata": {},
   "outputs": [
    {
     "name": "stdout",
     "output_type": "stream",
     "text": [
      "Bench mark: 0.31212121212121213\n"
     ]
    }
   ],
   "source": [
    "print('Bench mark: {}'.format(1545/4950))"
   ]
  },
  {
   "cell_type": "markdown",
   "metadata": {},
   "source": [
    "### Tuning max_depth"
   ]
  },
  {
   "cell_type": "code",
   "execution_count": 88,
   "metadata": {},
   "outputs": [
    {
     "data": {
      "text/plain": [
       "<matplotlib.legend.Legend at 0x7f93182654c0>"
      ]
     },
     "execution_count": 88,
     "metadata": {},
     "output_type": "execute_result"
    },
    {
     "data": {
      "image/png": "[encoded data removed]",
      "text/plain": [
       "<Figure size 432x288 with 1 Axes>"
      ]
     },
     "metadata": {
      "needs_background": "light"
     },
     "output_type": "display_data"
    }
   ],
   "source": [
    "#max_depth\n",
    "train_accuracy_history = []\n",
    "test_accuracy_history = []\n",
    "for n in range(1,50):\n",
    "    classifier_1 = DecisionTreeClassifier(max_depth = n)\n",
    "    classifier_1.fit(X_train_scaled, y_train)\n",
    "    classifier_train_pred_1 = classifier_1.predict(X_train_scaled)\n",
    "    train_accuracy_history.append(accuracy_score(y_train, classifier_train_pred_1)) \n",
    "    classifier_test_pred_1 = classifier_1.predict(X_test_scaled)\n",
    "    test_accuracy_history.append(accuracy_score(y_test, classifier_test_pred_1))\n",
    "\n",
    "plt.title('Exploring max_depth')\n",
    "plt.xlabel(\"max_depth\")\n",
    "plt.ylabel(\"Accuracy\")\n",
    "plt.plot(range(1,50), train_accuracy_history, label = 'Training Accuracy')\n",
    "plt.plot(range(1,50), test_accuracy_history, label = 'Testing Accuracy')\n",
    "plt.legend()"
   ]
  },
  {
   "cell_type": "code",
   "execution_count": 89,
   "metadata": {},
   "outputs": [
    {
     "name": "stdout",
     "output_type": "stream",
     "text": [
      "0.8401515151515152\n",
      "0.5383838383838384\n"
     ]
    }
   ],
   "source": [
    "print(max(train_accuracy_history))\n",
    "print(max(test_accuracy_history))"
   ]
  },
  {
   "cell_type": "markdown",
   "metadata": {},
   "source": [
    "### Tuning min_samples_leaf"
   ]
  },
  {
   "cell_type": "code",
   "execution_count": 90,
   "metadata": {},
   "outputs": [
    {
     "data": {
      "text/plain": [
       "<matplotlib.legend.Legend at 0x7f9358504520>"
      ]
     },
     "execution_count": 90,
     "metadata": {},
     "output_type": "execute_result"
    },
    {
     "data": {
      "image/png": "[encoded data removed]",
      "text/plain": [
       "<Figure size 432x288 with 1 Axes>"
      ]
     },
     "metadata": {
      "needs_background": "light"
     },
     "output_type": "display_data"
    }
   ],
   "source": [
    "# Tuning min_samples_leaf\n",
    "train_accuracy_history = []\n",
    "test_accuracy_history = []\n",
    "for n in range(1,201,10):\n",
    "    classifier = DecisionTreeClassifier(min_samples_leaf = n)\n",
    "    classifier.fit(X_train_scaled, y_train)\n",
    "    classifier_train_pred = classifier.predict(X_train_scaled)\n",
    "    train_accuracy_history.append(accuracy_score(y_train, classifier_train_pred)) \n",
    "    classifier_test_pred = classifier.predict(X_test_scaled)\n",
    "    test_accuracy_history.append(accuracy_score(y_test, classifier_test_pred))\n",
    "\n",
    "plt.title('Exploring min_samples_leaf')\n",
    "plt.xlabel(\"min_samples_leaf\")\n",
    "plt.ylabel(\"Accuracy\")\n",
    "plt.plot(range(1,201,10), train_accuracy_history, label = 'Training Accuracy')\n",
    "plt.plot(range(1,201,10), test_accuracy_history, label = 'Testing Accuracy')\n",
    "plt.legend()"
   ]
  },
  {
   "cell_type": "code",
   "execution_count": 91,
   "metadata": {},
   "outputs": [
    {
     "name": "stdout",
     "output_type": "stream",
     "text": [
      "0.8401515151515152\n",
      "0.5353535353535354\n"
     ]
    }
   ],
   "source": [
    "print(max(train_accuracy_history))\n",
    "print(max(test_accuracy_history))"
   ]
  },
  {
   "cell_type": "markdown",
   "metadata": {},
   "source": [
    "### Try Random Forest"
   ]
  },
  {
   "cell_type": "code",
   "execution_count": 92,
   "metadata": {},
   "outputs": [
    {
     "name": "stdout",
     "output_type": "stream",
     "text": [
      "0.5454545454545454\n"
     ]
    },
    {
     "data": {
      "text/plain": [
       "<matplotlib.legend.Legend at 0x7f9339f6d1f0>"
      ]
     },
     "execution_count": 92,
     "metadata": {},
     "output_type": "execute_result"
    },
    {
     "data": {
      "image/png": "[encoded data removed]",
      "text/plain": [
       "<Figure size 432x288 with 1 Axes>"
      ]
     },
     "metadata": {
      "needs_background": "light"
     },
     "output_type": "display_data"
    }
   ],
   "source": [
    "from sklearn.ensemble import RandomForestClassifier\n",
    "\n",
    "train_scores = []\n",
    "test_scores = []\n",
    "\n",
    "rf = RandomForestClassifier()\n",
    "estimator_range = range(1, 100, 5)##Number of trees in the forest\n",
    "for n_estimators in estimator_range:\n",
    "    rf.n_estimators = n_estimators\n",
    "    rf.fit(X_train_scaled, y_train)\n",
    "    train_scores.append(rf.score(X_train_scaled, y_train))\n",
    "    test_scores.append(rf.score(X_test_scaled, y_test))\n",
    "    \n",
    "# print(train_scores)\n",
    "# print(test_scores)\n",
    "\n",
    "print(max(test_scores))\n",
    "\n",
    "plt.title('Random Forest')\n",
    "plt.xlabel(\"Number of trees\")\n",
    "plt.ylabel(\"Accuracy\")\n",
    "plt.plot(range(1,100,5), train_scores, label = 'Training Accuracy')\n",
    "plt.plot(range(1,100,5), test_scores, label = 'Testing Accuracy')\n",
    "plt.legend()"
   ]
  },
  {
   "cell_type": "markdown",
   "metadata": {},
   "source": [
    "## 1.2 Decision tree for min salary (for selected columns)"
   ]
  },
  {
   "cell_type": "code",
   "execution_count": 93,
   "metadata": {},
   "outputs": [
    {
     "data": {
      "text/plain": [
       "(array([ 659.,    0.,    0., 1550.,    0.,    0.,  872.,    0.,    0.,\n",
       "        1869.]),\n",
       " array([0. , 0.3, 0.6, 0.9, 1.2, 1.5, 1.8, 2.1, 2.4, 2.7, 3. ]),\n",
       " <a list of 10 Patch objects>)"
      ]
     },
     "execution_count": 93,
     "metadata": {},
     "output_type": "execute_result"
    },
    {
     "data": {
      "image/png": "[encoded data removed]",
      "text/plain": [
       "<Figure size 432x288 with 1 Axes>"
      ]
     },
     "metadata": {
      "needs_background": "light"
     },
     "output_type": "display_data"
    }
   ],
   "source": [
    "label = []\n",
    "min_sal = data['min_sal'].to_numpy()\n",
    "for i in min_sal:\n",
    "    if i in range(0,100):\n",
    "        label.append(0)\n",
    "    elif i in range(100,120):\n",
    "        label.append(1)\n",
    "    elif i in range(120,150):\n",
    "        label.append(2)\n",
    "    else:\n",
    "        label.append(3)\n",
    "y = np.array(label)\n",
    "y.reshape(len(label),1)\n",
    "plt.hist(y)"
   ]
  },
  {
   "cell_type": "code",
   "execution_count": 94,
   "metadata": {},
   "outputs": [
    {
     "name": "stdout",
     "output_type": "stream",
     "text": [
      "Training Accuracy: 0.853030303030303\n",
      "Testing Accuracy: 0.5585858585858586\n"
     ]
    }
   ],
   "source": [
    "X_train, X_test, y_train, y_test = train_test_split(X, y, test_size=0.2, shuffle = True, random_state=0)\n",
    "\n",
    "scaler = MinMaxScaler().fit(X_train)\n",
    "\n",
    "X_train_scaled = scaler.transform(X_train)\n",
    "X_test_scaled = scaler.transform(X_test)\n",
    "\n",
    "model = DecisionTreeClassifier()\n",
    "model.fit(X_train_scaled, y_train)\n",
    "\n",
    "y_train_pred = model.predict(X_train_scaled)\n",
    "y_test_pred = model.predict(X_test_scaled)\n",
    "\n",
    "print(\"Training Accuracy:\", accuracy_score(y_train, y_train_pred))\n",
    "print(\"Testing Accuracy:\", accuracy_score(y_test, y_test_pred))"
   ]
  },
  {
   "cell_type": "code",
   "execution_count": 95,
   "metadata": {},
   "outputs": [
    {
     "name": "stdout",
     "output_type": "stream",
     "text": [
      "Bench mark: 0.37757575757575756\n"
     ]
    }
   ],
   "source": [
    "print('Bench mark: {}'.format(1869/4950))"
   ]
  },
  {
   "cell_type": "markdown",
   "metadata": {},
   "source": [
    "### Tuning max_depth"
   ]
  },
  {
   "cell_type": "code",
   "execution_count": 96,
   "metadata": {},
   "outputs": [
    {
     "data": {
      "text/plain": [
       "<matplotlib.legend.Legend at 0x7f9339f6dac0>"
      ]
     },
     "execution_count": 96,
     "metadata": {},
     "output_type": "execute_result"
    },
    {
     "data": {
      "image/png": "[encoded data removed]",
      "text/plain": [
       "<Figure size 432x288 with 1 Axes>"
      ]
     },
     "metadata": {
      "needs_background": "light"
     },
     "output_type": "display_data"
    }
   ],
   "source": [
    "# Tuning max_depth\n",
    "train_accuracy_history = []\n",
    "test_accuracy_history = []\n",
    "for n in range(1,50):\n",
    "    classifier_1 = DecisionTreeClassifier(max_depth = n)\n",
    "    classifier_1.fit(X_train_scaled, y_train)\n",
    "    classifier_train_pred_1 = classifier_1.predict(X_train_scaled)\n",
    "    train_accuracy_history.append(accuracy_score(y_train, classifier_train_pred_1)) \n",
    "    classifier_test_pred_1 = classifier_1.predict(X_test_scaled)\n",
    "    test_accuracy_history.append(accuracy_score(y_test, classifier_test_pred_1))\n",
    "\n",
    "plt.title('Exploring max_depth')\n",
    "plt.xlabel(\"max_depth\")\n",
    "plt.ylabel(\"Accuracy\")\n",
    "plt.plot(range(1,50), train_accuracy_history, label = 'Training Accuracy')\n",
    "plt.plot(range(1,50), test_accuracy_history, label = 'Testing Accuracy')\n",
    "plt.legend()"
   ]
  },
  {
   "cell_type": "code",
   "execution_count": 97,
   "metadata": {},
   "outputs": [
    {
     "name": "stdout",
     "output_type": "stream",
     "text": [
      "0.853030303030303\n",
      "0.5626262626262626\n"
     ]
    }
   ],
   "source": [
    "print(max(train_accuracy_history))\n",
    "print(max(test_accuracy_history))"
   ]
  },
  {
   "cell_type": "markdown",
   "metadata": {},
   "source": [
    "### Tuning max_depth"
   ]
  },
  {
   "cell_type": "code",
   "execution_count": 98,
   "metadata": {},
   "outputs": [
    {
     "data": {
      "text/plain": [
       "<matplotlib.legend.Legend at 0x7f935853e5e0>"
      ]
     },
     "execution_count": 98,
     "metadata": {},
     "output_type": "execute_result"
    },
    {
     "data": {
      "image/png": "[encoded data removed]",
      "text/plain": [
       "<Figure size 432x288 with 1 Axes>"
      ]
     },
     "metadata": {
      "needs_background": "light"
     },
     "output_type": "display_data"
    }
   ],
   "source": [
    "# Tuning min_samples_leaf\n",
    "train_accuracy_history = []\n",
    "test_accuracy_history = []\n",
    "for n in range(1,201,10):\n",
    "    classifier = DecisionTreeClassifier(min_samples_leaf = n)\n",
    "    classifier.fit(X_train_scaled, y_train)\n",
    "    classifier_train_pred = classifier.predict(X_train_scaled)\n",
    "    train_accuracy_history.append(accuracy_score(y_train, classifier_train_pred)) \n",
    "    classifier_test_pred = classifier.predict(X_test_scaled)\n",
    "    test_accuracy_history.append(accuracy_score(y_test, classifier_test_pred))\n",
    "\n",
    "plt.title('Exploring min_samples_leaf')\n",
    "plt.xlabel(\"min_samples_leaf\")\n",
    "plt.ylabel(\"Accuracy\")\n",
    "plt.plot(range(1,201,10), train_accuracy_history, label = 'Training Accuracy')\n",
    "plt.plot(range(1,201,10), test_accuracy_history, label = 'Testing Accuracy')\n",
    "plt.legend()"
   ]
  },
  {
   "cell_type": "code",
   "execution_count": 99,
   "metadata": {},
   "outputs": [
    {
     "name": "stdout",
     "output_type": "stream",
     "text": [
      "0.853030303030303\n",
      "0.5575757575757576\n"
     ]
    }
   ],
   "source": [
    "print(max(train_accuracy_history))\n",
    "print(max(test_accuracy_history))"
   ]
  },
  {
   "cell_type": "markdown",
   "metadata": {},
   "source": [
    "### Try Random Forest"
   ]
  },
  {
   "cell_type": "code",
   "execution_count": 100,
   "metadata": {},
   "outputs": [
    {
     "name": "stdout",
     "output_type": "stream",
     "text": [
      "0.5858585858585859\n"
     ]
    },
    {
     "data": {
      "text/plain": [
       "<matplotlib.legend.Legend at 0x7f9339f6da00>"
      ]
     },
     "execution_count": 100,
     "metadata": {},
     "output_type": "execute_result"
    },
    {
     "data": {
      "image/png": "[encoded data removed]",
      "text/plain": [
       "<Figure size 432x288 with 1 Axes>"
      ]
     },
     "metadata": {
      "needs_background": "light"
     },
     "output_type": "display_data"
    }
   ],
   "source": [
    "from sklearn.ensemble import RandomForestClassifier\n",
    "\n",
    "train_scores = []\n",
    "test_scores = []\n",
    "\n",
    "rf = RandomForestClassifier()\n",
    "estimator_range = range(1, 100, 5)##Number of trees in the forest\n",
    "for n_estimators in estimator_range:\n",
    "    rf.n_estimators = n_estimators\n",
    "    rf.fit(X_train_scaled, y_train)\n",
    "    train_scores.append(rf.score(X_train_scaled, y_train))\n",
    "    test_scores.append(rf.score(X_test_scaled, y_test))\n",
    "    \n",
    "# print(train_scores)\n",
    "# print(test_scores)\n",
    "\n",
    "print(max(test_scores))\n",
    "\n",
    "plt.title('Random Forest')\n",
    "plt.xlabel(\"Number of trees\")\n",
    "plt.ylabel(\"Accuracy\")\n",
    "plt.plot(range(1,100,5), train_scores, label = 'Training Accuracy')\n",
    "plt.plot(range(1,100,5), test_scores, label = 'Testing Accuracy')\n",
    "plt.legend()"
   ]
  },
  {
   "cell_type": "markdown",
   "metadata": {},
   "source": [
    "## 2.1 Decision tree for max salary (for all columns)"
   ]
  },
  {
   "cell_type": "code",
   "execution_count": 101,
   "metadata": {},
   "outputs": [
    {
     "data": {
      "text/html": [
       "<div>\n",
       "<style scoped>\n",
       "    .dataframe tbody tr th:only-of-type {\n",
       "        vertical-align: middle;\n",
       "    }\n",
       "\n",
       "    .dataframe tbody tr th {\n",
       "        vertical-align: top;\n",
       "    }\n",
       "\n",
       "    .dataframe thead th {\n",
       "        text-align: right;\n",
       "    }\n",
       "</style>\n",
       "<table border=\"1\" class=\"dataframe\">\n",
       "  <thead>\n",
       "    <tr style=\"text-align: right;\">\n",
       "      <th></th>\n",
       "      <th>intern_num</th>\n",
       "      <th>month_num</th>\n",
       "      <th>day</th>\n",
       "      <th>2000</th>\n",
       "      <th>500-2000</th>\n",
       "      <th>50-500</th>\n",
       "      <th>&lt;50</th>\n",
       "      <th>互联网</th>\n",
       "      <th>教育</th>\n",
       "      <th>房产</th>\n",
       "      <th>...</th>\n",
       "      <th>媒体</th>\n",
       "      <th>内容</th>\n",
       "      <th>专员</th>\n",
       "      <th>产品</th>\n",
       "      <th>销售</th>\n",
       "      <th>开发</th>\n",
       "      <th>工程师</th>\n",
       "      <th>助理</th>\n",
       "      <th>运营</th>\n",
       "      <th>GDP per capita</th>\n",
       "    </tr>\n",
       "  </thead>\n",
       "  <tbody>\n",
       "    <tr>\n",
       "      <th>0</th>\n",
       "      <td>176</td>\n",
       "      <td>3</td>\n",
       "      <td>3</td>\n",
       "      <td>1</td>\n",
       "      <td>0</td>\n",
       "      <td>0</td>\n",
       "      <td>0</td>\n",
       "      <td>1</td>\n",
       "      <td>0</td>\n",
       "      <td>0</td>\n",
       "      <td>...</td>\n",
       "      <td>0</td>\n",
       "      <td>0</td>\n",
       "      <td>0</td>\n",
       "      <td>0</td>\n",
       "      <td>0</td>\n",
       "      <td>0</td>\n",
       "      <td>0</td>\n",
       "      <td>0</td>\n",
       "      <td>0</td>\n",
       "      <td>162518.5736</td>\n",
       "    </tr>\n",
       "    <tr>\n",
       "      <th>1</th>\n",
       "      <td>390</td>\n",
       "      <td>3</td>\n",
       "      <td>5</td>\n",
       "      <td>1</td>\n",
       "      <td>0</td>\n",
       "      <td>0</td>\n",
       "      <td>0</td>\n",
       "      <td>1</td>\n",
       "      <td>0</td>\n",
       "      <td>0</td>\n",
       "      <td>...</td>\n",
       "      <td>0</td>\n",
       "      <td>0</td>\n",
       "      <td>0</td>\n",
       "      <td>0</td>\n",
       "      <td>0</td>\n",
       "      <td>0</td>\n",
       "      <td>0</td>\n",
       "      <td>0</td>\n",
       "      <td>0</td>\n",
       "      <td>162518.5736</td>\n",
       "    </tr>\n",
       "    <tr>\n",
       "      <th>2</th>\n",
       "      <td>44</td>\n",
       "      <td>5</td>\n",
       "      <td>4</td>\n",
       "      <td>1</td>\n",
       "      <td>0</td>\n",
       "      <td>0</td>\n",
       "      <td>0</td>\n",
       "      <td>1</td>\n",
       "      <td>0</td>\n",
       "      <td>0</td>\n",
       "      <td>...</td>\n",
       "      <td>0</td>\n",
       "      <td>0</td>\n",
       "      <td>0</td>\n",
       "      <td>0</td>\n",
       "      <td>0</td>\n",
       "      <td>1</td>\n",
       "      <td>1</td>\n",
       "      <td>0</td>\n",
       "      <td>0</td>\n",
       "      <td>162518.5736</td>\n",
       "    </tr>\n",
       "    <tr>\n",
       "      <th>3</th>\n",
       "      <td>486</td>\n",
       "      <td>4</td>\n",
       "      <td>5</td>\n",
       "      <td>1</td>\n",
       "      <td>0</td>\n",
       "      <td>0</td>\n",
       "      <td>0</td>\n",
       "      <td>1</td>\n",
       "      <td>0</td>\n",
       "      <td>0</td>\n",
       "      <td>...</td>\n",
       "      <td>0</td>\n",
       "      <td>0</td>\n",
       "      <td>0</td>\n",
       "      <td>0</td>\n",
       "      <td>0</td>\n",
       "      <td>0</td>\n",
       "      <td>0</td>\n",
       "      <td>1</td>\n",
       "      <td>0</td>\n",
       "      <td>162518.5736</td>\n",
       "    </tr>\n",
       "    <tr>\n",
       "      <th>4</th>\n",
       "      <td>390</td>\n",
       "      <td>3</td>\n",
       "      <td>5</td>\n",
       "      <td>1</td>\n",
       "      <td>0</td>\n",
       "      <td>0</td>\n",
       "      <td>0</td>\n",
       "      <td>1</td>\n",
       "      <td>0</td>\n",
       "      <td>0</td>\n",
       "      <td>...</td>\n",
       "      <td>0</td>\n",
       "      <td>0</td>\n",
       "      <td>0</td>\n",
       "      <td>0</td>\n",
       "      <td>0</td>\n",
       "      <td>0</td>\n",
       "      <td>0</td>\n",
       "      <td>0</td>\n",
       "      <td>1</td>\n",
       "      <td>162518.5736</td>\n",
       "    </tr>\n",
       "    <tr>\n",
       "      <th>...</th>\n",
       "      <td>...</td>\n",
       "      <td>...</td>\n",
       "      <td>...</td>\n",
       "      <td>...</td>\n",
       "      <td>...</td>\n",
       "      <td>...</td>\n",
       "      <td>...</td>\n",
       "      <td>...</td>\n",
       "      <td>...</td>\n",
       "      <td>...</td>\n",
       "      <td>...</td>\n",
       "      <td>...</td>\n",
       "      <td>...</td>\n",
       "      <td>...</td>\n",
       "      <td>...</td>\n",
       "      <td>...</td>\n",
       "      <td>...</td>\n",
       "      <td>...</td>\n",
       "      <td>...</td>\n",
       "      <td>...</td>\n",
       "      <td>...</td>\n",
       "    </tr>\n",
       "    <tr>\n",
       "      <th>4945</th>\n",
       "      <td>73</td>\n",
       "      <td>6</td>\n",
       "      <td>5</td>\n",
       "      <td>0</td>\n",
       "      <td>1</td>\n",
       "      <td>0</td>\n",
       "      <td>0</td>\n",
       "      <td>1</td>\n",
       "      <td>0</td>\n",
       "      <td>0</td>\n",
       "      <td>...</td>\n",
       "      <td>0</td>\n",
       "      <td>0</td>\n",
       "      <td>0</td>\n",
       "      <td>0</td>\n",
       "      <td>0</td>\n",
       "      <td>1</td>\n",
       "      <td>0</td>\n",
       "      <td>0</td>\n",
       "      <td>0</td>\n",
       "      <td>169782.5765</td>\n",
       "    </tr>\n",
       "    <tr>\n",
       "      <th>4946</th>\n",
       "      <td>96</td>\n",
       "      <td>3</td>\n",
       "      <td>5</td>\n",
       "      <td>0</td>\n",
       "      <td>1</td>\n",
       "      <td>0</td>\n",
       "      <td>0</td>\n",
       "      <td>1</td>\n",
       "      <td>0</td>\n",
       "      <td>0</td>\n",
       "      <td>...</td>\n",
       "      <td>0</td>\n",
       "      <td>0</td>\n",
       "      <td>0</td>\n",
       "      <td>0</td>\n",
       "      <td>0</td>\n",
       "      <td>1</td>\n",
       "      <td>1</td>\n",
       "      <td>0</td>\n",
       "      <td>0</td>\n",
       "      <td>169782.5765</td>\n",
       "    </tr>\n",
       "    <tr>\n",
       "      <th>4947</th>\n",
       "      <td>96</td>\n",
       "      <td>3</td>\n",
       "      <td>5</td>\n",
       "      <td>0</td>\n",
       "      <td>1</td>\n",
       "      <td>0</td>\n",
       "      <td>0</td>\n",
       "      <td>1</td>\n",
       "      <td>0</td>\n",
       "      <td>0</td>\n",
       "      <td>...</td>\n",
       "      <td>0</td>\n",
       "      <td>0</td>\n",
       "      <td>0</td>\n",
       "      <td>0</td>\n",
       "      <td>0</td>\n",
       "      <td>0</td>\n",
       "      <td>0</td>\n",
       "      <td>0</td>\n",
       "      <td>0</td>\n",
       "      <td>169782.5765</td>\n",
       "    </tr>\n",
       "    <tr>\n",
       "      <th>4948</th>\n",
       "      <td>96</td>\n",
       "      <td>3</td>\n",
       "      <td>5</td>\n",
       "      <td>0</td>\n",
       "      <td>1</td>\n",
       "      <td>0</td>\n",
       "      <td>0</td>\n",
       "      <td>1</td>\n",
       "      <td>0</td>\n",
       "      <td>0</td>\n",
       "      <td>...</td>\n",
       "      <td>0</td>\n",
       "      <td>0</td>\n",
       "      <td>0</td>\n",
       "      <td>0</td>\n",
       "      <td>0</td>\n",
       "      <td>0</td>\n",
       "      <td>0</td>\n",
       "      <td>0</td>\n",
       "      <td>0</td>\n",
       "      <td>169782.5765</td>\n",
       "    </tr>\n",
       "    <tr>\n",
       "      <th>4949</th>\n",
       "      <td>22</td>\n",
       "      <td>3</td>\n",
       "      <td>4</td>\n",
       "      <td>1</td>\n",
       "      <td>0</td>\n",
       "      <td>0</td>\n",
       "      <td>0</td>\n",
       "      <td>1</td>\n",
       "      <td>0</td>\n",
       "      <td>0</td>\n",
       "      <td>...</td>\n",
       "      <td>1</td>\n",
       "      <td>0</td>\n",
       "      <td>0</td>\n",
       "      <td>0</td>\n",
       "      <td>0</td>\n",
       "      <td>0</td>\n",
       "      <td>0</td>\n",
       "      <td>0</td>\n",
       "      <td>0</td>\n",
       "      <td>169782.5765</td>\n",
       "    </tr>\n",
       "  </tbody>\n",
       "</table>\n",
       "<p>4950 rows × 65 columns</p>\n",
       "</div>"
      ],
      "text/plain": [
       "      intern_num  month_num  day  2000  500-2000  50-500  <50  互联网  教育  房产  \\\n",
       "0            176          3    3     1         0       0    0    1   0   0   \n",
       "1            390          3    5     1         0       0    0    1   0   0   \n",
       "2             44          5    4     1         0       0    0    1   0   0   \n",
       "3            486          4    5     1         0       0    0    1   0   0   \n",
       "4            390          3    5     1         0       0    0    1   0   0   \n",
       "...          ...        ...  ...   ...       ...     ...  ...  ...  ..  ..   \n",
       "4945          73          6    5     0         1       0    0    1   0   0   \n",
       "4946          96          3    5     0         1       0    0    1   0   0   \n",
       "4947          96          3    5     0         1       0    0    1   0   0   \n",
       "4948          96          3    5     0         1       0    0    1   0   0   \n",
       "4949          22          3    4     1         0       0    0    1   0   0   \n",
       "\n",
       "      ...  媒体  内容  专员  产品  销售  开发  工程师  助理  运营  GDP per capita  \n",
       "0     ...   0   0   0   0   0   0    0   0   0     162518.5736  \n",
       "1     ...   0   0   0   0   0   0    0   0   0     162518.5736  \n",
       "2     ...   0   0   0   0   0   1    1   0   0     162518.5736  \n",
       "3     ...   0   0   0   0   0   0    0   1   0     162518.5736  \n",
       "4     ...   0   0   0   0   0   0    0   0   1     162518.5736  \n",
       "...   ...  ..  ..  ..  ..  ..  ..  ...  ..  ..             ...  \n",
       "4945  ...   0   0   0   0   0   1    0   0   0     169782.5765  \n",
       "4946  ...   0   0   0   0   0   1    1   0   0     169782.5765  \n",
       "4947  ...   0   0   0   0   0   0    0   0   0     169782.5765  \n",
       "4948  ...   0   0   0   0   0   0    0   0   0     169782.5765  \n",
       "4949  ...   1   0   0   0   0   0    0   0   0     169782.5765  \n",
       "\n",
       "[4950 rows x 65 columns]"
      ]
     },
     "execution_count": 101,
     "metadata": {},
     "output_type": "execute_result"
    }
   ],
   "source": [
    "data = pd.read_csv(\"formated_data_1111.csv\")\n",
    "data2 = data.drop(['max_sal', 'min_sal', 'city','GDP(billion)', 'Population(thousand)'], axis = 1)\n",
    "data2"
   ]
  },
  {
   "cell_type": "code",
   "execution_count": 102,
   "metadata": {},
   "outputs": [],
   "source": [
    "X = data2\n",
    "y = data['max_sal']"
   ]
  },
  {
   "cell_type": "code",
   "execution_count": 103,
   "metadata": {},
   "outputs": [
    {
     "data": {
      "text/plain": [
       "(array([1004.,    0.,    0., 1545.,    0.,    0., 1434.,    0.,    0.,\n",
       "         967.]),\n",
       " array([0. , 0.3, 0.6, 0.9, 1.2, 1.5, 1.8, 2.1, 2.4, 2.7, 3. ]),\n",
       " <a list of 10 Patch objects>)"
      ]
     },
     "execution_count": 103,
     "metadata": {},
     "output_type": "execute_result"
    },
    {
     "data": {
      "image/png": "[encoded data removed]",
      "text/plain": [
       "<Figure size 432x288 with 1 Axes>"
      ]
     },
     "metadata": {
      "needs_background": "light"
     },
     "output_type": "display_data"
    }
   ],
   "source": [
    "# Label the max salary (4 classes)\n",
    "\n",
    "label = []\n",
    "max_sal = data['max_sal'].to_numpy()\n",
    "for i in max_sal:\n",
    "    if i in range(0,150):\n",
    "        label.append(0)\n",
    "    elif i in range(150,175):\n",
    "        label.append(1)\n",
    "    elif i in range(175,250):\n",
    "        label.append(2)\n",
    "    else:\n",
    "        label.append(3)\n",
    "y = np.array(label)\n",
    "y.reshape(len(label),1)\n",
    "plt.hist(y)"
   ]
  },
  {
   "cell_type": "code",
   "execution_count": 104,
   "metadata": {},
   "outputs": [
    {
     "name": "stdout",
     "output_type": "stream",
     "text": [
      "Training Accuracy: 0.9742424242424242\n",
      "Testing Accuracy: 0.5040404040404041\n"
     ]
    }
   ],
   "source": [
    "# Divide into train and test set\n",
    "X_train, X_test, y_train, y_test = train_test_split(X, y, test_size=0.2, shuffle = True, random_state=0)\n",
    "\n",
    "scaler = MinMaxScaler().fit(X_train)\n",
    "\n",
    "X_train_scaled = scaler.transform(X_train)\n",
    "X_test_scaled = scaler.transform(X_test)\n",
    "\n",
    "model = DecisionTreeClassifier()\n",
    "model.fit(X_train_scaled, y_train)\n",
    "y_train_pred = model.predict(X_train_scaled)\n",
    "y_test_pred = model.predict(X_test_scaled)\n",
    "print(\"Training Accuracy:\", accuracy_score(y_train, y_train_pred))\n",
    "print(\"Testing Accuracy:\", accuracy_score(y_test, y_test_pred))"
   ]
  },
  {
   "cell_type": "code",
   "execution_count": 105,
   "metadata": {},
   "outputs": [
    {
     "name": "stdout",
     "output_type": "stream",
     "text": [
      "Bench mark: 0.31212121212121213\n"
     ]
    }
   ],
   "source": [
    "print('Bench mark: {}'.format(1545/4950))"
   ]
  },
  {
   "cell_type": "markdown",
   "metadata": {},
   "source": [
    "### Tuning max_depth"
   ]
  },
  {
   "cell_type": "code",
   "execution_count": 106,
   "metadata": {},
   "outputs": [
    {
     "data": {
      "text/plain": [
       "<matplotlib.legend.Legend at 0x7f9379ef5790>"
      ]
     },
     "execution_count": 106,
     "metadata": {},
     "output_type": "execute_result"
    },
    {
     "data": {
      "image/png": "[encoded data removed]",
      "text/plain": [
       "<Figure size 432x288 with 1 Axes>"
      ]
     },
     "metadata": {
      "needs_background": "light"
     },
     "output_type": "display_data"
    }
   ],
   "source": [
    "#max_depth\n",
    "train_accuracy_history = []\n",
    "test_accuracy_history = []\n",
    "for n in range(1,70):\n",
    "    classifier_1 = DecisionTreeClassifier(max_depth = n)\n",
    "    classifier_1.fit(X_train_scaled, y_train)\n",
    "    classifier_train_pred_1 = classifier_1.predict(X_train_scaled)\n",
    "    train_accuracy_history.append(accuracy_score(y_train, classifier_train_pred_1)) \n",
    "    classifier_test_pred_1 = classifier_1.predict(X_test_scaled)\n",
    "    test_accuracy_history.append(accuracy_score(y_test, classifier_test_pred_1))\n",
    "\n",
    "plt.title('Exploring max_depth')\n",
    "plt.xlabel(\"max_depth\")\n",
    "plt.ylabel(\"Accuracy\")\n",
    "plt.plot(range(1,70), train_accuracy_history, label = 'Training Accuracy')\n",
    "plt.plot(range(1,70), test_accuracy_history, label = 'Testing Accuracy')\n",
    "plt.legend()"
   ]
  },
  {
   "cell_type": "code",
   "execution_count": 107,
   "metadata": {},
   "outputs": [
    {
     "name": "stdout",
     "output_type": "stream",
     "text": [
      "0.9742424242424242\n",
      "0.5131313131313131\n"
     ]
    }
   ],
   "source": [
    "print(max(train_accuracy_history))\n",
    "print(max(test_accuracy_history))"
   ]
  },
  {
   "cell_type": "markdown",
   "metadata": {},
   "source": [
    "### Tuning min_samples_leaf"
   ]
  },
  {
   "cell_type": "code",
   "execution_count": 108,
   "metadata": {},
   "outputs": [
    {
     "data": {
      "text/plain": [
       "<matplotlib.legend.Legend at 0x7f92f8548ee0>"
      ]
     },
     "execution_count": 108,
     "metadata": {},
     "output_type": "execute_result"
    },
    {
     "data": {
      "image/png": "[encoded data removed]",
      "text/plain": [
       "<Figure size 432x288 with 1 Axes>"
      ]
     },
     "metadata": {
      "needs_background": "light"
     },
     "output_type": "display_data"
    }
   ],
   "source": [
    "# Tuning min_samples_leaf\n",
    "train_accuracy_history = []\n",
    "test_accuracy_history = []\n",
    "for n in range(1,201,10):\n",
    "    classifier = DecisionTreeClassifier(min_samples_leaf = n)\n",
    "    classifier.fit(X_train_scaled, y_train)\n",
    "    classifier_train_pred = classifier.predict(X_train_scaled)\n",
    "    train_accuracy_history.append(accuracy_score(y_train, classifier_train_pred)) \n",
    "    classifier_test_pred = classifier.predict(X_test_scaled)\n",
    "    test_accuracy_history.append(accuracy_score(y_test, classifier_test_pred))\n",
    "\n",
    "plt.title('Exploring min_samples_leaf')\n",
    "plt.xlabel(\"min_samples_leaf\")\n",
    "plt.ylabel(\"Accuracy\")\n",
    "plt.plot(range(1,201,10), train_accuracy_history, label = 'Training Accuracy')\n",
    "plt.plot(range(1,201,10), test_accuracy_history, label = 'Testing Accuracy')\n",
    "plt.legend()"
   ]
  },
  {
   "cell_type": "code",
   "execution_count": 109,
   "metadata": {},
   "outputs": [
    {
     "name": "stdout",
     "output_type": "stream",
     "text": [
      "0.9742424242424242\n",
      "0.5050505050505051\n"
     ]
    }
   ],
   "source": [
    "print(max(train_accuracy_history))\n",
    "print(max(test_accuracy_history))"
   ]
  },
  {
   "cell_type": "markdown",
   "metadata": {},
   "source": [
    "### Try Random Forest"
   ]
  },
  {
   "cell_type": "code",
   "execution_count": 110,
   "metadata": {},
   "outputs": [
    {
     "name": "stdout",
     "output_type": "stream",
     "text": [
      "0.5232323232323233\n"
     ]
    },
    {
     "data": {
      "text/plain": [
       "<matplotlib.legend.Legend at 0x7f934941b100>"
      ]
     },
     "execution_count": 110,
     "metadata": {},
     "output_type": "execute_result"
    },
    {
     "data": {
      "image/png": "[encoded data removed]",
      "text/plain": [
       "<Figure size 432x288 with 1 Axes>"
      ]
     },
     "metadata": {
      "needs_background": "light"
     },
     "output_type": "display_data"
    }
   ],
   "source": [
    "from sklearn.ensemble import RandomForestClassifier\n",
    "\n",
    "train_scores = []\n",
    "test_scores = []\n",
    "\n",
    "rf = RandomForestClassifier()\n",
    "estimator_range = range(1, 100, 5)##Number of trees in the forest\n",
    "for n_estimators in estimator_range:\n",
    "    rf.n_estimators = n_estimators\n",
    "    rf.fit(X_train_scaled, y_train)\n",
    "    train_scores.append(rf.score(X_train_scaled, y_train))\n",
    "    test_scores.append(rf.score(X_test_scaled, y_test))\n",
    "    \n",
    "# print(train_scores)\n",
    "# print(test_scores)\n",
    "\n",
    "print(max(test_scores))\n",
    "\n",
    "plt.title('Random Forest')\n",
    "plt.xlabel(\"Number of trees\")\n",
    "plt.ylabel(\"Accuracy\")\n",
    "plt.plot(range(1,100,5), train_scores, label = 'Training Accuracy')\n",
    "plt.plot(range(1,100,5), test_scores, label = 'Testing Accuracy')\n",
    "plt.legend()"
   ]
  },
  {
   "cell_type": "markdown",
   "metadata": {},
   "source": [
    "## 2.2 Decision tree for min salary (for all columns)"
   ]
  },
  {
   "cell_type": "code",
   "execution_count": 111,
   "metadata": {},
   "outputs": [
    {
     "data": {
      "text/plain": [
       "(array([ 659.,    0.,    0., 1550.,    0.,    0.,  872.,    0.,    0.,\n",
       "        1869.]),\n",
       " array([0. , 0.3, 0.6, 0.9, 1.2, 1.5, 1.8, 2.1, 2.4, 2.7, 3. ]),\n",
       " <a list of 10 Patch objects>)"
      ]
     },
     "execution_count": 111,
     "metadata": {},
     "output_type": "execute_result"
    },
    {
     "data": {
      "image/png": "[encoded data removed]",
      "text/plain": [
       "<Figure size 432x288 with 1 Axes>"
      ]
     },
     "metadata": {
      "needs_background": "light"
     },
     "output_type": "display_data"
    }
   ],
   "source": [
    "label = []\n",
    "min_sal = data['min_sal'].to_numpy()\n",
    "for i in min_sal:\n",
    "    if i in range(0,100):\n",
    "        label.append(0)\n",
    "    elif i in range(100,120):\n",
    "        label.append(1)\n",
    "    elif i in range(120,150):\n",
    "        label.append(2)\n",
    "    else:\n",
    "        label.append(3)\n",
    "y = np.array(label)\n",
    "y.reshape(len(label),1)\n",
    "plt.hist(y)"
   ]
  },
  {
   "cell_type": "code",
   "execution_count": 112,
   "metadata": {},
   "outputs": [
    {
     "name": "stdout",
     "output_type": "stream",
     "text": [
      "Training Accuracy: 0.9767676767676767\n",
      "Testing Accuracy: 0.5313131313131313\n"
     ]
    }
   ],
   "source": [
    "X_train, X_test, y_train, y_test = train_test_split(X, y, test_size=0.2, shuffle = True, random_state=0)\n",
    "\n",
    "scaler = MinMaxScaler().fit(X_train)\n",
    "\n",
    "X_train_scaled = scaler.transform(X_train)\n",
    "X_test_scaled = scaler.transform(X_test)\n",
    "\n",
    "model = DecisionTreeClassifier()\n",
    "model.fit(X_train_scaled, y_train)\n",
    "\n",
    "y_train_pred = model.predict(X_train_scaled)\n",
    "y_test_pred = model.predict(X_test_scaled)\n",
    "\n",
    "print(\"Training Accuracy:\", accuracy_score(y_train, y_train_pred))\n",
    "print(\"Testing Accuracy:\", accuracy_score(y_test, y_test_pred))"
   ]
  },
  {
   "cell_type": "code",
   "execution_count": 113,
   "metadata": {},
   "outputs": [
    {
     "name": "stdout",
     "output_type": "stream",
     "text": [
      "Bench mark: 0.37757575757575756\n"
     ]
    }
   ],
   "source": [
    "print('Bench mark: {}'.format(1869/4950))"
   ]
  },
  {
   "cell_type": "markdown",
   "metadata": {},
   "source": [
    "### Tuning max_depth"
   ]
  },
  {
   "cell_type": "code",
   "execution_count": 114,
   "metadata": {},
   "outputs": [
    {
     "data": {
      "text/plain": [
       "<matplotlib.legend.Legend at 0x7f936a318a60>"
      ]
     },
     "execution_count": 114,
     "metadata": {},
     "output_type": "execute_result"
    },
    {
     "data": {
      "image/png": "[encoded data removed]",
      "text/plain": [
       "<Figure size 432x288 with 1 Axes>"
      ]
     },
     "metadata": {
      "needs_background": "light"
     },
     "output_type": "display_data"
    }
   ],
   "source": [
    "# Tuning max_depth\n",
    "train_accuracy_history = []\n",
    "test_accuracy_history = []\n",
    "for n in range(1,70):\n",
    "    classifier_1 = DecisionTreeClassifier(max_depth = n)\n",
    "    classifier_1.fit(X_train_scaled, y_train)\n",
    "    classifier_train_pred_1 = classifier_1.predict(X_train_scaled)\n",
    "    train_accuracy_history.append(accuracy_score(y_train, classifier_train_pred_1)) \n",
    "    classifier_test_pred_1 = classifier_1.predict(X_test_scaled)\n",
    "    test_accuracy_history.append(accuracy_score(y_test, classifier_test_pred_1))\n",
    "\n",
    "plt.title('Exploring max_depth')\n",
    "plt.xlabel(\"max_depth\")\n",
    "plt.ylabel(\"Accuracy\")\n",
    "plt.plot(range(1,70), train_accuracy_history, label = 'Training Accuracy')\n",
    "plt.plot(range(1,70), test_accuracy_history, label = 'Testing Accuracy')\n",
    "plt.legend()"
   ]
  },
  {
   "cell_type": "markdown",
   "metadata": {},
   "source": [
    "### Tuning min_samples_leaf"
   ]
  },
  {
   "cell_type": "code",
   "execution_count": 115,
   "metadata": {},
   "outputs": [
    {
     "data": {
      "text/plain": [
       "<matplotlib.legend.Legend at 0x7f936b16dcd0>"
      ]
     },
     "execution_count": 115,
     "metadata": {},
     "output_type": "execute_result"
    },
    {
     "data": {
      "image/png": "[encoded data removed]",
      "text/plain": [
       "<Figure size 432x288 with 1 Axes>"
      ]
     },
     "metadata": {
      "needs_background": "light"
     },
     "output_type": "display_data"
    }
   ],
   "source": [
    "# Tuning min_samples_leaf\n",
    "train_accuracy_history = []\n",
    "test_accuracy_history = []\n",
    "for n in range(1,201,10):\n",
    "    classifier = DecisionTreeClassifier(min_samples_leaf = n)\n",
    "    classifier.fit(X_train_scaled, y_train)\n",
    "    classifier_train_pred = classifier.predict(X_train_scaled)\n",
    "    train_accuracy_history.append(accuracy_score(y_train, classifier_train_pred)) \n",
    "    classifier_test_pred = classifier.predict(X_test_scaled)\n",
    "    test_accuracy_history.append(accuracy_score(y_test, classifier_test_pred))\n",
    "\n",
    "plt.title('Exploring min_samples_leaf')\n",
    "plt.xlabel(\"min_samples_leaf\")\n",
    "plt.ylabel(\"Accuracy\")\n",
    "plt.plot(range(1,201,10), train_accuracy_history, label = 'Training Accuracy')\n",
    "plt.plot(range(1,201,10), test_accuracy_history, label = 'Testing Accuracy')\n",
    "plt.legend()"
   ]
  },
  {
   "cell_type": "code",
   "execution_count": 116,
   "metadata": {},
   "outputs": [
    {
     "name": "stdout",
     "output_type": "stream",
     "text": [
      "0.9767676767676767\n",
      "0.5292929292929293\n"
     ]
    }
   ],
   "source": [
    "print(max(train_accuracy_history))\n",
    "print(max(test_accuracy_history))"
   ]
  },
  {
   "cell_type": "markdown",
   "metadata": {},
   "source": [
    "## Try Random Forest"
   ]
  },
  {
   "cell_type": "code",
   "execution_count": 117,
   "metadata": {},
   "outputs": [
    {
     "name": "stdout",
     "output_type": "stream",
     "text": [
      "0.5656565656565656\n"
     ]
    },
    {
     "data": {
      "text/plain": [
       "<matplotlib.legend.Legend at 0x7f9349432c70>"
      ]
     },
     "execution_count": 117,
     "metadata": {},
     "output_type": "execute_result"
    },
    {
     "data": {
      "image/png": "[encoded data removed]",
      "text/plain": [
       "<Figure size 432x288 with 1 Axes>"
      ]
     },
     "metadata": {
      "needs_background": "light"
     },
     "output_type": "display_data"
    }
   ],
   "source": [
    "from sklearn.ensemble import RandomForestClassifier\n",
    "\n",
    "train_scores = []\n",
    "test_scores = []\n",
    "\n",
    "rf = RandomForestClassifier()\n",
    "estimator_range = range(1, 100, 5)##Number of trees in the forest\n",
    "for n_estimators in estimator_range:\n",
    "    rf.n_estimators = n_estimators\n",
    "    rf.fit(X_train_scaled, y_train)\n",
    "    train_scores.append(rf.score(X_train_scaled, y_train))\n",
    "    test_scores.append(rf.score(X_test_scaled, y_test))\n",
    "    \n",
    "# print(train_scores)\n",
    "# print(test_scores)\n",
    "\n",
    "print(max(test_scores))\n",
    "\n",
    "plt.title('Random Forest')\n",
    "plt.xlabel(\"Number of trees\")\n",
    "plt.ylabel(\"Accuracy\")\n",
    "plt.plot(range(1,100,5), train_scores, label = 'Training Accuracy')\n",
    "plt.plot(range(1,100,5), test_scores, label = 'Testing Accuracy')\n",
    "plt.legend()"
   ]
  },
  {
   "cell_type": "code",
   "execution_count": 118,
   "metadata": {},
   "outputs": [
    {
     "name": "stdout",
     "output_type": "stream",
     "text": [
      "0.5656565656565656\n"
     ]
    }
   ],
   "source": [
    "print(max(test_scores))"
   ]
  },
  {
   "cell_type": "code",
   "execution_count": null,
   "metadata": {},
   "outputs": [],
   "source": []
  }
 ],
 "metadata": {
  "kernelspec": {
   "display_name": "Python 3",
   "language": "python",
   "name": "python3"
  },
  "language_info": {
   "codemirror_mode": {
    "name": "ipython",
    "version": 3
   },
   "file_extension": ".py",
   "mimetype": "text/x-python",
   "name": "python",
   "nbconvert_exporter": "python",
   "pygments_lexer": "ipython3",
   "version": "3.8.1"
  }
 },
 "nbformat": 4,
 "nbformat_minor": 4
}

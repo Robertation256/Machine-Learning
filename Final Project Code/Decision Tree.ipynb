{
 "cells": [
  {
   "cell_type": "markdown",
   "metadata": {},
   "source": [
    "#  Decision Tree"
   ]
  },
  {
   "cell_type": "code",
   "execution_count": 10,
   "metadata": {},
   "outputs": [],
   "source": [
    "import pandas as pd\n",
    "import numpy as np\n",
    "from matplotlib import pyplot as plt\n",
    "\n",
    "# Loading Data\n",
    "data = pd.read_csv(\"TrainData.csv\")\n",
    "data = data.drop([\"Unnamed: 0\"],axis=1)\n",
    "\n",
    "X = data.drop([\"salary_label\"],axis=1)\n",
    "y = data[\"salary_label\"]"
   ]
  },
  {
   "cell_type": "markdown",
   "metadata": {},
   "source": [
    "# Training and validating using GridsearchCV"
   ]
  },
  {
   "cell_type": "code",
   "execution_count": 29,
   "metadata": {},
   "outputs": [
    {
     "name": "stdout",
     "output_type": "stream",
     "text": [
      "{'tree__max_depth': 30, 'tree__max_leaf_nodes': 500, 'tree__min_samples_split': 5}\n"
     ]
    }
   ],
   "source": [
    "from sklearn.tree import DecisionTreeClassifier\n",
    "from sklearn.pipeline import Pipeline\n",
    "from sklearn.preprocessing import MinMaxScaler\n",
    "from sklearn.model_selection import GridSearchCV\n",
    "# from sklearn.metrics import accuracy_score, mean_squared_error\n",
    "\n",
    "\n",
    "descision_tree = Pipeline([('scaler',  MinMaxScaler()),\n",
    "            ('tree', DecisionTreeClassifier())])\n",
    "\n",
    "\n",
    "\n",
    "parameters = {\n",
    "\n",
    "    'tree__max_leaf_nodes': [x for x in [50, 100, 200, 500,1000]],\n",
    "    'tree__max_depth': [x for x in [5,10,20,30,40,50]],\n",
    "    'tree__min_samples_split' : [2,5,10,20]\n",
    "}\n",
    "\n",
    "grid_search = GridSearchCV(descision_tree, param_grid = parameters, scoring = 'accuracy', cv=5, return_train_score = True)\n",
    "grid_search.fit(X, y)\n",
    "\n",
    "print(grid_search.best_params_)\n",
    "\n",
    "\n",
    "\n"
   ]
  },
  {
   "cell_type": "markdown",
   "metadata": {},
   "source": [
    "# General performance on train/validation dataset"
   ]
  },
  {
   "cell_type": "code",
   "execution_count": 58,
   "metadata": {},
   "outputs": [
    {
     "name": "stdout",
     "output_type": "stream",
     "text": [
      "=========Train Acurracy=========\n",
      "0.5295809881175735\n",
      "0.528179070252241\n",
      "0.5288774233896185\n",
      "0.5231895383974159\n",
      "mean:\n",
      "0.5274567550392122\n",
      "=========Test Acurracy=========\n",
      "0.39834375000000005\n",
      "0.40613541666666664\n",
      "0.4233645833333333\n",
      "0.41238005840634123\n",
      "mean:\n",
      "0.4100559521015853\n"
     ]
    }
   ],
   "source": [
    "print(\"=========Train Acurracy=========\")\n",
    "print(np.mean(grid_search.cv_results_[\"split0_train_score\"]))\n",
    "print(np.mean(grid_search.cv_results_[\"split1_train_score\"]))\n",
    "print(np.mean(grid_search.cv_results_[\"split2_train_score\"]))\n",
    "print(np.mean(grid_search.cv_results_[\"split3_train_score\"]))\n",
    "print(\"mean:\")\n",
    "print(np.mean(\n",
    "    [\n",
    "        np.mean(grid_search.cv_results_[\"split0_train_score\"]),\n",
    "        np.mean(grid_search.cv_results_[\"split1_train_score\"]),\n",
    "        np.mean(grid_search.cv_results_[\"split2_train_score\"]),\n",
    "        np.mean(grid_search.cv_results_[\"split3_train_score\"])\n",
    "    ]\n",
    "))\n",
    "\n",
    "\n",
    "print(\"=========Test Acurracy=========\")\n",
    "print(np.mean(grid_search.cv_results_[\"split0_test_score\"]))\n",
    "print(np.mean(grid_search.cv_results_[\"split1_test_score\"]))\n",
    "print(np.mean(grid_search.cv_results_[\"split2_test_score\"]))\n",
    "print(np.mean(grid_search.cv_results_[\"split3_test_score\"]))\n",
    "print(\"mean:\")\n",
    "print(np.mean(\n",
    "    [\n",
    "        np.mean(grid_search.cv_results_[\"split0_test_score\"]),\n",
    "        np.mean(grid_search.cv_results_[\"split1_test_score\"]),\n",
    "        np.mean(grid_search.cv_results_[\"split2_test_score\"]),\n",
    "        np.mean(grid_search.cv_results_[\"split3_test_score\"])\n",
    "    ]\n",
    "))"
   ]
  },
  {
   "cell_type": "markdown",
   "metadata": {},
   "source": [
    "# Final test on test data set"
   ]
  },
  {
   "cell_type": "code",
   "execution_count": 57,
   "metadata": {},
   "outputs": [
    {
     "name": "stdout",
     "output_type": "stream",
     "text": [
      "=======Accuracy on test data set=======\n",
      "0.436\n"
     ]
    }
   ],
   "source": [
    "from sklearn.metrics import accuracy_score\n",
    "df = pd.read_csv(\"TestData.csv\")\n",
    "\n",
    "X_train = X\n",
    "y_train = y\n",
    "\n",
    "X_test = df.drop([\"salary_label\",\"Unnamed: 0\"],axis=1)\n",
    "y_test = df[\"salary_label\"]\n",
    "\n",
    "\n",
    "scaler = MinMaxScaler()\n",
    "X_train = scaler.fit_transform(X_train)\n",
    "X_test = scaler.transform(X_test)\n",
    "\n",
    "model = DecisionTreeClassifier(max_depth=30, max_leaf_nodes=500,min_samples_split=5,min_samples_leaf=10)\n",
    "\n",
    "model.fit(X_train,y_train)\n",
    "y_pred = model.predict(X_test)\n",
    "\n",
    "test_acc = accuracy_score(y_test,y_pred)\n",
    "\n",
    "print(\"=======Accuracy on test data set=======\")\n",
    "print(test_acc)"
   ]
  }
 ],
 "metadata": {
  "kernelspec": {
   "display_name": "Python 3",
   "language": "python",
   "name": "python3"
  },
  "language_info": {
   "codemirror_mode": {
    "name": "ipython",
    "version": 3
   },
   "file_extension": ".py",
   "mimetype": "text/x-python",
   "name": "python",
   "nbconvert_exporter": "python",
   "pygments_lexer": "ipython3",
   "version": "3.7.2"
  }
 },
 "nbformat": 4,
 "nbformat_minor": 4
}

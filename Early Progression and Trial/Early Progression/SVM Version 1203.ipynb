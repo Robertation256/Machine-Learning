{
 "cells": [
  {
   "cell_type": "markdown",
   "metadata": {},
   "source": [
    "## SVM"
   ]
  },
  {
   "cell_type": "code",
<<<<<<< HEAD
   "execution_count": 35,
   "metadata": {},
   "outputs": [
    {
     "name": "stdout",
     "output_type": "stream",
     "text": [
      "Index(['Unnamed: 0', 'RowID', 'maxsal', 'minsal', 'intern_num', 'month_num',\n",
      "       'day', 'industry', 'city', 'scale', 'name', 'uuid', 'c_desc', 'c_tag',\n",
      "       'c_name', '互联网', '教育', '房产', '广告', '金融', '企业服务', '快消', '电子', '医疗', '汽车',\n",
      "       '2000人以上', '500-2000人', '50-500人', '少于50人', '未知规模', 'Java', 'HRBP',\n",
      "       '文案', '平台', '实施', '前端', '管理', '社群', '培训', '校招', '人事', 'UI', '活动', '研发',\n",
      "       '顾问', '设计师', '视觉', '用户', '项目', '行政', '管培生', '海外', '市场', '运维', '数据',\n",
      "       'HR', '策划', '电商', '商务', '人力资源', '客服', '编辑', '测试', '游戏', '算法', '视频',\n",
      "       '设计', '招聘', '媒体', '内容', '专员', '产品', '销售', '开发', '工程师', '助理', '运营'],\n",
      "      dtype='object')\n"
     ]
    }
   ],
=======
   "execution_count": 1,
   "metadata": {},
   "outputs": [],
>>>>>>> 6fef556dc977ba1492ffa6089848cd27138a6b60
   "source": [
    "import pandas as pd\n",
    "import numpy as np\n",
    "from matplotlib import pyplot as plt\n",
    "\n",
<<<<<<< HEAD
    "data = pd.read_csv(\"final_validated_data.csv\")\n",
    "\n",
    "print(data.columns)"
   ]
  },
  {
   "cell_type": "code",
   "execution_count": 37,
   "metadata": {},
   "outputs": [
    {
     "data": {
      "text/plain": [
       "(array([1180.,    0.,    0., 1622.,    0.,    0., 1170.,    0.,    0.,\n",
       "        1026.]),\n",
       " array([0. , 0.3, 0.6, 0.9, 1.2, 1.5, 1.8, 2.1, 2.4, 2.7, 3. ]),\n",
       " <BarContainer object of 10 artists>)"
      ]
     },
     "execution_count": 37,
     "metadata": {},
     "output_type": "execute_result"
    },
    {
     "data": {
      "image/png": "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\n",
      "text/plain": [
       "<Figure size 432x288 with 1 Axes>"
      ]
     },
     "metadata": {
      "needs_background": "light"
     },
     "output_type": "display_data"
    }
   ],
   "source": [
    "IT_df = data_it.drop(['Unnamed: 0', 'RowID', 'maxsal', 'minsal','industry', 'city', 'scale', 'name', 'uuid', 'c_desc', 'c_tag','c_name'],axis=1)\n",
    "# # IT_df.head()\n",
    "IT_df.head()\n",
    "\n",
    "# #确定 X和 y\n",
    "\n",
    "X = IT_df\n",
    "\n",
    "\n",
    "# Label the max salary (4 classes)\n",
    "label = []\n",
    "max_sal = data_it[\"maxsal\"].to_numpy()\n",
    "for i in max_sal:\n",
    "    \n",
    "    if i in range(0,150):\n",
    "        label.append(0)\n",
    "    elif i in range(150,175):\n",
    "        label.append(1)\n",
    "    elif i in range(175,250):\n",
    "        label.append(2)\n",
    "    else:\n",
    "        label.append(3)\n",
    "y = np.array(label)\n",
    "y.reshape(len(label),1)\n",
    "plt.hist(y)"
   ]
  },
  {
   "cell_type": "markdown",
   "metadata": {},
   "source": [
    "# SVM with GridSearch"
   ]
  },
  {
   "cell_type": "code",
   "execution_count": 51,
   "metadata": {},
   "outputs": [
    {
     "name": "stdout",
     "output_type": "stream",
     "text": [
      "{'mean_fit_time': array([2.8356024 , 2.92744374, 2.96660888, 4.65759259, 1.30721992,\n",
      "       1.21889782, 1.25141293, 1.96041632, 1.11329299, 1.2619012 ,\n",
      "       1.26577848, 1.94340414, 1.2233569 , 1.32951444, 1.3012684 ,\n",
      "       1.95011282, 1.24345541, 1.42085439, 1.34329975, 1.93063605]), 'std_fit_time': array([0.11996019, 0.12448379, 0.07734578, 0.05466609, 0.26421616,\n",
      "       0.00299802, 0.02342873, 0.04619261, 0.01247068, 0.0164512 ,\n",
      "       0.00442005, 0.10402469, 0.13004316, 0.03580702, 0.01776195,\n",
      "       0.09524383, 0.06169032, 0.04866611, 0.02849309, 0.06712419]), 'mean_score_time': array([0.58286887, 0.59524435, 0.5650261 , 0.99373347, 0.24305511,\n",
      "       0.23474133, 0.2408269 , 0.39158362, 0.23112988, 0.23141199,\n",
      "       0.2308774 , 0.4088006 , 0.23610651, 0.22563207, 0.23312396,\n",
      "       0.35259771, 0.21575439, 0.21915489, 0.22063696, 0.37266201]), 'std_score_time': array([0.02271617, 0.04740848, 0.02215503, 0.05341315, 0.01804627,\n",
      "       0.00176481, 0.00302395, 0.00767686, 0.00980623, 0.00575405,\n",
      "       0.00348294, 0.06404677, 0.01780014, 0.0085653 , 0.01306391,\n",
      "       0.00381498, 0.00926014, 0.00381014, 0.00219949, 0.01693729]), 'param_C': masked_array(data=[0.01, 0.01, 0.01, 0.01, 0.1, 0.1, 0.1, 0.1, 1, 1, 1, 1,\n",
      "                   10, 10, 10, 10, 100, 100, 100, 100],\n",
      "             mask=[False, False, False, False, False, False, False, False,\n",
      "                   False, False, False, False, False, False, False, False,\n",
      "                   False, False, False, False],\n",
      "       fill_value='?',\n",
      "            dtype=object), 'param_gamma': masked_array(data=[0.5, 5, 50, 500, 0.5, 5, 50, 500, 0.5, 5, 50, 500, 0.5,\n",
      "                   5, 50, 500, 0.5, 5, 50, 500],\n",
      "             mask=[False, False, False, False, False, False, False, False,\n",
      "                   False, False, False, False, False, False, False, False,\n",
      "                   False, False, False, False],\n",
      "       fill_value='?',\n",
      "            dtype=object), 'param_kernel': masked_array(data=['rbf', 'rbf', 'rbf', 'rbf', 'rbf', 'rbf', 'rbf', 'rbf',\n",
      "                   'rbf', 'rbf', 'rbf', 'rbf', 'rbf', 'rbf', 'rbf', 'rbf',\n",
      "                   'rbf', 'rbf', 'rbf', 'rbf'],\n",
      "             mask=[False, False, False, False, False, False, False, False,\n",
      "                   False, False, False, False, False, False, False, False,\n",
      "                   False, False, False, False],\n",
      "       fill_value='?',\n",
      "            dtype=object), 'params': [{'C': 0.01, 'gamma': 0.5, 'kernel': 'rbf'}, {'C': 0.01, 'gamma': 5, 'kernel': 'rbf'}, {'C': 0.01, 'gamma': 50, 'kernel': 'rbf'}, {'C': 0.01, 'gamma': 500, 'kernel': 'rbf'}, {'C': 0.1, 'gamma': 0.5, 'kernel': 'rbf'}, {'C': 0.1, 'gamma': 5, 'kernel': 'rbf'}, {'C': 0.1, 'gamma': 50, 'kernel': 'rbf'}, {'C': 0.1, 'gamma': 500, 'kernel': 'rbf'}, {'C': 1, 'gamma': 0.5, 'kernel': 'rbf'}, {'C': 1, 'gamma': 5, 'kernel': 'rbf'}, {'C': 1, 'gamma': 50, 'kernel': 'rbf'}, {'C': 1, 'gamma': 500, 'kernel': 'rbf'}, {'C': 10, 'gamma': 0.5, 'kernel': 'rbf'}, {'C': 10, 'gamma': 5, 'kernel': 'rbf'}, {'C': 10, 'gamma': 50, 'kernel': 'rbf'}, {'C': 10, 'gamma': 500, 'kernel': 'rbf'}, {'C': 100, 'gamma': 0.5, 'kernel': 'rbf'}, {'C': 100, 'gamma': 5, 'kernel': 'rbf'}, {'C': 100, 'gamma': 50, 'kernel': 'rbf'}, {'C': 100, 'gamma': 500, 'kernel': 'rbf'}], 'split0_test_score': array([0.326, 0.326, 0.326, 0.326, 0.382, 0.362, 0.353, 0.344, 0.432,\n",
      "       0.425, 0.412, 0.42 , 0.426, 0.425, 0.409, 0.418, 0.431, 0.412,\n",
      "       0.42 , 0.42 ]), 'split1_test_score': array([0.325, 0.325, 0.325, 0.325, 0.384, 0.367, 0.35 , 0.336, 0.443,\n",
      "       0.427, 0.415, 0.417, 0.459, 0.42 , 0.424, 0.417, 0.433, 0.416,\n",
      "       0.428, 0.415]), 'split2_test_score': array([0.32532533, 0.32532533, 0.32532533, 0.32532533, 0.3983984 ,\n",
      "       0.35935936, 0.34934935, 0.33633634, 0.43443443, 0.41941942,\n",
      "       0.41641642, 0.41241241, 0.43143143, 0.43543544, 0.42842843,\n",
      "       0.41241241, 0.44144144, 0.42742743, 0.43343343, 0.41641642]), 'split3_test_score': array([0.32632633, 0.32632633, 0.32632633, 0.32632633, 0.3993994 ,\n",
      "       0.37137137, 0.35835836, 0.34834835, 0.45145145, 0.44244244,\n",
      "       0.43643644, 0.43143143, 0.44044044, 0.44744745, 0.43943944,\n",
      "       0.43543544, 0.43843844, 0.43243243, 0.44644645, 0.43443443]), 'mean_test_score': array([0.32566291, 0.32566291, 0.32566291, 0.32566291, 0.39094945,\n",
      "       0.36493268, 0.35267693, 0.34117117, 0.44022147, 0.42846547,\n",
      "       0.41996321, 0.42021096, 0.43921797, 0.43197072, 0.42521697,\n",
      "       0.42071196, 0.43596997, 0.42196496, 0.43196997, 0.42146271]), 'std_test_score': array([0.00052611, 0.00052611, 0.00052611, 0.00052611, 0.00798868,\n",
      "       0.00462042, 0.00355745, 0.00523524, 0.00766347, 0.0085344 ,\n",
      "       0.00964356, 0.0070191 , 0.01253164, 0.0105288 , 0.01092089,\n",
      "       0.0087578 , 0.00416988, 0.00828082, 0.00962745, 0.00770774]), 'rank_test_score': array([17, 17, 17, 17, 13, 14, 15, 16,  1,  6, 12, 11,  2,  4,  7, 10,  3,\n",
      "        8,  5,  9]), 'split0_train_score': array([0.32555037, 0.32555037, 0.32555037, 0.32555037, 0.39859907,\n",
      "       0.37358239, 0.35923949, 0.34289526, 0.62641761, 0.75817211,\n",
      "       0.84322882, 0.90126751, 0.74482989, 0.83288859, 0.88725817,\n",
      "       0.92861908, 0.80753836, 0.86724483, 0.91761174, 0.95130087]), 'split1_train_score': array([0.32588392, 0.32588392, 0.32588392, 0.32588392, 0.40326885,\n",
      "       0.3712475 , 0.35023349, 0.33989326, 0.61307538, 0.754503  ,\n",
      "       0.84756504, 0.90527018, 0.73749166, 0.83322215, 0.89793195,\n",
      "       0.93428953, 0.8072048 , 0.87958639, 0.92528352, 0.95430287]), 'split2_train_score': array([0.32577526, 0.32577526, 0.32577526, 0.32577526, 0.3957986 ,\n",
      "       0.37412471, 0.36512171, 0.34311437, 0.61787262, 0.75458486,\n",
      "       0.83761254, 0.89463154, 0.74158053, 0.82260754, 0.8822941 ,\n",
      "       0.92530844, 0.79659887, 0.87362454, 0.91663888, 0.94798266]), 'split3_train_score': array([0.32544181, 0.32544181, 0.32544181, 0.32544181, 0.39313104,\n",
      "       0.36112037, 0.35145048, 0.34144715, 0.6192064 , 0.76125375,\n",
      "       0.84594865, 0.90296766, 0.74358119, 0.83327776, 0.89229743,\n",
      "       0.93364455, 0.80626876, 0.87862621, 0.92630877, 0.95065022]), 'mean_train_score': array([0.32566284, 0.32566284, 0.32566284, 0.32566284, 0.39769939,\n",
      "       0.37001874, 0.35651129, 0.34183751, 0.61914301, 0.75712843,\n",
      "       0.84358876, 0.90103422, 0.74187082, 0.83049901, 0.88994541,\n",
      "       0.9304654 , 0.8044027 , 0.87477049, 0.92146073, 0.95105915]), 'std_train_score': array([0.00017537, 0.00017537, 0.00017537, 0.00017537, 0.00375203,\n",
      "       0.00524998, 0.00605403, 0.00129245, 0.00477896, 0.00280491,\n",
      "       0.00378235, 0.00396012, 0.00278131, 0.00455857, 0.00581121,\n",
      "       0.00369912, 0.00452952, 0.00489919, 0.00436412, 0.0022479 ])}\n",
      "{'C': 1, 'gamma': 0.5, 'kernel': 'rbf'}\n"
     ]
    }
   ],
   "source": [
    "from sklearn.model_selection import cross_validate\n",
    "from sklearn.preprocessing import MinMaxScaler\n",
    "from sklearn.pipeline import Pipeline\n",
    "from sklearn import svm\n",
    "from sklearn.model_selection import GridSearchCV\n",
    "import sklearn.metrics\n",
    "from sklearn.tree import DecisionTreeClassifier\n",
    "from sklearn.metrics import accuracy_score, mean_squared_error\n",
    "from sklearn.preprocessing import MinMaxScaler\n",
    "from sklearn.tree import DecisionTreeClassifier\n",
    "from sklearn.metrics import accuracy_score, mean_squared_error\n",
    "from sklearn.model_selection import train_test_split\n",
    "from sklearn import svm\n",
    "\n",
    "\n",
    "\n",
    "\n",
    "\n",
    "X_train, X_test, y_train, y_test = train_test_split(X, y, test_size=0.2, shuffle = True, random_state=21312)\n",
    "\n",
    "scaler = MinMaxScaler().fit(X_train)\n",
    "\n",
    "X_train_scaled = scaler.transform(X_train)\n",
    "X_test_scaled = scaler.transform(X_test)\n",
    "\n",
    "\n",
    "from sklearn.model_selection import GridSearchCV\n",
    "\n",
    "\n",
    "parameters = {\n",
    "    'kernel':[\"rbf\"],\n",
    "    'C': [x for x in [0.01,0.1,1,10,100]],\n",
    "    'gamma': [x for x in [0.5,5,50,500]]\n",
    "}\n",
    "\n",
    "grid_search = GridSearchCV(svm.SVC(), param_grid = parameters, scoring = 'accuracy', cv=4, return_train_score = True)\n",
    "grid_search.fit(X_train_scaled, y_train)\n",
    "print(grid_search.cv_results_)\n",
    "print(grid_search.best_params_)\n",
    "\n",
    "\n",
    "\n"
   ]
  },
  {
   "cell_type": "code",
   "execution_count": 54,
   "metadata": {},
   "outputs": [
    {
     "name": "stdout",
     "output_type": "stream",
     "text": [
      "0.6068034017008505\n",
      "0.467\n"
     ]
    }
   ],
   "source": [
    "from sklearn.metrics import accuracy_score\n",
    "\n",
    "model = svm.SVC(kernel='rbf',C=1,gamma=0.5)\n",
    "model.fit(X_train_scaled,y_train)\n",
    "\n",
    "train_acc = accuracy_score(model.predict(X_train_scaled),y_train)\n",
    "\n",
    "test_acc = accuracy_score(model.predict(X_test_scaled),y_test)\n",
    "\n",
    "\n",
    "print(train_acc)\n",
    "print(test_acc)\n"
=======
    "data = pd.read_csv(\"formated_data_1111.csv\")\n",
    "data.head()\n",
    "\n",
    "# Min_Max scaler for GDP\n",
    "data['GDP'] = (data['GDP per capita'] - \n",
    "               data['GDP per capita'].min())/(data['GDP per capita'].max() - data['GDP per capita'].min())\n",
    "\n",
    "data_1 = data[['intern_num','max_sal','min_sal','GDP per capita','GDP','month_num','day','2000','500-2000','50-500','<50','互联网','教育','房产','广告','金融','企业服务','快消','电子','医疗','汽车']]\n",
    "data_1\n",
    "\n",
    "#确定 X和 y\n",
    "\n",
    "X = data_1[['intern_num','GDP per capita','month_num','day','2000','500-2000','50-500','<50','互联网','教育','房产','广告','金融','企业服务','快消','电子','医疗','汽车']]\n",
    "y = data_1['max_sal']"
>>>>>>> 6fef556dc977ba1492ffa6089848cd27138a6b60
   ]
  },
  {
   "cell_type": "markdown",
   "metadata": {},
   "source": [
    "### 1.1 Max Salary for Selected Columns"
   ]
  },
  {
   "cell_type": "code",
<<<<<<< HEAD
   "execution_count": 24,
=======
   "execution_count": 2,
>>>>>>> 6fef556dc977ba1492ffa6089848cd27138a6b60
   "metadata": {},
   "outputs": [
    {
     "data": {
      "text/plain": [
<<<<<<< HEAD
       "(array([1180.,    0.,    0., 1622.,    0.,    0., 1170.,    0.,    0.,\n",
       "        1026.]),\n",
       " array([0. , 0.3, 0.6, 0.9, 1.2, 1.5, 1.8, 2.1, 2.4, 2.7, 3. ]),\n",
       " <BarContainer object of 10 artists>)"
      ]
     },
     "execution_count": 24,
=======
       "(array([1004.,    0.,    0., 1545.,    0.,    0., 1434.,    0.,    0.,\n",
       "         967.]),\n",
       " array([0. , 0.3, 0.6, 0.9, 1.2, 1.5, 1.8, 2.1, 2.4, 2.7, 3. ]),\n",
       " <a list of 10 Patch objects>)"
      ]
     },
     "execution_count": 2,
>>>>>>> 6fef556dc977ba1492ffa6089848cd27138a6b60
     "metadata": {},
     "output_type": "execute_result"
    },
    {
     "data": {
<<<<<<< HEAD
      "image/png": "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\n",
=======
      "image/png": "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\n",
>>>>>>> 6fef556dc977ba1492ffa6089848cd27138a6b60
      "text/plain": [
       "<Figure size 432x288 with 1 Axes>"
      ]
     },
     "metadata": {
      "needs_background": "light"
     },
     "output_type": "display_data"
    }
   ],
   "source": [
    "# Label the max salary (4 classes)\n",
    "\n",
    "label = []\n",
<<<<<<< HEAD
    "max_sal = data_it[\"maxsal\"].to_numpy()\n",
    "for i in max_sal:\n",
    "    \n",
=======
    "max_sal = data['max_sal'].to_numpy()\n",
    "for i in max_sal:\n",
>>>>>>> 6fef556dc977ba1492ffa6089848cd27138a6b60
    "    if i in range(0,150):\n",
    "        label.append(0)\n",
    "    elif i in range(150,175):\n",
    "        label.append(1)\n",
    "    elif i in range(175,250):\n",
    "        label.append(2)\n",
    "    else:\n",
    "        label.append(3)\n",
    "y = np.array(label)\n",
    "y.reshape(len(label),1)\n",
    "plt.hist(y)"
   ]
  },
  {
   "cell_type": "code",
   "execution_count": 3,
   "metadata": {},
   "outputs": [
    {
     "name": "stdout",
     "output_type": "stream",
     "text": [
      "bench mark: 0.31212121212121213\n"
     ]
    }
   ],
   "source": [
    "print('bench mark: {}'.format(1545/4950))"
   ]
  },
  {
   "cell_type": "code",
<<<<<<< HEAD
   "execution_count": 25,
=======
   "execution_count": 4,
>>>>>>> 6fef556dc977ba1492ffa6089848cd27138a6b60
   "metadata": {},
   "outputs": [],
   "source": [
    "from sklearn.tree import DecisionTreeClassifier\n",
    "from sklearn.metrics import accuracy_score, mean_squared_error\n",
    "from sklearn.preprocessing import MinMaxScaler\n",
    "from sklearn.tree import DecisionTreeClassifier\n",
    "from sklearn.metrics import accuracy_score, mean_squared_error\n",
    "from sklearn.model_selection import train_test_split\n",
    "from sklearn import svm\n",
    "\n",
    "# Divide into train and test set\n",
<<<<<<< HEAD
    "X_train, X_test, y_train, y_test = train_test_split(X, y, test_size=0.2, shuffle = True, random_state=21312)\n",
=======
    "X_train, X_test, y_train, y_test = train_test_split(X, y, test_size=0.2, shuffle = True, random_state=0)\n",
>>>>>>> 6fef556dc977ba1492ffa6089848cd27138a6b60
    "\n",
    "scaler = MinMaxScaler().fit(X_train)\n",
    "\n",
    "X_train_scaled = scaler.transform(X_train)\n",
    "X_test_scaled = scaler.transform(X_test)"
   ]
  },
  {
   "cell_type": "code",
<<<<<<< HEAD
   "execution_count": 29,
=======
   "execution_count": 5,
>>>>>>> 6fef556dc977ba1492ffa6089848cd27138a6b60
   "metadata": {},
   "outputs": [
    {
     "name": "stdout",
     "output_type": "stream",
     "text": [
<<<<<<< HEAD
      "Done\n"
=======
      "kernel = rbf\n",
      "train accuracy: 0.6313131313131313\n",
      "test accuracy: 0.4414141414141414\n",
      "===================================\n"
>>>>>>> 6fef556dc977ba1492ffa6089848cd27138a6b60
     ]
    }
   ],
   "source": [
<<<<<<< HEAD
    "# clf = svm.SVC(decision_function_shape = 'ovo', kernel = 'rbf')\n",
    "# clf.fit(X_train_scaled, y_train)\n",
    "\n",
    "# y_pred = clf.predict(X_test_scaled)\n",
    "# acc_test = (accuracy_score(y_pred,y_test))\n",
    "# y_pred = clf.predict(X_train_scaled)\n",
    "# acc_train = (accuracy_score(y_pred,y_train))\n",
    "# print('kernel = rbf')\n",
    "# print('train accuracy: {}'.format(acc_train))\n",
    "# print('test accuracy: {}'.format(acc_test))\n",
    "\n",
    "# print('===================================')\n",
    "\n",
    "# train_acc = []\n",
    "# test_acc = []\n",
    "\n",
    "\n",
    "for i in range(1,15):\n",
    "    clf = svm.SVC(decision_function_shape = 'ovo', kernel = 'rbf', C = i, gamma = 200)\n",
    "    clf.fit(X_train_scaled, y_train)\n",
    "\n",
    "    y_pred = clf.predict(X_test_scaled)\n",
    "    acc_test = (accuracy_score(y_pred,y_test))\n",
    "    test_acc.append(acc_test)\n",
    "    \n",
    "    y_pred = clf.predict(X_train_scaled)\n",
    "    acc_train = (accuracy_score(y_pred,y_train))\n",
    "    train_acc.append(acc_train)\n",
    "    \n",
    "#     print('C: {}'.format(i))\n",
    "#     print('train accuracy: {}'.format(acc_train))\n",
    "#     print('test accuracy: {}'.format(acc_test))\n",
    "print('Done')\n",
    "\n",
    "\n",
    "# from sklearn.model_selection import GridSearchCV\n",
    "# import sklearn.metrics\n",
    "\n",
    "# parameters = {\n",
    "#     'C': [x for x in [0.01,0.1,1,10,100]],\n",
    "#     'gamma': [x for x in [0.5,5,50,500]]\n",
    "# }\n",
    "\n",
    "# grid_search = GridSearchCV(svm.SVC(), param_grid = parameters, scoring = 'accuracy', cv=4, return_train_score = True)\n",
    "# grid_search.fit(X_train_scaled, y_train)\n",
    "# #print(grid_search.cv_results_)\n",
    "# print(grid_search.best_params_)"
=======
    "clf = svm.SVC(decision_function_shape = 'ovo', kernel = 'rbf', C = 2, gamma = 200)\n",
    "clf.fit(X_train_scaled, y_train)\n",
    "\n",
    "y_pred = clf.predict(X_test_scaled)\n",
    "acc_test = (accuracy_score(y_pred,y_test))\n",
    "y_pred = clf.predict(X_train_scaled)\n",
    "acc_train = (accuracy_score(y_pred,y_train))\n",
    "print('kernel = rbf')\n",
    "print('train accuracy: {}'.format(acc_train))\n",
    "print('test accuracy: {}'.format(acc_test))\n",
    "\n",
    "print('===================================')\n",
    "\n",
    "train_acc = []\n",
    "test_acc = []\n",
    "\n",
    "\n",
    "# for i in range(1,15):\n",
    "#     clf = svm.SVC(decision_function_shape = 'ovo', kernel = 'rbf', C = i, gamma = 200)\n",
    "#     clf.fit(X_train_scaled, y_train)\n",
    "\n",
    "#     y_pred = clf.predict(X_test_scaled)\n",
    "#     acc_test = (accuracy_score(y_pred,y_test))\n",
    "#     test_acc.append(acc_test)\n",
    "    \n",
    "#     y_pred = clf.predict(X_train_scaled)\n",
    "#     acc_train = (accuracy_score(y_pred,y_train))\n",
    "#     train_acc.append(acc_train)\n",
    "    \n",
    "# #     print('C: {}'.format(i))\n",
    "# #     print('train accuracy: {}'.format(acc_train))\n",
    "# #     print('test accuracy: {}'.format(acc_test))\n",
    "# print('Done')"
>>>>>>> 6fef556dc977ba1492ffa6089848cd27138a6b60
   ]
  },
  {
   "cell_type": "code",
<<<<<<< HEAD
   "execution_count": 30,
=======
   "execution_count": 6,
>>>>>>> 6fef556dc977ba1492ffa6089848cd27138a6b60
   "metadata": {},
   "outputs": [
    {
     "name": "stdout",
     "output_type": "stream",
     "text": [
<<<<<<< HEAD
      "[0.42696348174087045, 0.43496748374187094, 0.43921960980490243, 0.439719859929965, 0.4427213606803402, 0.4479739869934968, 0.4487243621810905, 0.4479739869934968, 0.4494747373686843, 0.44922461230615307, 0.4494747373686843, 0.4489744872436218, 0.44997498749374687, 0.4504752376188094]\n",
      "[0.4, 0.403, 0.406, 0.403, 0.405, 0.41, 0.41, 0.41, 0.41, 0.409, 0.41, 0.411, 0.412, 0.412]\n"
=======
      "[0.6179292929292929, 0.6313131313131313, 0.6401515151515151, 0.6494949494949495, 0.6542929292929293, 0.6593434343434343, 0.6628787878787878, 0.6636363636363637, 0.6659090909090909, 0.6669191919191919, 0.6674242424242425, 0.6734848484848485, 0.675, 0.6752525252525252]\n",
      "[0.44242424242424244, 0.4414141414141414, 0.4494949494949495, 0.45555555555555555, 0.4595959595959596, 0.45656565656565656, 0.4535353535353535, 0.45555555555555555, 0.45454545454545453, 0.45555555555555555, 0.4494949494949495, 0.45252525252525255, 0.4535353535353535, 0.45555555555555555]\n"
>>>>>>> 6fef556dc977ba1492ffa6089848cd27138a6b60
     ]
    },
    {
     "data": {
<<<<<<< HEAD
      "image/png": "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\n",
=======
      "image/png": "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\n",
>>>>>>> 6fef556dc977ba1492ffa6089848cd27138a6b60
      "text/plain": [
       "<Figure size 432x288 with 1 Axes>"
      ]
     },
     "metadata": {
      "needs_background": "light"
     },
     "output_type": "display_data"
    }
   ],
   "source": [
    "print(train_acc)\n",
    "print(test_acc)\n",
    "\n",
    "plt.plot(train_acc,'x',label=\"train\");\n",
    "plt.plot(test_acc,'o',label=\"test\");\n",
    "plt.xlabel('$C$'); plt.ylabel('Accuracy')\n",
    "plt.legend();"
   ]
  },
  {
   "cell_type": "code",
   "execution_count": 7,
   "metadata": {},
   "outputs": [
    {
     "name": "stdout",
     "output_type": "stream",
     "text": [
      "Done\n"
     ]
    }
   ],
   "source": [
    "train_acc = []\n",
    "test_acc = []\n",
    "\n",
    "\n",
    "for i in range(1,30):\n",
    "    clf = svm.SVC(decision_function_shape = 'ovo', kernel = 'rbf', C = 8, gamma = 20*i)\n",
    "    clf.fit(X_train_scaled, y_train)\n",
    "\n",
    "    y_pred = clf.predict(X_test_scaled)\n",
    "    acc_test = (accuracy_score(y_pred,y_test))\n",
    "    test_acc.append(acc_test)\n",
    "    \n",
    "    y_pred = clf.predict(X_train_scaled)\n",
    "    acc_train = (accuracy_score(y_pred,y_train))\n",
    "    train_acc.append(acc_train)\n",
    "    \n",
    "#     print('C: {}'.format(i))\n",
    "#     print('train accuracy: {}'.format(acc_train))\n",
    "#     print('test accuracy: {}'.format(acc_test))\n",
    "print('Done')"
   ]
  },
  {
   "cell_type": "code",
   "execution_count": 8,
   "metadata": {},
   "outputs": [
    {
     "name": "stdout",
     "output_type": "stream",
     "text": [
      "[0.5643939393939394, 0.5914141414141414, 0.6154040404040404, 0.6267676767676768, 0.6353535353535353, 0.6421717171717172, 0.6494949494949495, 0.6568181818181819, 0.6601010101010101, 0.6636363636363637, 0.6656565656565656, 0.6737373737373737, 0.6765151515151515, 0.6797979797979798, 0.6808080808080809, 0.6851010101010101, 0.6891414141414142, 0.6891414141414142, 0.6931818181818182, 0.695959595959596, 0.701010101010101, 0.7007575757575758, 0.7032828282828283, 0.7045454545454546, 0.7078282828282828, 0.7093434343434344, 0.7098484848484848, 0.7106060606060606, 0.7108585858585859]\n",
      "[0.4303030303030303, 0.4414141414141414, 0.4404040404040404, 0.4393939393939394, 0.44747474747474747, 0.4484848484848485, 0.4535353535353535, 0.45555555555555555, 0.45454545454545453, 0.45555555555555555, 0.45151515151515154, 0.4535353535353535, 0.45252525252525255, 0.45656565656565656, 0.4616161616161616, 0.46565656565656566, 0.4626262626262626, 0.46464646464646464, 0.4676767676767677, 0.4626262626262626, 0.46060606060606063, 0.4595959595959596, 0.4717171717171717, 0.47373737373737373, 0.4797979797979798, 0.4808080808080808, 0.48383838383838385, 0.4797979797979798, 0.47878787878787876]\n"
     ]
    },
    {
     "data": {
      "image/png": "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\n",
      "text/plain": [
       "<Figure size 432x288 with 1 Axes>"
      ]
     },
     "metadata": {
      "needs_background": "light"
     },
     "output_type": "display_data"
    }
   ],
   "source": [
    "print(train_acc)\n",
    "print(test_acc)\n",
    "\n",
    "plt.plot(train_acc,'x',label=\"train\");\n",
    "plt.plot(test_acc,'o',label=\"test\");\n",
    "plt.xlabel('$gamma / 20$'); plt.ylabel('Accuracy')\n",
    "plt.legend();"
   ]
  },
  {
   "cell_type": "code",
   "execution_count": 6,
   "metadata": {},
   "outputs": [
    {
     "name": "stdout",
     "output_type": "stream",
     "text": [
      "{'C': 18, 'gamma': 350}\n"
     ]
    }
   ],
   "source": [
    "# GridSearch\n",
    "\n",
    "from sklearn.model_selection import GridSearchCV\n",
    "import sklearn.metrics\n",
    "\n",
    "parameters = {\n",
    "    'C': [x for x in range(2,30,2)],\n",
    "    'gamma': [x for x in range(200,600,50)]\n",
    "}\n",
    "\n",
    "grid_search = GridSearchCV(svm.SVC(), param_grid = parameters, scoring = 'accuracy', cv=4, return_train_score = True)\n",
    "grid_search.fit(X_train_scaled, y_train)\n",
    "#print(grid_search.cv_results_)\n",
    "print(grid_search.best_params_)\n",
    "\n",
    "# gamma 应该大一些，sigma小(1/sigma^2)，来提高精度，那个图形更尖更集中。\n",
    "# 1/C C越大，regularization越弱。"
   ]
  },
  {
   "cell_type": "code",
   "execution_count": 7,
   "metadata": {},
   "outputs": [
    {
     "name": "stdout",
     "output_type": "stream",
     "text": [
      "kernel = rbf\n",
      "train accuracy: 0.7047979797979798\n",
      "test accuracy: 0.4666666666666667\n"
     ]
    }
   ],
   "source": [
    "clf = svm.SVC(decision_function_shape = 'ovo', kernel = 'rbf', C = 18, gamma = 350)\n",
    "clf.fit(X_train_scaled, y_train)\n",
    "\n",
    "y_pred = clf.predict(X_test_scaled)\n",
    "acc_test = (accuracy_score(y_pred,y_test))\n",
    "y_pred = clf.predict(X_train_scaled)\n",
    "acc_train = (accuracy_score(y_pred,y_train))\n",
    "print('kernel = rbf')\n",
    "print('train accuracy: {}'.format(acc_train))\n",
    "print('test accuracy: {}'.format(acc_test))"
   ]
  },
  {
   "cell_type": "markdown",
   "metadata": {},
   "source": [
    "### 1.1 Max Salary for Selected Columns"
   ]
  },
  {
   "cell_type": "code",
   "execution_count": 8,
   "metadata": {},
   "outputs": [
    {
     "data": {
      "text/plain": [
       "(array([ 659.,    0.,    0., 1550.,    0.,    0.,  872.,    0.,    0.,\n",
       "        1869.]),\n",
       " array([0. , 0.3, 0.6, 0.9, 1.2, 1.5, 1.8, 2.1, 2.4, 2.7, 3. ]),\n",
       " <a list of 10 Patch objects>)"
      ]
     },
     "execution_count": 8,
     "metadata": {},
     "output_type": "execute_result"
    },
    {
     "data": {
      "image/png": "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\n",
      "text/plain": [
       "<Figure size 432x288 with 1 Axes>"
      ]
     },
     "metadata": {
      "needs_background": "light"
     },
     "output_type": "display_data"
    }
   ],
   "source": [
    "label = []\n",
    "min_sal = data['min_sal'].to_numpy()\n",
    "for i in min_sal:\n",
    "    if i in range(0,100):\n",
    "        label.append(0)\n",
    "    elif i in range(100,120):\n",
    "        label.append(1)\n",
    "    elif i in range(120,150):\n",
    "        label.append(2)\n",
    "    else:\n",
    "        label.append(3)\n",
    "y = np.array(label)\n",
    "y.reshape(len(label),1)\n",
    "plt.hist(y)"
   ]
  },
  {
   "cell_type": "code",
   "execution_count": 9,
   "metadata": {},
   "outputs": [
    {
     "name": "stdout",
     "output_type": "stream",
     "text": [
      "bench mark: 0.37757575757575756\n"
     ]
    }
   ],
   "source": [
    "print('bench mark: {}'.format(1869/4950))"
   ]
  },
  {
   "cell_type": "code",
   "execution_count": 10,
   "metadata": {},
   "outputs": [
    {
     "name": "stdout",
     "output_type": "stream",
     "text": [
      "kernel = rbf\n",
      "train accuracy: 0.6702020202020202\n",
      "test accuracy: 0.5050505050505051\n"
     ]
    }
   ],
   "source": [
    "X_train, X_test, y_train, y_test = train_test_split(X, y, test_size=0.2, shuffle = True, random_state=0)\n",
    "\n",
    "scaler = MinMaxScaler().fit(X_train)\n",
    "\n",
    "X_train_scaled = scaler.transform(X_train)\n",
    "X_test_scaled = scaler.transform(X_test)\n",
    "\n",
    "clf = svm.SVC(decision_function_shape = 'ovo', kernel = 'rbf', C = 2, gamma = 200)\n",
    "clf.fit(X_train_scaled, y_train)\n",
    "\n",
    "y_pred = clf.predict(X_test_scaled)\n",
    "acc_test = (accuracy_score(y_pred,y_test))\n",
    "y_pred = clf.predict(X_train_scaled)\n",
    "acc_train = (accuracy_score(y_pred,y_train))\n",
    "print('kernel = rbf')\n",
    "print('train accuracy: {}'.format(acc_train))\n",
    "print('test accuracy: {}'.format(acc_test))\n",
    "\n",
    "train_acc = []\n",
    "test_acc = []\n",
    "\n",
    "\n",
    "# for i in range(1,15):\n",
    "#     clf = svm.SVC(decision_function_shape = 'ovo', kernel = 'rbf', C = i, gamma = 200)\n",
    "#     clf.fit(X_train_scaled, y_train)\n",
    "\n",
    "#     y_pred = clf.predict(X_test_scaled)\n",
    "#     acc_test = (accuracy_score(y_pred,y_test))\n",
    "#     test_acc.append(acc_test)\n",
    "    \n",
    "#     y_pred = clf.predict(X_train_scaled)\n",
    "#     acc_train = (accuracy_score(y_pred,y_train))\n",
    "#     train_acc.append(acc_train)\n",
    "    \n",
    "#     print('C: {}'.format(i))\n",
    "#     print('train accuracy: {}'.format(acc_train))\n",
    "#     print('test accuracy: {}'.format(acc_test))\n",
    "# print('Done')"
   ]
  },
  {
   "cell_type": "code",
   "execution_count": 11,
   "metadata": {},
   "outputs": [
    {
     "name": "stdout",
     "output_type": "stream",
     "text": [
      "kernel = rbf\n",
      "train accuracy: 0.7406565656565657\n",
      "test accuracy: 0.5232323232323233\n"
     ]
    }
   ],
   "source": [
    "clf = svm.SVC(decision_function_shape = 'ovo', kernel = 'rbf', C = 18, gamma = 350)\n",
    "clf.fit(X_train_scaled, y_train)\n",
    "\n",
    "y_pred = clf.predict(X_test_scaled)\n",
    "acc_test = (accuracy_score(y_pred,y_test))\n",
    "y_pred = clf.predict(X_train_scaled)\n",
    "acc_train = (accuracy_score(y_pred,y_train))\n",
    "print('kernel = rbf')\n",
    "print('train accuracy: {}'.format(acc_train))\n",
    "print('test accuracy: {}'.format(acc_test))"
   ]
  },
  {
   "cell_type": "markdown",
   "metadata": {},
   "source": [
    "### 2.1 Max Salary for All Columns"
   ]
  },
  {
   "cell_type": "code",
   "execution_count": 20,
   "metadata": {},
   "outputs": [
    {
     "data": {
      "text/html": [
       "<div>\n",
       "<style scoped>\n",
       "    .dataframe tbody tr th:only-of-type {\n",
       "        vertical-align: middle;\n",
       "    }\n",
       "\n",
       "    .dataframe tbody tr th {\n",
       "        vertical-align: top;\n",
       "    }\n",
       "\n",
       "    .dataframe thead th {\n",
       "        text-align: right;\n",
       "    }\n",
       "</style>\n",
       "<table border=\"1\" class=\"dataframe\">\n",
       "  <thead>\n",
       "    <tr style=\"text-align: right;\">\n",
       "      <th></th>\n",
       "      <th>intern_num</th>\n",
       "      <th>month_num</th>\n",
       "      <th>day</th>\n",
       "      <th>2000</th>\n",
       "      <th>500-2000</th>\n",
       "      <th>50-500</th>\n",
       "      <th>&lt;50</th>\n",
       "      <th>互联网</th>\n",
       "      <th>教育</th>\n",
       "      <th>房产</th>\n",
       "      <th>...</th>\n",
       "      <th>媒体</th>\n",
       "      <th>内容</th>\n",
       "      <th>专员</th>\n",
       "      <th>产品</th>\n",
       "      <th>销售</th>\n",
       "      <th>开发</th>\n",
       "      <th>工程师</th>\n",
       "      <th>助理</th>\n",
       "      <th>运营</th>\n",
       "      <th>GDP per capita</th>\n",
       "    </tr>\n",
       "  </thead>\n",
       "  <tbody>\n",
       "    <tr>\n",
       "      <th>0</th>\n",
       "      <td>176</td>\n",
       "      <td>3</td>\n",
       "      <td>3</td>\n",
       "      <td>1</td>\n",
       "      <td>0</td>\n",
       "      <td>0</td>\n",
       "      <td>0</td>\n",
       "      <td>1</td>\n",
       "      <td>0</td>\n",
       "      <td>0</td>\n",
       "      <td>...</td>\n",
       "      <td>0</td>\n",
       "      <td>0</td>\n",
       "      <td>0</td>\n",
       "      <td>0</td>\n",
       "      <td>0</td>\n",
       "      <td>0</td>\n",
       "      <td>0</td>\n",
       "      <td>0</td>\n",
       "      <td>0</td>\n",
       "      <td>162518.5736</td>\n",
       "    </tr>\n",
       "    <tr>\n",
       "      <th>1</th>\n",
       "      <td>390</td>\n",
       "      <td>3</td>\n",
       "      <td>5</td>\n",
       "      <td>1</td>\n",
       "      <td>0</td>\n",
       "      <td>0</td>\n",
       "      <td>0</td>\n",
       "      <td>1</td>\n",
       "      <td>0</td>\n",
       "      <td>0</td>\n",
       "      <td>...</td>\n",
       "      <td>0</td>\n",
       "      <td>0</td>\n",
       "      <td>0</td>\n",
       "      <td>0</td>\n",
       "      <td>0</td>\n",
       "      <td>0</td>\n",
       "      <td>0</td>\n",
       "      <td>0</td>\n",
       "      <td>0</td>\n",
       "      <td>162518.5736</td>\n",
       "    </tr>\n",
       "    <tr>\n",
       "      <th>2</th>\n",
       "      <td>44</td>\n",
       "      <td>5</td>\n",
       "      <td>4</td>\n",
       "      <td>1</td>\n",
       "      <td>0</td>\n",
       "      <td>0</td>\n",
       "      <td>0</td>\n",
       "      <td>1</td>\n",
       "      <td>0</td>\n",
       "      <td>0</td>\n",
       "      <td>...</td>\n",
       "      <td>0</td>\n",
       "      <td>0</td>\n",
       "      <td>0</td>\n",
       "      <td>0</td>\n",
       "      <td>0</td>\n",
       "      <td>1</td>\n",
       "      <td>1</td>\n",
       "      <td>0</td>\n",
       "      <td>0</td>\n",
       "      <td>162518.5736</td>\n",
       "    </tr>\n",
       "    <tr>\n",
       "      <th>3</th>\n",
       "      <td>486</td>\n",
       "      <td>4</td>\n",
       "      <td>5</td>\n",
       "      <td>1</td>\n",
       "      <td>0</td>\n",
       "      <td>0</td>\n",
       "      <td>0</td>\n",
       "      <td>1</td>\n",
       "      <td>0</td>\n",
       "      <td>0</td>\n",
       "      <td>...</td>\n",
       "      <td>0</td>\n",
       "      <td>0</td>\n",
       "      <td>0</td>\n",
       "      <td>0</td>\n",
       "      <td>0</td>\n",
       "      <td>0</td>\n",
       "      <td>0</td>\n",
       "      <td>1</td>\n",
       "      <td>0</td>\n",
       "      <td>162518.5736</td>\n",
       "    </tr>\n",
       "    <tr>\n",
       "      <th>4</th>\n",
       "      <td>390</td>\n",
       "      <td>3</td>\n",
       "      <td>5</td>\n",
       "      <td>1</td>\n",
       "      <td>0</td>\n",
       "      <td>0</td>\n",
       "      <td>0</td>\n",
       "      <td>1</td>\n",
       "      <td>0</td>\n",
       "      <td>0</td>\n",
       "      <td>...</td>\n",
       "      <td>0</td>\n",
       "      <td>0</td>\n",
       "      <td>0</td>\n",
       "      <td>0</td>\n",
       "      <td>0</td>\n",
       "      <td>0</td>\n",
       "      <td>0</td>\n",
       "      <td>0</td>\n",
       "      <td>1</td>\n",
       "      <td>162518.5736</td>\n",
       "    </tr>\n",
       "    <tr>\n",
       "      <th>...</th>\n",
       "      <td>...</td>\n",
       "      <td>...</td>\n",
       "      <td>...</td>\n",
       "      <td>...</td>\n",
       "      <td>...</td>\n",
       "      <td>...</td>\n",
       "      <td>...</td>\n",
       "      <td>...</td>\n",
       "      <td>...</td>\n",
       "      <td>...</td>\n",
       "      <td>...</td>\n",
       "      <td>...</td>\n",
       "      <td>...</td>\n",
       "      <td>...</td>\n",
       "      <td>...</td>\n",
       "      <td>...</td>\n",
       "      <td>...</td>\n",
       "      <td>...</td>\n",
       "      <td>...</td>\n",
       "      <td>...</td>\n",
       "      <td>...</td>\n",
       "    </tr>\n",
       "    <tr>\n",
       "      <th>4945</th>\n",
       "      <td>73</td>\n",
       "      <td>6</td>\n",
       "      <td>5</td>\n",
       "      <td>0</td>\n",
       "      <td>1</td>\n",
       "      <td>0</td>\n",
       "      <td>0</td>\n",
       "      <td>1</td>\n",
       "      <td>0</td>\n",
       "      <td>0</td>\n",
       "      <td>...</td>\n",
       "      <td>0</td>\n",
       "      <td>0</td>\n",
       "      <td>0</td>\n",
       "      <td>0</td>\n",
       "      <td>0</td>\n",
       "      <td>1</td>\n",
       "      <td>0</td>\n",
       "      <td>0</td>\n",
       "      <td>0</td>\n",
       "      <td>169782.5765</td>\n",
       "    </tr>\n",
       "    <tr>\n",
       "      <th>4946</th>\n",
       "      <td>96</td>\n",
       "      <td>3</td>\n",
       "      <td>5</td>\n",
       "      <td>0</td>\n",
       "      <td>1</td>\n",
       "      <td>0</td>\n",
       "      <td>0</td>\n",
       "      <td>1</td>\n",
       "      <td>0</td>\n",
       "      <td>0</td>\n",
       "      <td>...</td>\n",
       "      <td>0</td>\n",
       "      <td>0</td>\n",
       "      <td>0</td>\n",
       "      <td>0</td>\n",
       "      <td>0</td>\n",
       "      <td>1</td>\n",
       "      <td>1</td>\n",
       "      <td>0</td>\n",
       "      <td>0</td>\n",
       "      <td>169782.5765</td>\n",
       "    </tr>\n",
       "    <tr>\n",
       "      <th>4947</th>\n",
       "      <td>96</td>\n",
       "      <td>3</td>\n",
       "      <td>5</td>\n",
       "      <td>0</td>\n",
       "      <td>1</td>\n",
       "      <td>0</td>\n",
       "      <td>0</td>\n",
       "      <td>1</td>\n",
       "      <td>0</td>\n",
       "      <td>0</td>\n",
       "      <td>...</td>\n",
       "      <td>0</td>\n",
       "      <td>0</td>\n",
       "      <td>0</td>\n",
       "      <td>0</td>\n",
       "      <td>0</td>\n",
       "      <td>0</td>\n",
       "      <td>0</td>\n",
       "      <td>0</td>\n",
       "      <td>0</td>\n",
       "      <td>169782.5765</td>\n",
       "    </tr>\n",
       "    <tr>\n",
       "      <th>4948</th>\n",
       "      <td>96</td>\n",
       "      <td>3</td>\n",
       "      <td>5</td>\n",
       "      <td>0</td>\n",
       "      <td>1</td>\n",
       "      <td>0</td>\n",
       "      <td>0</td>\n",
       "      <td>1</td>\n",
       "      <td>0</td>\n",
       "      <td>0</td>\n",
       "      <td>...</td>\n",
       "      <td>0</td>\n",
       "      <td>0</td>\n",
       "      <td>0</td>\n",
       "      <td>0</td>\n",
       "      <td>0</td>\n",
       "      <td>0</td>\n",
       "      <td>0</td>\n",
       "      <td>0</td>\n",
       "      <td>0</td>\n",
       "      <td>169782.5765</td>\n",
       "    </tr>\n",
       "    <tr>\n",
       "      <th>4949</th>\n",
       "      <td>22</td>\n",
       "      <td>3</td>\n",
       "      <td>4</td>\n",
       "      <td>1</td>\n",
       "      <td>0</td>\n",
       "      <td>0</td>\n",
       "      <td>0</td>\n",
       "      <td>1</td>\n",
       "      <td>0</td>\n",
       "      <td>0</td>\n",
       "      <td>...</td>\n",
       "      <td>1</td>\n",
       "      <td>0</td>\n",
       "      <td>0</td>\n",
       "      <td>0</td>\n",
       "      <td>0</td>\n",
       "      <td>0</td>\n",
       "      <td>0</td>\n",
       "      <td>0</td>\n",
       "      <td>0</td>\n",
       "      <td>169782.5765</td>\n",
       "    </tr>\n",
       "  </tbody>\n",
       "</table>\n",
       "<p>4950 rows × 65 columns</p>\n",
       "</div>"
      ],
      "text/plain": [
       "      intern_num  month_num  day  2000  500-2000  50-500  <50  互联网  教育  房产  \\\n",
       "0            176          3    3     1         0       0    0    1   0   0   \n",
       "1            390          3    5     1         0       0    0    1   0   0   \n",
       "2             44          5    4     1         0       0    0    1   0   0   \n",
       "3            486          4    5     1         0       0    0    1   0   0   \n",
       "4            390          3    5     1         0       0    0    1   0   0   \n",
       "...          ...        ...  ...   ...       ...     ...  ...  ...  ..  ..   \n",
       "4945          73          6    5     0         1       0    0    1   0   0   \n",
       "4946          96          3    5     0         1       0    0    1   0   0   \n",
       "4947          96          3    5     0         1       0    0    1   0   0   \n",
       "4948          96          3    5     0         1       0    0    1   0   0   \n",
       "4949          22          3    4     1         0       0    0    1   0   0   \n",
       "\n",
       "      ...  媒体  内容  专员  产品  销售  开发  工程师  助理  运营  GDP per capita  \n",
       "0     ...   0   0   0   0   0   0    0   0   0     162518.5736  \n",
       "1     ...   0   0   0   0   0   0    0   0   0     162518.5736  \n",
       "2     ...   0   0   0   0   0   1    1   0   0     162518.5736  \n",
       "3     ...   0   0   0   0   0   0    0   1   0     162518.5736  \n",
       "4     ...   0   0   0   0   0   0    0   0   1     162518.5736  \n",
       "...   ...  ..  ..  ..  ..  ..  ..  ...  ..  ..             ...  \n",
       "4945  ...   0   0   0   0   0   1    0   0   0     169782.5765  \n",
       "4946  ...   0   0   0   0   0   1    1   0   0     169782.5765  \n",
       "4947  ...   0   0   0   0   0   0    0   0   0     169782.5765  \n",
       "4948  ...   0   0   0   0   0   0    0   0   0     169782.5765  \n",
       "4949  ...   1   0   0   0   0   0    0   0   0     169782.5765  \n",
       "\n",
       "[4950 rows x 65 columns]"
      ]
     },
     "execution_count": 20,
     "metadata": {},
     "output_type": "execute_result"
    }
   ],
   "source": [
    "data = pd.read_csv(\"formated_data_1111.csv\")\n",
    "data2 = data.drop(['max_sal', 'min_sal', 'city','GDP(billion)', 'Population(thousand)'], axis = 1)\n",
    "data2"
   ]
  },
  {
   "cell_type": "code",
   "execution_count": 21,
   "metadata": {},
   "outputs": [],
   "source": [
    "X = data2\n",
    "y = data['max_sal']"
   ]
  },
  {
   "cell_type": "code",
   "execution_count": 22,
   "metadata": {},
   "outputs": [
    {
     "data": {
      "text/plain": [
       "(array([1004.,    0.,    0., 1545.,    0.,    0., 1434.,    0.,    0.,\n",
       "         967.]),\n",
       " array([0. , 0.3, 0.6, 0.9, 1.2, 1.5, 1.8, 2.1, 2.4, 2.7, 3. ]),\n",
       " <a list of 10 Patch objects>)"
      ]
     },
     "execution_count": 22,
     "metadata": {},
     "output_type": "execute_result"
    },
    {
     "data": {
      "image/png": "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\n",
      "text/plain": [
       "<Figure size 432x288 with 1 Axes>"
      ]
     },
     "metadata": {
      "needs_background": "light"
     },
     "output_type": "display_data"
    }
   ],
   "source": [
    "# Label the max salary (4 classes)\n",
    "\n",
    "label = []\n",
    "max_sal = data['max_sal'].to_numpy()\n",
    "for i in max_sal:\n",
    "    if i in range(0,150):\n",
    "        label.append(0)\n",
    "    elif i in range(150,175):\n",
    "        label.append(1)\n",
    "    elif i in range(175,250):\n",
    "        label.append(2)\n",
    "    else:\n",
    "        label.append(3)\n",
    "y = np.array(label)\n",
    "y.reshape(len(label),1)\n",
    "plt.hist(y)"
   ]
  },
  {
   "cell_type": "code",
   "execution_count": 23,
   "metadata": {},
   "outputs": [],
   "source": [
    "# Divide into train and test set\n",
    "X_train, X_test, y_train, y_test = train_test_split(X, y, test_size=0.2, shuffle = True, random_state=0)\n",
    "\n",
    "scaler = MinMaxScaler().fit(X_train)\n",
    "\n",
    "X_train_scaled = scaler.transform(X_train)\n",
    "X_test_scaled = scaler.transform(X_test)"
   ]
  },
  {
   "cell_type": "code",
   "execution_count": 17,
   "metadata": {},
   "outputs": [
    {
     "name": "stdout",
     "output_type": "stream",
     "text": [
      "{'C': 28, 'gamma': 350}\n"
     ]
    }
   ],
   "source": [
    "# GridSearch\n",
    "\n",
    "from sklearn.model_selection import GridSearchCV\n",
    "import sklearn.metrics\n",
    "\n",
    "parameters = {\n",
    "    'C': [x for x in range(2,30,2)],\n",
    "    'gamma': [x for x in range(200,600,50)]\n",
    "}\n",
    "\n",
    "grid_search = GridSearchCV(svm.SVC(), param_grid = parameters, scoring = 'accuracy', cv=4, return_train_score = True)\n",
    "grid_search.fit(X_train_scaled, y_train)\n",
    "#print(grid_search.cv_results_)\n",
    "print(grid_search.best_params_)\n",
    "\n",
    "# gamma 应该大一些，sigma小(1/sigma^2)，来提高精度，那个图形更尖更集中。\n",
    "# 1/C C越大，regularization越弱。"
   ]
  },
  {
   "cell_type": "code",
   "execution_count": 30,
   "metadata": {},
   "outputs": [
    {
     "name": "stdout",
     "output_type": "stream",
     "text": [
      "kernel = rbf\n",
      "train accuracy: 0.9452020202020202\n",
      "test accuracy: 0.3717171717171717\n"
     ]
    }
   ],
   "source": [
    "clf = svm.SVC(decision_function_shape = 'ovo', kernel = 'rbf', C = 28, gamma = 350)\n",
    "clf.fit(X_train_scaled, y_train)\n",
    "\n",
    "y_pred = clf.predict(X_test_scaled)\n",
    "acc_test = (accuracy_score(y_pred,y_test))\n",
    "y_pred = clf.predict(X_train_scaled)\n",
    "acc_train = (accuracy_score(y_pred,y_train))\n",
    "print('kernel = rbf')\n",
    "print('train accuracy: {}'.format(acc_train))\n",
    "print('test accuracy: {}'.format(acc_test))"
   ]
  },
  {
   "cell_type": "markdown",
   "metadata": {},
   "source": [
    "### 2.2 Min Salary All Columns"
   ]
  },
  {
   "cell_type": "code",
   "execution_count": 31,
   "metadata": {},
   "outputs": [
    {
     "data": {
      "text/plain": [
       "(array([ 659.,    0.,    0., 1550.,    0.,    0.,  872.,    0.,    0.,\n",
       "        1869.]),\n",
       " array([0. , 0.3, 0.6, 0.9, 1.2, 1.5, 1.8, 2.1, 2.4, 2.7, 3. ]),\n",
       " <a list of 10 Patch objects>)"
      ]
     },
     "execution_count": 31,
     "metadata": {},
     "output_type": "execute_result"
    },
    {
     "data": {
      "image/png": "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\n",
      "text/plain": [
       "<Figure size 432x288 with 1 Axes>"
      ]
     },
     "metadata": {
      "needs_background": "light"
     },
     "output_type": "display_data"
    }
   ],
   "source": [
    "label = []\n",
    "min_sal = data['min_sal'].to_numpy()\n",
    "for i in min_sal:\n",
    "    if i in range(0,100):\n",
    "        label.append(0)\n",
    "    elif i in range(100,120):\n",
    "        label.append(1)\n",
    "    elif i in range(120,150):\n",
    "        label.append(2)\n",
    "    else:\n",
    "        label.append(3)\n",
    "y = np.array(label)\n",
    "y.reshape(len(label),1)\n",
    "plt.hist(y)"
   ]
  },
  {
   "cell_type": "code",
   "execution_count": 32,
   "metadata": {},
   "outputs": [],
   "source": [
    "X_train, X_test, y_train, y_test = train_test_split(X, y, test_size=0.2, shuffle = True, random_state=0)\n",
    "\n",
    "scaler = MinMaxScaler().fit(X_train)\n",
    "\n",
    "X_train_scaled = scaler.transform(X_train)\n",
    "X_test_scaled = scaler.transform(X_test)"
   ]
  },
  {
   "cell_type": "code",
   "execution_count": 33,
   "metadata": {},
   "outputs": [
    {
     "name": "stdout",
     "output_type": "stream",
     "text": [
      "kernel = rbf\n",
      "train accuracy: 0.95\n",
      "test accuracy: 0.4414141414141414\n"
     ]
    }
   ],
   "source": [
    "clf = svm.SVC(decision_function_shape = 'ovo', kernel = 'rbf', C = 28, gamma = 350)\n",
    "clf.fit(X_train_scaled, y_train)\n",
    "\n",
    "y_pred = clf.predict(X_test_scaled)\n",
    "acc_test = (accuracy_score(y_pred,y_test))\n",
    "y_pred = clf.predict(X_train_scaled)\n",
    "acc_train = (accuracy_score(y_pred,y_train))\n",
    "print('kernel = rbf')\n",
    "print('train accuracy: {}'.format(acc_train))\n",
    "print('test accuracy: {}'.format(acc_test))"
   ]
  },
  {
   "cell_type": "code",
   "execution_count": null,
   "metadata": {},
   "outputs": [],
   "source": []
  }
 ],
 "metadata": {
  "kernelspec": {
   "display_name": "Python 3",
   "language": "python",
   "name": "python3"
  },
  "language_info": {
   "codemirror_mode": {
    "name": "ipython",
    "version": 3
   },
   "file_extension": ".py",
   "mimetype": "text/x-python",
   "name": "python",
   "nbconvert_exporter": "python",
   "pygments_lexer": "ipython3",
<<<<<<< HEAD
   "version": "3.7.2"
=======
   "version": "3.8.1"
>>>>>>> 6fef556dc977ba1492ffa6089848cd27138a6b60
  }
 },
 "nbformat": 4,
 "nbformat_minor": 4
}

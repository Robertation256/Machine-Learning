{
 "cells": [
  {
   "cell_type": "markdown",
   "metadata": {},
   "source": [
    "#  Random Forest"
   ]
  },
  {
   "cell_type": "code",
   "execution_count": 1,
   "metadata": {},
   "outputs": [],
   "source": [
    "import pandas as pd\n",
    "import numpy as np\n",
    "from matplotlib import pyplot as plt\n",
    "\n",
    "# Loading Data\n",
    "data = pd.read_csv(\"TrainData.csv\")\n",
    "data = data.drop([\"Unnamed: 0\"],axis=1)\n",
    "\n",
    "X = data.drop([\"salary_label\"],axis=1)\n",
    "y = data[\"salary_label\"]"
   ]
  },
  {
   "cell_type": "markdown",
   "metadata": {},
   "source": [
    "# Training and validating using GridsearchCV"
   ]
  },
  {
   "cell_type": "code",
   "execution_count": 2,
   "metadata": {},
   "outputs": [
    {
     "name": "stdout",
     "output_type": "stream",
     "text": [
      "{'forest__max_depth': 30, 'forest__max_leaf_nodes': 800, 'forest__min_samples_leaf': 10, 'forest__min_samples_split': 2, 'forest__n_estimators': 100}\n"
     ]
    }
   ],
   "source": [
    "from sklearn.ensemble import RandomForestClassifier\n",
    "from sklearn.pipeline import Pipeline\n",
    "from sklearn.preprocessing import MinMaxScaler\n",
    "from sklearn.model_selection import GridSearchCV\n",
    "# from sklearn.metrics import accuracy_score, mean_squared_error\n",
    "\n",
    "\n",
    "descision_tree = Pipeline([('scaler',  MinMaxScaler()),\n",
    "            ('forest', RandomForestClassifier())])\n",
    "\n",
    "\n",
    "\n",
    "parameters = {\n",
    "\n",
    "    'forest__max_leaf_nodes': [x for x in [400,600,800,1000,1200,1400]],\n",
    "    'forest__max_depth': [x for x in [30]],\n",
    "    'forest__min_samples_split' : [2],\n",
    "    'forest__min_samples_leaf' : [10],\n",
    "    'forest__n_estimators' : [10,20,40,60,80,100,150,200]\n",
    "}\n",
    "\n",
    "grid_search = GridSearchCV(descision_tree, param_grid = parameters, scoring = 'accuracy', cv=5, return_train_score = True)\n",
    "grid_search.fit(X, y)\n",
    "\n",
    "print(grid_search.best_params_)"
   ]
  },
  {
   "cell_type": "markdown",
   "metadata": {},
   "source": [
    "# General performance on train/validation dataset"
   ]
  },
  {
   "cell_type": "code",
   "execution_count": 6,
   "metadata": {},
   "outputs": [
    {
     "name": "stdout",
     "output_type": "stream",
     "text": [
      "=========Train Acurracy=========\n",
      "0.48687547772913625\n",
      "0.48044784935028834\n",
      "0.4845042040163991\n",
      "0.4885554513563266\n",
      "mean:\n",
      "0.4850957456130376\n",
      "=========Test Acurracy=========\n",
      "0.3842013888888889\n",
      "0.41878472222222224\n",
      "0.42548611111111106\n",
      "0.41451119454874147\n",
      "mean:\n",
      "0.4107458541927409\n"
     ]
    }
   ],
   "source": [
    "print(\"=========Train Acurracy=========\")\n",
    "print(np.mean(grid_search.cv_results_[\"split0_train_score\"]))\n",
    "print(np.mean(grid_search.cv_results_[\"split1_train_score\"]))\n",
    "print(np.mean(grid_search.cv_results_[\"split2_train_score\"]))\n",
    "print(np.mean(grid_search.cv_results_[\"split3_train_score\"]))\n",
    "print(\"mean:\")\n",
    "print(np.mean(\n",
    "    [\n",
    "        np.mean(grid_search.cv_results_[\"split0_train_score\"]),\n",
    "        np.mean(grid_search.cv_results_[\"split1_train_score\"]),\n",
    "        np.mean(grid_search.cv_results_[\"split2_train_score\"]),\n",
    "        np.mean(grid_search.cv_results_[\"split3_train_score\"])\n",
    "    ]\n",
    "))\n",
    "\n",
    "\n",
    "print(\"=========Test Acurracy=========\")\n",
    "print(np.mean(grid_search.cv_results_[\"split0_test_score\"]))\n",
    "print(np.mean(grid_search.cv_results_[\"split1_test_score\"]))\n",
    "print(np.mean(grid_search.cv_results_[\"split2_test_score\"]))\n",
    "print(np.mean(grid_search.cv_results_[\"split3_test_score\"]))\n",
    "print(\"mean:\")\n",
    "print(np.mean(\n",
    "    [\n",
    "        np.mean(grid_search.cv_results_[\"split0_test_score\"]),\n",
    "        np.mean(grid_search.cv_results_[\"split1_test_score\"]),\n",
    "        np.mean(grid_search.cv_results_[\"split2_test_score\"]),\n",
    "        np.mean(grid_search.cv_results_[\"split3_test_score\"])\n",
    "    ]\n",
    "))"
   ]
  },
  {
   "cell_type": "markdown",
   "metadata": {},
   "source": [
    "# Final test on test data set"
   ]
  },
  {
   "cell_type": "code",
   "execution_count": 5,
   "metadata": {},
   "outputs": [
    {
     "name": "stdout",
     "output_type": "stream",
     "text": [
      "=======Accuracy on test data set=======\n",
      "0.438\n"
     ]
    }
   ],
   "source": [
    "from sklearn.metrics import accuracy_score\n",
    "df = pd.read_csv(\"TestData.csv\")\n",
    "\n",
    "X_train = X\n",
    "y_train = y\n",
    "\n",
    "X_test = df.drop([\"salary_label\",\"Unnamed: 0\"],axis=1)\n",
    "y_test = df[\"salary_label\"]\n",
    "\n",
    "\n",
    "scaler = MinMaxScaler()\n",
    "X_train = scaler.fit_transform(X_train)\n",
    "X_test = scaler.transform(X_test)\n",
    "\n",
    "params = {'max_depth': 30, 'max_leaf_nodes': 800, 'min_samples_leaf': 10, 'min_samples_split': 2, 'n_estimators': 100}\n",
    "\n",
    "model = RandomForestClassifier(**params)\n",
    "model.fit(X_train,y_train)\n",
    "y_pred = model.predict(X_test)\n",
    "\n",
    "test_acc = accuracy_score(y_test,y_pred)\n",
    "\n",
    "print(\"=======Accuracy on test data set=======\")\n",
    "print(test_acc)"
   ]
  },
  {
   "cell_type": "code",
   "execution_count": null,
   "metadata": {},
   "outputs": [],
   "source": []
  }
 ],
 "metadata": {
  "kernelspec": {
   "display_name": "Python 3",
   "language": "python",
   "name": "python3"
  },
  "language_info": {
   "codemirror_mode": {
    "name": "ipython",
    "version": 3
   },
   "file_extension": ".py",
   "mimetype": "text/x-python",
   "name": "python",
   "nbconvert_exporter": "python",
   "pygments_lexer": "ipython3",
   "version": "3.7.2"
  }
 },
 "nbformat": 4,
 "nbformat_minor": 4
}

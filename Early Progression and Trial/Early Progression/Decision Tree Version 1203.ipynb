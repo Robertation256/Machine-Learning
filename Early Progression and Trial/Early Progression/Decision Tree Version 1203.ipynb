{
 "cells": [
  {
   "cell_type": "markdown",
   "metadata": {},
   "source": [
    "## Decision Tree"
   ]
  },
  {
   "cell_type": "code",
<<<<<<< HEAD
   "execution_count": 23,
   "metadata": {},
   "outputs": [
    {
     "ename": "SyntaxError",
     "evalue": "unexpected EOF while parsing (<ipython-input-23-d710d1e0b768>, line 5)",
     "output_type": "error",
     "traceback": [
      "\u001b[1;36m  File \u001b[1;32m\"<ipython-input-23-d710d1e0b768>\"\u001b[1;36m, line \u001b[1;32m5\u001b[0m\n\u001b[1;33m    def __init__(self,model):\u001b[0m\n\u001b[1;37m                             ^\u001b[0m\n\u001b[1;31mSyntaxError\u001b[0m\u001b[1;31m:\u001b[0m unexpected EOF while parsing\n"
     ]
    }
   ],
   "source": [
    "from sklearn.base import BaseEstimator, ClassifierMixin\n",
    "import torch\n",
    "\n",
    "\n",
    "class NNClassifier(BaseEstimator, ClassifierMixin):\n",
    "    def __init__(self,model):\n",
    "        self._model = model\n",
    "    \n",
    "    def fit(self,X,y):\n",
    "        pass\n",
    "    \n",
    "    def predict(self,X):\n",
    "        X_tensor = torch.from_numpy(X)\n",
    "        y_pred = self._model(X_tensor)\n",
    "        return y_pred"
   ]
  },
  {
   "cell_type": "code",
   "execution_count": 14,
   "metadata": {},
   "outputs": [
    {
     "data": {
      "text/plain": [
       "(array([1180.,    0.,    0., 1622.,    0.,    0., 1170.,    0.,    0.,\n",
       "        1026.]),\n",
       " array([0. , 0.3, 0.6, 0.9, 1.2, 1.5, 1.8, 2.1, 2.4, 2.7, 3. ]),\n",
       " <BarContainer object of 10 artists>)"
      ]
     },
     "execution_count": 14,
     "metadata": {},
     "output_type": "execute_result"
    },
    {
     "data": {
      "image/png": "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\n",
      "text/plain": [
       "<Figure size 432x288 with 1 Axes>"
      ]
     },
     "metadata": {
      "needs_background": "light"
     },
     "output_type": "display_data"
    }
   ],
=======
   "execution_count": 83,
   "metadata": {},
   "outputs": [],
>>>>>>> 6fef556dc977ba1492ffa6089848cd27138a6b60
   "source": [
    "import pandas as pd\n",
    "import numpy as np\n",
    "from matplotlib import pyplot as plt\n",
    "\n",
<<<<<<< HEAD
    "data = pd.read_csv(\"final_validated_data.csv\")\n",
    "data.head()\n",
    "\n",
    "\n",
    "\n",
    "IT_df = data.drop(['Unnamed: 0', 'RowID', 'maxsal', 'minsal','industry', 'city', 'scale', 'name', 'uuid', 'c_desc', 'c_tag','c_name'],axis=1)\n",
    "\n",
    "\n",
    "# #确定 X和 y\n",
    "\n",
    "X = IT_df\n",
    "\n",
    "\n",
    "# Label the max salary (4 classes)\n",
    "label = []\n",
    "max_sal = data[\"maxsal\"].to_numpy()\n",
    "for i in max_sal:\n",
    "    \n",
    "#     if i in range(0,150):\n",
    "#         label.append([1,0,0,0])\n",
    "#     elif i in range(150,175):\n",
    "#         label.append([0,1,0,0])\n",
    "#     elif i in range(175,250):\n",
    "#         label.append([0,0,1,0])\n",
    "#     else:\n",
    "#         label.append([0,0,0,1])\n",
    "\n",
    "    if i in range(0,150):\n",
    "        label.append(0)\n",
    "    elif i in range(150,175):\n",
    "        label.append(1)\n",
    "    elif i in range(175,250):\n",
    "        label.append(2)\n",
    "    else:\n",
    "        label.append(3)\n",
    "y = np.array(label)\n",
    "\n",
    "plt.hist(y)\n",
    "\n"
   ]
  },
  {
   "cell_type": "code",
   "execution_count": 15,
   "metadata": {},
   "outputs": [
    {
     "data": {
      "text/plain": [
       "0.23609443777511005"
      ]
     },
     "execution_count": 15,
     "metadata": {},
     "output_type": "execute_result"
    }
   ],
   "source": [
    "1180/4998"
   ]
  },
  {
   "cell_type": "code",
   "execution_count": 34,
   "metadata": {},
   "outputs": [],
   "source": [
    "from sklearn.tree import DecisionTreeClassifier\n",
    "from sklearn.metrics import accuracy_score, mean_squared_error\n",
    "from sklearn.preprocessing import MinMaxScaler\n",
    "from sklearn.tree import DecisionTreeClassifier\n",
    "from sklearn.metrics import accuracy_score, mean_squared_error\n",
    "from sklearn.model_selection import train_test_split\n",
    "\n",
    "# Divide into train and test set\n",
    "X_train, X_test, y_train, y_test = train_test_split(X, y, test_size=0.2, shuffle = True, random_state=0)\n",
    "\n",
    "\n",
    "X_train, X_test, y_, y_test = train_test_split(X, y, test_size=0.2, shuffle = True, random_state=0)\n",
    "\n",
    "scaler = MinMaxScaler().fit(X_train)\n",
    "\n",
    "X_train_scaled = scaler.transform(X_train)\n",
    "X_test_scaled = scaler.transform(X_test)\n",
    "\n",
    "\n",
    "# model = DecisionTreeClassifier()\n",
    "\n",
    "\n",
    "# from sklearn.model_selection import GridSearchCV\n",
    "\n",
    "\n",
    "# parameters = {\n",
    "#     'max_depth': [10,20,30,40,50],\n",
    "#     'min_samples_leaf': [1,2,5,10,20]\n",
    "# }\n",
    "\n",
    "# grid_search = GridSearchCV(model, param_grid = parameters, scoring = 'neg_log_loss', cv=4, return_train_score = True)\n",
    "# grid_search.fit(X_train_scaled, y_train)\n",
    "# #print(grid_search.cv_results_)\n",
    "# print(grid_search.best_params_)"
   ]
  },
  {
   "cell_type": "markdown",
   "metadata": {},
   "source": [
    "# 查看accuracy 和 loss"
   ]
  },
  {
   "cell_type": "code",
   "execution_count": 39,
   "metadata": {},
   "outputs": [
    {
     "name": "stdout",
     "output_type": "stream",
     "text": [
      "=======Accuracy========\n",
      "\n",
      "\n",
      "0.602551275637819\n",
      "0.469\n",
      "=======Loss=========\n",
      "\n",
      "\n",
      "0.878627866272764\n",
      "3.099901993950892\n"
     ]
    }
   ],
   "source": [
    "from sklearn.metrics import accuracy_score, precision_score,log_loss\n",
    "\n",
    "model = DecisionTreeClassifier(max_depth=35,min_samples_leaf=10)\n",
    "model.fit(X_train_scaled,y_train)\n",
    "\n",
    "\n",
    "\n",
    "train_acc = accuracy_score(model.predict(X_train_scaled),y_train)\n",
    "test_acc = accuracy_score(model.predict(X_test_scaled),y_test)\n",
    "\n",
    "\n",
    "# train_pre = precision_score(model.predict(X_train_scaled),y_train,average=\"micro\")\n",
    "# test_pre = precision_score(model.predict(X_test_scaled),y_test,average=\"micro\")\n",
    "\n",
    "train_loss = log_loss(y_train,model.predict_proba(X_train_scaled))\n",
    "test_loss = log_loss(y_test,model.predict_proba(X_test_scaled))\n",
    "\n",
    "\n",
    "\n",
    "print(\"=======Accuracy========\\n\\n\")\n",
    "print(train_acc)\n",
    "print(test_acc)\n",
    "\n",
    "\n",
    "print(\"=======Loss=========\\n\\n\")\n",
    "\n",
    "print(train_loss)\n",
    "print(test_loss)\n"
   ]
  },
  {
   "cell_type": "code",
   "execution_count": 22,
   "metadata": {},
   "outputs": [
    {
     "name": "stdout",
     "output_type": "stream",
     "text": [
      "1.453546588129058\n"
     ]
    }
   ],
   "source": [
    "from sklearn.metrics import accuracy_score, precision_score,log_loss\n",
    "loss = log_loss([0],[[0.23,0.32,0.234,0.2]],labels =[0,1,2,3])\n",
    "print(loss)"
   ]
  },
  {
   "cell_type": "code",
   "execution_count": 16,
   "metadata": {},
   "outputs": [
    {
     "name": "stdout",
     "output_type": "stream",
     "text": [
      "{'max_depth': 30, 'min_samples_leaf': 2}\n"
     ]
    }
   ],
   "source": [
    "from sklearn.ensemble import RandomForestClassifier\n",
    "rf = RandomForestClassifier()\n",
    "from sklearn.model_selection import GridSearchCV\n",
    "\n",
    "\n",
    "parameters = {\n",
    "    'max_depth': [10,20,30,40,50],\n",
    "    'min_samples_leaf': [2,3,4,5]\n",
    "}\n",
    "\n",
    "grid_search = GridSearchCV(rf, param_grid = parameters, scoring = 'accuracy', cv=4, return_train_score = True)\n",
    "grid_search.fit(X_train_scaled, y_train)\n",
    "#print(grid_search.cv_results_)\n",
    "print(grid_search.best_params_)"
   ]
  },
  {
   "cell_type": "code",
   "execution_count": 17,
   "metadata": {},
   "outputs": [
    {
     "name": "stdout",
     "output_type": "stream",
     "text": [
      "0.7448724362181091\n",
      "0.475\n"
     ]
    }
   ],
   "source": [
    "from sklearn.metrics import accuracy_score\n",
    "\n",
    "model = RandomForestClassifier(max_depth=30,min_samples_leaf=2)\n",
    "model.fit(X_train_scaled,y_train)\n",
    "\n",
    "train_acc = accuracy_score(model.predict(X_train_scaled),y_train)\n",
    "\n",
    "test_acc = accuracy_score(model.predict(X_test_scaled),y_test)\n",
    "\n",
    "\n",
    "print(train_acc)\n",
    "print(test_acc)"
=======
    "data = pd.read_csv(\"formated_data_1111.csv\")\n",
    "data.head()\n",
    "\n",
    "# Min_Max scaler for GDP\n",
    "data['GDP'] = (data['GDP per capita'] - \n",
    "               data['GDP per capita'].min())/(data['GDP per capita'].max() - data['GDP per capita'].min())\n",
    "\n",
    "data_1 = data[['intern_num','max_sal','min_sal','GDP per capita','GDP','month_num','day','2000','500-2000','50-500','<50','互联网','教育','房产','广告','金融','企业服务','快消','电子','医疗','汽车']]\n",
    "data_1\n",
    "\n",
    "#确定 X和 y\n",
    "\n",
    "X = data_1[['intern_num','GDP per capita','month_num','day','2000','500-2000','50-500','<50','互联网','教育','房产','广告','金融','企业服务','快消','电子','医疗','汽车']]\n",
    "y = data_1['max_sal']"
>>>>>>> 6fef556dc977ba1492ffa6089848cd27138a6b60
   ]
  },
  {
   "cell_type": "markdown",
   "metadata": {},
   "source": [
    "## 1.1 Decision tree for max salary (for selected columns)"
   ]
  },
  {
   "cell_type": "code",
<<<<<<< HEAD
   "execution_count": null,
   "metadata": {},
   "outputs": [],
   "source": []
  },
  {
   "cell_type": "code",
=======
>>>>>>> 6fef556dc977ba1492ffa6089848cd27138a6b60
   "execution_count": 84,
   "metadata": {},
   "outputs": [
    {
     "data": {
      "text/plain": [
       "(array([1004.,    0.,    0., 1545.,    0.,    0., 1434.,    0.,    0.,\n",
       "         967.]),\n",
       " array([0. , 0.3, 0.6, 0.9, 1.2, 1.5, 1.8, 2.1, 2.4, 2.7, 3. ]),\n",
       " <a list of 10 Patch objects>)"
      ]
     },
     "execution_count": 84,
     "metadata": {},
     "output_type": "execute_result"
    },
    {
     "data": {
      "image/png": "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\n",
      "text/plain": [
       "<Figure size 432x288 with 1 Axes>"
      ]
     },
     "metadata": {
      "needs_background": "light"
     },
     "output_type": "display_data"
    }
   ],
   "source": [
    "# Label the max salary (4 classes)\n",
    "\n",
    "label = []\n",
    "max_sal = data['max_sal'].to_numpy()\n",
    "for i in max_sal:\n",
    "    if i in range(0,150):\n",
    "        label.append(0)\n",
    "    elif i in range(150,175):\n",
    "        label.append(1)\n",
    "    elif i in range(175,250):\n",
    "        label.append(2)\n",
    "    else:\n",
    "        label.append(3)\n",
    "y = np.array(label)\n",
    "y.reshape(len(label),1)\n",
    "plt.hist(y)"
   ]
  },
  {
   "cell_type": "code",
   "execution_count": 85,
   "metadata": {},
   "outputs": [],
   "source": [
    "from sklearn.tree import DecisionTreeClassifier\n",
    "from sklearn.metrics import accuracy_score, mean_squared_error\n",
    "from sklearn.preprocessing import MinMaxScaler\n",
    "from sklearn.tree import DecisionTreeClassifier\n",
    "from sklearn.metrics import accuracy_score, mean_squared_error\n",
    "from sklearn.model_selection import train_test_split\n",
    "\n",
    "# Divide into train and test set\n",
    "X_train, X_test, y_train, y_test = train_test_split(X, y, test_size=0.2, shuffle = True, random_state=0)\n",
    "\n",
    "scaler = MinMaxScaler().fit(X_train)\n",
    "\n",
    "X_train_scaled = scaler.transform(X_train)\n",
    "X_test_scaled = scaler.transform(X_test)"
   ]
  },
  {
   "cell_type": "code",
   "execution_count": 86,
   "metadata": {},
   "outputs": [
    {
     "name": "stdout",
     "output_type": "stream",
     "text": [
      "Training Accuracy: 0.8401515151515152\n",
      "Testing Accuracy: 0.5303030303030303\n"
     ]
    }
   ],
   "source": [
    "model = DecisionTreeClassifier()\n",
    "model.fit(X_train_scaled, y_train)\n",
    "y_train_pred = model.predict(X_train_scaled)\n",
    "y_test_pred = model.predict(X_test_scaled)\n",
    "print(\"Training Accuracy:\", accuracy_score(y_train, y_train_pred))\n",
    "print(\"Testing Accuracy:\", accuracy_score(y_test, y_test_pred))"
   ]
  },
  {
   "cell_type": "code",
   "execution_count": 87,
   "metadata": {},
   "outputs": [
    {
     "name": "stdout",
     "output_type": "stream",
     "text": [
      "Bench mark: 0.31212121212121213\n"
     ]
    }
   ],
   "source": [
    "print('Bench mark: {}'.format(1545/4950))"
   ]
  },
  {
   "cell_type": "markdown",
   "metadata": {},
   "source": [
    "### Tuning max_depth"
   ]
  },
  {
   "cell_type": "code",
   "execution_count": 88,
   "metadata": {},
   "outputs": [
    {
     "data": {
      "text/plain": [
       "<matplotlib.legend.Legend at 0x7f93182654c0>"
      ]
     },
     "execution_count": 88,
     "metadata": {},
     "output_type": "execute_result"
    },
    {
     "data": {
      "image/png": "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\n",
      "text/plain": [
       "<Figure size 432x288 with 1 Axes>"
      ]
     },
     "metadata": {
      "needs_background": "light"
     },
     "output_type": "display_data"
    }
   ],
   "source": [
    "#max_depth\n",
    "train_accuracy_history = []\n",
    "test_accuracy_history = []\n",
    "for n in range(1,50):\n",
    "    classifier_1 = DecisionTreeClassifier(max_depth = n)\n",
    "    classifier_1.fit(X_train_scaled, y_train)\n",
    "    classifier_train_pred_1 = classifier_1.predict(X_train_scaled)\n",
    "    train_accuracy_history.append(accuracy_score(y_train, classifier_train_pred_1)) \n",
    "    classifier_test_pred_1 = classifier_1.predict(X_test_scaled)\n",
    "    test_accuracy_history.append(accuracy_score(y_test, classifier_test_pred_1))\n",
    "\n",
    "plt.title('Exploring max_depth')\n",
    "plt.xlabel(\"max_depth\")\n",
    "plt.ylabel(\"Accuracy\")\n",
    "plt.plot(range(1,50), train_accuracy_history, label = 'Training Accuracy')\n",
    "plt.plot(range(1,50), test_accuracy_history, label = 'Testing Accuracy')\n",
    "plt.legend()"
   ]
  },
  {
   "cell_type": "code",
   "execution_count": 89,
   "metadata": {},
   "outputs": [
    {
     "name": "stdout",
     "output_type": "stream",
     "text": [
      "0.8401515151515152\n",
      "0.5383838383838384\n"
     ]
    }
   ],
   "source": [
    "print(max(train_accuracy_history))\n",
    "print(max(test_accuracy_history))"
   ]
  },
  {
   "cell_type": "markdown",
   "metadata": {},
   "source": [
    "### Tuning min_samples_leaf"
   ]
  },
  {
   "cell_type": "code",
   "execution_count": 90,
   "metadata": {},
   "outputs": [
    {
     "data": {
      "text/plain": [
       "<matplotlib.legend.Legend at 0x7f9358504520>"
      ]
     },
     "execution_count": 90,
     "metadata": {},
     "output_type": "execute_result"
    },
    {
     "data": {
      "image/png": "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\n",
      "text/plain": [
       "<Figure size 432x288 with 1 Axes>"
      ]
     },
     "metadata": {
      "needs_background": "light"
     },
     "output_type": "display_data"
    }
   ],
   "source": [
    "# Tuning min_samples_leaf\n",
    "train_accuracy_history = []\n",
    "test_accuracy_history = []\n",
    "for n in range(1,201,10):\n",
    "    classifier = DecisionTreeClassifier(min_samples_leaf = n)\n",
    "    classifier.fit(X_train_scaled, y_train)\n",
    "    classifier_train_pred = classifier.predict(X_train_scaled)\n",
    "    train_accuracy_history.append(accuracy_score(y_train, classifier_train_pred)) \n",
    "    classifier_test_pred = classifier.predict(X_test_scaled)\n",
    "    test_accuracy_history.append(accuracy_score(y_test, classifier_test_pred))\n",
    "\n",
    "plt.title('Exploring min_samples_leaf')\n",
    "plt.xlabel(\"min_samples_leaf\")\n",
    "plt.ylabel(\"Accuracy\")\n",
    "plt.plot(range(1,201,10), train_accuracy_history, label = 'Training Accuracy')\n",
    "plt.plot(range(1,201,10), test_accuracy_history, label = 'Testing Accuracy')\n",
    "plt.legend()"
   ]
  },
  {
   "cell_type": "code",
   "execution_count": 91,
   "metadata": {},
   "outputs": [
    {
     "name": "stdout",
     "output_type": "stream",
     "text": [
      "0.8401515151515152\n",
      "0.5353535353535354\n"
     ]
    }
   ],
   "source": [
    "print(max(train_accuracy_history))\n",
    "print(max(test_accuracy_history))"
   ]
  },
  {
   "cell_type": "markdown",
   "metadata": {},
   "source": [
    "### Try Random Forest"
   ]
  },
  {
   "cell_type": "code",
   "execution_count": 92,
   "metadata": {},
   "outputs": [
    {
     "name": "stdout",
     "output_type": "stream",
     "text": [
      "0.5454545454545454\n"
     ]
    },
    {
     "data": {
      "text/plain": [
       "<matplotlib.legend.Legend at 0x7f9339f6d1f0>"
      ]
     },
     "execution_count": 92,
     "metadata": {},
     "output_type": "execute_result"
    },
    {
     "data": {
      "image/png": "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\n",
      "text/plain": [
       "<Figure size 432x288 with 1 Axes>"
      ]
     },
     "metadata": {
      "needs_background": "light"
     },
     "output_type": "display_data"
    }
   ],
   "source": [
    "from sklearn.ensemble import RandomForestClassifier\n",
    "\n",
    "train_scores = []\n",
    "test_scores = []\n",
    "\n",
    "rf = RandomForestClassifier()\n",
    "estimator_range = range(1, 100, 5)##Number of trees in the forest\n",
    "for n_estimators in estimator_range:\n",
    "    rf.n_estimators = n_estimators\n",
    "    rf.fit(X_train_scaled, y_train)\n",
    "    train_scores.append(rf.score(X_train_scaled, y_train))\n",
    "    test_scores.append(rf.score(X_test_scaled, y_test))\n",
    "    \n",
    "# print(train_scores)\n",
    "# print(test_scores)\n",
    "\n",
    "print(max(test_scores))\n",
    "\n",
    "plt.title('Random Forest')\n",
    "plt.xlabel(\"Number of trees\")\n",
    "plt.ylabel(\"Accuracy\")\n",
    "plt.plot(range(1,100,5), train_scores, label = 'Training Accuracy')\n",
    "plt.plot(range(1,100,5), test_scores, label = 'Testing Accuracy')\n",
    "plt.legend()"
   ]
  },
  {
   "cell_type": "markdown",
   "metadata": {},
   "source": [
    "## 1.2 Decision tree for min salary (for selected columns)"
   ]
  },
  {
   "cell_type": "code",
   "execution_count": 93,
   "metadata": {},
   "outputs": [
    {
     "data": {
      "text/plain": [
       "(array([ 659.,    0.,    0., 1550.,    0.,    0.,  872.,    0.,    0.,\n",
       "        1869.]),\n",
       " array([0. , 0.3, 0.6, 0.9, 1.2, 1.5, 1.8, 2.1, 2.4, 2.7, 3. ]),\n",
       " <a list of 10 Patch objects>)"
      ]
     },
     "execution_count": 93,
     "metadata": {},
     "output_type": "execute_result"
    },
    {
     "data": {
      "image/png": "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\n",
      "text/plain": [
       "<Figure size 432x288 with 1 Axes>"
      ]
     },
     "metadata": {
      "needs_background": "light"
     },
     "output_type": "display_data"
    }
   ],
   "source": [
    "label = []\n",
    "min_sal = data['min_sal'].to_numpy()\n",
    "for i in min_sal:\n",
    "    if i in range(0,100):\n",
    "        label.append(0)\n",
    "    elif i in range(100,120):\n",
    "        label.append(1)\n",
    "    elif i in range(120,150):\n",
    "        label.append(2)\n",
    "    else:\n",
    "        label.append(3)\n",
    "y = np.array(label)\n",
    "y.reshape(len(label),1)\n",
    "plt.hist(y)"
   ]
  },
  {
   "cell_type": "code",
   "execution_count": 94,
   "metadata": {},
   "outputs": [
    {
     "name": "stdout",
     "output_type": "stream",
     "text": [
      "Training Accuracy: 0.853030303030303\n",
      "Testing Accuracy: 0.5585858585858586\n"
     ]
    }
   ],
   "source": [
    "X_train, X_test, y_train, y_test = train_test_split(X, y, test_size=0.2, shuffle = True, random_state=0)\n",
    "\n",
    "scaler = MinMaxScaler().fit(X_train)\n",
    "\n",
    "X_train_scaled = scaler.transform(X_train)\n",
    "X_test_scaled = scaler.transform(X_test)\n",
    "\n",
    "model = DecisionTreeClassifier()\n",
    "model.fit(X_train_scaled, y_train)\n",
    "\n",
    "y_train_pred = model.predict(X_train_scaled)\n",
    "y_test_pred = model.predict(X_test_scaled)\n",
    "\n",
    "print(\"Training Accuracy:\", accuracy_score(y_train, y_train_pred))\n",
    "print(\"Testing Accuracy:\", accuracy_score(y_test, y_test_pred))"
   ]
  },
  {
   "cell_type": "code",
   "execution_count": 95,
   "metadata": {},
   "outputs": [
    {
     "name": "stdout",
     "output_type": "stream",
     "text": [
      "Bench mark: 0.37757575757575756\n"
     ]
    }
   ],
   "source": [
    "print('Bench mark: {}'.format(1869/4950))"
   ]
  },
  {
   "cell_type": "markdown",
   "metadata": {},
   "source": [
    "### Tuning max_depth"
   ]
  },
  {
   "cell_type": "code",
   "execution_count": 96,
   "metadata": {},
   "outputs": [
    {
     "data": {
      "text/plain": [
       "<matplotlib.legend.Legend at 0x7f9339f6dac0>"
      ]
     },
     "execution_count": 96,
     "metadata": {},
     "output_type": "execute_result"
    },
    {
     "data": {
      "image/png": "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\n",
      "text/plain": [
       "<Figure size 432x288 with 1 Axes>"
      ]
     },
     "metadata": {
      "needs_background": "light"
     },
     "output_type": "display_data"
    }
   ],
   "source": [
    "# Tuning max_depth\n",
    "train_accuracy_history = []\n",
    "test_accuracy_history = []\n",
    "for n in range(1,50):\n",
    "    classifier_1 = DecisionTreeClassifier(max_depth = n)\n",
    "    classifier_1.fit(X_train_scaled, y_train)\n",
    "    classifier_train_pred_1 = classifier_1.predict(X_train_scaled)\n",
    "    train_accuracy_history.append(accuracy_score(y_train, classifier_train_pred_1)) \n",
    "    classifier_test_pred_1 = classifier_1.predict(X_test_scaled)\n",
    "    test_accuracy_history.append(accuracy_score(y_test, classifier_test_pred_1))\n",
    "\n",
    "plt.title('Exploring max_depth')\n",
    "plt.xlabel(\"max_depth\")\n",
    "plt.ylabel(\"Accuracy\")\n",
    "plt.plot(range(1,50), train_accuracy_history, label = 'Training Accuracy')\n",
    "plt.plot(range(1,50), test_accuracy_history, label = 'Testing Accuracy')\n",
    "plt.legend()"
   ]
  },
  {
   "cell_type": "code",
   "execution_count": 97,
   "metadata": {},
   "outputs": [
    {
     "name": "stdout",
     "output_type": "stream",
     "text": [
      "0.853030303030303\n",
      "0.5626262626262626\n"
     ]
    }
   ],
   "source": [
    "print(max(train_accuracy_history))\n",
    "print(max(test_accuracy_history))"
   ]
  },
  {
   "cell_type": "markdown",
   "metadata": {},
   "source": [
    "### Tuning max_depth"
   ]
  },
  {
   "cell_type": "code",
   "execution_count": 98,
   "metadata": {},
   "outputs": [
    {
     "data": {
      "text/plain": [
       "<matplotlib.legend.Legend at 0x7f935853e5e0>"
      ]
     },
     "execution_count": 98,
     "metadata": {},
     "output_type": "execute_result"
    },
    {
     "data": {
      "image/png": "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\n",
      "text/plain": [
       "<Figure size 432x288 with 1 Axes>"
      ]
     },
     "metadata": {
      "needs_background": "light"
     },
     "output_type": "display_data"
    }
   ],
   "source": [
    "# Tuning min_samples_leaf\n",
    "train_accuracy_history = []\n",
    "test_accuracy_history = []\n",
    "for n in range(1,201,10):\n",
    "    classifier = DecisionTreeClassifier(min_samples_leaf = n)\n",
    "    classifier.fit(X_train_scaled, y_train)\n",
    "    classifier_train_pred = classifier.predict(X_train_scaled)\n",
    "    train_accuracy_history.append(accuracy_score(y_train, classifier_train_pred)) \n",
    "    classifier_test_pred = classifier.predict(X_test_scaled)\n",
    "    test_accuracy_history.append(accuracy_score(y_test, classifier_test_pred))\n",
    "\n",
    "plt.title('Exploring min_samples_leaf')\n",
    "plt.xlabel(\"min_samples_leaf\")\n",
    "plt.ylabel(\"Accuracy\")\n",
    "plt.plot(range(1,201,10), train_accuracy_history, label = 'Training Accuracy')\n",
    "plt.plot(range(1,201,10), test_accuracy_history, label = 'Testing Accuracy')\n",
    "plt.legend()"
   ]
  },
  {
   "cell_type": "code",
   "execution_count": 99,
   "metadata": {},
   "outputs": [
    {
     "name": "stdout",
     "output_type": "stream",
     "text": [
      "0.853030303030303\n",
      "0.5575757575757576\n"
     ]
    }
   ],
   "source": [
    "print(max(train_accuracy_history))\n",
    "print(max(test_accuracy_history))"
   ]
  },
  {
   "cell_type": "markdown",
   "metadata": {},
   "source": [
    "### Try Random Forest"
   ]
  },
  {
   "cell_type": "code",
   "execution_count": 100,
   "metadata": {},
   "outputs": [
    {
     "name": "stdout",
     "output_type": "stream",
     "text": [
      "0.5858585858585859\n"
     ]
    },
    {
     "data": {
      "text/plain": [
       "<matplotlib.legend.Legend at 0x7f9339f6da00>"
      ]
     },
     "execution_count": 100,
     "metadata": {},
     "output_type": "execute_result"
    },
    {
     "data": {
      "image/png": "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\n",
      "text/plain": [
       "<Figure size 432x288 with 1 Axes>"
      ]
     },
     "metadata": {
      "needs_background": "light"
     },
     "output_type": "display_data"
    }
   ],
   "source": [
    "from sklearn.ensemble import RandomForestClassifier\n",
    "\n",
    "train_scores = []\n",
    "test_scores = []\n",
    "\n",
    "rf = RandomForestClassifier()\n",
    "estimator_range = range(1, 100, 5)##Number of trees in the forest\n",
    "for n_estimators in estimator_range:\n",
    "    rf.n_estimators = n_estimators\n",
    "    rf.fit(X_train_scaled, y_train)\n",
    "    train_scores.append(rf.score(X_train_scaled, y_train))\n",
    "    test_scores.append(rf.score(X_test_scaled, y_test))\n",
    "    \n",
    "# print(train_scores)\n",
    "# print(test_scores)\n",
    "\n",
    "print(max(test_scores))\n",
    "\n",
    "plt.title('Random Forest')\n",
    "plt.xlabel(\"Number of trees\")\n",
    "plt.ylabel(\"Accuracy\")\n",
    "plt.plot(range(1,100,5), train_scores, label = 'Training Accuracy')\n",
    "plt.plot(range(1,100,5), test_scores, label = 'Testing Accuracy')\n",
    "plt.legend()"
   ]
  },
  {
   "cell_type": "markdown",
   "metadata": {},
   "source": [
    "## 2.1 Decision tree for max salary (for all columns)"
   ]
  },
  {
   "cell_type": "code",
   "execution_count": 101,
   "metadata": {},
   "outputs": [
    {
     "data": {
      "text/html": [
       "<div>\n",
       "<style scoped>\n",
       "    .dataframe tbody tr th:only-of-type {\n",
       "        vertical-align: middle;\n",
       "    }\n",
       "\n",
       "    .dataframe tbody tr th {\n",
       "        vertical-align: top;\n",
       "    }\n",
       "\n",
       "    .dataframe thead th {\n",
       "        text-align: right;\n",
       "    }\n",
       "</style>\n",
       "<table border=\"1\" class=\"dataframe\">\n",
       "  <thead>\n",
       "    <tr style=\"text-align: right;\">\n",
       "      <th></th>\n",
       "      <th>intern_num</th>\n",
       "      <th>month_num</th>\n",
       "      <th>day</th>\n",
       "      <th>2000</th>\n",
       "      <th>500-2000</th>\n",
       "      <th>50-500</th>\n",
       "      <th>&lt;50</th>\n",
       "      <th>互联网</th>\n",
       "      <th>教育</th>\n",
       "      <th>房产</th>\n",
       "      <th>...</th>\n",
       "      <th>媒体</th>\n",
       "      <th>内容</th>\n",
       "      <th>专员</th>\n",
       "      <th>产品</th>\n",
       "      <th>销售</th>\n",
       "      <th>开发</th>\n",
       "      <th>工程师</th>\n",
       "      <th>助理</th>\n",
       "      <th>运营</th>\n",
       "      <th>GDP per capita</th>\n",
       "    </tr>\n",
       "  </thead>\n",
       "  <tbody>\n",
       "    <tr>\n",
       "      <th>0</th>\n",
       "      <td>176</td>\n",
       "      <td>3</td>\n",
       "      <td>3</td>\n",
       "      <td>1</td>\n",
       "      <td>0</td>\n",
       "      <td>0</td>\n",
       "      <td>0</td>\n",
       "      <td>1</td>\n",
       "      <td>0</td>\n",
       "      <td>0</td>\n",
       "      <td>...</td>\n",
       "      <td>0</td>\n",
       "      <td>0</td>\n",
       "      <td>0</td>\n",
       "      <td>0</td>\n",
       "      <td>0</td>\n",
       "      <td>0</td>\n",
       "      <td>0</td>\n",
       "      <td>0</td>\n",
       "      <td>0</td>\n",
       "      <td>162518.5736</td>\n",
       "    </tr>\n",
       "    <tr>\n",
       "      <th>1</th>\n",
       "      <td>390</td>\n",
       "      <td>3</td>\n",
       "      <td>5</td>\n",
       "      <td>1</td>\n",
       "      <td>0</td>\n",
       "      <td>0</td>\n",
       "      <td>0</td>\n",
       "      <td>1</td>\n",
       "      <td>0</td>\n",
       "      <td>0</td>\n",
       "      <td>...</td>\n",
       "      <td>0</td>\n",
       "      <td>0</td>\n",
       "      <td>0</td>\n",
       "      <td>0</td>\n",
       "      <td>0</td>\n",
       "      <td>0</td>\n",
       "      <td>0</td>\n",
       "      <td>0</td>\n",
       "      <td>0</td>\n",
       "      <td>162518.5736</td>\n",
       "    </tr>\n",
       "    <tr>\n",
       "      <th>2</th>\n",
       "      <td>44</td>\n",
       "      <td>5</td>\n",
       "      <td>4</td>\n",
       "      <td>1</td>\n",
       "      <td>0</td>\n",
       "      <td>0</td>\n",
       "      <td>0</td>\n",
       "      <td>1</td>\n",
       "      <td>0</td>\n",
       "      <td>0</td>\n",
       "      <td>...</td>\n",
       "      <td>0</td>\n",
       "      <td>0</td>\n",
       "      <td>0</td>\n",
       "      <td>0</td>\n",
       "      <td>0</td>\n",
       "      <td>1</td>\n",
       "      <td>1</td>\n",
       "      <td>0</td>\n",
       "      <td>0</td>\n",
       "      <td>162518.5736</td>\n",
       "    </tr>\n",
       "    <tr>\n",
       "      <th>3</th>\n",
       "      <td>486</td>\n",
       "      <td>4</td>\n",
       "      <td>5</td>\n",
       "      <td>1</td>\n",
       "      <td>0</td>\n",
       "      <td>0</td>\n",
       "      <td>0</td>\n",
       "      <td>1</td>\n",
       "      <td>0</td>\n",
       "      <td>0</td>\n",
       "      <td>...</td>\n",
       "      <td>0</td>\n",
       "      <td>0</td>\n",
       "      <td>0</td>\n",
       "      <td>0</td>\n",
       "      <td>0</td>\n",
       "      <td>0</td>\n",
       "      <td>0</td>\n",
       "      <td>1</td>\n",
       "      <td>0</td>\n",
       "      <td>162518.5736</td>\n",
       "    </tr>\n",
       "    <tr>\n",
       "      <th>4</th>\n",
       "      <td>390</td>\n",
       "      <td>3</td>\n",
       "      <td>5</td>\n",
       "      <td>1</td>\n",
       "      <td>0</td>\n",
       "      <td>0</td>\n",
       "      <td>0</td>\n",
       "      <td>1</td>\n",
       "      <td>0</td>\n",
       "      <td>0</td>\n",
       "      <td>...</td>\n",
       "      <td>0</td>\n",
       "      <td>0</td>\n",
       "      <td>0</td>\n",
       "      <td>0</td>\n",
       "      <td>0</td>\n",
       "      <td>0</td>\n",
       "      <td>0</td>\n",
       "      <td>0</td>\n",
       "      <td>1</td>\n",
       "      <td>162518.5736</td>\n",
       "    </tr>\n",
       "    <tr>\n",
       "      <th>...</th>\n",
       "      <td>...</td>\n",
       "      <td>...</td>\n",
       "      <td>...</td>\n",
       "      <td>...</td>\n",
       "      <td>...</td>\n",
       "      <td>...</td>\n",
       "      <td>...</td>\n",
       "      <td>...</td>\n",
       "      <td>...</td>\n",
       "      <td>...</td>\n",
       "      <td>...</td>\n",
       "      <td>...</td>\n",
       "      <td>...</td>\n",
       "      <td>...</td>\n",
       "      <td>...</td>\n",
       "      <td>...</td>\n",
       "      <td>...</td>\n",
       "      <td>...</td>\n",
       "      <td>...</td>\n",
       "      <td>...</td>\n",
       "      <td>...</td>\n",
       "    </tr>\n",
       "    <tr>\n",
       "      <th>4945</th>\n",
       "      <td>73</td>\n",
       "      <td>6</td>\n",
       "      <td>5</td>\n",
       "      <td>0</td>\n",
       "      <td>1</td>\n",
       "      <td>0</td>\n",
       "      <td>0</td>\n",
       "      <td>1</td>\n",
       "      <td>0</td>\n",
       "      <td>0</td>\n",
       "      <td>...</td>\n",
       "      <td>0</td>\n",
       "      <td>0</td>\n",
       "      <td>0</td>\n",
       "      <td>0</td>\n",
       "      <td>0</td>\n",
       "      <td>1</td>\n",
       "      <td>0</td>\n",
       "      <td>0</td>\n",
       "      <td>0</td>\n",
       "      <td>169782.5765</td>\n",
       "    </tr>\n",
       "    <tr>\n",
       "      <th>4946</th>\n",
       "      <td>96</td>\n",
       "      <td>3</td>\n",
       "      <td>5</td>\n",
       "      <td>0</td>\n",
       "      <td>1</td>\n",
       "      <td>0</td>\n",
       "      <td>0</td>\n",
       "      <td>1</td>\n",
       "      <td>0</td>\n",
       "      <td>0</td>\n",
       "      <td>...</td>\n",
       "      <td>0</td>\n",
       "      <td>0</td>\n",
       "      <td>0</td>\n",
       "      <td>0</td>\n",
       "      <td>0</td>\n",
       "      <td>1</td>\n",
       "      <td>1</td>\n",
       "      <td>0</td>\n",
       "      <td>0</td>\n",
       "      <td>169782.5765</td>\n",
       "    </tr>\n",
       "    <tr>\n",
       "      <th>4947</th>\n",
       "      <td>96</td>\n",
       "      <td>3</td>\n",
       "      <td>5</td>\n",
       "      <td>0</td>\n",
       "      <td>1</td>\n",
       "      <td>0</td>\n",
       "      <td>0</td>\n",
       "      <td>1</td>\n",
       "      <td>0</td>\n",
       "      <td>0</td>\n",
       "      <td>...</td>\n",
       "      <td>0</td>\n",
       "      <td>0</td>\n",
       "      <td>0</td>\n",
       "      <td>0</td>\n",
       "      <td>0</td>\n",
       "      <td>0</td>\n",
       "      <td>0</td>\n",
       "      <td>0</td>\n",
       "      <td>0</td>\n",
       "      <td>169782.5765</td>\n",
       "    </tr>\n",
       "    <tr>\n",
       "      <th>4948</th>\n",
       "      <td>96</td>\n",
       "      <td>3</td>\n",
       "      <td>5</td>\n",
       "      <td>0</td>\n",
       "      <td>1</td>\n",
       "      <td>0</td>\n",
       "      <td>0</td>\n",
       "      <td>1</td>\n",
       "      <td>0</td>\n",
       "      <td>0</td>\n",
       "      <td>...</td>\n",
       "      <td>0</td>\n",
       "      <td>0</td>\n",
       "      <td>0</td>\n",
       "      <td>0</td>\n",
       "      <td>0</td>\n",
       "      <td>0</td>\n",
       "      <td>0</td>\n",
       "      <td>0</td>\n",
       "      <td>0</td>\n",
       "      <td>169782.5765</td>\n",
       "    </tr>\n",
       "    <tr>\n",
       "      <th>4949</th>\n",
       "      <td>22</td>\n",
       "      <td>3</td>\n",
       "      <td>4</td>\n",
       "      <td>1</td>\n",
       "      <td>0</td>\n",
       "      <td>0</td>\n",
       "      <td>0</td>\n",
       "      <td>1</td>\n",
       "      <td>0</td>\n",
       "      <td>0</td>\n",
       "      <td>...</td>\n",
       "      <td>1</td>\n",
       "      <td>0</td>\n",
       "      <td>0</td>\n",
       "      <td>0</td>\n",
       "      <td>0</td>\n",
       "      <td>0</td>\n",
       "      <td>0</td>\n",
       "      <td>0</td>\n",
       "      <td>0</td>\n",
       "      <td>169782.5765</td>\n",
       "    </tr>\n",
       "  </tbody>\n",
       "</table>\n",
       "<p>4950 rows × 65 columns</p>\n",
       "</div>"
      ],
      "text/plain": [
       "      intern_num  month_num  day  2000  500-2000  50-500  <50  互联网  教育  房产  \\\n",
       "0            176          3    3     1         0       0    0    1   0   0   \n",
       "1            390          3    5     1         0       0    0    1   0   0   \n",
       "2             44          5    4     1         0       0    0    1   0   0   \n",
       "3            486          4    5     1         0       0    0    1   0   0   \n",
       "4            390          3    5     1         0       0    0    1   0   0   \n",
       "...          ...        ...  ...   ...       ...     ...  ...  ...  ..  ..   \n",
       "4945          73          6    5     0         1       0    0    1   0   0   \n",
       "4946          96          3    5     0         1       0    0    1   0   0   \n",
       "4947          96          3    5     0         1       0    0    1   0   0   \n",
       "4948          96          3    5     0         1       0    0    1   0   0   \n",
       "4949          22          3    4     1         0       0    0    1   0   0   \n",
       "\n",
       "      ...  媒体  内容  专员  产品  销售  开发  工程师  助理  运营  GDP per capita  \n",
       "0     ...   0   0   0   0   0   0    0   0   0     162518.5736  \n",
       "1     ...   0   0   0   0   0   0    0   0   0     162518.5736  \n",
       "2     ...   0   0   0   0   0   1    1   0   0     162518.5736  \n",
       "3     ...   0   0   0   0   0   0    0   1   0     162518.5736  \n",
       "4     ...   0   0   0   0   0   0    0   0   1     162518.5736  \n",
       "...   ...  ..  ..  ..  ..  ..  ..  ...  ..  ..             ...  \n",
       "4945  ...   0   0   0   0   0   1    0   0   0     169782.5765  \n",
       "4946  ...   0   0   0   0   0   1    1   0   0     169782.5765  \n",
       "4947  ...   0   0   0   0   0   0    0   0   0     169782.5765  \n",
       "4948  ...   0   0   0   0   0   0    0   0   0     169782.5765  \n",
       "4949  ...   1   0   0   0   0   0    0   0   0     169782.5765  \n",
       "\n",
       "[4950 rows x 65 columns]"
      ]
     },
     "execution_count": 101,
     "metadata": {},
     "output_type": "execute_result"
    }
   ],
   "source": [
    "data = pd.read_csv(\"formated_data_1111.csv\")\n",
    "data2 = data.drop(['max_sal', 'min_sal', 'city','GDP(billion)', 'Population(thousand)'], axis = 1)\n",
    "data2"
   ]
  },
  {
   "cell_type": "code",
   "execution_count": 102,
   "metadata": {},
   "outputs": [],
   "source": [
    "X = data2\n",
    "y = data['max_sal']"
   ]
  },
  {
   "cell_type": "code",
   "execution_count": 103,
   "metadata": {},
   "outputs": [
    {
     "data": {
      "text/plain": [
       "(array([1004.,    0.,    0., 1545.,    0.,    0., 1434.,    0.,    0.,\n",
       "         967.]),\n",
       " array([0. , 0.3, 0.6, 0.9, 1.2, 1.5, 1.8, 2.1, 2.4, 2.7, 3. ]),\n",
       " <a list of 10 Patch objects>)"
      ]
     },
     "execution_count": 103,
     "metadata": {},
     "output_type": "execute_result"
    },
    {
     "data": {
      "image/png": "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\n",
      "text/plain": [
       "<Figure size 432x288 with 1 Axes>"
      ]
     },
     "metadata": {
      "needs_background": "light"
     },
     "output_type": "display_data"
    }
   ],
   "source": [
    "# Label the max salary (4 classes)\n",
    "\n",
    "label = []\n",
    "max_sal = data['max_sal'].to_numpy()\n",
    "for i in max_sal:\n",
    "    if i in range(0,150):\n",
    "        label.append(0)\n",
    "    elif i in range(150,175):\n",
    "        label.append(1)\n",
    "    elif i in range(175,250):\n",
    "        label.append(2)\n",
    "    else:\n",
    "        label.append(3)\n",
    "y = np.array(label)\n",
    "y.reshape(len(label),1)\n",
    "plt.hist(y)"
   ]
  },
  {
   "cell_type": "code",
   "execution_count": 104,
   "metadata": {},
   "outputs": [
    {
     "name": "stdout",
     "output_type": "stream",
     "text": [
      "Training Accuracy: 0.9742424242424242\n",
      "Testing Accuracy: 0.5040404040404041\n"
     ]
    }
   ],
   "source": [
    "# Divide into train and test set\n",
    "X_train, X_test, y_train, y_test = train_test_split(X, y, test_size=0.2, shuffle = True, random_state=0)\n",
    "\n",
    "scaler = MinMaxScaler().fit(X_train)\n",
    "\n",
    "X_train_scaled = scaler.transform(X_train)\n",
    "X_test_scaled = scaler.transform(X_test)\n",
    "\n",
    "model = DecisionTreeClassifier()\n",
    "model.fit(X_train_scaled, y_train)\n",
    "y_train_pred = model.predict(X_train_scaled)\n",
    "y_test_pred = model.predict(X_test_scaled)\n",
    "print(\"Training Accuracy:\", accuracy_score(y_train, y_train_pred))\n",
    "print(\"Testing Accuracy:\", accuracy_score(y_test, y_test_pred))"
   ]
  },
  {
   "cell_type": "code",
   "execution_count": 105,
   "metadata": {},
   "outputs": [
    {
     "name": "stdout",
     "output_type": "stream",
     "text": [
      "Bench mark: 0.31212121212121213\n"
     ]
    }
   ],
   "source": [
    "print('Bench mark: {}'.format(1545/4950))"
   ]
  },
  {
   "cell_type": "markdown",
   "metadata": {},
   "source": [
    "### Tuning max_depth"
   ]
  },
  {
   "cell_type": "code",
   "execution_count": 106,
   "metadata": {},
   "outputs": [
    {
     "data": {
      "text/plain": [
       "<matplotlib.legend.Legend at 0x7f9379ef5790>"
      ]
     },
     "execution_count": 106,
     "metadata": {},
     "output_type": "execute_result"
    },
    {
     "data": {
      "image/png": "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\n",
      "text/plain": [
       "<Figure size 432x288 with 1 Axes>"
      ]
     },
     "metadata": {
      "needs_background": "light"
     },
     "output_type": "display_data"
    }
   ],
   "source": [
    "#max_depth\n",
    "train_accuracy_history = []\n",
    "test_accuracy_history = []\n",
    "for n in range(1,70):\n",
    "    classifier_1 = DecisionTreeClassifier(max_depth = n)\n",
    "    classifier_1.fit(X_train_scaled, y_train)\n",
    "    classifier_train_pred_1 = classifier_1.predict(X_train_scaled)\n",
    "    train_accuracy_history.append(accuracy_score(y_train, classifier_train_pred_1)) \n",
    "    classifier_test_pred_1 = classifier_1.predict(X_test_scaled)\n",
    "    test_accuracy_history.append(accuracy_score(y_test, classifier_test_pred_1))\n",
    "\n",
    "plt.title('Exploring max_depth')\n",
    "plt.xlabel(\"max_depth\")\n",
    "plt.ylabel(\"Accuracy\")\n",
    "plt.plot(range(1,70), train_accuracy_history, label = 'Training Accuracy')\n",
    "plt.plot(range(1,70), test_accuracy_history, label = 'Testing Accuracy')\n",
    "plt.legend()"
   ]
  },
  {
   "cell_type": "code",
   "execution_count": 107,
   "metadata": {},
   "outputs": [
    {
     "name": "stdout",
     "output_type": "stream",
     "text": [
      "0.9742424242424242\n",
      "0.5131313131313131\n"
     ]
    }
   ],
   "source": [
    "print(max(train_accuracy_history))\n",
    "print(max(test_accuracy_history))"
   ]
  },
  {
   "cell_type": "markdown",
   "metadata": {},
   "source": [
    "### Tuning min_samples_leaf"
   ]
  },
  {
   "cell_type": "code",
   "execution_count": 108,
   "metadata": {},
   "outputs": [
    {
     "data": {
      "text/plain": [
       "<matplotlib.legend.Legend at 0x7f92f8548ee0>"
      ]
     },
     "execution_count": 108,
     "metadata": {},
     "output_type": "execute_result"
    },
    {
     "data": {
      "image/png": "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\n",
      "text/plain": [
       "<Figure size 432x288 with 1 Axes>"
      ]
     },
     "metadata": {
      "needs_background": "light"
     },
     "output_type": "display_data"
    }
   ],
   "source": [
    "# Tuning min_samples_leaf\n",
    "train_accuracy_history = []\n",
    "test_accuracy_history = []\n",
    "for n in range(1,201,10):\n",
    "    classifier = DecisionTreeClassifier(min_samples_leaf = n)\n",
    "    classifier.fit(X_train_scaled, y_train)\n",
    "    classifier_train_pred = classifier.predict(X_train_scaled)\n",
    "    train_accuracy_history.append(accuracy_score(y_train, classifier_train_pred)) \n",
    "    classifier_test_pred = classifier.predict(X_test_scaled)\n",
    "    test_accuracy_history.append(accuracy_score(y_test, classifier_test_pred))\n",
    "\n",
    "plt.title('Exploring min_samples_leaf')\n",
    "plt.xlabel(\"min_samples_leaf\")\n",
    "plt.ylabel(\"Accuracy\")\n",
    "plt.plot(range(1,201,10), train_accuracy_history, label = 'Training Accuracy')\n",
    "plt.plot(range(1,201,10), test_accuracy_history, label = 'Testing Accuracy')\n",
    "plt.legend()"
   ]
  },
  {
   "cell_type": "code",
   "execution_count": 109,
   "metadata": {},
   "outputs": [
    {
     "name": "stdout",
     "output_type": "stream",
     "text": [
      "0.9742424242424242\n",
      "0.5050505050505051\n"
     ]
    }
   ],
   "source": [
    "print(max(train_accuracy_history))\n",
    "print(max(test_accuracy_history))"
   ]
  },
  {
   "cell_type": "markdown",
   "metadata": {},
   "source": [
    "### Try Random Forest"
   ]
  },
  {
   "cell_type": "code",
   "execution_count": 110,
   "metadata": {},
   "outputs": [
    {
     "name": "stdout",
     "output_type": "stream",
     "text": [
      "0.5232323232323233\n"
     ]
    },
    {
     "data": {
      "text/plain": [
       "<matplotlib.legend.Legend at 0x7f934941b100>"
      ]
     },
     "execution_count": 110,
     "metadata": {},
     "output_type": "execute_result"
    },
    {
     "data": {
      "image/png": "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\n",
      "text/plain": [
       "<Figure size 432x288 with 1 Axes>"
      ]
     },
     "metadata": {
      "needs_background": "light"
     },
     "output_type": "display_data"
    }
   ],
   "source": [
    "from sklearn.ensemble import RandomForestClassifier\n",
    "\n",
    "train_scores = []\n",
    "test_scores = []\n",
    "\n",
    "rf = RandomForestClassifier()\n",
    "estimator_range = range(1, 100, 5)##Number of trees in the forest\n",
    "for n_estimators in estimator_range:\n",
    "    rf.n_estimators = n_estimators\n",
    "    rf.fit(X_train_scaled, y_train)\n",
    "    train_scores.append(rf.score(X_train_scaled, y_train))\n",
    "    test_scores.append(rf.score(X_test_scaled, y_test))\n",
    "    \n",
    "# print(train_scores)\n",
    "# print(test_scores)\n",
    "\n",
    "print(max(test_scores))\n",
    "\n",
    "plt.title('Random Forest')\n",
    "plt.xlabel(\"Number of trees\")\n",
    "plt.ylabel(\"Accuracy\")\n",
    "plt.plot(range(1,100,5), train_scores, label = 'Training Accuracy')\n",
    "plt.plot(range(1,100,5), test_scores, label = 'Testing Accuracy')\n",
    "plt.legend()"
   ]
  },
  {
   "cell_type": "markdown",
   "metadata": {},
   "source": [
    "## 2.2 Decision tree for min salary (for all columns)"
   ]
  },
  {
   "cell_type": "code",
   "execution_count": 111,
   "metadata": {},
   "outputs": [
    {
     "data": {
      "text/plain": [
       "(array([ 659.,    0.,    0., 1550.,    0.,    0.,  872.,    0.,    0.,\n",
       "        1869.]),\n",
       " array([0. , 0.3, 0.6, 0.9, 1.2, 1.5, 1.8, 2.1, 2.4, 2.7, 3. ]),\n",
       " <a list of 10 Patch objects>)"
      ]
     },
     "execution_count": 111,
     "metadata": {},
     "output_type": "execute_result"
    },
    {
     "data": {
      "image/png": "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\n",
      "text/plain": [
       "<Figure size 432x288 with 1 Axes>"
      ]
     },
     "metadata": {
      "needs_background": "light"
     },
     "output_type": "display_data"
    }
   ],
   "source": [
    "label = []\n",
    "min_sal = data['min_sal'].to_numpy()\n",
    "for i in min_sal:\n",
    "    if i in range(0,100):\n",
    "        label.append(0)\n",
    "    elif i in range(100,120):\n",
    "        label.append(1)\n",
    "    elif i in range(120,150):\n",
    "        label.append(2)\n",
    "    else:\n",
    "        label.append(3)\n",
    "y = np.array(label)\n",
    "y.reshape(len(label),1)\n",
    "plt.hist(y)"
   ]
  },
  {
   "cell_type": "code",
   "execution_count": 112,
   "metadata": {},
   "outputs": [
    {
     "name": "stdout",
     "output_type": "stream",
     "text": [
      "Training Accuracy: 0.9767676767676767\n",
      "Testing Accuracy: 0.5313131313131313\n"
     ]
    }
   ],
   "source": [
    "X_train, X_test, y_train, y_test = train_test_split(X, y, test_size=0.2, shuffle = True, random_state=0)\n",
    "\n",
    "scaler = MinMaxScaler().fit(X_train)\n",
    "\n",
    "X_train_scaled = scaler.transform(X_train)\n",
    "X_test_scaled = scaler.transform(X_test)\n",
    "\n",
    "model = DecisionTreeClassifier()\n",
    "model.fit(X_train_scaled, y_train)\n",
    "\n",
    "y_train_pred = model.predict(X_train_scaled)\n",
    "y_test_pred = model.predict(X_test_scaled)\n",
    "\n",
    "print(\"Training Accuracy:\", accuracy_score(y_train, y_train_pred))\n",
    "print(\"Testing Accuracy:\", accuracy_score(y_test, y_test_pred))"
   ]
  },
  {
   "cell_type": "code",
   "execution_count": 113,
   "metadata": {},
   "outputs": [
    {
     "name": "stdout",
     "output_type": "stream",
     "text": [
      "Bench mark: 0.37757575757575756\n"
     ]
    }
   ],
   "source": [
    "print('Bench mark: {}'.format(1869/4950))"
   ]
  },
  {
   "cell_type": "markdown",
   "metadata": {},
   "source": [
    "### Tuning max_depth"
   ]
  },
  {
   "cell_type": "code",
   "execution_count": 114,
   "metadata": {},
   "outputs": [
    {
     "data": {
      "text/plain": [
       "<matplotlib.legend.Legend at 0x7f936a318a60>"
      ]
     },
     "execution_count": 114,
     "metadata": {},
     "output_type": "execute_result"
    },
    {
     "data": {
      "image/png": "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\n",
      "text/plain": [
       "<Figure size 432x288 with 1 Axes>"
      ]
     },
     "metadata": {
      "needs_background": "light"
     },
     "output_type": "display_data"
    }
   ],
   "source": [
    "# Tuning max_depth\n",
    "train_accuracy_history = []\n",
    "test_accuracy_history = []\n",
    "for n in range(1,70):\n",
    "    classifier_1 = DecisionTreeClassifier(max_depth = n)\n",
    "    classifier_1.fit(X_train_scaled, y_train)\n",
    "    classifier_train_pred_1 = classifier_1.predict(X_train_scaled)\n",
    "    train_accuracy_history.append(accuracy_score(y_train, classifier_train_pred_1)) \n",
    "    classifier_test_pred_1 = classifier_1.predict(X_test_scaled)\n",
    "    test_accuracy_history.append(accuracy_score(y_test, classifier_test_pred_1))\n",
    "\n",
    "plt.title('Exploring max_depth')\n",
    "plt.xlabel(\"max_depth\")\n",
    "plt.ylabel(\"Accuracy\")\n",
    "plt.plot(range(1,70), train_accuracy_history, label = 'Training Accuracy')\n",
    "plt.plot(range(1,70), test_accuracy_history, label = 'Testing Accuracy')\n",
    "plt.legend()"
   ]
  },
  {
   "cell_type": "markdown",
   "metadata": {},
   "source": [
    "### Tuning min_samples_leaf"
   ]
  },
  {
   "cell_type": "code",
   "execution_count": 115,
   "metadata": {},
   "outputs": [
    {
     "data": {
      "text/plain": [
       "<matplotlib.legend.Legend at 0x7f936b16dcd0>"
      ]
     },
     "execution_count": 115,
     "metadata": {},
     "output_type": "execute_result"
    },
    {
     "data": {
      "image/png": "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\n",
      "text/plain": [
       "<Figure size 432x288 with 1 Axes>"
      ]
     },
     "metadata": {
      "needs_background": "light"
     },
     "output_type": "display_data"
    }
   ],
   "source": [
    "# Tuning min_samples_leaf\n",
    "train_accuracy_history = []\n",
    "test_accuracy_history = []\n",
    "for n in range(1,201,10):\n",
    "    classifier = DecisionTreeClassifier(min_samples_leaf = n)\n",
    "    classifier.fit(X_train_scaled, y_train)\n",
    "    classifier_train_pred = classifier.predict(X_train_scaled)\n",
    "    train_accuracy_history.append(accuracy_score(y_train, classifier_train_pred)) \n",
    "    classifier_test_pred = classifier.predict(X_test_scaled)\n",
    "    test_accuracy_history.append(accuracy_score(y_test, classifier_test_pred))\n",
    "\n",
    "plt.title('Exploring min_samples_leaf')\n",
    "plt.xlabel(\"min_samples_leaf\")\n",
    "plt.ylabel(\"Accuracy\")\n",
    "plt.plot(range(1,201,10), train_accuracy_history, label = 'Training Accuracy')\n",
    "plt.plot(range(1,201,10), test_accuracy_history, label = 'Testing Accuracy')\n",
    "plt.legend()"
   ]
  },
  {
   "cell_type": "code",
   "execution_count": 116,
   "metadata": {},
   "outputs": [
    {
     "name": "stdout",
     "output_type": "stream",
     "text": [
      "0.9767676767676767\n",
      "0.5292929292929293\n"
     ]
    }
   ],
   "source": [
    "print(max(train_accuracy_history))\n",
    "print(max(test_accuracy_history))"
   ]
  },
  {
   "cell_type": "markdown",
   "metadata": {},
   "source": [
    "## Try Random Forest"
   ]
  },
  {
   "cell_type": "code",
   "execution_count": 117,
   "metadata": {},
   "outputs": [
    {
     "name": "stdout",
     "output_type": "stream",
     "text": [
      "0.5656565656565656\n"
     ]
    },
    {
     "data": {
      "text/plain": [
       "<matplotlib.legend.Legend at 0x7f9349432c70>"
      ]
     },
     "execution_count": 117,
     "metadata": {},
     "output_type": "execute_result"
    },
    {
     "data": {
      "image/png": "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\n",
      "text/plain": [
       "<Figure size 432x288 with 1 Axes>"
      ]
     },
     "metadata": {
      "needs_background": "light"
     },
     "output_type": "display_data"
    }
   ],
   "source": [
    "from sklearn.ensemble import RandomForestClassifier\n",
    "\n",
    "train_scores = []\n",
    "test_scores = []\n",
    "\n",
    "rf = RandomForestClassifier()\n",
    "estimator_range = range(1, 100, 5)##Number of trees in the forest\n",
    "for n_estimators in estimator_range:\n",
    "    rf.n_estimators = n_estimators\n",
    "    rf.fit(X_train_scaled, y_train)\n",
    "    train_scores.append(rf.score(X_train_scaled, y_train))\n",
    "    test_scores.append(rf.score(X_test_scaled, y_test))\n",
    "    \n",
    "# print(train_scores)\n",
    "# print(test_scores)\n",
    "\n",
    "print(max(test_scores))\n",
    "\n",
    "plt.title('Random Forest')\n",
    "plt.xlabel(\"Number of trees\")\n",
    "plt.ylabel(\"Accuracy\")\n",
    "plt.plot(range(1,100,5), train_scores, label = 'Training Accuracy')\n",
    "plt.plot(range(1,100,5), test_scores, label = 'Testing Accuracy')\n",
    "plt.legend()"
   ]
  },
  {
   "cell_type": "code",
   "execution_count": 118,
   "metadata": {},
   "outputs": [
    {
     "name": "stdout",
     "output_type": "stream",
     "text": [
      "0.5656565656565656\n"
     ]
    }
   ],
   "source": [
    "print(max(test_scores))"
   ]
  },
  {
   "cell_type": "code",
   "execution_count": null,
   "metadata": {},
   "outputs": [],
   "source": []
  }
 ],
 "metadata": {
  "kernelspec": {
   "display_name": "Python 3",
   "language": "python",
   "name": "python3"
  },
  "language_info": {
   "codemirror_mode": {
    "name": "ipython",
    "version": 3
   },
   "file_extension": ".py",
   "mimetype": "text/x-python",
   "name": "python",
   "nbconvert_exporter": "python",
   "pygments_lexer": "ipython3",
<<<<<<< HEAD
   "version": "3.7.2"
=======
   "version": "3.8.1"
>>>>>>> 6fef556dc977ba1492ffa6089848cd27138a6b60
  }
 },
 "nbformat": 4,
 "nbformat_minor": 4
}

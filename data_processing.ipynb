{
 "cells": [
  {
   "cell_type": "code",
   "execution_count": null,
   "metadata": {},
   "outputs": [],
   "source": []
  },
  {
   "cell_type": "code",
   "execution_count": 37,
   "metadata": {},
   "outputs": [
    {
     "name": "stdout",
     "output_type": "stream",
     "text": [
      "4168\n",
      "47\n"
     ]
    }
   ],
   "source": [
    "import jieba\n",
    "\n",
    "with open(\"shixiseng.txt\",\"r\",encoding=\"utf-8\") as fp:\n",
    "    data = fp.read().split(\"\\n\")\n",
    "\n",
    "word_dict = {}\n",
    "job_name_list = []\n",
    "for row in data:\n",
    "    if len(row) > 5:\n",
    "        name = row.split(\"|\")[17]\n",
    "        job_name_list.append(name)\n",
    "        for word in jieba.cut(name):\n",
    "            if len(word) > 1:\n",
    "                if word in word_dict:\n",
    "                    word_dict[word] +=1\n",
    "\n",
    "                else:\n",
    "                    word_dict[word] = 1\n",
    "ignore_list = [\"实习生\",\"实习\",\"方向\",\"2021\",\"前端开发\",\"视频剪辑\"]\n",
    "for ignore_label in ignore_list:\n",
    "    word_dict.pop(ignore_label)\n",
    "\n",
    "l = sorted(word_dict.items(), key=lambda x: x[1])\n",
    "word_list = []\n",
    "for item in l:\n",
    "    if item[1] >= 40:\n",
    "        word_list.append(item[0])\n",
    "count = 0\n",
    "for name in job_name_list:\n",
    "    for word in word_list:\n",
    "        if word in name:\n",
    "            count += 1\n",
    "            break\n",
    "print(count)\n",
    "print(len(word_list))"
   ]
  },
  {
   "cell_type": "code",
   "execution_count": null,
   "metadata": {},
   "outputs": [],
   "source": []
  },
  {
   "cell_type": "code",
   "execution_count": null,
   "metadata": {},
   "outputs": [],
   "source": []
  }
 ],
 "metadata": {
  "kernelspec": {
   "display_name": "Python 3",
   "language": "python",
   "name": "python3"
  },
  "language_info": {
   "codemirror_mode": {
    "name": "ipython",
    "version": 3
   },
   "file_extension": ".py",
   "mimetype": "text/x-python",
   "name": "python",
   "nbconvert_exporter": "python",
   "pygments_lexer": "ipython3",
   "version": "3.7.2"
  }
 },
 "nbformat": 4,
 "nbformat_minor": 4
}

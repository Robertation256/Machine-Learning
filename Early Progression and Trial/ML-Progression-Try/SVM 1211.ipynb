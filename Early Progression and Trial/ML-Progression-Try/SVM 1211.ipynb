{
 "cells": [
  {
   "cell_type": "markdown",
   "metadata": {},
   "source": [
    "## SVM"
   ]
  },
  {
   "cell_type": "code",
   "execution_count": 1,
   "metadata": {},
   "outputs": [
    {
     "data": {
      "text/html": [
       "<div>\n",
       "<style scoped>\n",
       "    .dataframe tbody tr th:only-of-type {\n",
       "        vertical-align: middle;\n",
       "    }\n",
       "\n",
       "    .dataframe tbody tr th {\n",
       "        vertical-align: top;\n",
       "    }\n",
       "\n",
       "    .dataframe thead th {\n",
       "        text-align: right;\n",
       "    }\n",
       "</style>\n",
       "<table border=\"1\" class=\"dataframe\">\n",
       "  <thead>\n",
       "    <tr style=\"text-align: right;\">\n",
       "      <th></th>\n",
       "      <th>Unnamed: 0</th>\n",
       "      <th>RowID</th>\n",
       "      <th>maxsal</th>\n",
       "      <th>minsal</th>\n",
       "      <th>intern_num</th>\n",
       "      <th>month_num</th>\n",
       "      <th>day</th>\n",
       "      <th>industry</th>\n",
       "      <th>city</th>\n",
       "      <th>scale</th>\n",
       "      <th>...</th>\n",
       "      <th>招聘</th>\n",
       "      <th>媒体</th>\n",
       "      <th>内容</th>\n",
       "      <th>专员</th>\n",
       "      <th>产品</th>\n",
       "      <th>销售</th>\n",
       "      <th>开发</th>\n",
       "      <th>工程师</th>\n",
       "      <th>助理</th>\n",
       "      <th>运营</th>\n",
       "    </tr>\n",
       "  </thead>\n",
       "  <tbody>\n",
       "    <tr>\n",
       "      <th>0</th>\n",
       "      <td>0</td>\n",
       "      <td>0</td>\n",
       "      <td>100</td>\n",
       "      <td>50</td>\n",
       "      <td>62</td>\n",
       "      <td>3</td>\n",
       "      <td>5</td>\n",
       "      <td>互联网/游戏/软件</td>\n",
       "      <td>北京</td>\n",
       "      <td>2000人以上</td>\n",
       "      <td>...</td>\n",
       "      <td>0</td>\n",
       "      <td>1</td>\n",
       "      <td>0</td>\n",
       "      <td>0</td>\n",
       "      <td>0</td>\n",
       "      <td>0</td>\n",
       "      <td>0</td>\n",
       "      <td>0</td>\n",
       "      <td>0</td>\n",
       "      <td>0</td>\n",
       "    </tr>\n",
       "    <tr>\n",
       "      <th>1</th>\n",
       "      <td>1</td>\n",
       "      <td>1</td>\n",
       "      <td>150</td>\n",
       "      <td>100</td>\n",
       "      <td>5</td>\n",
       "      <td>4</td>\n",
       "      <td>5</td>\n",
       "      <td>教育/培训</td>\n",
       "      <td>深圳</td>\n",
       "      <td>15-50人</td>\n",
       "      <td>...</td>\n",
       "      <td>0</td>\n",
       "      <td>0</td>\n",
       "      <td>0</td>\n",
       "      <td>0</td>\n",
       "      <td>0</td>\n",
       "      <td>0</td>\n",
       "      <td>0</td>\n",
       "      <td>0</td>\n",
       "      <td>0</td>\n",
       "      <td>0</td>\n",
       "    </tr>\n",
       "    <tr>\n",
       "      <th>2</th>\n",
       "      <td>2</td>\n",
       "      <td>2</td>\n",
       "      <td>300</td>\n",
       "      <td>250</td>\n",
       "      <td>8</td>\n",
       "      <td>4</td>\n",
       "      <td>5</td>\n",
       "      <td>互联网/游戏/软件</td>\n",
       "      <td>上海</td>\n",
       "      <td>15-50人</td>\n",
       "      <td>...</td>\n",
       "      <td>0</td>\n",
       "      <td>0</td>\n",
       "      <td>0</td>\n",
       "      <td>0</td>\n",
       "      <td>0</td>\n",
       "      <td>0</td>\n",
       "      <td>0</td>\n",
       "      <td>0</td>\n",
       "      <td>0</td>\n",
       "      <td>0</td>\n",
       "    </tr>\n",
       "    <tr>\n",
       "      <th>3</th>\n",
       "      <td>3</td>\n",
       "      <td>3</td>\n",
       "      <td>100</td>\n",
       "      <td>100</td>\n",
       "      <td>3</td>\n",
       "      <td>4</td>\n",
       "      <td>4</td>\n",
       "      <td>教育/培训</td>\n",
       "      <td>上海</td>\n",
       "      <td>15-50人</td>\n",
       "      <td>...</td>\n",
       "      <td>0</td>\n",
       "      <td>0</td>\n",
       "      <td>0</td>\n",
       "      <td>0</td>\n",
       "      <td>0</td>\n",
       "      <td>0</td>\n",
       "      <td>0</td>\n",
       "      <td>0</td>\n",
       "      <td>0</td>\n",
       "      <td>0</td>\n",
       "    </tr>\n",
       "    <tr>\n",
       "      <th>4</th>\n",
       "      <td>4</td>\n",
       "      <td>4</td>\n",
       "      <td>150</td>\n",
       "      <td>100</td>\n",
       "      <td>176</td>\n",
       "      <td>3</td>\n",
       "      <td>4</td>\n",
       "      <td>互联网/游戏/软件</td>\n",
       "      <td>广州</td>\n",
       "      <td>2000人以上</td>\n",
       "      <td>...</td>\n",
       "      <td>0</td>\n",
       "      <td>0</td>\n",
       "      <td>0</td>\n",
       "      <td>0</td>\n",
       "      <td>1</td>\n",
       "      <td>0</td>\n",
       "      <td>0</td>\n",
       "      <td>0</td>\n",
       "      <td>0</td>\n",
       "      <td>1</td>\n",
       "    </tr>\n",
       "  </tbody>\n",
       "</table>\n",
       "<p>5 rows × 77 columns</p>\n",
       "</div>"
      ],
      "text/plain": [
       "   Unnamed: 0  RowID  maxsal  minsal  intern_num  month_num  day   industry  \\\n",
       "0           0      0     100      50          62          3    5  互联网/游戏/软件   \n",
       "1           1      1     150     100           5          4    5      教育/培训   \n",
       "2           2      2     300     250           8          4    5  互联网/游戏/软件   \n",
       "3           3      3     100     100           3          4    4      教育/培训   \n",
       "4           4      4     150     100         176          3    4  互联网/游戏/软件   \n",
       "\n",
       "  city    scale  ... 招聘 媒体 内容 专员 产品  销售  开发  工程师  助理  运营  \n",
       "0   北京  2000人以上  ...  0  1  0  0  0   0   0    0   0   0  \n",
       "1   深圳   15-50人  ...  0  0  0  0  0   0   0    0   0   0  \n",
       "2   上海   15-50人  ...  0  0  0  0  0   0   0    0   0   0  \n",
       "3   上海   15-50人  ...  0  0  0  0  0   0   0    0   0   0  \n",
       "4   广州  2000人以上  ...  0  0  0  0  1   0   0    0   0   1  \n",
       "\n",
       "[5 rows x 77 columns]"
      ]
     },
     "execution_count": 1,
     "metadata": {},
     "output_type": "execute_result"
    }
   ],
   "source": [
    "import pandas as pd\n",
    "import numpy as np\n",
    "from matplotlib import pyplot as plt\n",
    "\n",
    "# Loading Data\n",
    "data = pd.read_csv(\"final_validated_data.csv\")\n",
    "data.head()"
   ]
  },
  {
   "cell_type": "markdown",
   "metadata": {},
   "source": [
    "### Cleaning Data and Labeling"
   ]
  },
  {
   "cell_type": "code",
   "execution_count": 2,
   "metadata": {},
   "outputs": [
    {
     "data": {
      "text/plain": [
       "(array([1180.,    0.,    0., 1622.,    0.,    0., 1170.,    0.,    0.,\n",
       "        1026.]),\n",
       " array([0. , 0.3, 0.6, 0.9, 1.2, 1.5, 1.8, 2.1, 2.4, 2.7, 3. ]),\n",
       " <a list of 10 Patch objects>)"
      ]
     },
     "execution_count": 2,
     "metadata": {},
     "output_type": "execute_result"
    },
    {
     "data": {
      "image/png": "[encoded data removed]",
      "text/plain": [
       "<Figure size 432x288 with 1 Axes>"
      ]
     },
     "metadata": {
      "needs_background": "light"
     },
     "output_type": "display_data"
    }
   ],
   "source": [
    "\n",
    "IT_df = data.drop(['Unnamed: 0', 'RowID', 'maxsal', 'minsal','industry', 'city', 'scale', 'name', 'uuid', 'c_desc', 'c_tag','c_name'],axis=1)\n",
    "\n",
    "# #确定 X和 y\n",
    "\n",
    "X = IT_df\n",
    "\n",
    "# Label the max salary (4 classes)\n",
    "label = []\n",
    "max_sal = data[\"maxsal\"].to_numpy()\n",
    "for i in max_sal:\n",
    "\n",
    "    if i in range(0,150):\n",
    "        label.append(0)\n",
    "    elif i in range(150,175):\n",
    "        label.append(1)\n",
    "    elif i in range(175,250):\n",
    "        label.append(2)\n",
    "    else:\n",
    "        label.append(3)\n",
    "y = np.array(label)\n",
    "plt.hist(y)"
   ]
  },
  {
   "cell_type": "markdown",
   "metadata": {},
   "source": [
    "### Scaling and Spliting"
   ]
  },
  {
   "cell_type": "code",
   "execution_count": 21,
   "metadata": {},
   "outputs": [],
   "source": [
    "from sklearn.tree import DecisionTreeClassifier\n",
    "from sklearn.metrics import accuracy_score, mean_squared_error\n",
    "from sklearn.preprocessing import MinMaxScaler\n",
    "from sklearn.tree import DecisionTreeClassifier\n",
    "from sklearn.metrics import accuracy_score, mean_squared_error\n",
    "from sklearn.model_selection import train_test_split\n",
    "from sklearn import svm\n",
    "\n",
    "# Divide into train, validate, and test set\n",
    "# X_final_test and y_final_test are our test set, we will not touch it \n",
    "# X_test and y_test are out validation set. \n",
    "\n",
    "X_train, X_final_test, y_train, y_final_test = train_test_split(X, y, test_size=0.1, shuffle = True, random_state=123)\n",
    "\n",
    "X_train, X_test, y_train, y_test = train_test_split(X_train, y_train, test_size=0.2, shuffle = True, random_state=123)\n",
    "\n",
    "scaler = MinMaxScaler().fit(X_train)\n",
    "\n",
    "X_train_scaled = scaler.transform(X_train)\n",
    "X_test_scaled = scaler.transform(X_test)\n",
    "X_final_test_scaled = scaler.transform(X_final_test) \n"
   ]
  },
  {
   "cell_type": "code",
   "execution_count": 7,
   "metadata": {},
   "outputs": [
    {
     "name": "stdout",
     "output_type": "stream",
     "text": [
      "0.32452981192476993\n"
     ]
    }
   ],
   "source": [
    "# Baseline\n",
    "print(1622/len(y))"
   ]
  },
  {
   "cell_type": "markdown",
   "metadata": {},
   "source": [
    "### Running SVM"
   ]
  },
  {
   "cell_type": "code",
   "execution_count": 9,
   "metadata": {},
   "outputs": [
    {
     "name": "stdout",
     "output_type": "stream",
     "text": [
      "kernel = rbf\n",
      "train accuracy: 0.5455808782657031\n",
      "test accuracy: 0.44555555555555554\n"
     ]
    }
   ],
   "source": [
    "clf = svm.SVC(decision_function_shape = 'ovo', kernel = 'rbf')\n",
    "clf.fit(X_train_scaled, y_train)\n",
    "\n",
    "y_pred = clf.predict(X_test_scaled)\n",
    "acc_test = (accuracy_score(y_pred,y_test))\n",
    "y_pred = clf.predict(X_train_scaled)\n",
    "acc_train = (accuracy_score(y_pred,y_train))\n",
    "print('kernel = rbf')\n",
    "print('train accuracy: {}'.format(acc_train))\n",
    "print('test accuracy: {}'.format(acc_test))\n",
    "\n",
    "# print('===================================')"
   ]
  },
  {
   "cell_type": "markdown",
   "metadata": {},
   "source": [
    "### Grid Search and Cross Validation"
   ]
  },
  {
   "cell_type": "code",
   "execution_count": 10,
   "metadata": {},
   "outputs": [
    {
     "name": "stdout",
     "output_type": "stream",
     "text": [
      "{'C': 100, 'gamma': 0.5}\n"
     ]
    }
   ],
   "source": [
    "# GridSearch\n",
    "\n",
    "from sklearn.model_selection import GridSearchCV\n",
    "import sklearn.metrics\n",
    "\n",
    "parameters = {\n",
    "\n",
    "    'C': [x for x in [0.01,0.1,1,10,100,1000]],\n",
    "    'gamma': [x for x in [0.5,5,50,500]]\n",
    "}\n",
    "\n",
    "grid_search = GridSearchCV(svm.SVC(), param_grid = parameters, scoring = 'accuracy', cv=5, return_train_score = True)\n",
    "grid_search.fit(X_train_scaled, y_train)\n",
    "\n",
    "print(grid_search.best_params_)\n",
    "\n",
    "# gamma 应该大一些，sigma小(1/sigma^2)，来提高精度，那个图形更尖更集中。\n",
    "# 1/C C越大，regularization越弱。"
   ]
  },
  {
   "cell_type": "code",
   "execution_count": 68,
   "metadata": {},
   "outputs": [
    {
     "name": "stdout",
     "output_type": "stream",
     "text": [
      "{'C': 1, 'gamma': 0.5}\n"
     ]
    }
   ],
   "source": [
    "# GridSearch\n",
    "\n",
    "from sklearn.model_selection import GridSearchCV\n",
    "import sklearn.metrics\n",
    "\n",
    "parameters = {\n",
    "\n",
    "    'C': [x for x in [0.01,0.1,1,10,100,1000]],\n",
    "    'gamma': [x for x in [0.5,5,50,500]]\n",
    "}\n",
    "\n",
    "grid_search = GridSearchCV(svm.SVC(probability=True), param_grid = parameters, scoring = 'neg_log_loss', cv=5, return_train_score = True)\n",
    "grid_search.fit(X_train_scaled, y_train)\n",
    "\n",
    "print(grid_search.best_params_)\n",
    "\n",
    "# gamma 应该大一些，sigma小(1/sigma^2)，来提高精度，那个图形更尖更集中。\n",
    "# 1/C C越大，regularization越弱。"
   ]
  },
  {
   "cell_type": "markdown",
   "metadata": {},
   "source": [
    "### Validation"
   ]
  },
  {
   "cell_type": "code",
   "execution_count": 47,
   "metadata": {},
   "outputs": [
    {
     "name": "stdout",
     "output_type": "stream",
     "text": [
      "0.6097832128960534\n",
      "0.4477777777777778\n"
     ]
    }
   ],
   "source": [
    "model = svm.SVC(decision_function_shape = 'ovo', kernel = 'rbf', C = 1, gamma = 0.5, probability = True)\n",
    "model.fit(X_train_scaled, y_train)\n",
    "\n",
    "y_pred = model.predict(X_train_scaled)\n",
    "y_pred_test = model.predict(X_test_scaled)\n",
    "\n",
    "print(accuracy_score(y_pred,y_train))\n",
    "print(accuracy_score(y_pred_test,y_test))"
   ]
  },
  {
   "cell_type": "code",
   "execution_count": 48,
   "metadata": {},
   "outputs": [
    {
     "name": "stdout",
     "output_type": "stream",
     "text": [
      "1.0521097649433913\n",
      "1.2155815199320752\n"
     ]
    }
   ],
   "source": [
    "from sklearn.metrics import accuracy_score, precision_score, log_loss\n",
    "\n",
    "train_loss = log_loss(y_train,model.predict_proba(X_train_scaled))\n",
    "test_loss = log_loss(y_test,model.predict_proba(X_test_scaled))\n",
    "\n",
    "print(train_loss)\n",
    "print(test_loss)"
   ]
  },
  {
   "cell_type": "code",
   "execution_count": 54,
   "metadata": {},
   "outputs": [
    {
     "name": "stdout",
     "output_type": "stream",
     "text": [
      "Done\n",
      "[0.6097832128960534, 0.7323513062812673, 0.7565314063368538, 0.7682045580878266, 0.7773763201778766, 0.7823790994997221, 0.7846025569760978, 0.7879377431906615, 0.7909949972206781, 0.7940522512506948, 0.7946081156197887]\n",
      "[0.4477777777777778, 0.44555555555555554, 0.44666666666666666, 0.4477777777777778, 0.44555555555555554, 0.44222222222222224, 0.43666666666666665, 0.44, 0.44222222222222224, 0.44555555555555554, 0.4444444444444444]\n"
     ]
    },
    {
     "data": {
      "image/png": "[encoded data removed]",
      "text/plain": [
       "<Figure size 432x288 with 1 Axes>"
      ]
     },
     "metadata": {
      "needs_background": "light"
     },
     "output_type": "display_data"
    }
   ],
   "source": [
    "train_acc = []\n",
    "test_acc = []\n",
    "\n",
    "for i in [1,10,20,30,40,50,60,70,80,90,100]:\n",
    "    clf = svm.SVC(decision_function_shape = 'ovo', kernel = 'rbf', C = i, gamma = 0.5)\n",
    "    clf.fit(X_train_scaled, y_train)\n",
    "\n",
    "    y_pred = clf.predict(X_test_scaled)\n",
    "    acc_test = (accuracy_score(y_pred,y_test))\n",
    "    test_acc.append(acc_test)\n",
    "    \n",
    "    y_pred = clf.predict(X_train_scaled)\n",
    "    acc_train = (accuracy_score(y_pred,y_train))\n",
    "    train_acc.append(acc_train)\n",
    "    \n",
    "#     print('C: {}'.format(i))\n",
    "#     print('train accuracy: {}'.format(acc_train))\n",
    "#     print('test accuracy: {}'.format(acc_test))\n",
    "print('Done')\n",
    "\n",
    "print(train_acc)\n",
    "print(test_acc)\n",
    "\n",
    "plt.plot(train_acc,'x',label=\"train\");\n",
    "plt.plot(test_acc,'o',label=\"test\");\n",
    "plt.xlabel('$C$'); plt.ylabel('Accuracy')\n",
    "plt.legend();"
   ]
  },
  {
   "cell_type": "code",
   "execution_count": null,
   "metadata": {},
   "outputs": [],
   "source": []
  }
 ],
 "metadata": {
  "kernelspec": {
   "display_name": "Python 3",
   "language": "python",
   "name": "python3"
  },
  "language_info": {
   "codemirror_mode": {
    "name": "ipython",
    "version": 3
   },
   "file_extension": ".py",
   "mimetype": "text/x-python",
   "name": "python",
   "nbconvert_exporter": "python",
   "pygments_lexer": "ipython3",
   "version": "3.8.1"
  }
 },
 "nbformat": 4,
 "nbformat_minor": 4
}
